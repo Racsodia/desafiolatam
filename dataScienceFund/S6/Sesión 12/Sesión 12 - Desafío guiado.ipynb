{
 "cells": [
  {
   "cell_type": "markdown",
   "metadata": {},
   "source": [
    "<h1 style=\"text-align: center;\">Desafío - Clasificación desde la econometría</h1>\n",
    "\n",
    "- Para realizar este desafío debes haber estudiado previamente todo el material disponible correspondiente a la unidad.\n",
    "- Una vez terminado el desafío, comprime la carpeta que contiene el desarrollo de los requerimientos solicitados y sube el .zip en el LMS.\n",
    "- Desarrollo del desafío: individual\n",
    "- Para la realización del desafío necesitarás apoyarte del archivo `Apoyo Desafío - Clasificación desde la econometría`, disponible en la <a href=\"https://empieza.desafiolatam.com/cohorts/2091/sections/78288/activities/119116/items/610922\">plataforma</a>."
   ]
  },
  {
   "cell_type": "markdown",
   "metadata": {},
   "source": [
    "## Descripción\n",
    "En esta sesión trabajaremos el dataset south african heart, el cual contiene las siguientes variables:\n",
    "- `sbp`: Presión Sanguínea Sistólica.\n",
    "- `tobacco`: Promedio tabaco consumido por día.\n",
    "- `ldl`: Lipoproteína de baja densidad.\n",
    "- `adiposity`: Adiposidad.\n",
    "- `famhist`: Antecedentes familiares de enfermedades cardiácas. (Binaria)\n",
    "- `types`: Personalidad tipo A\n",
    "- `obesity`: Obesidad.\n",
    "- `alcohol`: Consumo actual de alcohol.\n",
    "- `age`: edad.\n",
    "- `chd`: Enfermedad coronaria. (dummy). **Vector objetivo**."
   ]
  },
  {
   "cell_type": "markdown",
   "metadata": {},
   "source": [
    "### Desafío 1: Preparar el ambiente de trabajo\n",
    "- Cargue las librerías básicas para importación y manipulación de datos (numpy, pandas), gráficos (matplotlib y seaborn) y de modelación econométrica (statsmodels).\n",
    "- Importe el archivo `southafricanheart.csv` que se encuentra dentro del material de apoyo."
   ]
  },
  {
   "cell_type": "code",
   "execution_count": 29,
   "id": "582ad695",
   "metadata": {},
   "outputs": [
    {
     "data": {
      "text/html": [
       "<div>\n",
       "<style scoped>\n",
       "    .dataframe tbody tr th:only-of-type {\n",
       "        vertical-align: middle;\n",
       "    }\n",
       "\n",
       "    .dataframe tbody tr th {\n",
       "        vertical-align: top;\n",
       "    }\n",
       "\n",
       "    .dataframe thead th {\n",
       "        text-align: right;\n",
       "    }\n",
       "</style>\n",
       "<table border=\"1\" class=\"dataframe\">\n",
       "  <thead>\n",
       "    <tr style=\"text-align: right;\">\n",
       "      <th></th>\n",
       "      <th>sbp</th>\n",
       "      <th>tobacco</th>\n",
       "      <th>ldl</th>\n",
       "      <th>adiposity</th>\n",
       "      <th>famhist</th>\n",
       "      <th>typea</th>\n",
       "      <th>obesity</th>\n",
       "      <th>alcohol</th>\n",
       "      <th>age</th>\n",
       "      <th>chd</th>\n",
       "    </tr>\n",
       "  </thead>\n",
       "  <tbody>\n",
       "    <tr>\n",
       "      <th>0</th>\n",
       "      <td>160</td>\n",
       "      <td>12.00</td>\n",
       "      <td>5.73</td>\n",
       "      <td>23.11</td>\n",
       "      <td>Present</td>\n",
       "      <td>49</td>\n",
       "      <td>25.30</td>\n",
       "      <td>97.20</td>\n",
       "      <td>52</td>\n",
       "      <td>1</td>\n",
       "    </tr>\n",
       "    <tr>\n",
       "      <th>1</th>\n",
       "      <td>144</td>\n",
       "      <td>0.01</td>\n",
       "      <td>4.41</td>\n",
       "      <td>28.61</td>\n",
       "      <td>Absent</td>\n",
       "      <td>55</td>\n",
       "      <td>28.87</td>\n",
       "      <td>2.06</td>\n",
       "      <td>63</td>\n",
       "      <td>1</td>\n",
       "    </tr>\n",
       "    <tr>\n",
       "      <th>2</th>\n",
       "      <td>118</td>\n",
       "      <td>0.08</td>\n",
       "      <td>3.48</td>\n",
       "      <td>32.28</td>\n",
       "      <td>Present</td>\n",
       "      <td>52</td>\n",
       "      <td>29.14</td>\n",
       "      <td>3.81</td>\n",
       "      <td>46</td>\n",
       "      <td>0</td>\n",
       "    </tr>\n",
       "    <tr>\n",
       "      <th>3</th>\n",
       "      <td>170</td>\n",
       "      <td>7.50</td>\n",
       "      <td>6.41</td>\n",
       "      <td>38.03</td>\n",
       "      <td>Present</td>\n",
       "      <td>51</td>\n",
       "      <td>31.99</td>\n",
       "      <td>24.26</td>\n",
       "      <td>58</td>\n",
       "      <td>1</td>\n",
       "    </tr>\n",
       "    <tr>\n",
       "      <th>4</th>\n",
       "      <td>134</td>\n",
       "      <td>13.60</td>\n",
       "      <td>3.50</td>\n",
       "      <td>27.78</td>\n",
       "      <td>Present</td>\n",
       "      <td>60</td>\n",
       "      <td>25.99</td>\n",
       "      <td>57.34</td>\n",
       "      <td>49</td>\n",
       "      <td>1</td>\n",
       "    </tr>\n",
       "  </tbody>\n",
       "</table>\n",
       "</div>"
      ],
      "text/plain": [
       "   sbp  tobacco   ldl  adiposity  famhist  typea  obesity  alcohol  age  chd\n",
       "0  160    12.00  5.73      23.11  Present     49    25.30    97.20   52    1\n",
       "1  144     0.01  4.41      28.61   Absent     55    28.87     2.06   63    1\n",
       "2  118     0.08  3.48      32.28  Present     52    29.14     3.81   46    0\n",
       "3  170     7.50  6.41      38.03  Present     51    31.99    24.26   58    1\n",
       "4  134    13.60  3.50      27.78  Present     60    25.99    57.34   49    1"
      ]
     },
     "execution_count": 29,
     "metadata": {},
     "output_type": "execute_result"
    }
   ],
   "source": [
    "# Utiliza esta celda para importar los módulos solicitados y el set de datos\n",
    "import pandas as pd\n",
    "import numpy as np\n",
    "import matplotlib.pyplot as plt\n",
    "import seaborn as sns\n",
    "import statsmodels.formula.api as smf\n",
    "\n",
    "plt.style.use(\"seaborn\")\n",
    "\n",
    "df = pd.read_csv(\"southafricanheart.csv\").drop(columns = [\"Unnamed: 0\"])\n",
    "df.head()"
   ]
  },
  {
   "cell_type": "markdown",
   "id": "5c14e37d",
   "metadata": {},
   "source": [
    "- Realice una descripción del set importado mostrando la lista con los nombres de variables importadas"
   ]
  },
  {
   "cell_type": "code",
   "execution_count": 30,
   "id": "32b0468d",
   "metadata": {},
   "outputs": [
    {
     "data": {
      "text/plain": [
       "Index(['sbp', 'tobacco', 'ldl', 'adiposity', 'famhist', 'typea', 'obesity',\n",
       "       'alcohol', 'age', 'chd'],\n",
       "      dtype='object')"
      ]
     },
     "execution_count": 30,
     "metadata": {},
     "output_type": "execute_result"
    }
   ],
   "source": [
    "# Utiliza esta celda para mostrar los nombres de las columnas del dataframe\n",
    "df.columns"
   ]
  },
  {
   "cell_type": "markdown",
   "id": "fa1935bc",
   "metadata": {},
   "source": [
    "- Muestre un análisis descriptivo mediante .describe()"
   ]
  },
  {
   "cell_type": "code",
   "execution_count": 31,
   "id": "b3adf1b2",
   "metadata": {},
   "outputs": [
    {
     "data": {
      "text/html": [
       "<div>\n",
       "<style scoped>\n",
       "    .dataframe tbody tr th:only-of-type {\n",
       "        vertical-align: middle;\n",
       "    }\n",
       "\n",
       "    .dataframe tbody tr th {\n",
       "        vertical-align: top;\n",
       "    }\n",
       "\n",
       "    .dataframe thead th {\n",
       "        text-align: right;\n",
       "    }\n",
       "</style>\n",
       "<table border=\"1\" class=\"dataframe\">\n",
       "  <thead>\n",
       "    <tr style=\"text-align: right;\">\n",
       "      <th></th>\n",
       "      <th>sbp</th>\n",
       "      <th>tobacco</th>\n",
       "      <th>ldl</th>\n",
       "      <th>adiposity</th>\n",
       "      <th>typea</th>\n",
       "      <th>obesity</th>\n",
       "      <th>alcohol</th>\n",
       "      <th>age</th>\n",
       "      <th>chd</th>\n",
       "    </tr>\n",
       "  </thead>\n",
       "  <tbody>\n",
       "    <tr>\n",
       "      <th>count</th>\n",
       "      <td>462.000000</td>\n",
       "      <td>462.000000</td>\n",
       "      <td>462.000000</td>\n",
       "      <td>462.000000</td>\n",
       "      <td>462.000000</td>\n",
       "      <td>462.000000</td>\n",
       "      <td>462.000000</td>\n",
       "      <td>462.000000</td>\n",
       "      <td>462.000000</td>\n",
       "    </tr>\n",
       "    <tr>\n",
       "      <th>mean</th>\n",
       "      <td>138.326840</td>\n",
       "      <td>3.635649</td>\n",
       "      <td>4.740325</td>\n",
       "      <td>25.406732</td>\n",
       "      <td>53.103896</td>\n",
       "      <td>26.044113</td>\n",
       "      <td>17.044394</td>\n",
       "      <td>42.816017</td>\n",
       "      <td>0.346320</td>\n",
       "    </tr>\n",
       "    <tr>\n",
       "      <th>std</th>\n",
       "      <td>20.496317</td>\n",
       "      <td>4.593024</td>\n",
       "      <td>2.070909</td>\n",
       "      <td>7.780699</td>\n",
       "      <td>9.817534</td>\n",
       "      <td>4.213680</td>\n",
       "      <td>24.481059</td>\n",
       "      <td>14.608956</td>\n",
       "      <td>0.476313</td>\n",
       "    </tr>\n",
       "    <tr>\n",
       "      <th>min</th>\n",
       "      <td>101.000000</td>\n",
       "      <td>0.000000</td>\n",
       "      <td>0.980000</td>\n",
       "      <td>6.740000</td>\n",
       "      <td>13.000000</td>\n",
       "      <td>14.700000</td>\n",
       "      <td>0.000000</td>\n",
       "      <td>15.000000</td>\n",
       "      <td>0.000000</td>\n",
       "    </tr>\n",
       "    <tr>\n",
       "      <th>25%</th>\n",
       "      <td>124.000000</td>\n",
       "      <td>0.052500</td>\n",
       "      <td>3.282500</td>\n",
       "      <td>19.775000</td>\n",
       "      <td>47.000000</td>\n",
       "      <td>22.985000</td>\n",
       "      <td>0.510000</td>\n",
       "      <td>31.000000</td>\n",
       "      <td>0.000000</td>\n",
       "    </tr>\n",
       "    <tr>\n",
       "      <th>50%</th>\n",
       "      <td>134.000000</td>\n",
       "      <td>2.000000</td>\n",
       "      <td>4.340000</td>\n",
       "      <td>26.115000</td>\n",
       "      <td>53.000000</td>\n",
       "      <td>25.805000</td>\n",
       "      <td>7.510000</td>\n",
       "      <td>45.000000</td>\n",
       "      <td>0.000000</td>\n",
       "    </tr>\n",
       "    <tr>\n",
       "      <th>75%</th>\n",
       "      <td>148.000000</td>\n",
       "      <td>5.500000</td>\n",
       "      <td>5.790000</td>\n",
       "      <td>31.227500</td>\n",
       "      <td>60.000000</td>\n",
       "      <td>28.497500</td>\n",
       "      <td>23.892500</td>\n",
       "      <td>55.000000</td>\n",
       "      <td>1.000000</td>\n",
       "    </tr>\n",
       "    <tr>\n",
       "      <th>max</th>\n",
       "      <td>218.000000</td>\n",
       "      <td>31.200000</td>\n",
       "      <td>15.330000</td>\n",
       "      <td>42.490000</td>\n",
       "      <td>78.000000</td>\n",
       "      <td>46.580000</td>\n",
       "      <td>147.190000</td>\n",
       "      <td>64.000000</td>\n",
       "      <td>1.000000</td>\n",
       "    </tr>\n",
       "  </tbody>\n",
       "</table>\n",
       "</div>"
      ],
      "text/plain": [
       "              sbp     tobacco         ldl   adiposity       typea     obesity  \\\n",
       "count  462.000000  462.000000  462.000000  462.000000  462.000000  462.000000   \n",
       "mean   138.326840    3.635649    4.740325   25.406732   53.103896   26.044113   \n",
       "std     20.496317    4.593024    2.070909    7.780699    9.817534    4.213680   \n",
       "min    101.000000    0.000000    0.980000    6.740000   13.000000   14.700000   \n",
       "25%    124.000000    0.052500    3.282500   19.775000   47.000000   22.985000   \n",
       "50%    134.000000    2.000000    4.340000   26.115000   53.000000   25.805000   \n",
       "75%    148.000000    5.500000    5.790000   31.227500   60.000000   28.497500   \n",
       "max    218.000000   31.200000   15.330000   42.490000   78.000000   46.580000   \n",
       "\n",
       "          alcohol         age         chd  \n",
       "count  462.000000  462.000000  462.000000  \n",
       "mean    17.044394   42.816017    0.346320  \n",
       "std     24.481059   14.608956    0.476313  \n",
       "min      0.000000   15.000000    0.000000  \n",
       "25%      0.510000   31.000000    0.000000  \n",
       "50%      7.510000   45.000000    0.000000  \n",
       "75%     23.892500   55.000000    1.000000  \n",
       "max    147.190000   64.000000    1.000000  "
      ]
     },
     "execution_count": 31,
     "metadata": {},
     "output_type": "execute_result"
    }
   ],
   "source": [
    "# Utiliza esta celda para aplicar describe()\n",
    "df.describe()"
   ]
  },
  {
   "cell_type": "markdown",
   "id": "f2b2c5a5",
   "metadata": {},
   "source": [
    "**Comentarios de las variables continuas**\n",
    "Sus masgnitudes son variadas. Chd no se debe considerar como una variable continua, ya que corresponde a nuestro vector objetivo que es categórico."
   ]
  },
  {
   "cell_type": "markdown",
   "id": "0159328e",
   "metadata": {},
   "source": [
    "- Muestre distribución de categorías para las variables `famhist` y `chd`."
   ]
  },
  {
   "cell_type": "code",
   "execution_count": 32,
   "id": "d1f0de51",
   "metadata": {},
   "outputs": [
    {
     "data": {
      "image/png": "[encoded data removed]",
      "text/plain": [
       "<Figure size 576x396 with 1 Axes>"
      ]
     },
     "metadata": {},
     "output_type": "display_data"
    }
   ],
   "source": [
    "# Utiliza esta celda para mostrar las frecuencias de famhist con un gráfico de barras\n",
    "df[\"famhist\"].value_counts().plot(kind=\"bar\");"
   ]
  },
  {
   "cell_type": "code",
   "execution_count": 33,
   "id": "c2037769",
   "metadata": {},
   "outputs": [
    {
     "data": {
      "image/png": "[encoded data removed]",
      "text/plain": [
       "<Figure size 576x396 with 1 Axes>"
      ]
     },
     "metadata": {},
     "output_type": "display_data"
    }
   ],
   "source": [
    "# Utiliza esta celda para mostrar las frecuencias de chd con un gráfico de barras\n",
    "df[\"chd\"].value_counts().plot(kind=\"bar\");"
   ]
  },
  {
   "cell_type": "markdown",
   "id": "93828664",
   "metadata": {},
   "source": [
    "**Comentarios de las variables categóricas**\n",
    "Una mayor cantidad de personas no tiene antecedentes familiares ni presenta enfermedad coronaria"
   ]
  },
  {
   "cell_type": "markdown",
   "id": "e151fc93",
   "metadata": {},
   "source": [
    "## Desafío 2\n",
    "\n",
    "A continuación se presenta el siguiente modelo a estimar:\n",
    "\n",
    "$$\n",
    "\\log\\left(\\frac{p(\\text{chd}=1)}{1-p(\\text{chd}=1)}\\right)_i=\\beta_0 + \\beta_{famhist} \\cdot \\text{famhist}_i\n",
    "$$\n",
    "\n",
    "Para ello ejecute los siguientes pasos:\n",
    "1. Recodifique `famhist` a dummy, asignando 1 a la categoría minoritaria."
   ]
  },
  {
   "cell_type": "code",
   "execution_count": 34,
   "id": "4b9c1740",
   "metadata": {},
   "outputs": [
    {
     "data": {
      "text/plain": [
       "0    270\n",
       "1    192\n",
       "Name: famhist, dtype: int64"
      ]
     },
     "execution_count": 34,
     "metadata": {},
     "output_type": "execute_result"
    }
   ],
   "source": [
    "# Utiliza esta celda para realizar la codificación solicitada\n",
    "df[\"famhist\"] = df[\"famhist\"].replace([\"Absent\", \"Present\"], [0, 1])\n",
    "df[\"famhist\"].value_counts()"
   ]
  },
  {
   "cell_type": "markdown",
   "id": "159ab432",
   "metadata": {},
   "source": [
    "2. Utilice `smf.logit` para estimar el modelo."
   ]
  },
  {
   "cell_type": "code",
   "execution_count": 35,
   "id": "cc1ad3d5",
   "metadata": {},
   "outputs": [
    {
     "name": "stdout",
     "output_type": "stream",
     "text": [
      "Optimization terminated successfully.\n",
      "         Current function value: 0.608111\n",
      "         Iterations 5\n"
     ]
    }
   ],
   "source": [
    "# Utiliza esta celda para instanciar y entrenar el modelo solicitado\n",
    "modelo_1 = smf.logit(\"chd ~ famhist\", df).fit()"
   ]
  },
  {
   "cell_type": "code",
   "execution_count": 36,
   "id": "3f7a5122",
   "metadata": {},
   "outputs": [
    {
     "data": {
      "text/html": [
       "<table class=\"simpletable\">\n",
       "<caption>Logit Regression Results</caption>\n",
       "<tr>\n",
       "  <th>Dep. Variable:</th>          <td>chd</td>       <th>  No. Observations:  </th>  <td>   462</td>  \n",
       "</tr>\n",
       "<tr>\n",
       "  <th>Model:</th>                 <td>Logit</td>      <th>  Df Residuals:      </th>  <td>   460</td>  \n",
       "</tr>\n",
       "<tr>\n",
       "  <th>Method:</th>                 <td>MLE</td>       <th>  Df Model:          </th>  <td>     1</td>  \n",
       "</tr>\n",
       "<tr>\n",
       "  <th>Date:</th>            <td>Sun, 04 Sep 2022</td> <th>  Pseudo R-squ.:     </th>  <td>0.05740</td> \n",
       "</tr>\n",
       "<tr>\n",
       "  <th>Time:</th>                <td>20:44:28</td>     <th>  Log-Likelihood:    </th> <td> -280.95</td> \n",
       "</tr>\n",
       "<tr>\n",
       "  <th>converged:</th>             <td>True</td>       <th>  LL-Null:           </th> <td> -298.05</td> \n",
       "</tr>\n",
       "<tr>\n",
       "  <th>Covariance Type:</th>     <td>nonrobust</td>    <th>  LLR p-value:       </th> <td>4.937e-09</td>\n",
       "</tr>\n",
       "</table>\n",
       "<table class=\"simpletable\">\n",
       "<tr>\n",
       "      <td></td>         <th>coef</th>     <th>std err</th>      <th>z</th>      <th>P>|z|</th>  <th>[0.025</th>    <th>0.975]</th>  \n",
       "</tr>\n",
       "<tr>\n",
       "  <th>Intercept</th> <td>   -1.1690</td> <td>    0.143</td> <td>   -8.169</td> <td> 0.000</td> <td>   -1.449</td> <td>   -0.889</td>\n",
       "</tr>\n",
       "<tr>\n",
       "  <th>famhist</th>   <td>    1.1690</td> <td>    0.203</td> <td>    5.751</td> <td> 0.000</td> <td>    0.771</td> <td>    1.567</td>\n",
       "</tr>\n",
       "</table>"
      ],
      "text/plain": [
       "<class 'statsmodels.iolib.summary.Summary'>\n",
       "\"\"\"\n",
       "                           Logit Regression Results                           \n",
       "==============================================================================\n",
       "Dep. Variable:                    chd   No. Observations:                  462\n",
       "Model:                          Logit   Df Residuals:                      460\n",
       "Method:                           MLE   Df Model:                            1\n",
       "Date:                Sun, 04 Sep 2022   Pseudo R-squ.:                 0.05740\n",
       "Time:                        20:44:28   Log-Likelihood:                -280.95\n",
       "converged:                       True   LL-Null:                       -298.05\n",
       "Covariance Type:            nonrobust   LLR p-value:                 4.937e-09\n",
       "==============================================================================\n",
       "                 coef    std err          z      P>|z|      [0.025      0.975]\n",
       "------------------------------------------------------------------------------\n",
       "Intercept     -1.1690      0.143     -8.169      0.000      -1.449      -0.889\n",
       "famhist        1.1690      0.203      5.751      0.000       0.771       1.567\n",
       "==============================================================================\n",
       "\"\"\""
      ]
     },
     "execution_count": 36,
     "metadata": {},
     "output_type": "execute_result"
    }
   ],
   "source": [
    "modelo_1.summary()"
   ]
  },
  {
   "cell_type": "markdown",
   "id": "30061f5c",
   "metadata": {},
   "source": [
    "3. Implemente una función `inverse_logit` que realice el mapeo de log-odds a probabilidad."
   ]
  },
  {
   "cell_type": "code",
   "execution_count": 37,
   "id": "7997c9fd",
   "metadata": {},
   "outputs": [],
   "source": [
    "# Utiliza esta celda para implementar la función solicitada\n",
    "def inverse_logit(x):\n",
    "    # Retorna una probabilidad\n",
    "    return 1 / (1 + np.exp(-x))"
   ]
  },
  {
   "cell_type": "markdown",
   "id": "62ede7a4",
   "metadata": {},
   "source": [
    "4.  Con el modelo estimado, responda lo siguiente:\n",
    "- ¿Cuál es la probabilidad de un individuo con antecedentes familiares de tener una enfermedad coronaria?"
   ]
  },
  {
   "cell_type": "code",
   "execution_count": 38,
   "id": "686fb32d",
   "metadata": {},
   "outputs": [
    {
     "name": "stdout",
     "output_type": "stream",
     "text": [
      "La probabilidad de tener una enfermedad coronaria cuando se tiene antecedentes familiares es de 0.5\n"
     ]
    }
   ],
   "source": [
    "# Utiliza esta celda para obtener los log odds en base a los coeficientes, cuando famhist=1.\n",
    "log_odds_1 = modelo_1.params[\"Intercept\"] + modelo_1.params[\"famhist\"] * 1\n",
    "\n",
    "\n",
    "# Obtener además la probabilidad utilizando inverse_logit\n",
    "probabilidad_con_antecedentes = inverse_logit(log_odds_1)\n",
    "\n",
    "print(f\"La probabilidad de tener una enfermedad coronaria cuando se tiene antecedentes familiares es de {round(probabilidad_con_antecedentes, 2)}\")"
   ]
  },
  {
   "cell_type": "markdown",
   "id": "c1f59c13",
   "metadata": {},
   "source": [
    "¿Cuál es la probabilidad de un individuo sin antecedentes familiares de tener\n",
    "una enfermedad coronaria?"
   ]
  },
  {
   "cell_type": "code",
   "execution_count": 39,
   "id": "8876a583",
   "metadata": {},
   "outputs": [
    {
     "name": "stdout",
     "output_type": "stream",
     "text": [
      "La probabilidad de tener una enfermedad coronaria cuando no se tiene antecedentes familiares es de 0.24\n"
     ]
    }
   ],
   "source": [
    "# Utiliza esta celda para obtener los log odds en base a los coeficientes, cuando famhist=0.\n",
    "log_odds_2 = modelo_1.params[\"Intercept\"] + modelo_1.params[\"famhist\"] * 0\n",
    "\n",
    "# Obtener además la probabilidad utilizando inverse_logit\n",
    "probabilidad_sin_antecedentes = inverse_logit(log_odds_2)\n",
    "\n",
    "print(f\"La probabilidad de tener una enfermedad coronaria cuando no se tiene antecedentes familiares es de {round(probabilidad_sin_antecedentes, 2)}\")"
   ]
  },
  {
   "cell_type": "markdown",
   "id": "a9867506",
   "metadata": {},
   "source": [
    "- ¿Cuál es la diferencia en la probabilidad entre un individuo con antecedentes y otro sin antecedentes?"
   ]
  },
  {
   "cell_type": "code",
   "execution_count": 40,
   "id": "6c3d4e70",
   "metadata": {},
   "outputs": [
    {
     "name": "stdout",
     "output_type": "stream",
     "text": [
      "Un individuo con antecedentes familiares tiene 0.26 mas probabilidad de tener una enfermedad coronaria\n"
     ]
    }
   ],
   "source": [
    "# Utiliza esta celda para mostrar las diferencias de ambas probabilidades\n",
    "print(\n",
    "    f\"Un individuo con antecedentes familiares tiene {round(probabilidad_con_antecedentes - probabilidad_sin_antecedentes, 2)} mas\" \n",
    "    \" probabilidad de tener una enfermedad coronaria\"\n",
    ")"
   ]
  },
  {
   "cell_type": "markdown",
   "id": "54b5aa44",
   "metadata": {},
   "source": [
    "- Replique el modelo con smf.ols y comente las similitudes entre los coeficientes estimados. _Tip: Utilice $\\beta$/4_"
   ]
  },
  {
   "cell_type": "code",
   "execution_count": 41,
   "id": "0b9a6864",
   "metadata": {},
   "outputs": [
    {
     "data": {
      "text/plain": [
       "Intercept    0.237037\n",
       "famhist      0.262963\n",
       "dtype: float64"
      ]
     },
     "execution_count": 41,
     "metadata": {},
     "output_type": "execute_result"
    }
   ],
   "source": [
    "# Utiliza esta celda para entrenar el modelo ols y mostrar los coeficientes\n",
    "modelo_2 = smf.ols(\"chd ~ famhist\", df).fit()\n",
    "modelo_2.params"
   ]
  },
  {
   "cell_type": "code",
   "execution_count": 42,
   "id": "acd89060",
   "metadata": {},
   "outputs": [
    {
     "data": {
      "text/plain": [
       "0.2922482713574773"
      ]
     },
     "execution_count": 42,
     "metadata": {},
     "output_type": "execute_result"
    }
   ],
   "source": [
    "modelo_1.params[\"famhist\"] / 4"
   ]
  },
  {
   "cell_type": "markdown",
   "id": "5c0fa49f",
   "metadata": {},
   "source": [
    "**Respuesta**\n",
    "\n",
    "El valor obtenido al dividir el coeficiente estimado con logit por 4 es similar al valor del coeficiente obtenido con mínimos cuadrados"
   ]
  },
  {
   "cell_type": "markdown",
   "id": "9c086d03",
   "metadata": {},
   "source": [
    "### Desafío 3: Estimación completa\n",
    "\n",
    "Implemente un modelo con la siguiente forma:\n",
    "\n",
    "$$\n",
    "\\log\\left(\\frac{p(\\text{chd}=1)}{1-p(\\text{chd}=1)}\\right)_i=\\beta_0 + \\sum_{j=1}^{n}\\beta_j \\cdot X_{ji}\n",
    "$$"
   ]
  },
  {
   "cell_type": "code",
   "execution_count": 43,
   "id": "d5309b76",
   "metadata": {},
   "outputs": [
    {
     "name": "stdout",
     "output_type": "stream",
     "text": [
      "Optimization terminated successfully.\n",
      "         Current function value: 0.510974\n",
      "         Iterations 6\n"
     ]
    },
    {
     "data": {
      "text/html": [
       "<table class=\"simpletable\">\n",
       "<caption>Logit Regression Results</caption>\n",
       "<tr>\n",
       "  <th>Dep. Variable:</th>          <td>chd</td>       <th>  No. Observations:  </th>  <td>   462</td>  \n",
       "</tr>\n",
       "<tr>\n",
       "  <th>Model:</th>                 <td>Logit</td>      <th>  Df Residuals:      </th>  <td>   452</td>  \n",
       "</tr>\n",
       "<tr>\n",
       "  <th>Method:</th>                 <td>MLE</td>       <th>  Df Model:          </th>  <td>     9</td>  \n",
       "</tr>\n",
       "<tr>\n",
       "  <th>Date:</th>            <td>Sun, 04 Sep 2022</td> <th>  Pseudo R-squ.:     </th>  <td>0.2080</td>  \n",
       "</tr>\n",
       "<tr>\n",
       "  <th>Time:</th>                <td>20:44:28</td>     <th>  Log-Likelihood:    </th> <td> -236.07</td> \n",
       "</tr>\n",
       "<tr>\n",
       "  <th>converged:</th>             <td>True</td>       <th>  LL-Null:           </th> <td> -298.05</td> \n",
       "</tr>\n",
       "<tr>\n",
       "  <th>Covariance Type:</th>     <td>nonrobust</td>    <th>  LLR p-value:       </th> <td>2.055e-22</td>\n",
       "</tr>\n",
       "</table>\n",
       "<table class=\"simpletable\">\n",
       "<tr>\n",
       "      <td></td>         <th>coef</th>     <th>std err</th>      <th>z</th>      <th>P>|z|</th>  <th>[0.025</th>    <th>0.975]</th>  \n",
       "</tr>\n",
       "<tr>\n",
       "  <th>Intercept</th> <td>   -6.1507</td> <td>    1.308</td> <td>   -4.701</td> <td> 0.000</td> <td>   -8.715</td> <td>   -3.587</td>\n",
       "</tr>\n",
       "<tr>\n",
       "  <th>sbp</th>       <td>    0.0065</td> <td>    0.006</td> <td>    1.135</td> <td> 0.256</td> <td>   -0.005</td> <td>    0.018</td>\n",
       "</tr>\n",
       "<tr>\n",
       "  <th>tobacco</th>   <td>    0.0794</td> <td>    0.027</td> <td>    2.984</td> <td> 0.003</td> <td>    0.027</td> <td>    0.132</td>\n",
       "</tr>\n",
       "<tr>\n",
       "  <th>ldl</th>       <td>    0.1739</td> <td>    0.060</td> <td>    2.915</td> <td> 0.004</td> <td>    0.057</td> <td>    0.291</td>\n",
       "</tr>\n",
       "<tr>\n",
       "  <th>adiposity</th> <td>    0.0186</td> <td>    0.029</td> <td>    0.635</td> <td> 0.526</td> <td>   -0.039</td> <td>    0.076</td>\n",
       "</tr>\n",
       "<tr>\n",
       "  <th>famhist</th>   <td>    0.9254</td> <td>    0.228</td> <td>    4.061</td> <td> 0.000</td> <td>    0.479</td> <td>    1.372</td>\n",
       "</tr>\n",
       "<tr>\n",
       "  <th>obesity</th>   <td>   -0.0629</td> <td>    0.044</td> <td>   -1.422</td> <td> 0.155</td> <td>   -0.150</td> <td>    0.024</td>\n",
       "</tr>\n",
       "<tr>\n",
       "  <th>alcohol</th>   <td>    0.0001</td> <td>    0.004</td> <td>    0.027</td> <td> 0.978</td> <td>   -0.009</td> <td>    0.009</td>\n",
       "</tr>\n",
       "<tr>\n",
       "  <th>age</th>       <td>    0.0452</td> <td>    0.012</td> <td>    3.728</td> <td> 0.000</td> <td>    0.021</td> <td>    0.069</td>\n",
       "</tr>\n",
       "<tr>\n",
       "  <th>typea</th>     <td>    0.0396</td> <td>    0.012</td> <td>    3.214</td> <td> 0.001</td> <td>    0.015</td> <td>    0.064</td>\n",
       "</tr>\n",
       "</table>"
      ],
      "text/plain": [
       "<class 'statsmodels.iolib.summary.Summary'>\n",
       "\"\"\"\n",
       "                           Logit Regression Results                           \n",
       "==============================================================================\n",
       "Dep. Variable:                    chd   No. Observations:                  462\n",
       "Model:                          Logit   Df Residuals:                      452\n",
       "Method:                           MLE   Df Model:                            9\n",
       "Date:                Sun, 04 Sep 2022   Pseudo R-squ.:                  0.2080\n",
       "Time:                        20:44:28   Log-Likelihood:                -236.07\n",
       "converged:                       True   LL-Null:                       -298.05\n",
       "Covariance Type:            nonrobust   LLR p-value:                 2.055e-22\n",
       "==============================================================================\n",
       "                 coef    std err          z      P>|z|      [0.025      0.975]\n",
       "------------------------------------------------------------------------------\n",
       "Intercept     -6.1507      1.308     -4.701      0.000      -8.715      -3.587\n",
       "sbp            0.0065      0.006      1.135      0.256      -0.005       0.018\n",
       "tobacco        0.0794      0.027      2.984      0.003       0.027       0.132\n",
       "ldl            0.1739      0.060      2.915      0.004       0.057       0.291\n",
       "adiposity      0.0186      0.029      0.635      0.526      -0.039       0.076\n",
       "famhist        0.9254      0.228      4.061      0.000       0.479       1.372\n",
       "obesity       -0.0629      0.044     -1.422      0.155      -0.150       0.024\n",
       "alcohol        0.0001      0.004      0.027      0.978      -0.009       0.009\n",
       "age            0.0452      0.012      3.728      0.000       0.021       0.069\n",
       "typea          0.0396      0.012      3.214      0.001       0.015       0.064\n",
       "==============================================================================\n",
       "\"\"\""
      ]
     },
     "execution_count": 43,
     "metadata": {},
     "output_type": "execute_result"
    }
   ],
   "source": [
    "# Utiliza esta celda para entrenar el modelo solicitado\n",
    "model_3 = smf.logit(\"chd ~ sbp + tobacco + ldl + adiposity + famhist+ obesity + alcohol + age + typea\", df).fit()\n",
    "model_3.summary()"
   ]
  },
  {
   "cell_type": "markdown",
   "id": "c3669137",
   "metadata": {},
   "source": [
    "- Depure el modelo manteniendo las variables con significancia estadística al 5%."
   ]
  },
  {
   "cell_type": "code",
   "execution_count": 44,
   "id": "6b1e7dc1",
   "metadata": {},
   "outputs": [
    {
     "data": {
      "text/html": [
       "<div>\n",
       "<style scoped>\n",
       "    .dataframe tbody tr th:only-of-type {\n",
       "        vertical-align: middle;\n",
       "    }\n",
       "\n",
       "    .dataframe tbody tr th {\n",
       "        vertical-align: top;\n",
       "    }\n",
       "\n",
       "    .dataframe thead th {\n",
       "        text-align: right;\n",
       "    }\n",
       "</style>\n",
       "<table border=\"1\" class=\"dataframe\">\n",
       "  <thead>\n",
       "    <tr style=\"text-align: right;\">\n",
       "      <th></th>\n",
       "      <th>Coef.</th>\n",
       "      <th>Std.Err.</th>\n",
       "      <th>z</th>\n",
       "      <th>P&gt;|z|</th>\n",
       "      <th>[0.025</th>\n",
       "      <th>0.975]</th>\n",
       "    </tr>\n",
       "  </thead>\n",
       "  <tbody>\n",
       "    <tr>\n",
       "      <th>Intercept</th>\n",
       "      <td>-6.150721</td>\n",
       "      <td>1.308260</td>\n",
       "      <td>-4.701451</td>\n",
       "      <td>0.000003</td>\n",
       "      <td>-8.714863</td>\n",
       "      <td>-3.586578</td>\n",
       "    </tr>\n",
       "    <tr>\n",
       "      <th>tobacco</th>\n",
       "      <td>0.079376</td>\n",
       "      <td>0.026603</td>\n",
       "      <td>2.983758</td>\n",
       "      <td>0.002847</td>\n",
       "      <td>0.027236</td>\n",
       "      <td>0.131517</td>\n",
       "    </tr>\n",
       "    <tr>\n",
       "      <th>ldl</th>\n",
       "      <td>0.173924</td>\n",
       "      <td>0.059662</td>\n",
       "      <td>2.915166</td>\n",
       "      <td>0.003555</td>\n",
       "      <td>0.056989</td>\n",
       "      <td>0.290859</td>\n",
       "    </tr>\n",
       "    <tr>\n",
       "      <th>famhist</th>\n",
       "      <td>0.925370</td>\n",
       "      <td>0.227894</td>\n",
       "      <td>4.060530</td>\n",
       "      <td>0.000049</td>\n",
       "      <td>0.478706</td>\n",
       "      <td>1.372034</td>\n",
       "    </tr>\n",
       "    <tr>\n",
       "      <th>age</th>\n",
       "      <td>0.045225</td>\n",
       "      <td>0.012130</td>\n",
       "      <td>3.728464</td>\n",
       "      <td>0.000193</td>\n",
       "      <td>0.021451</td>\n",
       "      <td>0.068999</td>\n",
       "    </tr>\n",
       "    <tr>\n",
       "      <th>typea</th>\n",
       "      <td>0.039595</td>\n",
       "      <td>0.012320</td>\n",
       "      <td>3.213823</td>\n",
       "      <td>0.001310</td>\n",
       "      <td>0.015448</td>\n",
       "      <td>0.063742</td>\n",
       "    </tr>\n",
       "  </tbody>\n",
       "</table>\n",
       "</div>"
      ],
      "text/plain": [
       "              Coef.  Std.Err.         z     P>|z|    [0.025    0.975]\n",
       "Intercept -6.150721  1.308260 -4.701451  0.000003 -8.714863 -3.586578\n",
       "tobacco    0.079376  0.026603  2.983758  0.002847  0.027236  0.131517\n",
       "ldl        0.173924  0.059662  2.915166  0.003555  0.056989  0.290859\n",
       "famhist    0.925370  0.227894  4.060530  0.000049  0.478706  1.372034\n",
       "age        0.045225  0.012130  3.728464  0.000193  0.021451  0.068999\n",
       "typea      0.039595  0.012320  3.213823  0.001310  0.015448  0.063742"
      ]
     },
     "execution_count": 44,
     "metadata": {},
     "output_type": "execute_result"
    }
   ],
   "source": [
    "# Utiliza esta celda para mostrar los coeficientes con significancia estadística al 5%\n",
    "coefs = model_3.summary2().tables[1]\n",
    "\n",
    "coefs[coefs[\"P>|z|\"] < 0.05]"
   ]
  },
  {
   "cell_type": "code",
   "execution_count": 45,
   "id": "51cab2aa",
   "metadata": {},
   "outputs": [
    {
     "name": "stdout",
     "output_type": "stream",
     "text": [
      "Optimization terminated successfully.\n",
      "         Current function value: 0.514811\n",
      "         Iterations 6\n"
     ]
    }
   ],
   "source": [
    "# Utiliza esta celda para entrenar el modelo depurado\n",
    "model_4 = smf.logit(\"chd ~ tobacco + ldl + famhist + age + typea\", df).fit()"
   ]
  },
  {
   "cell_type": "markdown",
   "id": "7ae287d9",
   "metadata": {},
   "source": [
    "- Compare los estadísticos de bondad de ajuste entre ambos."
   ]
  },
  {
   "cell_type": "code",
   "execution_count": 46,
   "id": "ff324a05",
   "metadata": {},
   "outputs": [
    {
     "name": "stdout",
     "output_type": "stream",
     "text": [
      "La log verosimilitud del modelo saturado es de -236.07001618624895\n"
     ]
    }
   ],
   "source": [
    "# Utiliza esta celda para mostrar los estadísticos de bondad de ajuste del primer modelo\n",
    "print(f\"La log verosimilitud del modelo saturado es de {model_3.llf}\")"
   ]
  },
  {
   "cell_type": "code",
   "execution_count": 47,
   "id": "64ca960a",
   "metadata": {},
   "outputs": [
    {
     "name": "stdout",
     "output_type": "stream",
     "text": [
      "La log verosimilitud del modelo saturado es de -237.8427890168743\n"
     ]
    }
   ],
   "source": [
    "# Utiliza esta celda para mostrar los estadísticos de bondad de ajuste del segundo modelo\n",
    "print(f\"La log verosimilitud del modelo saturado es de {model_4.llf}\")"
   ]
  },
  {
   "cell_type": "markdown",
   "id": "30a7727d",
   "metadata": {},
   "source": [
    "**Respuesta**\n",
    "\n",
    "La log verosimilitud es levemente mejor (mayor) en el modelo saturado."
   ]
  },
  {
   "cell_type": "markdown",
   "id": "541fd7c8",
   "metadata": {},
   "source": [
    "- Reporte de forma sucinta el efecto de las variables en el log-odds de tener una enfermedad coronaria"
   ]
  },
  {
   "cell_type": "code",
   "execution_count": 48,
   "id": "5972f735",
   "metadata": {},
   "outputs": [
    {
     "data": {
      "text/html": [
       "<div>\n",
       "<style scoped>\n",
       "    .dataframe tbody tr th:only-of-type {\n",
       "        vertical-align: middle;\n",
       "    }\n",
       "\n",
       "    .dataframe tbody tr th {\n",
       "        vertical-align: top;\n",
       "    }\n",
       "\n",
       "    .dataframe thead th {\n",
       "        text-align: right;\n",
       "    }\n",
       "</style>\n",
       "<table border=\"1\" class=\"dataframe\">\n",
       "  <thead>\n",
       "    <tr style=\"text-align: right;\">\n",
       "      <th></th>\n",
       "      <th>Coef.</th>\n",
       "      <th>Std.Err.</th>\n",
       "      <th>z</th>\n",
       "      <th>P&gt;|z|</th>\n",
       "      <th>[0.025</th>\n",
       "      <th>0.975]</th>\n",
       "    </tr>\n",
       "  </thead>\n",
       "  <tbody>\n",
       "    <tr>\n",
       "      <th>tobacco</th>\n",
       "      <td>0.080375</td>\n",
       "      <td>0.025880</td>\n",
       "      <td>3.105731</td>\n",
       "      <td>1.898095e-03</td>\n",
       "      <td>0.029652</td>\n",
       "      <td>0.131099</td>\n",
       "    </tr>\n",
       "    <tr>\n",
       "      <th>ldl</th>\n",
       "      <td>0.161992</td>\n",
       "      <td>0.054969</td>\n",
       "      <td>2.946967</td>\n",
       "      <td>3.209075e-03</td>\n",
       "      <td>0.054255</td>\n",
       "      <td>0.269729</td>\n",
       "    </tr>\n",
       "    <tr>\n",
       "      <th>famhist</th>\n",
       "      <td>0.908175</td>\n",
       "      <td>0.225758</td>\n",
       "      <td>4.022774</td>\n",
       "      <td>5.751661e-05</td>\n",
       "      <td>0.465697</td>\n",
       "      <td>1.350654</td>\n",
       "    </tr>\n",
       "    <tr>\n",
       "      <th>age</th>\n",
       "      <td>0.050460</td>\n",
       "      <td>0.010206</td>\n",
       "      <td>4.944159</td>\n",
       "      <td>7.647332e-07</td>\n",
       "      <td>0.030457</td>\n",
       "      <td>0.070464</td>\n",
       "    </tr>\n",
       "    <tr>\n",
       "      <th>typea</th>\n",
       "      <td>0.037115</td>\n",
       "      <td>0.012167</td>\n",
       "      <td>3.050542</td>\n",
       "      <td>2.284291e-03</td>\n",
       "      <td>0.013269</td>\n",
       "      <td>0.060962</td>\n",
       "    </tr>\n",
       "  </tbody>\n",
       "</table>\n",
       "</div>"
      ],
      "text/plain": [
       "            Coef.  Std.Err.         z         P>|z|    [0.025    0.975]\n",
       "tobacco  0.080375  0.025880  3.105731  1.898095e-03  0.029652  0.131099\n",
       "ldl      0.161992  0.054969  2.946967  3.209075e-03  0.054255  0.269729\n",
       "famhist  0.908175  0.225758  4.022774  5.751661e-05  0.465697  1.350654\n",
       "age      0.050460  0.010206  4.944159  7.647332e-07  0.030457  0.070464\n",
       "typea    0.037115  0.012167  3.050542  2.284291e-03  0.013269  0.060962"
      ]
     },
     "execution_count": 48,
     "metadata": {},
     "output_type": "execute_result"
    }
   ],
   "source": [
    "# Utiliza esta celda para mostrar los coeficientes significativos que afectan positivamente\n",
    "coefs_dep = model_4.summary2().tables[1]\n",
    "\n",
    "coefs_dep[coefs_dep[\"Coef.\"] > 0] "
   ]
  },
  {
   "cell_type": "code",
   "execution_count": 49,
   "id": "7199a23b",
   "metadata": {},
   "outputs": [
    {
     "data": {
      "text/html": [
       "<div>\n",
       "<style scoped>\n",
       "    .dataframe tbody tr th:only-of-type {\n",
       "        vertical-align: middle;\n",
       "    }\n",
       "\n",
       "    .dataframe tbody tr th {\n",
       "        vertical-align: top;\n",
       "    }\n",
       "\n",
       "    .dataframe thead th {\n",
       "        text-align: right;\n",
       "    }\n",
       "</style>\n",
       "<table border=\"1\" class=\"dataframe\">\n",
       "  <thead>\n",
       "    <tr style=\"text-align: right;\">\n",
       "      <th></th>\n",
       "      <th>Coef.</th>\n",
       "      <th>Std.Err.</th>\n",
       "      <th>z</th>\n",
       "      <th>P&gt;|z|</th>\n",
       "      <th>[0.025</th>\n",
       "      <th>0.975]</th>\n",
       "    </tr>\n",
       "  </thead>\n",
       "  <tbody>\n",
       "    <tr>\n",
       "      <th>Intercept</th>\n",
       "      <td>-6.446445</td>\n",
       "      <td>0.920872</td>\n",
       "      <td>-7.000372</td>\n",
       "      <td>2.552836e-12</td>\n",
       "      <td>-8.25132</td>\n",
       "      <td>-4.641569</td>\n",
       "    </tr>\n",
       "  </tbody>\n",
       "</table>\n",
       "</div>"
      ],
      "text/plain": [
       "              Coef.  Std.Err.         z         P>|z|   [0.025    0.975]\n",
       "Intercept -6.446445  0.920872 -7.000372  2.552836e-12 -8.25132 -4.641569"
      ]
     },
     "execution_count": 49,
     "metadata": {},
     "output_type": "execute_result"
    }
   ],
   "source": [
    "# Utiliza esta celda para mostrar los coeficientes significativos que afectan negativamente\n",
    "coefs_dep = model_4.summary2().tables[1]\n",
    "\n",
    "coefs_dep[coefs_dep[\"Coef.\"] < 0] "
   ]
  },
  {
   "cell_type": "markdown",
   "id": "15ee1076",
   "metadata": {},
   "source": [
    "**Respuesta**\n",
    "- Los factores de riesgo de tener una enfermedad coronaria son el hecho de fumar, tener un valor de ldl alto, tener antecedentes familiares, tener personalidad tipo a, y tener mayor edad.\n",
    "- Entre los regresores explorados no hay factores protectores."
   ]
  },
  {
   "cell_type": "markdown",
   "id": "e4bc359d",
   "metadata": {},
   "source": [
    "### Desafío 4: Estimación de perfiles\n",
    "A partir del modelo depurado, genere las estimaciones en log-odds y posteriormente transfórmelas a probabilidades con `inverse_logit`. Los perfiles a estimar son los\n",
    "siguientes:\n",
    "\n",
    "- La probabilidad de tener una enfermedad coronaria para un individuo con características similares a la muestra."
   ]
  },
  {
   "cell_type": "code",
   "execution_count": 50,
   "id": "e708152f",
   "metadata": {},
   "outputs": [],
   "source": [
    "#tobacco + ldl + famhist + age + typea"
   ]
  },
  {
   "cell_type": "code",
   "execution_count": 51,
   "id": "4afea9d0",
   "metadata": {},
   "outputs": [
    {
     "data": {
      "text/plain": [
       "0.41418659081821735"
      ]
     },
     "execution_count": 51,
     "metadata": {},
     "output_type": "execute_result"
    }
   ],
   "source": [
    "# Utiliza esta celda para mostrar la probabilidad de un invidivuo promedio con antecedentes familiares\n",
    "log_odds_promedio = model_4.params[\"Intercept\"] + model_4.params[\"tobacco\"] * df[\"tobacco\"].mean() + model_4.params[\"ldl\"] * df[\"ldl\"].mean() + \\\n",
    "model_4.params[\"famhist\"] + model_4.params[\"age\"] * df[\"age\"].mean() + model_4.params[\"typea\"] * df[\"typea\"].mean()\n",
    "\n",
    "prob_promedio_con_ant = inverse_logit(log_odds_promedio)\n",
    "prob_promedio_con_ant"
   ]
  },
  {
   "cell_type": "code",
   "execution_count": 52,
   "id": "211ccf4b",
   "metadata": {},
   "outputs": [
    {
     "data": {
      "text/plain": [
       "0.22185998096946388"
      ]
     },
     "execution_count": 52,
     "metadata": {},
     "output_type": "execute_result"
    }
   ],
   "source": [
    "# Utiliza esta celda para mostrar la probabilidad de un individuo promedio sin antecedentes familiares\n",
    "log_odds_promedio_sin_ant = model_4.params[\"Intercept\"] + model_4.params[\"tobacco\"] * df[\"tobacco\"].mean() + model_4.params[\"ldl\"] * df[\"ldl\"].mean() + \\\n",
    "model_4.params[\"age\"] * df[\"age\"].mean() + model_4.params[\"typea\"] * df[\"typea\"].mean()\n",
    "\n",
    "prob_promedio_sin_ant = inverse_logit(log_odds_promedio_sin_ant)\n",
    "prob_promedio_sin_ant"
   ]
  },
  {
   "cell_type": "markdown",
   "id": "8c0cc9b3",
   "metadata": {},
   "source": [
    "- La probabilidad de tener una enfermedad coronaria para un individuo con altos niveles de lipoproteína de baja densidad, _manteniendo todas las demás características constantes_."
   ]
  },
  {
   "cell_type": "code",
   "execution_count": 53,
   "id": "99c97a0e",
   "metadata": {},
   "outputs": [
    {
     "data": {
      "text/plain": [
       "0.7971787814732932"
      ]
     },
     "execution_count": 53,
     "metadata": {},
     "output_type": "execute_result"
    }
   ],
   "source": [
    "# Utiliza esta celda para mostrar la probabilidad de un invidivuo promedio con antecedentes familiares y un alto nivel de lopoproteína de baja densidad\n",
    "log_odds_promedio_alto_ldl = model_4.params[\"Intercept\"] + model_4.params[\"tobacco\"] * df[\"tobacco\"].mean() + model_4.params[\"ldl\"] * df[\"ldl\"].max() + \\\n",
    "model_4.params[\"famhist\"] + model_4.params[\"age\"] * df[\"age\"].mean() + model_4.params[\"typea\"] * df[\"typea\"].mean()\n",
    "\n",
    "prob_promedio_con_ant_alto_ldl = inverse_logit(log_odds_promedio_alto_ldl)\n",
    "prob_promedio_con_ant_alto_ldl"
   ]
  },
  {
   "cell_type": "code",
   "execution_count": 54,
   "id": "0e31f7b4",
   "metadata": {},
   "outputs": [
    {
     "data": {
      "text/plain": [
       "0.613151477648457"
      ]
     },
     "execution_count": 54,
     "metadata": {},
     "output_type": "execute_result"
    }
   ],
   "source": [
    "# Utiliza esta celda para mostrar la probabilidad de un invidivuo promedio sin antecedentes familiares y un alto nivel de lopoproteína de baja densidad\n",
    "log_odds_promedio_alto_ldl_sin_ant = model_4.params[\"Intercept\"] + model_4.params[\"tobacco\"] * df[\"tobacco\"].mean() + model_4.params[\"ldl\"] * df[\"ldl\"].max() + \\\n",
    "model_4.params[\"age\"] * df[\"age\"].mean() + model_4.params[\"typea\"] * df[\"typea\"].mean()\n",
    "\n",
    "prob_promedio_sin_ant_alto_ldl = inverse_logit(log_odds_promedio_alto_ldl_sin_ant)\n",
    "prob_promedio_sin_ant_alto_ldl"
   ]
  },
  {
   "cell_type": "markdown",
   "id": "afe4a344",
   "metadata": {},
   "source": [
    "- La probabilidad de tener una enfermedad coronaria para un individuo con bajos niveles de lipoproteína de baja densidad, _manteniendo todas las demás características constantes_."
   ]
  },
  {
   "cell_type": "code",
   "execution_count": 55,
   "id": "b5500ac4",
   "metadata": {},
   "outputs": [
    {
     "data": {
      "text/plain": [
       "0.2777146981541852"
      ]
     },
     "execution_count": 55,
     "metadata": {},
     "output_type": "execute_result"
    }
   ],
   "source": [
    "# Utiliza esta celda para mostrar la probabilidad de un invidivuo promedio con antecedentes familiares y un bajo nivel de lopoproteína de baja densidad\n",
    "log_odds_promedio_bajo_ldl = model_4.params[\"Intercept\"] + model_4.params[\"tobacco\"] * df[\"tobacco\"].mean() + model_4.params[\"ldl\"] * df[\"ldl\"].min() + \\\n",
    "model_4.params[\"famhist\"] + model_4.params[\"age\"] * df[\"age\"].mean() + model_4.params[\"typea\"] * df[\"typea\"].mean()\n",
    "\n",
    "prob_promedio_con_ant_bajo_ldl = inverse_logit(log_odds_promedio_bajo_ldl)\n",
    "prob_promedio_con_ant_bajo_ldl"
   ]
  },
  {
   "cell_type": "code",
   "execution_count": 56,
   "id": "dfb5d03a",
   "metadata": {},
   "outputs": [
    {
     "data": {
      "text/plain": [
       "0.13423736552881"
      ]
     },
     "execution_count": 56,
     "metadata": {},
     "output_type": "execute_result"
    }
   ],
   "source": [
    "# Utiliza esta celda para mostrar la probabilidad de un invidivuo promedio sin antecedentes familiares y un bajo nivel de lopoproteína de baja densidad\n",
    "log_odds_promedio_bajo_ldl_sin_ant = model_4.params[\"Intercept\"] + model_4.params[\"tobacco\"] * df[\"tobacco\"].mean() + model_4.params[\"ldl\"] * df[\"ldl\"].min() + \\\n",
    "model_4.params[\"age\"] * df[\"age\"].mean() + model_4.params[\"typea\"] * df[\"typea\"].mean()\n",
    "\n",
    "prob_promedio_sin_ant_bajo_ldl = inverse_logit(log_odds_promedio_bajo_ldl_sin_ant)\n",
    "prob_promedio_sin_ant_bajo_ldl"
   ]
  },
  {
   "cell_type": "code",
   "execution_count": null,
   "metadata": {},
   "outputs": [],
   "source": []
  }
 ],
 "metadata": {
  "kernelspec": {
   "display_name": "Python 3.7.9 64-bit",
   "language": "python",
   "name": "python3"
  },
  "language_info": {
   "codemirror_mode": {
    "name": "ipython",
    "version": 3
   },
   "file_extension": ".py",
   "mimetype": "text/x-python",
   "name": "python",
   "nbconvert_exporter": "python",
   "pygments_lexer": "ipython3",
   "version": "3.7.9"
  },
  "vscode": {
   "interpreter": {
    "hash": "2dd4c0c2d30bf6610b180a8631493e6b8c6db922af395a415c6a467a4854f5a9"
   }
  }
 },
 "nbformat": 4,
 "nbformat_minor": 5
}
