{
 "cells": [
  {
   "cell_type": "markdown",
   "id": "86e0ae5d",
   "metadata": {},
   "source": [
    "<h1 style=\"text-align: center;\">Desafío - Clasificación desde la econometría</h1>\n",
    "\n",
    "- Para realizar este desafío debes haber estudiado previamente todo el material disponible correspondiente a la unidad.\n",
    "- Una vez terminado el desafío, comprime la carpeta que contiene el desarrollo de los requerimientos solicitados y sube el .zip en el LMS.\n",
    "- Desarrollo del desafío: individual\n",
    "- Para la realización del desafío necesitarás apoyarte del archivo `Apoyo Desafío - Clasificación desde la econometría`, disponible en la <a href=\"https://empieza.desafiolatam.com/cohorts/2091/sections/78288/activities/119116/items/610922\">plataforma</a>."
   ]
  },
  {
   "cell_type": "markdown",
   "id": "8d7bf68f",
   "metadata": {},
   "source": [
    "## Descripción\n",
    "En esta sesión trabajaremos el dataset south african heart, el cual contiene las siguientes variables:\n",
    "- `sbp`: Presión Sanguínea Sistólica.\n",
    "- `tobacco`: Promedio tabaco consumido por día.\n",
    "- `ldl`: Lipoproteína de baja densidad.\n",
    "- `adiposity`: Adiposidad.\n",
    "- `famhist`: Antecedentes familiares de enfermedades cardiácas. (Binaria)\n",
    "- `types`: Personalidad tipo A\n",
    "- `obesity`: Obesidad.\n",
    "- `alcohol`: Consumo actual de alcohol.\n",
    "- `age`: edad.\n",
    "- `chd`: Enfermedad coronaria. (dummy). **Vector objetivo**."
   ]
  },
  {
   "cell_type": "markdown",
   "id": "a28ec1e8",
   "metadata": {},
   "source": [
    "### Desafío 1: Preparar el ambiente de trabajo\n",
    "- Cargue las librerías básicas para importación y manipulación de datos (numpy, pandas), gráficos (matplotlib y seaborn) y de modelación econométrica (statsmodels).\n",
    "- Importe el archivo `southafricanheart.csv` que se encuentra dentro del material de apoyo."
   ]
  },
  {
   "cell_type": "code",
   "execution_count": 1,
   "id": "0b44de77",
   "metadata": {},
   "outputs": [],
   "source": [
    "# Utiliza esta celda para importar los módulos solicitados y el set de datos"
   ]
  },
  {
   "cell_type": "markdown",
   "id": "54f9bca6",
   "metadata": {},
   "source": [
    "- Realice una descripción del set importado mostrando la lista con los nombres de variables importadas"
   ]
  },
  {
   "cell_type": "code",
   "execution_count": 2,
   "id": "ef56c57c",
   "metadata": {},
   "outputs": [],
   "source": [
    "# Utiliza esta celda para mostrar los nombres de las columnas del dataframe\n"
   ]
  },
  {
   "cell_type": "markdown",
   "id": "bbbf3682",
   "metadata": {},
   "source": [
    "- Muestre un análisis descriptivo mediante .describe()"
   ]
  },
  {
   "cell_type": "code",
   "execution_count": 3,
   "id": "39a0a43d",
   "metadata": {},
   "outputs": [],
   "source": [
    "# Utiliza esta celda para aplicar describe()"
   ]
  },
  {
   "cell_type": "markdown",
   "id": "134041bb",
   "metadata": {},
   "source": [
    "**Comentarios de las variables continuas**\n",
    "Sus masgnitudes son variadas. Chd no se debe considerar como una variable continua, ya que corresponde a nuestro vector objetivo que es categórico."
   ]
  },
  {
   "cell_type": "markdown",
   "id": "f44ae6f4",
   "metadata": {},
   "source": [
    "- Muestre distribución de categorías para las variables `famhist` y `chd`."
   ]
  },
  {
   "cell_type": "code",
   "execution_count": 4,
   "id": "7ee3a745",
   "metadata": {},
   "outputs": [],
   "source": [
    "# Utiliza esta celda para mostrar las frecuencias de famhist con un gráfico de barras"
   ]
  },
  {
   "cell_type": "code",
   "execution_count": 5,
   "id": "99f3a625",
   "metadata": {},
   "outputs": [],
   "source": [
    "# Utiliza esta celda para mostrar las frecuencias de chd con un gráfico de barras"
   ]
  },
  {
   "cell_type": "markdown",
   "id": "1a9487f5",
   "metadata": {},
   "source": [
    "**Comentarios de las variables categóricas**\n",
    "Una mayor cantidad de personas no tiene antecedentes familiares ni presenta enfermedad coronaria"
   ]
  },
  {
   "cell_type": "markdown",
   "id": "fc9ad18b",
   "metadata": {},
   "source": [
    "## Desafío 2\n",
    "\n",
    "A continuación se presenta el siguiente modelo a estimar:\n",
    "\n",
    "$$\n",
    "\\log\\left(\\frac{p(\\text{chd}=1)}{1-p(\\text{chd}=1)}\\right)_i=\\beta_0 + \\beta_{famhist} \\cdot \\text{famhist}_i\n",
    "$$\n",
    "\n",
    "Para ello ejecute los siguientes pasos:\n",
    "1. Recodifique `famhist` a dummy, asignando 1 a la categoría minoritaria."
   ]
  },
  {
   "cell_type": "code",
   "execution_count": 6,
   "id": "70fedd74",
   "metadata": {},
   "outputs": [],
   "source": [
    "# Utiliza esta celda para realizar la codificación solicitada"
   ]
  },
  {
   "cell_type": "markdown",
   "id": "da02917e",
   "metadata": {},
   "source": [
    "2. Utilice `smf.logit` para estimar el modelo."
   ]
  },
  {
   "cell_type": "code",
   "execution_count": 7,
   "id": "479199b2",
   "metadata": {},
   "outputs": [],
   "source": [
    "# Utiliza esta celda para instanciar y entrenar el modelo solicitado"
   ]
  },
  {
   "cell_type": "markdown",
   "id": "7ab49a27",
   "metadata": {},
   "source": [
    "3. Implemente una función `inverse_logit` que realice el mapeo de log-odds a probabilidad."
   ]
  },
  {
   "cell_type": "code",
   "execution_count": 8,
   "id": "70d38beb",
   "metadata": {},
   "outputs": [],
   "source": [
    "# Utiliza esta celda para implementar la función solicitada"
   ]
  },
  {
   "cell_type": "markdown",
   "id": "968bfe4b",
   "metadata": {},
   "source": [
    "4.  Con el modelo estimado, responda lo siguiente:\n",
    "- ¿Cuál es la probabilidad de un individuo con antecedentes familiares de tener una enfermedad coronaria?"
   ]
  },
  {
   "cell_type": "code",
   "execution_count": 9,
   "id": "30037f8b",
   "metadata": {},
   "outputs": [],
   "source": [
    "# Utiliza esta celda para obtener los log odds en base a los coeficientes, cuando famhist=1.\n",
    "\n",
    "# Obtener además la probabilidad utilizando inverse_logit"
   ]
  },
  {
   "cell_type": "markdown",
   "id": "de3251ec",
   "metadata": {},
   "source": [
    "¿Cuál es la probabilidad de un individuo sin antecedentes familiares de tener\n",
    "una enfermedad coronaria?"
   ]
  },
  {
   "cell_type": "code",
   "execution_count": 10,
   "id": "259e2a95",
   "metadata": {},
   "outputs": [],
   "source": [
    "# Utiliza esta celda para obtener los log odds en base a los coeficientes, cuando famhist=0.\n",
    "\n",
    "# Obtener además la probabilidad utilizando inverse_logit"
   ]
  },
  {
   "cell_type": "markdown",
   "id": "6284e2ed",
   "metadata": {},
   "source": [
    "- ¿Cuál es la diferencia en la probabilidad entre un individuo con antecedentes y otro sin antecedentes?"
   ]
  },
  {
   "cell_type": "code",
   "execution_count": 11,
   "id": "1b6a89ef",
   "metadata": {},
   "outputs": [],
   "source": [
    "# Utiliza esta celda para mostrar las diferencias de ambas probabilidades"
   ]
  },
  {
   "cell_type": "markdown",
   "id": "ee28417b",
   "metadata": {},
   "source": [
    "- Replique el modelo con smf.ols y comente las similitudes entre los coeficientes estimados. _Tip: Utilice $\\beta$/4_"
   ]
  },
  {
   "cell_type": "code",
   "execution_count": 12,
   "id": "0554c3c5",
   "metadata": {},
   "outputs": [],
   "source": [
    "# Utiliza esta celda para entrenar el modelo ols y mostrar los coeficientes"
   ]
  },
  {
   "cell_type": "markdown",
   "id": "81adfcf5",
   "metadata": {},
   "source": [
    "**Respuesta**\n",
    "\n",
    "El valor obtenido al dividir el coeficiente estimado con logit por 4 es similar al valor del coeficiente obtenido con mínimos cuadrados"
   ]
  },
  {
   "cell_type": "markdown",
   "id": "a45cc9aa",
   "metadata": {},
   "source": [
    "### Desafío 3: Estimación completa\n",
    "\n",
    "Implemente un modelo con la siguiente forma:\n",
    "\n",
    "$$\n",
    "\\log\\left(\\frac{p(\\text{chd}=1)}{1-p(\\text{chd}=1)}\\right)_i=\\beta_0 + \\sum_{j=1}^{n}\\beta_j \\cdot X_{ji}\n",
    "$$"
   ]
  },
  {
   "cell_type": "code",
   "execution_count": 13,
   "id": "6958b60f",
   "metadata": {},
   "outputs": [],
   "source": [
    "# Utiliza esta celda para entrenar el modelo solicitado"
   ]
  },
  {
   "cell_type": "markdown",
   "id": "b6fdb86d",
   "metadata": {},
   "source": [
    "- Depure el modelo manteniendo las variables con significancia estadística al 5%."
   ]
  },
  {
   "cell_type": "code",
   "execution_count": 14,
   "id": "1439745e",
   "metadata": {},
   "outputs": [],
   "source": [
    "# Utiliza esta celda para mostrar los coeficientes con significancia estadística al 5%"
   ]
  },
  {
   "cell_type": "code",
   "execution_count": 15,
   "id": "5b24d061",
   "metadata": {},
   "outputs": [],
   "source": [
    "# Utiliza esta celda para entrenar el modelo depurado"
   ]
  },
  {
   "cell_type": "markdown",
   "id": "8fee2b14",
   "metadata": {},
   "source": [
    "- Compare los estadísticos de bondad de ajuste entre ambos."
   ]
  },
  {
   "cell_type": "code",
   "execution_count": 16,
   "id": "44078e09",
   "metadata": {},
   "outputs": [],
   "source": [
    "# Utiliza esta celda para mostrar los estadísticos de bondad de ajuste del primer modelo"
   ]
  },
  {
   "cell_type": "code",
   "execution_count": 17,
   "id": "3a067fd0",
   "metadata": {},
   "outputs": [],
   "source": [
    "# Utiliza esta celda para mostrar los estadísticos de bondad de ajuste del segundo modelo"
   ]
  },
  {
   "cell_type": "markdown",
   "id": "42c1708a",
   "metadata": {},
   "source": [
    "**Respuesta**\n",
    "\n",
    "La log verosimilitud es levemente mejor (mayor) en el modelo saturado."
   ]
  },
  {
   "cell_type": "markdown",
   "id": "aabbce49",
   "metadata": {},
   "source": [
    "- Reporte de forma sucinta el efecto de las variables en el log-odds de tener una enfermedad coronaria"
   ]
  },
  {
   "cell_type": "code",
   "execution_count": 18,
   "id": "812a6fc5",
   "metadata": {},
   "outputs": [],
   "source": [
    "# Utiliza esta celda para mostrar los coeficientes significativos que afectan positivamente"
   ]
  },
  {
   "cell_type": "code",
   "execution_count": 19,
   "id": "bfaf0f09",
   "metadata": {},
   "outputs": [],
   "source": [
    "# Utiliza esta celda para mostrar los coeficientes significativos que afectan negativamente"
   ]
  },
  {
   "cell_type": "markdown",
   "id": "9a3c6ce6",
   "metadata": {},
   "source": [
    "**Respuesta**\n",
    "- Los factores de riesgo de tener una enfermedad coronaria son el hecho de fumar, tener un valor de ldl alto, tener antecedentes familiares, tener personalidad tipo a, y tener mayor edad.\n",
    "- Entre los regresores explorados no hay factores protectores."
   ]
  },
  {
   "cell_type": "markdown",
   "id": "e4aee44e",
   "metadata": {},
   "source": [
    "### Desafío 4: Estimación de perfiles\n",
    "A partir del modelo depurado, genere las estimaciones en log-odds y posteriormente transfórmelas a probabilidades con `inverse_logit`. Los perfiles a estimar son los\n",
    "siguientes:\n",
    "\n",
    "- La probabilidad de tener una enfermedad coronaria para un individuo con características similares a la muestra."
   ]
  },
  {
   "cell_type": "code",
   "execution_count": 20,
   "id": "e1003107",
   "metadata": {},
   "outputs": [],
   "source": [
    "# Utiliza esta celda para mostrar la probabilidad de un invidivuo promedio con antecedentes familiares"
   ]
  },
  {
   "cell_type": "code",
   "execution_count": 21,
   "id": "ecdf3f1b",
   "metadata": {},
   "outputs": [],
   "source": [
    "# Utiliza esta celda para mostrar la probabilidad de un individuo promedio sin antecedentes familiares"
   ]
  },
  {
   "cell_type": "markdown",
   "id": "87cb7c89",
   "metadata": {},
   "source": [
    "- La probabilidad de tener una enfermedad coronaria para un individuo con altos niveles de lipoproteína de baja densidad, _manteniendo todas las demás características constantes_."
   ]
  },
  {
   "cell_type": "code",
   "execution_count": 22,
   "id": "19f3e8ba",
   "metadata": {},
   "outputs": [],
   "source": [
    "# Utiliza esta celda para mostrar la probabilidad de un invidivuo promedio con antecedentes familiares y un alto nivel de lopoproteína de baja densidad"
   ]
  },
  {
   "cell_type": "code",
   "execution_count": 23,
   "id": "beab9c60",
   "metadata": {},
   "outputs": [],
   "source": [
    "# Utiliza esta celda para mostrar la probabilidad de un invidivuo promedio sin antecedentes familiares y un alto nivel de lopoproteína de baja densidad"
   ]
  },
  {
   "cell_type": "markdown",
   "id": "5f7045ea",
   "metadata": {},
   "source": [
    "- La probabilidad de tener una enfermedad coronaria para un individuo con bajos niveles de lipoproteína de baja densidad, _manteniendo todas las demás características constantes_."
   ]
  },
  {
   "cell_type": "code",
   "execution_count": 24,
   "id": "4d6f08b3",
   "metadata": {},
   "outputs": [],
   "source": [
    "# Utiliza esta celda para mostrar la probabilidad de un invidivuo promedio con antecedentes familiares y un bajo nivel de lopoproteína de baja densidad"
   ]
  },
  {
   "cell_type": "code",
   "execution_count": 25,
   "id": "f666fe7a",
   "metadata": {},
   "outputs": [],
   "source": [
    "# Utiliza esta celda para mostrar la probabilidad de un invidivuo promedio sin antecedentes familiares y un bajo nivel de lopoproteína de baja densidad"
   ]
  },
  {
   "cell_type": "code",
   "execution_count": null,
   "id": "fca0644b",
   "metadata": {},
   "outputs": [],
   "source": []
  }
 ],
 "metadata": {
  "kernelspec": {
   "display_name": "Python 3 (ipykernel)",
   "language": "python",
   "name": "python3"
  },
  "language_info": {
   "codemirror_mode": {
    "name": "ipython",
    "version": 3
   },
   "file_extension": ".py",
   "mimetype": "text/x-python",
   "name": "python",
   "nbconvert_exporter": "python",
   "pygments_lexer": "ipython3",
   "version": "3.9.12"
  }
 },
 "nbformat": 4,
 "nbformat_minor": 5
}
