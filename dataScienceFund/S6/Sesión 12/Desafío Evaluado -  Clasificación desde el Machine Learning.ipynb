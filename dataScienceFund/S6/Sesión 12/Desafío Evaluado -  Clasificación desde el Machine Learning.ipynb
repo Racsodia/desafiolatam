{
 "cells": [
  {
   "cell_type": "markdown",
   "id": "ed1231f0",
   "metadata": {},
   "source": [
    "<h1 style=\"text-align: center;\">Desafío - Clasificación desde el Machine Learning</h1>\n",
    "\n",
    "- Para realizar este desafío debes haber estudiado previamente todo el material disponible correspondiente a la unidad.\n",
    "- Una vez terminado el desafío, comprime la carpeta que contiene el desarrollo de los requerimientos solicitados y sube el .zip en el LMS.\n",
    "- Desarrollo desafío: Individual.\n",
    "Para la realización del desafío necesitarás apoyarte del archivo <a href=\"https://empieza.desafiolatam.com/cohorts/2091/sections/78289/activities/119118/items/610931\">Apoyo Desafío - Clasificación desde el aprendizaje de máquinas</a>."
   ]
  },
  {
   "cell_type": "markdown",
   "id": "f8009f96",
   "metadata": {},
   "source": [
    "## Descripción\n",
    "En esta sesión trabajaremos con una base de datos sobre clientes morosos de un banco. Dentro de ésta se registran las siguientes observaciones:\n",
    "- `default`: Variable binaria. Registra si el cliente entró en morosidad o no. **(Vector objetivo)**\n",
    "- `income`: Ingreso promedio declarado por el cliente.\n",
    "- `balance`: Total de saldo en la cuenta de crédito.\n",
    "- `student`: Variable binaria. Registra si el cliente es estudiante o no"
   ]
  },
  {
   "cell_type": "markdown",
   "id": "841172ac",
   "metadata": {},
   "source": [
    "### Desafío 1: Preparación del ambiente de trabajo\n",
    "- Importe los módulos básicos para el análisis de datos\n",
    "- Importe `seaborn`.\n",
    "- Importe `statsmodels`.\n",
    "- Importe `LogisticRegression`, `train_test_split`, `StandardScaler`, `classification_report` y `roc_curve` de `sklearn`."
   ]
  },
  {
   "cell_type": "code",
   "execution_count": 1,
   "id": "8be641b2",
   "metadata": {},
   "outputs": [
    {
     "data": {
      "text/html": [
       "<div>\n",
       "<style scoped>\n",
       "    .dataframe tbody tr th:only-of-type {\n",
       "        vertical-align: middle;\n",
       "    }\n",
       "\n",
       "    .dataframe tbody tr th {\n",
       "        vertical-align: top;\n",
       "    }\n",
       "\n",
       "    .dataframe thead th {\n",
       "        text-align: right;\n",
       "    }\n",
       "</style>\n",
       "<table border=\"1\" class=\"dataframe\">\n",
       "  <thead>\n",
       "    <tr style=\"text-align: right;\">\n",
       "      <th></th>\n",
       "      <th>default</th>\n",
       "      <th>student</th>\n",
       "      <th>balance</th>\n",
       "      <th>income</th>\n",
       "    </tr>\n",
       "  </thead>\n",
       "  <tbody>\n",
       "    <tr>\n",
       "      <th>0</th>\n",
       "      <td>No</td>\n",
       "      <td>No</td>\n",
       "      <td>729.526495</td>\n",
       "      <td>44361.625074</td>\n",
       "    </tr>\n",
       "    <tr>\n",
       "      <th>1</th>\n",
       "      <td>No</td>\n",
       "      <td>Yes</td>\n",
       "      <td>817.180407</td>\n",
       "      <td>12106.134700</td>\n",
       "    </tr>\n",
       "    <tr>\n",
       "      <th>2</th>\n",
       "      <td>No</td>\n",
       "      <td>No</td>\n",
       "      <td>1073.549164</td>\n",
       "      <td>31767.138947</td>\n",
       "    </tr>\n",
       "    <tr>\n",
       "      <th>3</th>\n",
       "      <td>No</td>\n",
       "      <td>No</td>\n",
       "      <td>529.250605</td>\n",
       "      <td>35704.493935</td>\n",
       "    </tr>\n",
       "    <tr>\n",
       "      <th>4</th>\n",
       "      <td>No</td>\n",
       "      <td>No</td>\n",
       "      <td>785.655883</td>\n",
       "      <td>38463.495879</td>\n",
       "    </tr>\n",
       "  </tbody>\n",
       "</table>\n",
       "</div>"
      ],
      "text/plain": [
       "  default student      balance        income\n",
       "0      No      No   729.526495  44361.625074\n",
       "1      No     Yes   817.180407  12106.134700\n",
       "2      No      No  1073.549164  31767.138947\n",
       "3      No      No   529.250605  35704.493935\n",
       "4      No      No   785.655883  38463.495879"
      ]
     },
     "execution_count": 1,
     "metadata": {},
     "output_type": "execute_result"
    }
   ],
   "source": [
    "# Utiliza esta celda para importar los módulos solicitados y el set de datos\n",
    "#manejo de datos\n",
    "import pandas as pd\n",
    "import numpy as np\n",
    "\n",
    "#Graficas\n",
    "import seaborn as sns\n",
    "import matplotlib.pyplot as plt\n",
    "\n",
    "#Econometria\n",
    "import statsmodels.api as sm\n",
    "import statsmodels.formula.api as smf\n",
    "\n",
    "#Machine learning\n",
    "from sklearn.model_selection import train_test_split\n",
    "from sklearn.linear_model import LogisticRegression\n",
    "from sklearn.preprocessing import StandardScaler\n",
    "\n",
    "#metricas\n",
    "from sklearn.metrics import classification_report\n",
    "from sklearn.metrics import roc_auc_score, roc_curve\n",
    "\n",
    "#otras\n",
    "import warnings\n",
    "warnings.simplefilter(\"ignore\")\n",
    "\n",
    "df = pd.read_csv(\"default_credit.csv\").drop(\"index\", axis = 1)\n",
    "df.head()"
   ]
  },
  {
   "cell_type": "code",
   "execution_count": 2,
   "id": "901da6ed",
   "metadata": {},
   "outputs": [
    {
     "data": {
      "text/plain": [
       "default\n",
       "No     9667\n",
       "Yes     333\n",
       "dtype: int64"
      ]
     },
     "execution_count": 2,
     "metadata": {},
     "output_type": "execute_result"
    }
   ],
   "source": [
    "df.value_counts(\"default\")"
   ]
  },
  {
   "cell_type": "markdown",
   "id": "f30e295b",
   "metadata": {},
   "source": [
    "**Comentarios**: Aca se observa que existe un desbalance en el vector objetivo"
   ]
  },
  {
   "cell_type": "markdown",
   "id": "39492cdf",
   "metadata": {},
   "source": [
    "### Desafío 2: Análisis exploratorio\n",
    "Explore las principales relaciones entre las variables. Utilizando los métodos `boxplot` y `lmplot` de `seaborn` implemente los siguientes gráficos. _**tip**_: Puede utilizar el parámetro `hue` en `lmplot` para identificar las observaciones por status.\n",
    "\n",
    "- Un `boxplot` del balance total de las cuentas, segmentado por el status de estudiante."
   ]
  },
  {
   "cell_type": "code",
   "execution_count": 3,
   "id": "31de0de7",
   "metadata": {},
   "outputs": [
    {
     "data": {
      "image/png": "[encoded data removed]",
      "text/plain": [
       "<Figure size 432x288 with 1 Axes>"
      ]
     },
     "metadata": {
      "needs_background": "light"
     },
     "output_type": "display_data"
    }
   ],
   "source": [
    "# Utiliza esta celda para realizar el gráfico solicitado \n",
    "sns.boxplot(x = df[\"student\"], y = df[\"balance\"]);"
   ]
  },
  {
   "cell_type": "markdown",
   "id": "f30e295b",
   "metadata": {},
   "source": [
    "**Comentarios**: El balance es mas alto en los estudiantes, tienen un mayor saldo en sus cuentas, aunque con unas medianas cercanas"
   ]
  },
  {
   "cell_type": "markdown",
   "id": "f609bfcb",
   "metadata": {},
   "source": [
    "- Un `boxplot` del ingreso total de cada cliente, segmentado por el status de estudiante."
   ]
  },
  {
   "cell_type": "code",
   "execution_count": 4,
   "id": "5dfe3926",
   "metadata": {},
   "outputs": [
    {
     "data": {
      "image/png": "[encoded data removed]",
      "text/plain": [
       "<Figure size 432x288 with 1 Axes>"
      ]
     },
     "metadata": {
      "needs_background": "light"
     },
     "output_type": "display_data"
    }
   ],
   "source": [
    "# Utiliza esta celda para realizar el gráfico solicitado\n",
    "sns.boxplot(x = df[\"student\"], y = df[\"income\"]);"
   ]
  },
  {
   "cell_type": "markdown",
   "id": "b46ba104",
   "metadata": {},
   "source": [
    "**Comentarios**: Los estudiantes tienen un ingreso menor, y tambien una dispersion menor, con medianas notoriamente diferentes"
   ]
  },
  {
   "cell_type": "markdown",
   "id": "21ef67b9",
   "metadata": {},
   "source": [
    "- Un `boxplot` del balance total de las cuentas, segmentado por el status de default."
   ]
  },
  {
   "cell_type": "code",
   "execution_count": 5,
   "id": "860915ba",
   "metadata": {},
   "outputs": [
    {
     "data": {
      "image/png": "[encoded data removed]",
      "text/plain": [
       "<Figure size 432x288 with 1 Axes>"
      ]
     },
     "metadata": {
      "needs_background": "light"
     },
     "output_type": "display_data"
    }
   ],
   "source": [
    "# Utiliza esta celda para realizar el gráfico solicitado\n",
    "sns.boxplot(x = df[\"default\"], y = df[\"balance\"]);"
   ]
  },
  {
   "cell_type": "markdown",
   "id": "7b0cc61c",
   "metadata": {},
   "source": [
    "**Comentarios**: los estudiantes tienen una morosidad mas alta, con medianas muy diferentes"
   ]
  },
  {
   "cell_type": "markdown",
   "id": "1dac78b6",
   "metadata": {},
   "source": [
    "- Un `boxplot` del ingreso total de cada cliente, segmentado por el status de default."
   ]
  },
  {
   "cell_type": "code",
   "execution_count": 6,
   "id": "8f54ef2a",
   "metadata": {},
   "outputs": [
    {
     "data": {
      "image/png": "[encoded data removed]",
      "text/plain": [
       "<Figure size 432x288 with 1 Axes>"
      ]
     },
     "metadata": {
      "needs_background": "light"
     },
     "output_type": "display_data"
    }
   ],
   "source": [
    "# Utiliza esta celda para realizar el gráfico solicitado \n",
    "sns.boxplot(x = df[\"default\"], y = df[\"income\"]);"
   ]
  },
  {
   "cell_type": "markdown",
   "id": "7ec78b82",
   "metadata": {},
   "source": [
    "**Comentarios**: Con respecto a la variable default, los que no tienen deuda tienen un ingreso mas alto, segun sus medianas, pero con una dispersion mayor "
   ]
  },
  {
   "cell_type": "markdown",
   "id": "1cc8326b",
   "metadata": {},
   "source": [
    "- Un diagrama de dispersión entre balance e income, segmentado por el status de estudiante."
   ]
  },
  {
   "cell_type": "code",
   "execution_count": 7,
   "id": "d37b61aa",
   "metadata": {},
   "outputs": [
    {
     "data": {
      "text/plain": [
       "<matplotlib.lines.Line2D at 0x22e9aab00c8>"
      ]
     },
     "execution_count": 7,
     "metadata": {},
     "output_type": "execute_result"
    },
    {
     "data": {
      "image/png": "[encoded data removed]",
      "text/plain": [
       "<Figure size 412x360 with 1 Axes>"
      ]
     },
     "metadata": {
      "needs_background": "light"
     },
     "output_type": "display_data"
    }
   ],
   "source": [
    "# Utiliza esta celda para realizar el gráfico solicitado\n",
    "sns.lmplot(data = df, x=\"balance\", y = \"income\", hue=\"student\")\n",
    "plt.axvline(df[\"balance\"].mean(), color = \"red\", ls=\"--\")\n",
    "plt.axhline(df[\"income\"].mean(), color = \"red\", ls=\"--\")"
   ]
  },
  {
   "cell_type": "markdown",
   "id": "2b0a149c",
   "metadata": {},
   "source": [
    "**Comentarios**: Se aprecia una polarizacion marcada del ingreso de los estudiantes y no estudiantes, tambien existe personas que no son estudiantes que estan bajo la media. En cuanto balance, se puede apreciar lo que se veia en el boxplot, que tenian un mayor balance los estudiantes"
   ]
  },
  {
   "cell_type": "markdown",
   "id": "eb8b73ef",
   "metadata": {},
   "source": [
    "- Un diagrama de dispersión entre balance e income, segmentado por el status de default."
   ]
  },
  {
   "cell_type": "code",
   "execution_count": 8,
   "id": "4701a359",
   "metadata": {},
   "outputs": [
    {
     "data": {
      "text/plain": [
       "<matplotlib.lines.Line2D at 0x22e9aab8a88>"
      ]
     },
     "execution_count": 8,
     "metadata": {},
     "output_type": "execute_result"
    },
    {
     "data": {
      "image/png": "[encoded data removed]",
      "text/plain": [
       "<Figure size 412x360 with 1 Axes>"
      ]
     },
     "metadata": {
      "needs_background": "light"
     },
     "output_type": "display_data"
    }
   ],
   "source": [
    "# Utiliza esta celda para realizar el gráfico solicitado\n",
    "sns.lmplot(data = df, x=\"balance\", y = \"income\", hue=\"default\")\n",
    "plt.axvline(df[\"balance\"].mean(), color = \"red\", ls=\"--\")\n",
    "plt.axhline(df[\"income\"].mean(), color = \"red\", ls=\"--\")"
   ]
  },
  {
   "cell_type": "markdown",
   "id": "76c19687",
   "metadata": {},
   "source": [
    "**Comentarios**: Se pueden ver que hay una mayor cantidad de personas sin deudas deudas, y tambien que la mayoria de los con deudas se encuentran sobre la media de balance, en cuanto al ingreso tienen un distribucion parecida."
   ]
  },
  {
   "cell_type": "markdown",
   "id": "a271c3a7",
   "metadata": {},
   "source": [
    "### Desafío 3: Modelación econométrica\n",
    "- Recodifique las variables `student` y `default` para que adquieran atributos numéricos."
   ]
  },
  {
   "cell_type": "code",
   "execution_count": 9,
   "id": "a7c55bfe",
   "metadata": {},
   "outputs": [],
   "source": [
    "# Utiliza esta celda para realizar las codificaciones solicitadas. Puedes usar LabelEncoder.\n",
    "df[\"default_bin\"] = np.where(df[\"default\"] == \"Yes\", 1, 0)\n",
    "df[\"student_bin\"] = np.where(df[\"student\"] == \"Yes\", 1, 0)"
   ]
  },
  {
   "cell_type": "code",
   "execution_count": 10,
   "id": "62de84e7",
   "metadata": {},
   "outputs": [
    {
     "data": {
      "text/html": [
       "<div>\n",
       "<style scoped>\n",
       "    .dataframe tbody tr th:only-of-type {\n",
       "        vertical-align: middle;\n",
       "    }\n",
       "\n",
       "    .dataframe tbody tr th {\n",
       "        vertical-align: top;\n",
       "    }\n",
       "\n",
       "    .dataframe thead th {\n",
       "        text-align: right;\n",
       "    }\n",
       "</style>\n",
       "<table border=\"1\" class=\"dataframe\">\n",
       "  <thead>\n",
       "    <tr style=\"text-align: right;\">\n",
       "      <th></th>\n",
       "      <th>default</th>\n",
       "      <th>student</th>\n",
       "      <th>balance</th>\n",
       "      <th>income</th>\n",
       "      <th>default_bin</th>\n",
       "      <th>student_bin</th>\n",
       "    </tr>\n",
       "  </thead>\n",
       "  <tbody>\n",
       "    <tr>\n",
       "      <th>0</th>\n",
       "      <td>No</td>\n",
       "      <td>No</td>\n",
       "      <td>729.526495</td>\n",
       "      <td>44361.625074</td>\n",
       "      <td>0</td>\n",
       "      <td>0</td>\n",
       "    </tr>\n",
       "    <tr>\n",
       "      <th>1</th>\n",
       "      <td>No</td>\n",
       "      <td>Yes</td>\n",
       "      <td>817.180407</td>\n",
       "      <td>12106.134700</td>\n",
       "      <td>0</td>\n",
       "      <td>1</td>\n",
       "    </tr>\n",
       "    <tr>\n",
       "      <th>2</th>\n",
       "      <td>No</td>\n",
       "      <td>No</td>\n",
       "      <td>1073.549164</td>\n",
       "      <td>31767.138947</td>\n",
       "      <td>0</td>\n",
       "      <td>0</td>\n",
       "    </tr>\n",
       "    <tr>\n",
       "      <th>3</th>\n",
       "      <td>No</td>\n",
       "      <td>No</td>\n",
       "      <td>529.250605</td>\n",
       "      <td>35704.493935</td>\n",
       "      <td>0</td>\n",
       "      <td>0</td>\n",
       "    </tr>\n",
       "    <tr>\n",
       "      <th>4</th>\n",
       "      <td>No</td>\n",
       "      <td>No</td>\n",
       "      <td>785.655883</td>\n",
       "      <td>38463.495879</td>\n",
       "      <td>0</td>\n",
       "      <td>0</td>\n",
       "    </tr>\n",
       "    <tr>\n",
       "      <th>...</th>\n",
       "      <td>...</td>\n",
       "      <td>...</td>\n",
       "      <td>...</td>\n",
       "      <td>...</td>\n",
       "      <td>...</td>\n",
       "      <td>...</td>\n",
       "    </tr>\n",
       "    <tr>\n",
       "      <th>9995</th>\n",
       "      <td>No</td>\n",
       "      <td>No</td>\n",
       "      <td>711.555020</td>\n",
       "      <td>52992.378914</td>\n",
       "      <td>0</td>\n",
       "      <td>0</td>\n",
       "    </tr>\n",
       "    <tr>\n",
       "      <th>9996</th>\n",
       "      <td>No</td>\n",
       "      <td>No</td>\n",
       "      <td>757.962918</td>\n",
       "      <td>19660.721768</td>\n",
       "      <td>0</td>\n",
       "      <td>0</td>\n",
       "    </tr>\n",
       "    <tr>\n",
       "      <th>9997</th>\n",
       "      <td>No</td>\n",
       "      <td>No</td>\n",
       "      <td>845.411989</td>\n",
       "      <td>58636.156984</td>\n",
       "      <td>0</td>\n",
       "      <td>0</td>\n",
       "    </tr>\n",
       "    <tr>\n",
       "      <th>9998</th>\n",
       "      <td>No</td>\n",
       "      <td>No</td>\n",
       "      <td>1569.009053</td>\n",
       "      <td>36669.112365</td>\n",
       "      <td>0</td>\n",
       "      <td>0</td>\n",
       "    </tr>\n",
       "    <tr>\n",
       "      <th>9999</th>\n",
       "      <td>No</td>\n",
       "      <td>Yes</td>\n",
       "      <td>200.922183</td>\n",
       "      <td>16862.952321</td>\n",
       "      <td>0</td>\n",
       "      <td>1</td>\n",
       "    </tr>\n",
       "  </tbody>\n",
       "</table>\n",
       "<p>10000 rows × 6 columns</p>\n",
       "</div>"
      ],
      "text/plain": [
       "     default student      balance        income  default_bin  student_bin\n",
       "0         No      No   729.526495  44361.625074            0            0\n",
       "1         No     Yes   817.180407  12106.134700            0            1\n",
       "2         No      No  1073.549164  31767.138947            0            0\n",
       "3         No      No   529.250605  35704.493935            0            0\n",
       "4         No      No   785.655883  38463.495879            0            0\n",
       "...      ...     ...          ...           ...          ...          ...\n",
       "9995      No      No   711.555020  52992.378914            0            0\n",
       "9996      No      No   757.962918  19660.721768            0            0\n",
       "9997      No      No   845.411989  58636.156984            0            0\n",
       "9998      No      No  1569.009053  36669.112365            0            0\n",
       "9999      No     Yes   200.922183  16862.952321            0            1\n",
       "\n",
       "[10000 rows x 6 columns]"
      ]
     },
     "execution_count": 10,
     "metadata": {},
     "output_type": "execute_result"
    }
   ],
   "source": [
    "df"
   ]
  },
  {
   "cell_type": "markdown",
   "id": "4c99d355",
   "metadata": {},
   "source": [
    "- Implemente el siguiente modelo econométrico:\n",
    "$$\n",
    "\\log\\left(\\frac{p(\\text{default}=1)}{1-p(\\text{default}=1)}\\right)_i = \\beta_0 + \\beta_{balance} \\cdot \\text{balance}_i + \\beta_{income} \\cdot \\text{income}_i + \\beta_{student} \\cdot \\text{student}_i\n",
    "$$"
   ]
  },
  {
   "cell_type": "code",
   "execution_count": 11,
   "id": "713b3baf",
   "metadata": {},
   "outputs": [
    {
     "name": "stdout",
     "output_type": "stream",
     "text": [
      "Optimization terminated successfully.\n",
      "         Current function value: 0.078577\n",
      "         Iterations 10\n"
     ]
    }
   ],
   "source": [
    "# Utiliza esta celda para entrenar el modelo solicitado\n",
    "modelo = smf.logit(\"default_bin ~ balance + income + student_bin\", df).fit()"
   ]
  },
  {
   "cell_type": "code",
   "execution_count": 12,
   "id": "80470dd9",
   "metadata": {},
   "outputs": [
    {
     "data": {
      "text/html": [
       "<table class=\"simpletable\">\n",
       "<tr>\n",
       "        <td>Model:</td>              <td>Logit</td>      <td>Pseudo R-squared:</td>    <td>0.462</td>   \n",
       "</tr>\n",
       "<tr>\n",
       "  <td>Dependent Variable:</td>    <td>default_bin</td>         <td>AIC:</td>         <td>1579.5448</td> \n",
       "</tr>\n",
       "<tr>\n",
       "         <td>Date:</td>        <td>2022-09-04 19:50</td>       <td>BIC:</td>         <td>1608.3862</td> \n",
       "</tr>\n",
       "<tr>\n",
       "   <td>No. Observations:</td>        <td>10000</td>       <td>Log-Likelihood:</td>    <td>-785.77</td>  \n",
       "</tr>\n",
       "<tr>\n",
       "       <td>Df Model:</td>              <td>3</td>            <td>LL-Null:</td>        <td>-1460.3</td>  \n",
       "</tr>\n",
       "<tr>\n",
       "     <td>Df Residuals:</td>          <td>9996</td>         <td>LLR p-value:</td>    <td>3.2575e-292</td>\n",
       "</tr>\n",
       "<tr>\n",
       "      <td>Converged:</td>           <td>1.0000</td>           <td>Scale:</td>         <td>1.0000</td>   \n",
       "</tr>\n",
       "<tr>\n",
       "    <td>No. Iterations:</td>        <td>10.0000</td>             <td></td>               <td></td>      \n",
       "</tr>\n",
       "</table>\n",
       "<table class=\"simpletable\">\n",
       "<tr>\n",
       "       <td></td>         <th>Coef.</th>  <th>Std.Err.</th>     <th>z</th>     <th>P>|z|</th>  <th>[0.025</th>  <th>0.975]</th> \n",
       "</tr>\n",
       "<tr>\n",
       "  <th>Intercept</th>   <td>-10.8690</td>  <td>0.4923</td>  <td>-22.0793</td> <td>0.0000</td> <td>-11.8339</td> <td>-9.9042</td>\n",
       "</tr>\n",
       "<tr>\n",
       "  <th>balance</th>      <td>0.0057</td>   <td>0.0002</td>   <td>24.7365</td> <td>0.0000</td>  <td>0.0053</td>  <td>0.0062</td> \n",
       "</tr>\n",
       "<tr>\n",
       "  <th>income</th>       <td>0.0000</td>   <td>0.0000</td>   <td>0.3698</td>  <td>0.7115</td>  <td>-0.0000</td> <td>0.0000</td> \n",
       "</tr>\n",
       "<tr>\n",
       "  <th>student_bin</th>  <td>-0.6468</td>  <td>0.2363</td>   <td>-2.7376</td> <td>0.0062</td>  <td>-1.1098</td> <td>-0.1837</td>\n",
       "</tr>\n",
       "</table>"
      ],
      "text/plain": [
       "<class 'statsmodels.iolib.summary2.Summary'>\n",
       "\"\"\"\n",
       "                          Results: Logit\n",
       "==================================================================\n",
       "Model:              Logit            Pseudo R-squared: 0.462      \n",
       "Dependent Variable: default_bin      AIC:              1579.5448  \n",
       "Date:               2022-09-04 19:50 BIC:              1608.3862  \n",
       "No. Observations:   10000            Log-Likelihood:   -785.77    \n",
       "Df Model:           3                LL-Null:          -1460.3    \n",
       "Df Residuals:       9996             LLR p-value:      3.2575e-292\n",
       "Converged:          1.0000           Scale:            1.0000     \n",
       "No. Iterations:     10.0000                                       \n",
       "------------------------------------------------------------------\n",
       "                 Coef.   Std.Err.    z     P>|z|   [0.025   0.975]\n",
       "------------------------------------------------------------------\n",
       "Intercept       -10.8690   0.4923 -22.0793 0.0000 -11.8339 -9.9042\n",
       "balance           0.0057   0.0002  24.7365 0.0000   0.0053  0.0062\n",
       "income            0.0000   0.0000   0.3698 0.7115  -0.0000  0.0000\n",
       "student_bin      -0.6468   0.2363  -2.7376 0.0062  -1.1098 -0.1837\n",
       "==================================================================\n",
       "\n",
       "\"\"\""
      ]
     },
     "execution_count": 12,
     "metadata": {},
     "output_type": "execute_result"
    }
   ],
   "source": [
    "modelo.summary2()"
   ]
  },
  {
   "cell_type": "markdown",
   "id": "a7afba48",
   "metadata": {},
   "source": [
    "- A partir de este modelo, depúrelo y mantenga las principales características. Ejecute de nuevo el modelo y comente brevemente sobre el comportamiento de los atributos."
   ]
  },
  {
   "cell_type": "code",
   "execution_count": 13,
   "id": "341c40fe",
   "metadata": {},
   "outputs": [
    {
     "data": {
      "text/html": [
       "<div>\n",
       "<style scoped>\n",
       "    .dataframe tbody tr th:only-of-type {\n",
       "        vertical-align: middle;\n",
       "    }\n",
       "\n",
       "    .dataframe tbody tr th {\n",
       "        vertical-align: top;\n",
       "    }\n",
       "\n",
       "    .dataframe thead th {\n",
       "        text-align: right;\n",
       "    }\n",
       "</style>\n",
       "<table border=\"1\" class=\"dataframe\">\n",
       "  <thead>\n",
       "    <tr style=\"text-align: right;\">\n",
       "      <th></th>\n",
       "      <th>Coef.</th>\n",
       "      <th>Std.Err.</th>\n",
       "      <th>z</th>\n",
       "      <th>P&gt;|z|</th>\n",
       "      <th>[0.025</th>\n",
       "      <th>0.975]</th>\n",
       "    </tr>\n",
       "  </thead>\n",
       "  <tbody>\n",
       "    <tr>\n",
       "      <th>Intercept</th>\n",
       "      <td>-10.869045</td>\n",
       "      <td>0.492273</td>\n",
       "      <td>-22.079320</td>\n",
       "      <td>4.995499e-108</td>\n",
       "      <td>-11.833882</td>\n",
       "      <td>-9.904209</td>\n",
       "    </tr>\n",
       "    <tr>\n",
       "      <th>balance</th>\n",
       "      <td>0.005737</td>\n",
       "      <td>0.000232</td>\n",
       "      <td>24.736506</td>\n",
       "      <td>4.331521e-135</td>\n",
       "      <td>0.005282</td>\n",
       "      <td>0.006191</td>\n",
       "    </tr>\n",
       "    <tr>\n",
       "      <th>student_bin</th>\n",
       "      <td>-0.646776</td>\n",
       "      <td>0.236257</td>\n",
       "      <td>-2.737595</td>\n",
       "      <td>6.189022e-03</td>\n",
       "      <td>-1.109831</td>\n",
       "      <td>-0.183721</td>\n",
       "    </tr>\n",
       "  </tbody>\n",
       "</table>\n",
       "</div>"
      ],
      "text/plain": [
       "                 Coef.  Std.Err.          z          P>|z|     [0.025  \\\n",
       "Intercept   -10.869045  0.492273 -22.079320  4.995499e-108 -11.833882   \n",
       "balance       0.005737  0.000232  24.736506  4.331521e-135   0.005282   \n",
       "student_bin  -0.646776  0.236257  -2.737595   6.189022e-03  -1.109831   \n",
       "\n",
       "               0.975]  \n",
       "Intercept   -9.904209  \n",
       "balance      0.006191  \n",
       "student_bin -0.183721  "
      ]
     },
     "execution_count": 13,
     "metadata": {},
     "output_type": "execute_result"
    }
   ],
   "source": [
    "# Utiliza esta celda para mostrar los coeficientes sifnificativos al 95% de confianza\n",
    "coefs = modelo.summary2().tables[1]\n",
    "\n",
    "coefs[coefs[\"P>|z|\"] < 0.05]"
   ]
  },
  {
   "cell_type": "code",
   "execution_count": 14,
   "id": "70d3fdad",
   "metadata": {},
   "outputs": [
    {
     "name": "stdout",
     "output_type": "stream",
     "text": [
      "Optimization terminated successfully.\n",
      "         Current function value: 0.078584\n",
      "         Iterations 10\n"
     ]
    }
   ],
   "source": [
    "# Utiliza esta celda para entrenar el modelo depurado\n",
    "modelo_depurado = smf.logit(\"default_bin ~ balance + student_bin\", df).fit()"
   ]
  },
  {
   "cell_type": "code",
   "execution_count": 15,
   "id": "6e9a0f1d",
   "metadata": {},
   "outputs": [
    {
     "data": {
      "text/html": [
       "<div>\n",
       "<style scoped>\n",
       "    .dataframe tbody tr th:only-of-type {\n",
       "        vertical-align: middle;\n",
       "    }\n",
       "\n",
       "    .dataframe tbody tr th {\n",
       "        vertical-align: top;\n",
       "    }\n",
       "\n",
       "    .dataframe thead th {\n",
       "        text-align: right;\n",
       "    }\n",
       "</style>\n",
       "<table border=\"1\" class=\"dataframe\">\n",
       "  <thead>\n",
       "    <tr style=\"text-align: right;\">\n",
       "      <th></th>\n",
       "      <th>Coef.</th>\n",
       "      <th>Std.Err.</th>\n",
       "      <th>z</th>\n",
       "      <th>P&gt;|z|</th>\n",
       "      <th>[0.025</th>\n",
       "      <th>0.975]</th>\n",
       "    </tr>\n",
       "  </thead>\n",
       "  <tbody>\n",
       "    <tr>\n",
       "      <th>balance</th>\n",
       "      <td>0.005738</td>\n",
       "      <td>0.000232</td>\n",
       "      <td>24.74847</td>\n",
       "      <td>3.220126e-135</td>\n",
       "      <td>0.005284</td>\n",
       "      <td>0.006193</td>\n",
       "    </tr>\n",
       "  </tbody>\n",
       "</table>\n",
       "</div>"
      ],
      "text/plain": [
       "            Coef.  Std.Err.         z          P>|z|    [0.025    0.975]\n",
       "balance  0.005738  0.000232  24.74847  3.220126e-135  0.005284  0.006193"
      ]
     },
     "execution_count": 15,
     "metadata": {},
     "output_type": "execute_result"
    }
   ],
   "source": [
    "# Utiliza esta celda para mostrar los coeficientes significativos que influyen positivamente en el modelo depurado\n",
    "coefs_dep = modelo_depurado.summary2().tables[1]\n",
    "\n",
    "coefs_dep[coefs_dep[\"Coef.\"] > 0] "
   ]
  },
  {
   "cell_type": "code",
   "execution_count": 16,
   "id": "f0d6431a",
   "metadata": {},
   "outputs": [
    {
     "data": {
      "text/html": [
       "<div>\n",
       "<style scoped>\n",
       "    .dataframe tbody tr th:only-of-type {\n",
       "        vertical-align: middle;\n",
       "    }\n",
       "\n",
       "    .dataframe tbody tr th {\n",
       "        vertical-align: top;\n",
       "    }\n",
       "\n",
       "    .dataframe thead th {\n",
       "        text-align: right;\n",
       "    }\n",
       "</style>\n",
       "<table border=\"1\" class=\"dataframe\">\n",
       "  <thead>\n",
       "    <tr style=\"text-align: right;\">\n",
       "      <th></th>\n",
       "      <th>Coef.</th>\n",
       "      <th>Std.Err.</th>\n",
       "      <th>z</th>\n",
       "      <th>P&gt;|z|</th>\n",
       "      <th>[0.025</th>\n",
       "      <th>0.975]</th>\n",
       "    </tr>\n",
       "  </thead>\n",
       "  <tbody>\n",
       "    <tr>\n",
       "      <th>Intercept</th>\n",
       "      <td>-10.749496</td>\n",
       "      <td>0.369209</td>\n",
       "      <td>-29.114925</td>\n",
       "      <td>2.323735e-186</td>\n",
       "      <td>-11.473132</td>\n",
       "      <td>-10.025859</td>\n",
       "    </tr>\n",
       "    <tr>\n",
       "      <th>student_bin</th>\n",
       "      <td>-0.714878</td>\n",
       "      <td>0.147522</td>\n",
       "      <td>-4.845910</td>\n",
       "      <td>1.260326e-06</td>\n",
       "      <td>-1.004015</td>\n",
       "      <td>-0.425740</td>\n",
       "    </tr>\n",
       "  </tbody>\n",
       "</table>\n",
       "</div>"
      ],
      "text/plain": [
       "                 Coef.  Std.Err.          z          P>|z|     [0.025  \\\n",
       "Intercept   -10.749496  0.369209 -29.114925  2.323735e-186 -11.473132   \n",
       "student_bin  -0.714878  0.147522  -4.845910   1.260326e-06  -1.004015   \n",
       "\n",
       "                0.975]  \n",
       "Intercept   -10.025859  \n",
       "student_bin  -0.425740  "
      ]
     },
     "execution_count": 16,
     "metadata": {},
     "output_type": "execute_result"
    }
   ],
   "source": [
    "# Utiliza esta celda para mostrar los coeficientes significativos que influyen negativamente en el modelo depurado\n",
    "coefs_dep[coefs_dep[\"Coef.\"] < 0] "
   ]
  },
  {
   "cell_type": "code",
   "execution_count": 17,
   "id": "23161ad8",
   "metadata": {},
   "outputs": [
    {
     "data": {
      "text/html": [
       "<table class=\"simpletable\">\n",
       "<tr>\n",
       "        <td>Model:</td>              <td>Logit</td>      <td>Pseudo R-squared:</td>    <td>0.462</td>   \n",
       "</tr>\n",
       "<tr>\n",
       "  <td>Dependent Variable:</td>    <td>default_bin</td>         <td>AIC:</td>         <td>1577.6816</td> \n",
       "</tr>\n",
       "<tr>\n",
       "         <td>Date:</td>        <td>2022-09-04 19:50</td>       <td>BIC:</td>         <td>1599.3126</td> \n",
       "</tr>\n",
       "<tr>\n",
       "   <td>No. Observations:</td>        <td>10000</td>       <td>Log-Likelihood:</td>    <td>-785.84</td>  \n",
       "</tr>\n",
       "<tr>\n",
       "       <td>Df Model:</td>              <td>2</td>            <td>LL-Null:</td>        <td>-1460.3</td>  \n",
       "</tr>\n",
       "<tr>\n",
       "     <td>Df Residuals:</td>          <td>9997</td>         <td>LLR p-value:</td>    <td>1.1893e-293</td>\n",
       "</tr>\n",
       "<tr>\n",
       "      <td>Converged:</td>           <td>1.0000</td>           <td>Scale:</td>         <td>1.0000</td>   \n",
       "</tr>\n",
       "<tr>\n",
       "    <td>No. Iterations:</td>        <td>10.0000</td>             <td></td>               <td></td>      \n",
       "</tr>\n",
       "</table>\n",
       "<table class=\"simpletable\">\n",
       "<tr>\n",
       "       <td></td>         <th>Coef.</th>  <th>Std.Err.</th>     <th>z</th>     <th>P>|z|</th>  <th>[0.025</th>   <th>0.975]</th> \n",
       "</tr>\n",
       "<tr>\n",
       "  <th>Intercept</th>   <td>-10.7495</td>  <td>0.3692</td>  <td>-29.1149</td> <td>0.0000</td> <td>-11.4731</td> <td>-10.0259</td>\n",
       "</tr>\n",
       "<tr>\n",
       "  <th>balance</th>      <td>0.0057</td>   <td>0.0002</td>   <td>24.7485</td> <td>0.0000</td>  <td>0.0053</td>   <td>0.0062</td> \n",
       "</tr>\n",
       "<tr>\n",
       "  <th>student_bin</th>  <td>-0.7149</td>  <td>0.1475</td>   <td>-4.8459</td> <td>0.0000</td>  <td>-1.0040</td>  <td>-0.4257</td>\n",
       "</tr>\n",
       "</table>"
      ],
      "text/plain": [
       "<class 'statsmodels.iolib.summary2.Summary'>\n",
       "\"\"\"\n",
       "                          Results: Logit\n",
       "==================================================================\n",
       "Model:              Logit            Pseudo R-squared: 0.462      \n",
       "Dependent Variable: default_bin      AIC:              1577.6816  \n",
       "Date:               2022-09-04 19:50 BIC:              1599.3126  \n",
       "No. Observations:   10000            Log-Likelihood:   -785.84    \n",
       "Df Model:           2                LL-Null:          -1460.3    \n",
       "Df Residuals:       9997             LLR p-value:      1.1893e-293\n",
       "Converged:          1.0000           Scale:            1.0000     \n",
       "No. Iterations:     10.0000                                       \n",
       "------------------------------------------------------------------\n",
       "                Coef.   Std.Err.    z     P>|z|   [0.025   0.975] \n",
       "------------------------------------------------------------------\n",
       "Intercept      -10.7495   0.3692 -29.1149 0.0000 -11.4731 -10.0259\n",
       "balance          0.0057   0.0002  24.7485 0.0000   0.0053   0.0062\n",
       "student_bin     -0.7149   0.1475  -4.8459 0.0000  -1.0040  -0.4257\n",
       "==================================================================\n",
       "\n",
       "\"\"\""
      ]
     },
     "execution_count": 17,
     "metadata": {},
     "output_type": "execute_result"
    }
   ],
   "source": [
    "modelo_depurado.summary2()"
   ]
  },
  {
   "cell_type": "markdown",
   "id": "4746edf9",
   "metadata": {},
   "source": [
    "**Comentarios**: el modelo depurado tiene un R2 igual al sin depurar, lo cual es bueno ya que se tiene una variable que considerar. Tenemos que la variable balance influye de manera positiva y la variable student_bin de manera negativa"
   ]
  },
  {
   "cell_type": "markdown",
   "id": "0c3086cb",
   "metadata": {},
   "source": [
    "### Desafío 4: Entrenar\n",
    "A partir del modelo depurado, genere un modelo _predictivo_ con las siguientes características:\n",
    "\n",
    "- Genera subconjuntos de entrenamiento y pruebas, separando el 33% de la muestra en el conjunto de pruebas"
   ]
  },
  {
   "cell_type": "code",
   "execution_count": 18,
   "id": "f8bffa9b",
   "metadata": {},
   "outputs": [],
   "source": [
    "# Utiliza esta celda para generar los subconjuntos de train y test\n",
    "X_train, X_test, y_train, y_test = train_test_split(df[[\"balance\", \"student_bin\"]], df[\"default_bin\"], test_size = .33, random_state = 11238)\n"
   ]
  },
  {
   "cell_type": "markdown",
   "id": "e2ba2585",
   "metadata": {},
   "source": [
    "- Estandarice las matrices de atributos de entrenamiento y pruebas usando `StandardScaler()` ajustado solo sobre el conjunto de entrenamiento."
   ]
  },
  {
   "cell_type": "code",
   "execution_count": 19,
   "id": "79195d8e",
   "metadata": {},
   "outputs": [],
   "source": [
    "# Utiliza esta celda para estandarizar la matriz de atributos de entrenamiento y aplicar dicha estandarización tanto en train como test\n",
    "scaler = StandardScaler().fit(X_train)"
   ]
  },
  {
   "cell_type": "code",
   "execution_count": 20,
   "id": "266d5478",
   "metadata": {},
   "outputs": [],
   "source": [
    "X_train_scaled = scaler.transform(X_train)"
   ]
  },
  {
   "cell_type": "code",
   "execution_count": 21,
   "id": "df40175f",
   "metadata": {},
   "outputs": [],
   "source": [
    "X_test_scaled = scaler.transform(X_test)"
   ]
  },
  {
   "cell_type": "markdown",
   "id": "064f8c55",
   "metadata": {},
   "source": [
    "- Implemente el modelo sin alterar los hiper parámetros."
   ]
  },
  {
   "cell_type": "code",
   "execution_count": 22,
   "id": "715ccc12",
   "metadata": {},
   "outputs": [],
   "source": [
    "# Utiliza esta celda para generar el modelo predictivo de LogisticRegression utilizando los datos de entrenamiento\n",
    "modelo_lg = LogisticRegression()"
   ]
  },
  {
   "cell_type": "code",
   "execution_count": 23,
   "id": "949e5699",
   "metadata": {},
   "outputs": [
    {
     "data": {
      "text/plain": [
       "LogisticRegression()"
      ]
     },
     "execution_count": 23,
     "metadata": {},
     "output_type": "execute_result"
    }
   ],
   "source": [
    "modelo_lg.fit(X_train_scaled, y_train)"
   ]
  },
  {
   "cell_type": "markdown",
   "id": "63ae1e4f",
   "metadata": {},
   "source": [
    "- Genere la predicción de las clases y de la probabilidad."
   ]
  },
  {
   "cell_type": "code",
   "execution_count": 24,
   "id": "a0cabbd2",
   "metadata": {},
   "outputs": [],
   "source": [
    "# Utiliza esta celda para generar y almacenar predicciones de clase y de probabilidad\n",
    "y_hat = modelo_lg.predict(X_test_scaled)"
   ]
  },
  {
   "cell_type": "code",
   "execution_count": 25,
   "id": "bc3b33a4",
   "metadata": {},
   "outputs": [],
   "source": [
    "y_hat_proba = modelo_lg.predict_proba(X_test_scaled)[:,1]"
   ]
  },
  {
   "cell_type": "markdown",
   "id": "c096e9a2",
   "metadata": {},
   "source": [
    "- Reporte las métricas de precisión, recall y f1 para ambas clases."
   ]
  },
  {
   "cell_type": "code",
   "execution_count": 26,
   "id": "9f38c098",
   "metadata": {},
   "outputs": [
    {
     "name": "stdout",
     "output_type": "stream",
     "text": [
      "              precision    recall  f1-score   support\n",
      "\n",
      "           0       0.98      1.00      0.99      3186\n",
      "           1       0.73      0.32      0.45       114\n",
      "\n",
      "    accuracy                           0.97      3300\n",
      "   macro avg       0.85      0.66      0.72      3300\n",
      "weighted avg       0.97      0.97      0.97      3300\n",
      "\n"
     ]
    }
   ],
   "source": [
    "# Utiliza esta celda para reportar las métricas solicitadas utilizando classification_report\n",
    "print(classification_report(y_test, y_hat))"
   ]
  },
  {
   "cell_type": "markdown",
   "id": "b9cd1c74",
   "metadata": {},
   "source": [
    "- Grafique la curva Receiver Operator Characteristic."
   ]
  },
  {
   "cell_type": "code",
   "execution_count": 27,
   "id": "e7246e5a",
   "metadata": {},
   "outputs": [],
   "source": [
    "# Utiliza esta celda para graficar la curva ROC\n",
    "false_positive, true_positive, threshold = roc_curve(y_test, y_hat_proba)"
   ]
  },
  {
   "cell_type": "code",
   "execution_count": 28,
   "id": "15b290a0",
   "metadata": {},
   "outputs": [
    {
     "data": {
      "text/plain": [
       "[<matplotlib.lines.Line2D at 0x22e9a881bc8>]"
      ]
     },
     "execution_count": 28,
     "metadata": {},
     "output_type": "execute_result"
    },
    {
     "data": {
      "image/png": "[encoded data removed]",
      "text/plain": [
       "<Figure size 432x288 with 1 Axes>"
      ]
     },
     "metadata": {
      "needs_background": "light"
     },
     "output_type": "display_data"
    }
   ],
   "source": [
    "plt.plot(false_positive, true_positive)\n",
    "plt.ylabel(\"Verdaderos Positivos\")\n",
    "plt.xlabel(\"Falsos Positivos\")\n",
    "plt.plot([0,1], linestyle = \"--\")"
   ]
  },
  {
   "cell_type": "code",
   "execution_count": 29,
   "id": "ba7d0997",
   "metadata": {},
   "outputs": [
    {
     "data": {
      "text/plain": [
       "0.9531971013535093"
      ]
     },
     "execution_count": 29,
     "metadata": {},
     "output_type": "execute_result"
    }
   ],
   "source": [
    "roc_auc_score(y_test, y_hat_proba)"
   ]
  },
  {
   "cell_type": "markdown",
   "id": "e49f77ee",
   "metadata": {},
   "source": [
    "- En base a los pasos, comente sobre el desempeño predictivo del modelo haciendo mención a todas las métricas calculadas y a la curva ROC."
   ]
  },
  {
   "cell_type": "markdown",
   "id": "c6c3809c",
   "metadata": {},
   "source": [
    "**Comentarios**: el modelo es bueno reconociendo los casos \"0\", pero no los \"1\", esto se puede ver con la precision, el recall y el f1-score. Esto se puede ver que hay muchos casos de caso 0 como se ve en el support(esta desbalanceada), por eso en algunas ocasiones no es \"tan\" confiable el accuracy. . Tambien tiene un 0.95 en la curva ROC, es decir, un 95% de probabilidad de acertar correctamente, pero resaltando lo anterior, es buen modelo para reconocer 0.\n",
    "Aunque todo esto, depende del objetivo del modelo, que es lo que se requiere reconocer, para saber si el modelo es realmente bueno o malo.\n"
   ]
  }
 ],
 "metadata": {
  "kernelspec": {
   "display_name": "Python 3.7.9 64-bit",
   "language": "python",
   "name": "python3"
  },
  "language_info": {
   "codemirror_mode": {
    "name": "ipython",
    "version": 3
   },
   "file_extension": ".py",
   "mimetype": "text/x-python",
   "name": "python",
   "nbconvert_exporter": "python",
   "pygments_lexer": "ipython3",
   "version": "3.7.9"
  },
  "vscode": {
   "interpreter": {
    "hash": "2dd4c0c2d30bf6610b180a8631493e6b8c6db922af395a415c6a467a4854f5a9"
   }
  }
 },
 "nbformat": 4,
 "nbformat_minor": 5
}
