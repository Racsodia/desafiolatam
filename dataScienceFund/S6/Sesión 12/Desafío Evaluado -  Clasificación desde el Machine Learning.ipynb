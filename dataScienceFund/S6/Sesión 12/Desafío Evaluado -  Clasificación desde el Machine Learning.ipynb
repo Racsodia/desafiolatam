{
 "cells": [
  {
   "cell_type": "markdown",
   "id": "ed1231f0",
   "metadata": {},
   "source": [
    "<h1 style=\"text-align: center;\">Desafío - Clasificación desde el Machine Learning</h1>\n",
    "\n",
    "- Para realizar este desafío debes haber estudiado previamente todo el material disponible correspondiente a la unidad.\n",
    "- Una vez terminado el desafío, comprime la carpeta que contiene el desarrollo de los requerimientos solicitados y sube el .zip en el LMS.\n",
    "- Desarrollo desafío: Individual.\n",
    "Para la realización del desafío necesitarás apoyarte del archivo <a href=\"https://empieza.desafiolatam.com/cohorts/2091/sections/78289/activities/119118/items/610931\">Apoyo Desafío - Clasificación desde el aprendizaje de máquinas</a>."
   ]
  },
  {
   "cell_type": "markdown",
   "id": "f8009f96",
   "metadata": {},
   "source": [
    "## Descripción\n",
    "En esta sesión trabajaremos con una base de datos sobre clientes morosos de un banco. Dentro de ésta se registran las siguientes observaciones:\n",
    "- `default`: Variable binaria. Registra si el cliente entró en morosidad o no. **(Vector objetivo)**\n",
    "- `income`: Ingreso promedio declarado por el cliente.\n",
    "- `balance`: Total de saldo en la cuenta de crédito.\n",
    "- `student`: Variable binaria. Registra si el cliente es estudiante o no"
   ]
  },
  {
   "cell_type": "markdown",
   "id": "841172ac",
   "metadata": {},
   "source": [
    "### Desafío 1: Preparación del ambiente de trabajo\n",
    "- Importe los módulos básicos para el análisis de datos\n",
    "- Importe `seaborn`.\n",
    "- Importe `statsmodels`.\n",
    "- Importe `LogisticRegression`, `train_test_split`, `StandardScaler`, `classification_report` y `roc_curve` de `sklearn`."
   ]
  },
  {
   "cell_type": "code",
   "execution_count": 1,
   "id": "8be641b2",
   "metadata": {},
   "outputs": [],
   "source": [
    "# Utiliza esta celda para importar los módulos solicitados y el set de datos"
   ]
  },
  {
   "cell_type": "markdown",
   "id": "39492cdf",
   "metadata": {},
   "source": [
    "### Desafío 2: Análisis exploratorio\n",
    "Explore las principales relaciones entre las variables. Utilizando los métodos `boxplot` y `lmplot` de `seaborn` implemente los siguientes gráficos. _**tip**_: Puede utilizar el parámetro `hue` en `lmplot` para identificar las observaciones por status.\n",
    "\n",
    "- Un `boxplot` del balance total de las cuentas, segmentado por el status de estudiante."
   ]
  },
  {
   "cell_type": "code",
   "execution_count": 2,
   "id": "31de0de7",
   "metadata": {},
   "outputs": [],
   "source": [
    "# Utiliza esta celda para realizar el gráfico solicitado"
   ]
  },
  {
   "cell_type": "markdown",
   "id": "f30e295b",
   "metadata": {},
   "source": [
    "**Comentarios**"
   ]
  },
  {
   "cell_type": "markdown",
   "id": "f609bfcb",
   "metadata": {},
   "source": [
    "- Un `boxplot` del ingreso total de cada cliente, segmentado por el status de estudiante."
   ]
  },
  {
   "cell_type": "code",
   "execution_count": 3,
   "id": "5dfe3926",
   "metadata": {},
   "outputs": [],
   "source": [
    "# Utiliza esta celda para realizar el gráfico solicitado"
   ]
  },
  {
   "cell_type": "markdown",
   "id": "b46ba104",
   "metadata": {},
   "source": [
    "**Comentarios**"
   ]
  },
  {
   "cell_type": "markdown",
   "id": "21ef67b9",
   "metadata": {},
   "source": [
    "- Un `boxplot` del balance total de las cuentas, segmentado por el status de default."
   ]
  },
  {
   "cell_type": "code",
   "execution_count": 4,
   "id": "860915ba",
   "metadata": {},
   "outputs": [],
   "source": [
    "# Utiliza esta celda para realizar el gráfico solicitado"
   ]
  },
  {
   "cell_type": "markdown",
   "id": "7b0cc61c",
   "metadata": {},
   "source": [
    "**Comentarios**"
   ]
  },
  {
   "cell_type": "markdown",
   "id": "1dac78b6",
   "metadata": {},
   "source": [
    "- Un `boxplot` del ingreso total de cada cliente, segmentado por el status de default."
   ]
  },
  {
   "cell_type": "code",
   "execution_count": 5,
   "id": "8f54ef2a",
   "metadata": {},
   "outputs": [],
   "source": [
    "# Utiliza esta celda para realizar el gráfico solicitado"
   ]
  },
  {
   "cell_type": "markdown",
   "id": "7ec78b82",
   "metadata": {},
   "source": [
    "**Comentarios**"
   ]
  },
  {
   "cell_type": "markdown",
   "id": "1cc8326b",
   "metadata": {},
   "source": [
    "- Un diagrama de dispersión entre balance e income, segmentado por el status de estudiante."
   ]
  },
  {
   "cell_type": "code",
   "execution_count": 6,
   "id": "d37b61aa",
   "metadata": {},
   "outputs": [],
   "source": [
    "# Utiliza esta celda para realizar el gráfico solicitado"
   ]
  },
  {
   "cell_type": "markdown",
   "id": "2b0a149c",
   "metadata": {},
   "source": [
    "**Comentarios**"
   ]
  },
  {
   "cell_type": "markdown",
   "id": "eb8b73ef",
   "metadata": {},
   "source": [
    "- Un diagrama de dispersión entre balance e income, segmentado por el status de default."
   ]
  },
  {
   "cell_type": "code",
   "execution_count": 7,
   "id": "4701a359",
   "metadata": {},
   "outputs": [],
   "source": [
    "# Utiliza esta celda para realizar el gráfico solicitado"
   ]
  },
  {
   "cell_type": "markdown",
   "id": "76c19687",
   "metadata": {},
   "source": [
    "**Comentarios**"
   ]
  },
  {
   "cell_type": "markdown",
   "id": "a271c3a7",
   "metadata": {},
   "source": [
    "### Desafío 3: Modelación econométrica\n",
    "- Recodifique las variables `student` y `default` para que adquieran atributos numéricos."
   ]
  },
  {
   "cell_type": "code",
   "execution_count": 8,
   "id": "a7c55bfe",
   "metadata": {},
   "outputs": [],
   "source": [
    "# Utiliza esta celda para realizar las codificaciones solicitadas. Puedes usar LabelEncoder."
   ]
  },
  {
   "cell_type": "markdown",
   "id": "4c99d355",
   "metadata": {},
   "source": [
    "- Implemente el siguiente modelo econométrico:\n",
    "$$\n",
    "\\log\\left(\\frac{p(\\text{default}=1)}{1-p(\\text{default}=1)}\\right)_i = \\beta_0 + \\beta_{balance} \\cdot \\text{balance}_i + \\beta_{income} \\cdot \\text{income}_i + \\beta_{student} \\cdot \\text{student}_i\n",
    "$$"
   ]
  },
  {
   "cell_type": "code",
   "execution_count": 9,
   "id": "713b3baf",
   "metadata": {},
   "outputs": [],
   "source": [
    "# Utiliza esta celda para entrenar el modelo solicitado"
   ]
  },
  {
   "cell_type": "markdown",
   "id": "a7afba48",
   "metadata": {},
   "source": [
    "- A partir de este modelo, depúrelo y mantenga las principales características. Ejecute de nuevo el modelo y comente brevemente sobre el comportamiento de los atributos."
   ]
  },
  {
   "cell_type": "code",
   "execution_count": 10,
   "id": "341c40fe",
   "metadata": {},
   "outputs": [],
   "source": [
    "# Utiliza esta celda para mostrar los coeficientes sifnificativos al 95% de confianza"
   ]
  },
  {
   "cell_type": "code",
   "execution_count": 11,
   "id": "70d3fdad",
   "metadata": {},
   "outputs": [],
   "source": [
    "# Utiliza esta celda para entrenar el modelo depurado"
   ]
  },
  {
   "cell_type": "code",
   "execution_count": 12,
   "id": "6e9a0f1d",
   "metadata": {},
   "outputs": [],
   "source": [
    "# Utiliza esta celda para mostrar los coeficientes significativos que influyen positivamente en el modelo depurado"
   ]
  },
  {
   "cell_type": "code",
   "execution_count": 13,
   "id": "f0d6431a",
   "metadata": {},
   "outputs": [],
   "source": [
    "# Utiliza esta celda para mostrar los coeficientes significativos que influyen negativamente en el modelo depurado"
   ]
  },
  {
   "cell_type": "markdown",
   "id": "4746edf9",
   "metadata": {},
   "source": [
    "**Comentarios**"
   ]
  },
  {
   "cell_type": "markdown",
   "id": "0c3086cb",
   "metadata": {},
   "source": [
    "### Desafío 4: Entrenar\n",
    "A partir del modelo depurado, genere un modelo _predictivo_ con las siguientes características:\n",
    "\n",
    "- Genera subconjuntos de entrenamiento y pruebas, separando el 33% de la muestra en el conjunto de pruebas"
   ]
  },
  {
   "cell_type": "code",
   "execution_count": 14,
   "id": "f8bffa9b",
   "metadata": {},
   "outputs": [],
   "source": [
    "# Utiliza esta celda para generar los subconjuntos de train y test"
   ]
  },
  {
   "cell_type": "markdown",
   "id": "e2ba2585",
   "metadata": {},
   "source": [
    "- Estandarice las matrices de atributos de entrenamiento y pruebas usando `StandardScaler()` ajustado solo sobre el conjunto de entrenamiento."
   ]
  },
  {
   "cell_type": "code",
   "execution_count": 15,
   "id": "79195d8e",
   "metadata": {},
   "outputs": [],
   "source": [
    "# Utiliza esta celda para estandarizar la matriz de atributos de entrenamiento y aplicar dicha estandarización tanto en train como test"
   ]
  },
  {
   "cell_type": "markdown",
   "id": "064f8c55",
   "metadata": {},
   "source": [
    "- Implemente el modelo sin alterar los hiper parámetros."
   ]
  },
  {
   "cell_type": "code",
   "execution_count": 16,
   "id": "715ccc12",
   "metadata": {},
   "outputs": [],
   "source": [
    "# Utiliza esta celda para generar el modelo predictivo de LogisticRegression utilizando los datos de entrenamiento"
   ]
  },
  {
   "cell_type": "markdown",
   "id": "63ae1e4f",
   "metadata": {},
   "source": [
    "- Genere la predicción de las clases y de la probabilidad."
   ]
  },
  {
   "cell_type": "code",
   "execution_count": 17,
   "id": "a0cabbd2",
   "metadata": {},
   "outputs": [],
   "source": [
    "# Utiliza esta celda para generar y almacenar predicciones de clase y de probabilidad"
   ]
  },
  {
   "cell_type": "markdown",
   "id": "c096e9a2",
   "metadata": {},
   "source": [
    "- Reporte las métricas de precisión, recall y f1 para ambas clases."
   ]
  },
  {
   "cell_type": "code",
   "execution_count": 18,
   "id": "9f38c098",
   "metadata": {},
   "outputs": [],
   "source": [
    "# Utiliza esta celda para reportar las métricas solicitadas utilizando classification_report"
   ]
  },
  {
   "cell_type": "markdown",
   "id": "b9cd1c74",
   "metadata": {},
   "source": [
    "- Grafique la curva Receiver Operator Characteristic."
   ]
  },
  {
   "cell_type": "code",
   "execution_count": 19,
   "id": "e7246e5a",
   "metadata": {},
   "outputs": [],
   "source": [
    "# Utiliza esta celda para graficar la curva ROC"
   ]
  },
  {
   "cell_type": "markdown",
   "id": "e49f77ee",
   "metadata": {},
   "source": [
    "- En base a los pasos, comente sobre el desempeño predictivo del modelo haciendo mención a todas las métricas calculadas y a la curva ROC."
   ]
  },
  {
   "cell_type": "markdown",
   "id": "c6c3809c",
   "metadata": {},
   "source": [
    "**Comentarios**"
   ]
  },
  {
   "cell_type": "code",
   "execution_count": null,
   "id": "95a17fc5",
   "metadata": {},
   "outputs": [],
   "source": []
  }
 ],
 "metadata": {
  "kernelspec": {
   "display_name": "Python 3 (ipykernel)",
   "language": "python",
   "name": "python3"
  },
  "language_info": {
   "codemirror_mode": {
    "name": "ipython",
    "version": 3
   },
   "file_extension": ".py",
   "mimetype": "text/x-python",
   "name": "python",
   "nbconvert_exporter": "python",
   "pygments_lexer": "ipython3",
   "version": "3.9.12"
  }
 },
 "nbformat": 4,
 "nbformat_minor": 5
}
