{
 "cells": [
  {
   "cell_type": "markdown",
   "id": "8429edf4",
   "metadata": {},
   "source": [
    "<h1 style=\"text-align: center;\">Desafío - Variables</h1>\n",
    "\n",
    "- Para realizar este desafío debes haber estudiado previamente todo el material disponible correspondiente a la unidad.\n",
    "- Una vez terminado el desafío, comprime la carpeta que contiene el desarrollo de los requerimientos solicitados y sube el .zip en el LMS.\n",
    "- Desarrollo del desafío: individual\n",
    "- Para la realización del desafío necesitarás apoyarte del archivo `Apoyo Desafío - Variables.zip`, disponible en la <a href=\"https://empieza.desafiolatam.com/cohorts/2108/sections/79631/activities/120916/items/617715\">plataforma</a>."
   ]
  },
  {
   "cell_type": "markdown",
   "id": "6beeff45",
   "metadata": {},
   "source": [
    "## Habilidades a evaluar\n",
    "- Hacer uso de métodos de `pandas` para segmentar columnas y filas.\n",
    "- Hacer uso de los métodos `iterrows` e `iteritems` para implementar loops en `pandas`.\n",
    "- Implementar `enumerate` en loops.\n",
    "- Conocer las principales convenciones en la visualización de resultados en histogramas, gráficos de punto y barras.\n",
    "- Generar simulaciones de la distribución normal.\n",
    "- Conocer las principales aplicaciones de las distribuciones.\n",
    "- Calcular e interpretar puntajes z."
   ]
  },
  {
   "cell_type": "markdown",
   "id": "9c782f9b",
   "metadata": {},
   "source": [
    "## Descripción\n",
    "- La empresa en la cual usted trabaja tiene como solicitud el análisis del Índice de Desarrollo Humano (IDH) de diversos países para elaborar un informe para el Ministerio de Relaciones Exteriores, a fin de poder contar con la data necesaria para poder comenzar a trabajar en relaciones diplomáticas más estrechas con diversos países. Para ello, usted queda a cargo de poder revisar la base de datos \"Quality of Government\", de la Universidad de Gotemburgo.\n",
    "\n",
    "- Las unidades de medición en esta base corresponden a **194 países**, recolectando los últimos datos de enero del 2018. Además, se le recuerda que la base de datos es un compendio de alrededor de 1900 variables, que miden las causas y consecuencias de un buen gobierno en materias económicas, salud pública, medio ambiente, salud institucional, corrupción, entre otras."
   ]
  },
  {
   "cell_type": "markdown",
   "id": "af930026",
   "metadata": {},
   "source": [
    "## Requerimientos\n",
    "A continuación, revisaremos los requerimientos y acciones que el Ministerio de RREE te pide realizar.\n",
    "\n",
    "### 1. Genere una muestra de casos (1 punto). Para ello debes considerar:\n",
    "\n",
    "- Utilice los últimos 4 dígitos de su rut como semilla pseudoaleatoria.\n",
    "- Seleccione el 50% de los casos.\n",
    "- Cada base generada debe contener los siguientes elementos:\n",
    "    - El índice de desarrollo humano (`undp_hdi`).\n",
    "    - El nombre del país (`ccodealp`).\n",
    "    - La región a la que pertenece (`ht_region`).\n",
    "    - El PIB per cápita. (`gle_cgdpc`).\n",
    "    - El total de la población (`imf_pop`).\n",
    "    \n",
    "- Si su **apellido está entre la A y la M**, escoja las siguientes variables del módulo **Educación**:\n",
    "    - `ffp_hf`: Human Flight and Brain Drain.\n",
    "    - `wef_qes`: Quality of the educational system.\n",
    "    - `wdi_expedu`: Government expenditure on education, total (% of GDP).\n",
    "    - `wdi_ners`: School enrollment, secondary (% net).\n",
    "\n",
    "- Si su **apellido está entre la N y la Z**, escoja las siguientes variables del módulo **Salud**:\n",
    "    - `wef_imort`: Infant mortality, deaths/1000 live births.\n",
    "    - `who_alc2000`: Alcohol consumption per capita (2000-).\n",
    "    - `who_tobt`: Current smoking of any tobacco product (Total).\n",
    "    - `wdi_exph`: Government expenditure on health, total (% of GDP).\n",
    "\n",
    "- Guarde esta tabla procesada en un nuevo objeto.\n",
    "- Renombre las categorías de la variable `ht_region` de números a nombres de regiones, según la siguiente recodificación:\n",
    "\n",
    "<table>\n",
    "  <tr>\n",
    "    <th>Código Región</th>\n",
    "    <th>Nombre Región</th>\n",
    "  </tr>\n",
    "  <tr>\n",
    "    <td>1</td>\n",
    "    <td>EastEurope</td>\n",
    "  </tr>\n",
    "  <tr>\n",
    "    <td>2</td>\n",
    "    <td>LatAm</td>\n",
    "  </tr>\n",
    "  <tr>\n",
    "    <td>3</td>\n",
    "    <td>NorthAfrica</td>\n",
    "  </tr>\n",
    "  <tr>\n",
    "    <td>4</td>\n",
    "    <td>SubSaharian</td>\n",
    "  </tr>\n",
    "  <tr>\n",
    "    <td>5</td>\n",
    "    <td>WesternDem</td>\n",
    "  </tr>\n",
    "  <tr>\n",
    "    <td>6</td>\n",
    "    <td>EastAsia</td>\n",
    "  </tr>\n",
    "  <tr>\n",
    "    <td>7</td>\n",
    "    <td>SouthEastAsia</td>\n",
    "  </tr>\n",
    "  <tr>\n",
    "    <td>8</td>\n",
    "    <td>SouthAsia</td>\n",
    "  </tr>\n",
    "  <tr>\n",
    "    <td>9</td>\n",
    "    <td>Pacific</td>\n",
    "  </tr>\n",
    "  <tr>\n",
    "    <td>10</td>\n",
    "    <td>Caribbean</td>\n",
    "  </tr>\n",
    "</table>"
   ]
  },
  {
   "cell_type": "code",
   "execution_count": 1,
   "id": "ac9efa66",
   "metadata": {},
   "outputs": [],
   "source": [
    "# Se utiliza esta celda para importar los módulos necesarios e instanciar el DataFrame con los datos requeridos\n",
    "import pandas as pd\n",
    "import numpy as np \n",
    "\n",
    "df = pd.read_csv('qog_std_cs_jan18.csv')\n",
    "df.head()\n",
    "my_vars = ['ffp_hf','wef_qes','wdi_expedu','wdi_ners']"
   ]
  },
  {
   "cell_type": "code",
   "execution_count": 2,
   "id": "77d2405d",
   "metadata": {},
   "outputs": [
    {
     "data": {
      "text/html": [
       "<div>\n",
       "<style scoped>\n",
       "    .dataframe tbody tr th:only-of-type {\n",
       "        vertical-align: middle;\n",
       "    }\n",
       "\n",
       "    .dataframe tbody tr th {\n",
       "        vertical-align: top;\n",
       "    }\n",
       "\n",
       "    .dataframe thead th {\n",
       "        text-align: right;\n",
       "    }\n",
       "</style>\n",
       "<table border=\"1\" class=\"dataframe\">\n",
       "  <thead>\n",
       "    <tr style=\"text-align: right;\">\n",
       "      <th></th>\n",
       "      <th>undp_hdi</th>\n",
       "      <th>ccodealp</th>\n",
       "      <th>ht_region</th>\n",
       "      <th>gle_cgdpc</th>\n",
       "      <th>imf_pop</th>\n",
       "      <th>ffp_hf</th>\n",
       "      <th>wef_qes</th>\n",
       "      <th>wdi_expedu</th>\n",
       "      <th>wdi_ners</th>\n",
       "    </tr>\n",
       "  </thead>\n",
       "  <tbody>\n",
       "    <tr>\n",
       "      <th>160</th>\n",
       "      <td>0.665</td>\n",
       "      <td>ZAF</td>\n",
       "      <td>4</td>\n",
       "      <td>8820.0596</td>\n",
       "      <td>54.146999</td>\n",
       "      <td>4.9</td>\n",
       "      <td>2.218669</td>\n",
       "      <td>6.02955</td>\n",
       "      <td>NaN</td>\n",
       "    </tr>\n",
       "    <tr>\n",
       "      <th>0</th>\n",
       "      <td>0.479</td>\n",
       "      <td>AFG</td>\n",
       "      <td>8</td>\n",
       "      <td>1282.6400</td>\n",
       "      <td>29.825001</td>\n",
       "      <td>8.1</td>\n",
       "      <td>NaN</td>\n",
       "      <td>3.78028</td>\n",
       "      <td>48.750320</td>\n",
       "    </tr>\n",
       "    <tr>\n",
       "      <th>63</th>\n",
       "      <td>0.450</td>\n",
       "      <td>GMB</td>\n",
       "      <td>4</td>\n",
       "      <td>1601.8800</td>\n",
       "      <td>NaN</td>\n",
       "      <td>7.7</td>\n",
       "      <td>4.276581</td>\n",
       "      <td>2.76771</td>\n",
       "      <td>NaN</td>\n",
       "    </tr>\n",
       "    <tr>\n",
       "      <th>188</th>\n",
       "      <td>0.794</td>\n",
       "      <td>URY</td>\n",
       "      <td>2</td>\n",
       "      <td>12804.8400</td>\n",
       "      <td>3.454000</td>\n",
       "      <td>4.4</td>\n",
       "      <td>2.903505</td>\n",
       "      <td>4.35694</td>\n",
       "      <td>76.348099</td>\n",
       "    </tr>\n",
       "    <tr>\n",
       "      <th>50</th>\n",
       "      <td>0.718</td>\n",
       "      <td>DOM</td>\n",
       "      <td>2</td>\n",
       "      <td>10376.6300</td>\n",
       "      <td>NaN</td>\n",
       "      <td>7.6</td>\n",
       "      <td>2.636395</td>\n",
       "      <td>NaN</td>\n",
       "      <td>65.457611</td>\n",
       "    </tr>\n",
       "  </tbody>\n",
       "</table>\n",
       "</div>"
      ],
      "text/plain": [
       "     undp_hdi ccodealp  ht_region   gle_cgdpc    imf_pop  ffp_hf   wef_qes  \\\n",
       "160     0.665      ZAF          4   8820.0596  54.146999     4.9  2.218669   \n",
       "0       0.479      AFG          8   1282.6400  29.825001     8.1       NaN   \n",
       "63      0.450      GMB          4   1601.8800        NaN     7.7  4.276581   \n",
       "188     0.794      URY          2  12804.8400   3.454000     4.4  2.903505   \n",
       "50      0.718      DOM          2  10376.6300        NaN     7.6  2.636395   \n",
       "\n",
       "     wdi_expedu   wdi_ners  \n",
       "160     6.02955        NaN  \n",
       "0       3.78028  48.750320  \n",
       "63      2.76771        NaN  \n",
       "188     4.35694  76.348099  \n",
       "50          NaN  65.457611  "
      ]
     },
     "execution_count": 2,
     "metadata": {},
     "output_type": "execute_result"
    }
   ],
   "source": [
    "# Se utiliza esta celda para hacer la selección de datos solicitada y almacenar en nueva variable\n",
    "\n",
    "df_sel = df.sample(frac=0.5, random_state=3515)[['undp_hdi','ccodealp','ht_region','gle_cgdpc','imf_pop'] + my_vars]\n",
    "df_sel.head()"
   ]
  },
  {
   "cell_type": "code",
   "execution_count": 3,
   "id": "0384876d",
   "metadata": {},
   "outputs": [
    {
     "data": {
      "text/plain": [
       "(97, 9)"
      ]
     },
     "execution_count": 3,
     "metadata": {},
     "output_type": "execute_result"
    }
   ],
   "source": [
    "df_sel.shape"
   ]
  },
  {
   "cell_type": "code",
   "execution_count": 7,
   "id": "c1c8db09",
   "metadata": {},
   "outputs": [
    {
     "data": {
      "text/plain": [
       "SubSaharian      30\n",
       "EastEurope       14\n",
       "LatAm            11\n",
       "WesternDem       11\n",
       "Caribbean         7\n",
       "NorthAfrica       6\n",
       "SouthEastAsia     6\n",
       "SouthAsia         5\n",
       "Pacific           4\n",
       "EastAsia          3\n",
       "Name: ht_region, dtype: int64"
      ]
     },
     "execution_count": 7,
     "metadata": {},
     "output_type": "execute_result"
    }
   ],
   "source": [
    "# Se utiliza esta celda para realizar la recodificación de las regiones\n",
    "#df['ht_region'].unique().sort() #para obtener la lista del 1 al 10\n",
    "df_sel['ht_region'] = df_sel['ht_region'].replace([1,2,3,4,5,6,7,8,9,10],['EastEurope','LatAm','NorthAfrica','SubSaharian','WesternDem','EastAsia','SouthEastAsia','SouthAsia','Pacific','Caribbean'])\n",
    "\n",
    "df_sel['ht_region'].value_counts()"
   ]
  },
  {
   "cell_type": "markdown",
   "id": "18f47eb1",
   "metadata": {},
   "source": [
    "### 2. Genere una función que ingrese su objeto y devuelva lo siguiente (2 puntos):\n",
    "- Por cada variable existente en su objeto, calcule las medidas descriptivas para los casos continuos.\n",
    "- Para cada variable discreta, que calcule la frecuencia.\n",
    "- Reporte las estadísticas descriptivas para `gle_cgdpc`, `undp_hdi`, `imf_pop`.\n"
   ]
  },
  {
   "cell_type": "code",
   "execution_count": 8,
   "id": "8eeabdd3",
   "metadata": {},
   "outputs": [],
   "source": [
    "# Se utiliza esta celda para definir la función\n",
    "#  categoricas = data[columns].describe(include=[object]); numericas = data[columns].describe(include=[np.number])\n",
    "\n",
    "def fetch_descriptives(data, columns):\n",
    "    '''\n",
    "        Función que calcula las estadísticas descriptivas de las variables categoricas y numericas.\n",
    "    '''\n",
    "    categoricas = None\n",
    "    numericas = None\n",
    "\n",
    "    try:\n",
    "        categoricas = data[columns].describe(include=object)\n",
    "    except Exception as e:\n",
    "        print(e)\n",
    "    \n",
    "    try:\n",
    "        numericas = data[columns].describe(include=[np.number])\n",
    "    except Exception as e:\n",
    "        print(e)\n",
    "\n",
    "    return categoricas, numericas"
   ]
  },
  {
   "cell_type": "code",
   "execution_count": 9,
   "id": "0042f0a1",
   "metadata": {},
   "outputs": [
    {
     "name": "stdout",
     "output_type": "stream",
     "text": [
      "No objects to concatenate\n"
     ]
    },
    {
     "data": {
      "text/html": [
       "<div>\n",
       "<style scoped>\n",
       "    .dataframe tbody tr th:only-of-type {\n",
       "        vertical-align: middle;\n",
       "    }\n",
       "\n",
       "    .dataframe tbody tr th {\n",
       "        vertical-align: top;\n",
       "    }\n",
       "\n",
       "    .dataframe thead th {\n",
       "        text-align: right;\n",
       "    }\n",
       "</style>\n",
       "<table border=\"1\" class=\"dataframe\">\n",
       "  <thead>\n",
       "    <tr style=\"text-align: right;\">\n",
       "      <th></th>\n",
       "      <th>gle_cgdpc</th>\n",
       "      <th>undp_hdi</th>\n",
       "      <th>imf_pop</th>\n",
       "    </tr>\n",
       "  </thead>\n",
       "  <tbody>\n",
       "    <tr>\n",
       "      <th>count</th>\n",
       "      <td>95.000000</td>\n",
       "      <td>96.000000</td>\n",
       "      <td>68.000000</td>\n",
       "    </tr>\n",
       "    <tr>\n",
       "      <th>mean</th>\n",
       "      <td>13761.314415</td>\n",
       "      <td>0.689354</td>\n",
       "      <td>29.215368</td>\n",
       "    </tr>\n",
       "    <tr>\n",
       "      <th>std</th>\n",
       "      <td>17029.127584</td>\n",
       "      <td>0.156218</td>\n",
       "      <td>44.425037</td>\n",
       "    </tr>\n",
       "    <tr>\n",
       "      <th>min</th>\n",
       "      <td>324.160000</td>\n",
       "      <td>0.399000</td>\n",
       "      <td>0.018000</td>\n",
       "    </tr>\n",
       "    <tr>\n",
       "      <th>25%</th>\n",
       "      <td>2198.685050</td>\n",
       "      <td>0.562000</td>\n",
       "      <td>2.610500</td>\n",
       "    </tr>\n",
       "    <tr>\n",
       "      <th>50%</th>\n",
       "      <td>7370.720200</td>\n",
       "      <td>0.718000</td>\n",
       "      <td>7.873000</td>\n",
       "    </tr>\n",
       "    <tr>\n",
       "      <th>75%</th>\n",
       "      <td>17900.525500</td>\n",
       "      <td>0.798000</td>\n",
       "      <td>37.978498</td>\n",
       "    </tr>\n",
       "    <tr>\n",
       "      <th>max</th>\n",
       "      <td>104049.440000</td>\n",
       "      <td>0.948000</td>\n",
       "      <td>186.190002</td>\n",
       "    </tr>\n",
       "  </tbody>\n",
       "</table>\n",
       "</div>"
      ],
      "text/plain": [
       "           gle_cgdpc   undp_hdi     imf_pop\n",
       "count      95.000000  96.000000   68.000000\n",
       "mean    13761.314415   0.689354   29.215368\n",
       "std     17029.127584   0.156218   44.425037\n",
       "min       324.160000   0.399000    0.018000\n",
       "25%      2198.685050   0.562000    2.610500\n",
       "50%      7370.720200   0.718000    7.873000\n",
       "75%     17900.525500   0.798000   37.978498\n",
       "max    104049.440000   0.948000  186.190002"
      ]
     },
     "execution_count": 9,
     "metadata": {},
     "output_type": "execute_result"
    }
   ],
   "source": [
    "# Se utiliza esta celda para realizar el llamado en las 3 variables solicitadas\n",
    "cat, num = fetch_descriptives(df_sel,['gle_cgdpc','undp_hdi','imf_pop'])\n",
    "num"
   ]
  },
  {
   "cell_type": "markdown",
   "id": "3c44becb",
   "metadata": {},
   "source": [
    "**Compare las estadísticas con algún compañero. ¿Ve alguna diferencia sustancial en alguna de ellas?**\n",
    "\n",
    "**Respuesta:** Se ven diferencias, sobre todo en gle_cgdpc. Sin embargo, en la visión global el comportamiento es similar considerando órdenes de magnitud."
   ]
  },
  {
   "cell_type": "markdown",
   "id": "1d9c2d4d",
   "metadata": {},
   "source": [
    "### 3. Genere una función que liste las observaciones perdidas de una variable (2 puntos)\n",
    "- La función debe contener los siguientes argumentos:\n",
    "    - `dataframe`: La función debe ingresar un objeto DataFrame.\n",
    "    - `var`: Variable a inspeccionar.\n",
    "    - `print_list`: Opción para imprimir la lista de observaciones perdidas en la variable. Debe ser `False` por defecto.\n",
    "    \n",
    "- La función debe retornar la cantidad de casos perdidos y el porcentaje correspondiente.\n",
    "- Cuando `print_list = True`, debe retornar la lista de casos.\n",
    "- Analice todas las variables y sus casos perdidos.\n",
    "- Para las 3 variables con un mayor porcentaje de casos perdidos, solicite la lista de países con ausencia de datos."
   ]
  },
  {
   "cell_type": "code",
   "execution_count": 10,
   "id": "fe70774e",
   "metadata": {},
   "outputs": [],
   "source": [
    "# Se utiliza esta celda para definir la función solicitada\n",
    "# dataframe[var].isna()\n",
    "\n",
    "def show_null_cases(dataframe,var_to_inspect,column = 'ccodealp',print_list=False):\n",
    "    null_cases = dataframe[var_to_inspect].isna()\n",
    "    count_null = null_cases.sum()\n",
    "    percent = (count_null/dataframe.shape[0]) * 100\n",
    "    casos = []\n",
    "\n",
    "    if print_list:\n",
    "        casos = dataframe[null_cases][column]\n",
    "\n",
    "    return count_null, percent, casos\n",
    "    "
   ]
  },
  {
   "cell_type": "code",
   "execution_count": 11,
   "id": "c551a216",
   "metadata": {},
   "outputs": [
    {
     "name": "stdout",
     "output_type": "stream",
     "text": [
      "La columna undp_hdi tiene 1 casos perdidos y corresponde al 1.03%\n",
      "La columna ccodealp tiene 0 casos perdidos y corresponde al 0.0%\n",
      "La columna ht_region tiene 0 casos perdidos y corresponde al 0.0%\n",
      "La columna gle_cgdpc tiene 2 casos perdidos y corresponde al 2.06%\n",
      "La columna imf_pop tiene 29 casos perdidos y corresponde al 29.9%\n",
      "La columna ffp_hf tiene 6 casos perdidos y corresponde al 6.19%\n",
      "La columna wef_qes tiene 20 casos perdidos y corresponde al 20.62%\n",
      "La columna wdi_expedu tiene 23 casos perdidos y corresponde al 23.71%\n",
      "La columna wdi_ners tiene 36 casos perdidos y corresponde al 37.11%\n"
     ]
    }
   ],
   "source": [
    "# Se utiliza esta celda para realizar el llamado para todas las variables, con print_list=False. Puede usar un loop.\n",
    "for c in df_sel.columns:\n",
    "    null_qty, null_percent, _ = show_null_cases(df_sel,c) #Se usa _ para variables que no voy a usar.\n",
    "    print(f'La columna {c} tiene {null_qty} casos perdidos y corresponde al {round(null_percent,2)}%')"
   ]
  },
  {
   "cell_type": "code",
   "execution_count": 12,
   "id": "4ef2c62a",
   "metadata": {},
   "outputs": [
    {
     "name": "stdout",
     "output_type": "stream",
     "text": [
      "Países que tienen nulo, la variable imf_pop \n",
      "63     GMB\n",
      "50     DOM\n",
      "73     HND\n",
      "19     BWA\n",
      "49     DMA\n",
      "164    SDN\n",
      "52     SLV\n",
      "139    GNB\n",
      "169    SYR\n",
      "145    KNA\n",
      "176    TUN\n",
      "97     LBR\n",
      "102    MDG\n",
      "190    VEN\n",
      "55     ERI\n",
      "118    NAM\n",
      "29     CMR\n",
      "76     IND\n",
      "26     BDI\n",
      "193    ZMB\n",
      "72     HTI\n",
      "159    SOM\n",
      "40     COG\n",
      "149    STP\n",
      "41     COD\n",
      "3      AND\n",
      "163    SSD\n",
      "69     GTM\n",
      "61     GAB\n",
      "Name: ccodealp, dtype: object\n",
      "Países que tienen nulo, la variable wdi_ners \n",
      "160    ZAF\n",
      "63     GMB\n",
      "128    FSM\n",
      "18     BIH\n",
      "154    SLE\n",
      "112    MNG\n",
      "19     BWA\n",
      "164    SDN\n",
      "139    GNB\n",
      "10     BHS\n",
      "66     KIR\n",
      "9      AUT\n",
      "105    MDV\n",
      "176    TUN\n",
      "97     LBR\n",
      "155    SGP\n",
      "118    NAM\n",
      "6      AZE\n",
      "172    TGO\n",
      "174    TTO\n",
      "46     CZE\n",
      "2      DZA\n",
      "193    ZMB\n",
      "72     HTI\n",
      "159    SOM\n",
      "180    UGA\n",
      "40     COG\n",
      "41     COD\n",
      "3      AND\n",
      "143    RUS\n",
      "163    SSD\n",
      "126    NGA\n",
      "13     ARM\n",
      "61     GAB\n",
      "64     DEU\n",
      "185    TZA\n",
      "Name: ccodealp, dtype: object\n",
      "Países que tienen nulo, la variable wdi_expedu \n",
      "50     DOM\n",
      "18     BIH\n",
      "189    UZB\n",
      "19     BWA\n",
      "183    EGY\n",
      "49     DMA\n",
      "164    SDN\n",
      "169    SYR\n",
      "10     BHS\n",
      "66     KIR\n",
      "190    VEN\n",
      "55     ERI\n",
      "118    NAM\n",
      "174    TTO\n",
      "136    PHL\n",
      "2      DZA\n",
      "193    ZMB\n",
      "72     HTI\n",
      "159    SOM\n",
      "40     COG\n",
      "130    PLW\n",
      "126    NGA\n",
      "173    TON\n",
      "Name: ccodealp, dtype: object\n"
     ]
    }
   ],
   "source": [
    "# Se utiliza esta celda para realizar el llamado para las 3 variables con más datos perdidos, mostrando la lista de países con ausencia de datos\n",
    "\n",
    "for v in ['imf_pop','wdi_ners','wdi_expedu']:\n",
    "    _,_,cases = show_null_cases(df_sel,v,'ccodealp',True)\n",
    "    print(f'Países que tienen nulo, la variable {v} ')\n",
    "    print(cases)"
   ]
  },
  {
   "cell_type": "markdown",
   "id": "b565747c",
   "metadata": {},
   "source": [
    "### 4. Grafique histogramas indicando medias muestral y total (2 puntos)\n",
    "- Genere una nueva función que grafique un histograma de una variable entregada para un `DataFrame` de muestra. El gráfico debe además señalar las medias de la variable entregada, tanto para el `DataFrame` de muestra entregado, como para el `DataFrame` completo correspondiente.\n",
    "- La función debe incluir los siguientes argumentos:\n",
    "    - `sample_df`: La base de datos donde se encuentran los datos específicos (muestra).\n",
    "    - `full_df`: La base de datos donde se encuentran todos los datos (contiene los datos de la muestra).\n",
    "    - `var`: La variable a graficar.\n",
    "    - `sample_mean`: Booleano. Si es verdadero, debe generar una recta vertical indicando la media de la variable en la selección muestral (sample_df). Por defecto debe ser False.\n",
    "    - `true_mean`: Booleano. Si es verdadero, debe generar una recta vertical indicando la media de variable en la base de datos completa (full_df).\n",
    "- Realice el llamado a la función para las 4 variables seleccionadas según su grupo."
   ]
  },
  {
   "cell_type": "code",
   "execution_count": 13,
   "id": "8ab40bb6",
   "metadata": {},
   "outputs": [],
   "source": [
    "# Se utiliza esta celda para definir la función\n",
    "import matplotlib.pyplot as plt\n",
    "\n",
    "def plot_hist(sample_df,full_df,var,sample_mean:False,true_mean:False):\n",
    "    plt.hist(sample_df[var])\n",
    "    plt.title(var)\n",
    "\n",
    "    if sample_mean:\n",
    "        plt.axvline(sample_df[var].mean(), color='red',label='Promedio muestra')\n",
    "    if true_mean:\n",
    "        plt.axvline(full_df[var].mean(),color='blue',label='Promedio todos los datos')\n",
    "\n",
    "    plt.legend()"
   ]
  },
  {
   "cell_type": "code",
   "execution_count": 14,
   "id": "db728ada",
   "metadata": {},
   "outputs": [
    {
     "data": {
      "image/png": "[encoded data removed]",
      "text/plain": [
       "<Figure size 432x288 with 1 Axes>"
      ]
     },
     "metadata": {
      "needs_background": "light"
     },
     "output_type": "display_data"
    }
   ],
   "source": [
    "# Se utiliza esta celda para realizar el llamado para la primera variable\n",
    "plot_hist(df_sel, df, my_vars[0],True,True)"
   ]
  },
  {
   "cell_type": "code",
   "execution_count": 15,
   "id": "4b6b83e5",
   "metadata": {},
   "outputs": [
    {
     "data": {
      "image/png": "[encoded data removed]",
      "text/plain": [
       "<Figure size 432x288 with 1 Axes>"
      ]
     },
     "metadata": {
      "needs_background": "light"
     },
     "output_type": "display_data"
    }
   ],
   "source": [
    "# Se utiliza esta celda para realizar el llamado para la segunda variable\n",
    "plot_hist(df_sel, df, my_vars[1],True,True)"
   ]
  },
  {
   "cell_type": "code",
   "execution_count": 16,
   "id": "550f7276",
   "metadata": {},
   "outputs": [
    {
     "data": {
      "image/png": "[encoded data removed]",
      "text/plain": [
       "<Figure size 432x288 with 1 Axes>"
      ]
     },
     "metadata": {
      "needs_background": "light"
     },
     "output_type": "display_data"
    }
   ],
   "source": [
    "# Se utiliza esta celda para realizar el llamado para la tercera variable\n",
    "plot_hist(df_sel, df, my_vars[2],True,True)"
   ]
  },
  {
   "cell_type": "code",
   "execution_count": 17,
   "id": "490628fd",
   "metadata": {},
   "outputs": [
    {
     "data": {
      "image/png": "[encoded data removed]",
      "text/plain": [
       "<Figure size 432x288 with 1 Axes>"
      ]
     },
     "metadata": {
      "needs_background": "light"
     },
     "output_type": "display_data"
    }
   ],
   "source": [
    "# Se utiliza esta celda para realizar el llamado para la cuarta variable\n",
    "plot_hist(df_sel, df, my_vars[3],True,True)"
   ]
  },
  {
   "cell_type": "markdown",
   "id": "fb0e23a7",
   "metadata": {},
   "source": [
    "**¿En qué variables la media de la muestra es mayor a la de los datos completos?**\n",
    "\n",
    "**Respuesta:** 'ffp_hf'"
   ]
  },
  {
   "cell_type": "markdown",
   "id": "b807d793",
   "metadata": {},
   "source": [
    "### 5. Genere una función que devuelva un dotplot con las medias por región para una variable entregada (2 puntos)\n",
    "- Cada \"punto\" del `dotplot` debe representar la media, o mediana, de una variable, para una región específica.\n",
    "- La función debe contener los siguientes parámetros:\n",
    "    - `dataframe`: La tabla de datos donde buscar las variables.\n",
    "    - `plot_var`: Corresponde a una columna del dataframe entregado, de la cual se desea obtener la métrica (puede ser media o mediana).\n",
    "    - `plot_by`: Corresponde a otra columna del dataframe entregado. Es la columna por la cual se quiere agrupar el dataframe, para acceder luego a la columna entregada en plot_var. _**Tip**_: Revise el uso del método `groupby` de `pandas`.\n",
    "    - `statistic`: Debe presentar dos opciones; \"mean\" para la media y \"median\" para la mediana. Por defecto debe ser \"mean\".\n",
    "    - `global_stat`: Booleano. Si es True, debe graficar la media (o mediana, según lo indicado en statistic) de la variable plot_var entregada, sin agrupar (para todos los datos entregados en dataframe). Por defecto debe ser `False`.\n",
    "\n",
    "- Utilice la función en las 3 variables con una menor cantidad de datos perdidos."
   ]
  },
  {
   "cell_type": "code",
   "execution_count": 18,
   "id": "fd5ddabd",
   "metadata": {},
   "outputs": [],
   "source": [
    "# Se utiliza esta celda para definir la función\n",
    "\n",
    "def dot_plot(dataframe, plot_var,plot_by, statistic = 'mean', global_stat = False):\n",
    "    agrupacion = dataframe.groupby(plot_by)[plot_var]\n",
    "    valores_grafico = []\n",
    "\n",
    "    if statistic == 'mean':\n",
    "        valores_grafico = agrupacion.mean()\n",
    "    elif statistic == 'median':\n",
    "        valores_grafico = agrupacion.median()\n",
    "\n",
    "    plt.plot(valores_grafico,valores_grafico.index,\"o\")\n",
    "\n",
    "    if global_stat and statistic == 'mean':\n",
    "        plt.axvline(dataframe[plot_var].mean(), label='Promedio general')\n",
    "    elif global_stat and statistic == 'median':\n",
    "        plt.axvline(dataframe[plot_var].median(), label='Mediana general')"
   ]
  },
  {
   "cell_type": "code",
   "execution_count": 19,
   "id": "ddb7ff58",
   "metadata": {},
   "outputs": [
    {
     "data": {
      "image/png": "[encoded data removed]",
      "text/plain": [
       "<Figure size 432x288 with 1 Axes>"
      ]
     },
     "metadata": {
      "needs_background": "light"
     },
     "output_type": "display_data"
    }
   ],
   "source": [
    "# Se utiliza esta celda para realizar el llamado para la primera variable\n",
    "dot_plot(df_sel,'undp_hdi','ht_region',statistic='mean',global_stat=True)"
   ]
  },
  {
   "cell_type": "code",
   "execution_count": 20,
   "id": "a2586f89",
   "metadata": {},
   "outputs": [
    {
     "data": {
      "image/png": "[encoded data removed]",
      "text/plain": [
       "<Figure size 432x288 with 1 Axes>"
      ]
     },
     "metadata": {
      "needs_background": "light"
     },
     "output_type": "display_data"
    }
   ],
   "source": [
    "# Se utiliza esta celda para realizar el llamado para la segunda variable\n",
    "dot_plot(df_sel,'gle_cgdpc','ht_region',statistic='mean',global_stat=True)"
   ]
  },
  {
   "cell_type": "code",
   "execution_count": 21,
   "id": "a43e2ee4",
   "metadata": {},
   "outputs": [
    {
     "data": {
      "image/png": "[encoded data removed]",
      "text/plain": [
       "<Figure size 432x288 with 1 Axes>"
      ]
     },
     "metadata": {
      "needs_background": "light"
     },
     "output_type": "display_data"
    }
   ],
   "source": [
    "# Se utiliza esta celda para realizar el llamado para la tercera variable\n",
    "dot_plot(df_sel,'ffp_hf','ht_region',statistic='mean',global_stat=True)"
   ]
  },
  {
   "cell_type": "markdown",
   "id": "a74ee436",
   "metadata": {},
   "source": [
    "### 6. Guarde la base de datos (1 punto)\n",
    "- La submuestra creada tiene un método llamado `to_csv()`. Acceda a éste y guarde la base de datos con la siguiente nomenclatura:\n",
    "    - `subsample_<iniciales>_demo.csv`\n",
    "\n",
    "- Subir el archivo generado a la plataforma, junto al desafío"
   ]
  },
  {
   "cell_type": "code",
   "execution_count": 81,
   "id": "4eba535b",
   "metadata": {},
   "outputs": [
    {
     "data": {
      "text/plain": [
       "\" file = open('subsample_oa_demo.csv', 'w')\\nfile.write(df_sel.to_csv())\\nfile.close \""
      ]
     },
     "execution_count": 81,
     "metadata": {},
     "output_type": "execute_result"
    }
   ],
   "source": [
    "# Se utiliza esta celda para realizar el guardado del dataframe\n",
    "df_sel.to_csv('subsample_OA_demo.csv',index=False)\n",
    "\n",
    "\"\"\" file = open('subsample_oa_demo.csv', 'w')\n",
    "file.write(df_sel.to_csv())\n",
    "file.close \"\"\""
   ]
  },
  {
   "cell_type": "code",
   "execution_count": null,
   "id": "6fc9091b",
   "metadata": {},
   "outputs": [],
   "source": []
  }
 ],
 "metadata": {
  "kernelspec": {
   "display_name": "Python 3.9.12 ('base')",
   "language": "python",
   "name": "python3"
  },
  "language_info": {
   "codemirror_mode": {
    "name": "ipython",
    "version": 3
   },
   "file_extension": ".py",
   "mimetype": "text/x-python",
   "name": "python",
   "nbconvert_exporter": "python",
   "pygments_lexer": "ipython3",
   "version": "3.9.12"
  },
  "vscode": {
   "interpreter": {
    "hash": "8c36b02c8e638dd02579157a992cf8c1e39377e4b1159ea46021ea15210cf677"
   }
  }
 },
 "nbformat": 4,
 "nbformat_minor": 5
}
