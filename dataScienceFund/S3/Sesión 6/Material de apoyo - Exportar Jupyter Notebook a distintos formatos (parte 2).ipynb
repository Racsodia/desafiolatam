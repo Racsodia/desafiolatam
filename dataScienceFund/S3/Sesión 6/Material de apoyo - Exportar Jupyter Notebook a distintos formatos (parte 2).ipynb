{
 "cells": [
  {
   "cell_type": "markdown",
   "id": "6a9aa158",
   "metadata": {
    "slideshow": {
     "slide_type": "skip"
    }
   },
   "source": [
    "# Otros formatos para exportar\n",
    "\n",
    "## .py\n",
    "\n",
    "- Genera un archivo `.py` donde todo lo que corresponda a 'markdown' quedará comentado"
   ]
  },
  {
   "cell_type": "code",
   "execution_count": 1,
   "id": "2b14c118",
   "metadata": {
    "slideshow": {
     "slide_type": "skip"
    }
   },
   "outputs": [
    {
     "name": "stdout",
     "output_type": "stream",
     "text": [
      "  nombre  edad\n",
      "0   Juan    20\n",
      "1  Pedro    25\n",
      "2  María    23\n"
     ]
    }
   ],
   "source": [
    "# Celda de código de python\n",
    "import pandas as pd\n",
    "\n",
    "df = pd.DataFrame([\n",
    "    { \"nombre\": \"Juan\", \"edad\": 20 },\n",
    "    { \"nombre\": \"Pedro\", \"edad\": 25 },\n",
    "    { \"nombre\": \"María\", \"edad\": 23 }\n",
    "])\n",
    "\n",
    "print(df)"
   ]
  },
  {
   "cell_type": "markdown",
   "id": "b53527af",
   "metadata": {
    "slideshow": {
     "slide_type": "skip"
    }
   },
   "source": [
    "Código generado al exportar este notebook con las 2 celdas anteriores:\n",
    "\n",
    "```python\n",
    "#!/usr/bin/env python\n",
    "# coding: utf-8\n",
    "\n",
    "# # Otros formatos para exportar\n",
    "# \n",
    "# ## .py\n",
    "# \n",
    "# - Genera un archivo `.py` donde todo lo que corresponda a 'markdown' quedará comentado\n",
    "\n",
    "# In[1]:\n",
    "\n",
    "\n",
    "# Celda de código de python\n",
    "import pandas as pd\n",
    "\n",
    "df = pd.DataFrame([\n",
    "    { \"nombre\": \"Juan\", \"edad\": 20 },\n",
    "    { \"nombre\": \"Pedro\", \"edad\": 25 },\n",
    "    { \"nombre\": \"María\", \"edad\": 23 }\n",
    "])\n",
    "\n",
    "print(df)\n",
    "\n",
    "\n",
    "# In[ ]:\n",
    "```"
   ]
  },
  {
   "cell_type": "markdown",
   "id": "95b1d277",
   "metadata": {
    "slideshow": {
     "slide_type": "slide"
    }
   },
   "source": [
    "## .slides.html\n",
    "- Se debe ir a la opcien `View` -> `Cell Toolbar` -> `Slideshow`\n",
    "- En cada celda aparecerá un selector \"Slide Type\" en la esquina superior derecha\n",
    "- Para cada celda se debe escoger el tipo de slide\n",
    "- El archivo generado, en formato .html, se puede abrir en el navegador web"
   ]
  },
  {
   "cell_type": "markdown",
   "id": "48f789f7",
   "metadata": {},
   "source": [
    "### En blanco\n",
    "\n",
    "Se añade dentro de la celda anterior"
   ]
  },
  {
   "cell_type": "markdown",
   "id": "dc10a77e",
   "metadata": {
    "slideshow": {
     "slide_type": "-"
    }
   },
   "source": [
    "### -\n",
    "\n",
    "Mismo efecto que dejar en blanco"
   ]
  },
  {
   "cell_type": "markdown",
   "id": "698a747e",
   "metadata": {
    "slideshow": {
     "slide_type": "slide"
    }
   },
   "source": [
    "### Slide\n",
    "\n",
    "Generará una diapositiva nueva completa que incluye el contenido de esta celda"
   ]
  },
  {
   "cell_type": "markdown",
   "id": "35f456bf",
   "metadata": {
    "slideshow": {
     "slide_type": "subslide"
    }
   },
   "source": [
    "### Sub slide\n",
    "\n",
    "Generará una diapositiva dentro de la anterior, se accede con la tecla de espacio o la flecha hacia abajo"
   ]
  },
  {
   "cell_type": "markdown",
   "id": "6ca7a436",
   "metadata": {
    "slideshow": {
     "slide_type": "fragment"
    }
   },
   "source": [
    "### Fragment\n",
    "\n",
    "Esta celda se añadirá a la slide anterior, ya que es un fragmento. Aparece luego de apretar la tecla de espacio."
   ]
  },
  {
   "cell_type": "markdown",
   "id": "80c171d8",
   "metadata": {
    "slideshow": {
     "slide_type": "skip"
    }
   },
   "source": [
    "### Skip\n",
    "\n",
    "Esta celda no será incluída en la presentación, ya que se ha \"saltado\" con \"skip\""
   ]
  },
  {
   "cell_type": "code",
   "execution_count": 3,
   "id": "f3915466",
   "metadata": {
    "slideshow": {
     "slide_type": "slide"
    }
   },
   "outputs": [
    {
     "data": {
      "text/html": [
       "<div>\n",
       "<style scoped>\n",
       "    .dataframe tbody tr th:only-of-type {\n",
       "        vertical-align: middle;\n",
       "    }\n",
       "\n",
       "    .dataframe tbody tr th {\n",
       "        vertical-align: top;\n",
       "    }\n",
       "\n",
       "    .dataframe thead th {\n",
       "        text-align: right;\n",
       "    }\n",
       "</style>\n",
       "<table border=\"1\" class=\"dataframe\">\n",
       "  <thead>\n",
       "    <tr style=\"text-align: right;\">\n",
       "      <th></th>\n",
       "      <th>nombre</th>\n",
       "      <th>edad</th>\n",
       "    </tr>\n",
       "  </thead>\n",
       "  <tbody>\n",
       "    <tr>\n",
       "      <th>0</th>\n",
       "      <td>Juan</td>\n",
       "      <td>20</td>\n",
       "    </tr>\n",
       "    <tr>\n",
       "      <th>1</th>\n",
       "      <td>Pedro</td>\n",
       "      <td>25</td>\n",
       "    </tr>\n",
       "    <tr>\n",
       "      <th>2</th>\n",
       "      <td>María</td>\n",
       "      <td>23</td>\n",
       "    </tr>\n",
       "  </tbody>\n",
       "</table>\n",
       "</div>"
      ],
      "text/plain": [
       "  nombre  edad\n",
       "0   Juan    20\n",
       "1  Pedro    25\n",
       "2  María    23"
      ]
     },
     "execution_count": 3,
     "metadata": {},
     "output_type": "execute_result"
    }
   ],
   "source": [
    "# Esta celda de código también se ve al exportar\n",
    "df"
   ]
  },
  {
   "cell_type": "markdown",
   "id": "e6f4fc86",
   "metadata": {
    "slideshow": {
     "slide_type": "-"
    }
   },
   "source": [
    "Para que al exportar no se generen las celdas de código se debe usar `nbconvert`\n",
    "\n",
    "```bash\n",
    "jupyter nbconvert --to slides --no-input nombre_archivo.ipynb\n",
    "```\n",
    "\n",
    "Recordar guardar el notebook antes de exportar, y que se puede ejecutar en una celda de código de jupyter notebook anteponiendo `!`"
   ]
  }
 ],
 "metadata": {
  "celltoolbar": "Slideshow",
  "kernelspec": {
   "display_name": "Python 3 (ipykernel)",
   "language": "python",
   "name": "python3"
  },
  "language_info": {
   "codemirror_mode": {
    "name": "ipython",
    "version": 3
   },
   "file_extension": ".py",
   "mimetype": "text/x-python",
   "name": "python",
   "nbconvert_exporter": "python",
   "pygments_lexer": "ipython3",
   "version": "3.9.12"
  }
 },
 "nbformat": 4,
 "nbformat_minor": 5
}
