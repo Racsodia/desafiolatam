{
 "cells": [
  {
   "cell_type": "markdown",
   "id": "d2dcf780",
   "metadata": {},
   "source": [
    "<h1 style=\"text-align: center;\">Desafío - Estimando curvas de densidad de probabilidad</h1>\n",
    "\n",
    "- Para realizar este desafío debes haber estudiado previamente todo el material disponible correspondiente a la unidad.\n",
    "- Una vez terminado el desafío, comprime la carpeta que contiene el desarrollo de los requerimientos solicitados y sube el .zip en el LMS.\n",
    "- Desarrollo desafío:\n",
    "    - El desafío se debe desarrollar de manera Individual."
   ]
  },
  {
   "cell_type": "markdown",
   "id": "70cb2332",
   "metadata": {},
   "source": [
    "## Habilidades a evaluar\n",
    "- Conocer las convenciones y principios rectores de la visualización de gráficos.\n",
    "- Describir la Ley de los Grandes Números y Teorema del Límite Central y su importancia en la inferencia estadística."
   ]
  },
  {
   "cell_type": "markdown",
   "id": "5ab6ddcd",
   "metadata": {},
   "source": [
    "## Descripción\n",
    "La empresa en la cual usted trabaja quedó muy satisfecha con su análisis anterior del Índice de Desarrollo Humano (IDH) de diversos países, el cual se elaboró para el Ministerio de\n",
    "Relaciones Exteriores a fin de poder contar con la data necesaria para poder comenzar a trabajar en relaciones diplomáticas más estrechas con diversos países. Por consiguiente, esta vez le solicitan que, a partir del trabajo hecho en el Desafío precedente, usted pueda seguir profundizando en la base de datos Quality of Government, de la Universidad de Gotemburgo."
   ]
  },
  {
   "cell_type": "markdown",
   "id": "ca26f87f",
   "metadata": {},
   "source": [
    "## Requerimientos\n",
    "A continuación, revisaremos los requerimientos y acciones que el Ministerio de RREE te pide realizar.\n",
    "\n",
    "### 1. Importar un csv (2 puntos): Importe el set de datos creados por usted al final de la sesión pasada"
   ]
  },
  {
   "cell_type": "code",
   "execution_count": 1,
   "id": "c187964d",
   "metadata": {},
   "outputs": [],
   "source": [
    "# Utiliza esta celda para importar módulos y el set de datos"
   ]
  },
  {
   "cell_type": "markdown",
   "id": "ed809f9c",
   "metadata": {},
   "source": [
    "### 2. Importar su conjunto de funciones (2 puntos). Para ello deberás:\n",
    "- Generar un archivo `ancilliary_funcs.py` para guardar las funciones creadas en la sesión pasada e importe.\n",
    "- Utilizar las funciones creadas para inspeccionar la cantidad de casos perdidos de la muestra importada."
   ]
  },
  {
   "cell_type": "code",
   "execution_count": 2,
   "id": "1464fbdf",
   "metadata": {},
   "outputs": [],
   "source": [
    "# Utiliza esta celda para importar ancilliary_funcs. Recordar que el archivo debe estar en la misma ruta del notebook, y no se debe incluir el .py"
   ]
  },
  {
   "cell_type": "code",
   "execution_count": 3,
   "id": "de9d082b",
   "metadata": {},
   "outputs": [],
   "source": [
    "# Utiliza esta celda para inspeccionar los datos nulos"
   ]
  },
  {
   "cell_type": "markdown",
   "id": "b555ce1d",
   "metadata": {},
   "source": [
    "### 3. Estimar el puntaje Z de una variable (2 puntos): Se debe utilizar la que posea la menor cantidad de datos perdidos (o que no posea).\n",
    "- Generar una nueva columna en la tabla de datos que contenga el puntaje Z de dicha variable. Recuerde que para calcular el puntaje z de una observación se utiliza la fórmula:\n",
    "$$\n",
    "\\begin{align}\n",
    "z_i = (x_i - \\bar X / \\sigma)\n",
    "\\end{align}\n",
    "$$\n",
    "\n",
    "- Para ordenar los valores pueden utilizar la función `sort_values` del DataFrame analizado. Lean la documentación asociada al parámetro `by`.\n",
    "- Asegúrense de eliminar las observaciones que tengan valores perdidos con `dropna`. Lean la documentación asociada al argumento `subset`.\n",
    "- Seleccionen las primeras y últimas 10 observaciones de la base reordenada."
   ]
  },
  {
   "cell_type": "code",
   "execution_count": 4,
   "id": "5188b818",
   "metadata": {},
   "outputs": [],
   "source": [
    "# Utiliza esta celda para generar el puntaje z, ordenar los valores con sort_values, y eliminar los datos nulos con dropna"
   ]
  },
  {
   "cell_type": "code",
   "execution_count": null,
   "id": "6ef24e09",
   "metadata": {},
   "outputs": [],
   "source": [
    "# Utiliza esta celda para seleccionar y mostrar las primeras 10 observaciones"
   ]
  },
  {
   "cell_type": "code",
   "execution_count": null,
   "id": "6f473b7c",
   "metadata": {},
   "outputs": [],
   "source": [
    "# Utiliza esta celda para seleccionar y mostrar las últimas 10 observaciones"
   ]
  },
  {
   "cell_type": "markdown",
   "id": "53484376",
   "metadata": {},
   "source": [
    "**¿Qué características en común se encuentran?**\n",
    "\n",
    "**Respuesta:**"
   ]
  },
  {
   "cell_type": "markdown",
   "id": "24d904a4",
   "metadata": {},
   "source": [
    "### 4. Estimar el puntaje z de las regiones (2 puntos). \n",
    "Utilizando el resultado anterior, visualice su nueva variable estandarizada (es decir, luego de calcular el puntaje Z).\n",
    "- Para ello realice un `dotplot` que muestre el valor promedio de su variable por cada región.\n",
    "- Agregue además una línea que muestre el promedio total de la variable (es decir, antes de agrupar)"
   ]
  },
  {
   "cell_type": "code",
   "execution_count": 5,
   "id": "1c7e5335",
   "metadata": {},
   "outputs": [],
   "source": [
    "# Utiliza esta celda para realizar el gráfico solicitado"
   ]
  },
  {
   "cell_type": "markdown",
   "id": "43d51f2e",
   "metadata": {},
   "source": [
    "**Comentarios de los resultados**"
   ]
  },
  {
   "cell_type": "markdown",
   "id": "79efafe4",
   "metadata": {},
   "source": [
    "### 5. Generar curvas de Densidad de Probabilidad (2 puntos).\n",
    "- Cree una función que permita visualizar las curvas de Densidad de Probabilidad para las variables `imf_pop`, `gle_cgdpc` y `wdi_exph`.\n",
    "- La función debe contener como argumentos:\n",
    "    - `df`: Tabla de datos.\n",
    "    - `variable`: Variable a contrastar."
   ]
  },
  {
   "cell_type": "code",
   "execution_count": 6,
   "id": "453a9d13",
   "metadata": {},
   "outputs": [],
   "source": [
    "# Utiliza esta celda para definir la función solicitada"
   ]
  },
  {
   "cell_type": "code",
   "execution_count": 7,
   "id": "c632b106",
   "metadata": {},
   "outputs": [],
   "source": [
    "# Utiliza esta celda para llamar la función para imf_pop"
   ]
  },
  {
   "cell_type": "code",
   "execution_count": null,
   "id": "110a73c9",
   "metadata": {},
   "outputs": [],
   "source": [
    "# Utiliza esta celda para llamar la función para gle_cgdpc"
   ]
  },
  {
   "cell_type": "code",
   "execution_count": 8,
   "id": "8cc23825",
   "metadata": {},
   "outputs": [],
   "source": [
    "# Utiliza esta celda para llamar la función para wdi_exph"
   ]
  },
  {
   "cell_type": "markdown",
   "id": "b82cb665",
   "metadata": {},
   "source": [
    "**Comentarios de los resultados**"
   ]
  },
  {
   "cell_type": "code",
   "execution_count": null,
   "id": "dbea85de",
   "metadata": {},
   "outputs": [],
   "source": []
  }
 ],
 "metadata": {
  "kernelspec": {
   "display_name": "Python 3 (ipykernel)",
   "language": "python",
   "name": "python3"
  },
  "language_info": {
   "codemirror_mode": {
    "name": "ipython",
    "version": 3
   },
   "file_extension": ".py",
   "mimetype": "text/x-python",
   "name": "python",
   "nbconvert_exporter": "python",
   "pygments_lexer": "ipython3",
   "version": "3.9.12"
  }
 },
 "nbformat": 4,
 "nbformat_minor": 5
}
