{
 "cells": [
  {
   "cell_type": "markdown",
   "id": "11411f67",
   "metadata": {},
   "source": [
    "<h1 style=\"text-align: center;\">Desafío - Regresión desde la econometría</h1>\n",
    "\n",
    "- Para realizar este desafío debes haber estudiado previamente todo el material disponible correspondiente a la unidad.\n",
    "- Una vez terminado el desafío, comprime la carpeta que contiene el desarrollo de los requerimientos solicitados y sube el .zip en el LMS.\n",
    "- Desarrollo del desafío: individual\n",
    "- Para la realización del desafío necesitarás apoyarte del archivo `Apoyo Desafío - Regresión desde la econometría`, disponible en la <a href=\"https://empieza.desafiolatam.com/cohorts/2091/sections/78283/activities/119111/items/610886\">plataforma</a>."
   ]
  },
  {
   "cell_type": "markdown",
   "id": "f3bc4328",
   "metadata": {},
   "source": [
    "## Habilidades a evaluar\n",
    "- Reconocer la terminología asociada a la modelación estadística.\n",
    "- Identificar la regresión lineal y sus fundamentos.\n",
    "- Interpretar los parámetros estimados en la regresión.\n",
    "- Interpretar inicialmente estadísticas de bondad de ajuste y coeficientes.\n",
    "- Reconocer los supuestos en los que la regresión tiene sustento teórico.\n",
    "- Implementar un modelo de regresión con `statsmodels`."
   ]
  },
  {
   "cell_type": "markdown",
   "id": "5230d757",
   "metadata": {},
   "source": [
    "## Descripción\n",
    "En la empresa en la cual te encuentras contratado, te solicitan trabajar con un registro de clientes de un banco e información sobre su salud financiera. La base contenida en el csv `Credit` abarca las siguientes variables:\n",
    "- `Income`: Ingreso anual disponible en miles de dólares.\n",
    "- `Limit`: Límite del crédito.\n",
    "- `Rating`: Ranking del crédito.\n",
    "- `Cards`: Cantidad de tarjetas de crédito.\n",
    "- `Age`: Edad del usuario.\n",
    "- `Education`: Años de educación del usuario.\n",
    "- `Gender`: ¿Hombre o mujer?\n",
    "- `Student`: ¿Es estudiante?\n",
    "- `Married`: ¿Está casado?\n",
    "- `Ethnicity`: Etnicidad del usuario (Caucásico, Afroamericano, Asiático)\n",
    "- `Balance`: Promedio de deuda en tarjeta de crédito de usuario.\n",
    "\n",
    "El objetivo que persigue el trabajo con esta base de datos es conocer los determinantes de la variación en el promedio de deuda en tarjeta de crédito. Para ello se te solicita generar modelos econométricos para inspeccionar los efectos de distintos atributos a partir de requerimientos que serán detallados más adelante."
   ]
  },
  {
   "cell_type": "markdown",
   "id": "918bf89b",
   "metadata": {},
   "source": [
    "## Requerimientos\n",
    "\n",
    "### 1. Preparar el ambiente de trabajo (1 puntos). Para ello debes:\n",
    "\n",
    "- Importar las librerías básicas para el análisis de datos.\n",
    "- Incluir los import base de `statsmodels`.\n",
    "- Importar la base de datos `Credit.csv` y eliminar la columna `Unnamed: 0`.\n",
    "- Siguiendo las buenas prácticas, genera variables binarias para capturar el efecto del grupo minoritario en cada variable. Para el caso de `Ethnicity`, genere binarias para `African American` y `Asian`.\n",
    "\n",
    "_**Tip**_: Utilice `value_counts()` para revisar la cantidad de casos en las variables categóricas."
   ]
  },
  {
   "cell_type": "code",
   "execution_count": 4,
   "id": "6ced3818",
   "metadata": {},
   "outputs": [
    {
     "data": {
      "text/html": [
       "<div>\n",
       "<style scoped>\n",
       "    .dataframe tbody tr th:only-of-type {\n",
       "        vertical-align: middle;\n",
       "    }\n",
       "\n",
       "    .dataframe tbody tr th {\n",
       "        vertical-align: top;\n",
       "    }\n",
       "\n",
       "    .dataframe thead th {\n",
       "        text-align: right;\n",
       "    }\n",
       "</style>\n",
       "<table border=\"1\" class=\"dataframe\">\n",
       "  <thead>\n",
       "    <tr style=\"text-align: right;\">\n",
       "      <th></th>\n",
       "      <th>Income</th>\n",
       "      <th>Limit</th>\n",
       "      <th>Rating</th>\n",
       "      <th>Cards</th>\n",
       "      <th>Age</th>\n",
       "      <th>Education</th>\n",
       "      <th>Gender</th>\n",
       "      <th>Student</th>\n",
       "      <th>Married</th>\n",
       "      <th>Ethnicity</th>\n",
       "      <th>Balance</th>\n",
       "    </tr>\n",
       "  </thead>\n",
       "  <tbody>\n",
       "    <tr>\n",
       "      <th>0</th>\n",
       "      <td>14.891</td>\n",
       "      <td>3606</td>\n",
       "      <td>283</td>\n",
       "      <td>2</td>\n",
       "      <td>34</td>\n",
       "      <td>11</td>\n",
       "      <td>Male</td>\n",
       "      <td>No</td>\n",
       "      <td>Yes</td>\n",
       "      <td>Caucasian</td>\n",
       "      <td>333</td>\n",
       "    </tr>\n",
       "    <tr>\n",
       "      <th>1</th>\n",
       "      <td>106.025</td>\n",
       "      <td>6645</td>\n",
       "      <td>483</td>\n",
       "      <td>3</td>\n",
       "      <td>82</td>\n",
       "      <td>15</td>\n",
       "      <td>Female</td>\n",
       "      <td>Yes</td>\n",
       "      <td>Yes</td>\n",
       "      <td>Asian</td>\n",
       "      <td>903</td>\n",
       "    </tr>\n",
       "    <tr>\n",
       "      <th>2</th>\n",
       "      <td>104.593</td>\n",
       "      <td>7075</td>\n",
       "      <td>514</td>\n",
       "      <td>4</td>\n",
       "      <td>71</td>\n",
       "      <td>11</td>\n",
       "      <td>Male</td>\n",
       "      <td>No</td>\n",
       "      <td>No</td>\n",
       "      <td>Asian</td>\n",
       "      <td>580</td>\n",
       "    </tr>\n",
       "    <tr>\n",
       "      <th>3</th>\n",
       "      <td>148.924</td>\n",
       "      <td>9504</td>\n",
       "      <td>681</td>\n",
       "      <td>3</td>\n",
       "      <td>36</td>\n",
       "      <td>11</td>\n",
       "      <td>Female</td>\n",
       "      <td>No</td>\n",
       "      <td>No</td>\n",
       "      <td>Asian</td>\n",
       "      <td>964</td>\n",
       "    </tr>\n",
       "    <tr>\n",
       "      <th>4</th>\n",
       "      <td>55.882</td>\n",
       "      <td>4897</td>\n",
       "      <td>357</td>\n",
       "      <td>2</td>\n",
       "      <td>68</td>\n",
       "      <td>16</td>\n",
       "      <td>Male</td>\n",
       "      <td>No</td>\n",
       "      <td>Yes</td>\n",
       "      <td>Caucasian</td>\n",
       "      <td>331</td>\n",
       "    </tr>\n",
       "  </tbody>\n",
       "</table>\n",
       "</div>"
      ],
      "text/plain": [
       "    Income  Limit  Rating  Cards  Age  Education  Gender Student Married  \\\n",
       "0   14.891   3606     283      2   34         11    Male      No     Yes   \n",
       "1  106.025   6645     483      3   82         15  Female     Yes     Yes   \n",
       "2  104.593   7075     514      4   71         11    Male      No      No   \n",
       "3  148.924   9504     681      3   36         11  Female      No      No   \n",
       "4   55.882   4897     357      2   68         16    Male      No     Yes   \n",
       "\n",
       "   Ethnicity  Balance  \n",
       "0  Caucasian      333  \n",
       "1      Asian      903  \n",
       "2      Asian      580  \n",
       "3      Asian      964  \n",
       "4  Caucasian      331  "
      ]
     },
     "execution_count": 4,
     "metadata": {},
     "output_type": "execute_result"
    }
   ],
   "source": [
    "# Utiliza esta celda para importar los módulos y el set de datos\n",
    "import numpy as np\n",
    "import pandas as pd\n",
    "import matplotlib.pyplot as plt\n",
    "import seaborn as sns\n",
    "\n",
    "import statsmodels.api as sm\n",
    "import statsmodels.formula.api as smf\n",
    "import scipy.stats as stats \n",
    "\n",
    "plt.style.use('seaborn')\n",
    "plt.rcParams['figure.figsize'] = (10,10)\n",
    "\n",
    "df = pd.read_csv('Credit.csv').drop(columns=['Unnamed: 0'])\n",
    "df.head()\n"
   ]
  },
  {
   "cell_type": "code",
   "execution_count": 5,
   "id": "79267c58",
   "metadata": {},
   "outputs": [
    {
     "data": {
      "text/plain": [
       "Caucasian           199\n",
       "Asian               102\n",
       "African American     99\n",
       "Name: Ethnicity, dtype: int64"
      ]
     },
     "execution_count": 5,
     "metadata": {},
     "output_type": "execute_result"
    }
   ],
   "source": [
    "# Utiliza esta celda para explorar las frecuencias de Ethnicity con value_counts\n",
    "df['Ethnicity'].value_counts()"
   ]
  },
  {
   "cell_type": "code",
   "execution_count": 30,
   "id": "6abccd2e",
   "metadata": {},
   "outputs": [
    {
     "data": {
      "text/html": [
       "<div>\n",
       "<style scoped>\n",
       "    .dataframe tbody tr th:only-of-type {\n",
       "        vertical-align: middle;\n",
       "    }\n",
       "\n",
       "    .dataframe tbody tr th {\n",
       "        vertical-align: top;\n",
       "    }\n",
       "\n",
       "    .dataframe thead th {\n",
       "        text-align: right;\n",
       "    }\n",
       "</style>\n",
       "<table border=\"1\" class=\"dataframe\">\n",
       "  <thead>\n",
       "    <tr style=\"text-align: right;\">\n",
       "      <th></th>\n",
       "      <th>Income</th>\n",
       "      <th>Limit</th>\n",
       "      <th>Rating</th>\n",
       "      <th>Cards</th>\n",
       "      <th>Age</th>\n",
       "      <th>Education</th>\n",
       "      <th>Gender</th>\n",
       "      <th>Student</th>\n",
       "      <th>Married</th>\n",
       "      <th>Ethnicity</th>\n",
       "      <th>Balance</th>\n",
       "      <th>Asian</th>\n",
       "      <th>AfricanAmerian</th>\n",
       "      <th>Married_No</th>\n",
       "      <th>Student_Yes</th>\n",
       "      <th>Male</th>\n",
       "      <th>AfricanAmerican</th>\n",
       "    </tr>\n",
       "  </thead>\n",
       "  <tbody>\n",
       "    <tr>\n",
       "      <th>0</th>\n",
       "      <td>14.891</td>\n",
       "      <td>3606</td>\n",
       "      <td>283</td>\n",
       "      <td>2</td>\n",
       "      <td>34</td>\n",
       "      <td>11</td>\n",
       "      <td>Male</td>\n",
       "      <td>No</td>\n",
       "      <td>Yes</td>\n",
       "      <td>Caucasian</td>\n",
       "      <td>333</td>\n",
       "      <td>0</td>\n",
       "      <td>0</td>\n",
       "      <td>0</td>\n",
       "      <td>0</td>\n",
       "      <td>1</td>\n",
       "      <td>0</td>\n",
       "    </tr>\n",
       "    <tr>\n",
       "      <th>1</th>\n",
       "      <td>106.025</td>\n",
       "      <td>6645</td>\n",
       "      <td>483</td>\n",
       "      <td>3</td>\n",
       "      <td>82</td>\n",
       "      <td>15</td>\n",
       "      <td>Female</td>\n",
       "      <td>Yes</td>\n",
       "      <td>Yes</td>\n",
       "      <td>Asian</td>\n",
       "      <td>903</td>\n",
       "      <td>1</td>\n",
       "      <td>0</td>\n",
       "      <td>0</td>\n",
       "      <td>1</td>\n",
       "      <td>0</td>\n",
       "      <td>0</td>\n",
       "    </tr>\n",
       "    <tr>\n",
       "      <th>2</th>\n",
       "      <td>104.593</td>\n",
       "      <td>7075</td>\n",
       "      <td>514</td>\n",
       "      <td>4</td>\n",
       "      <td>71</td>\n",
       "      <td>11</td>\n",
       "      <td>Male</td>\n",
       "      <td>No</td>\n",
       "      <td>No</td>\n",
       "      <td>Asian</td>\n",
       "      <td>580</td>\n",
       "      <td>1</td>\n",
       "      <td>0</td>\n",
       "      <td>1</td>\n",
       "      <td>0</td>\n",
       "      <td>1</td>\n",
       "      <td>0</td>\n",
       "    </tr>\n",
       "    <tr>\n",
       "      <th>3</th>\n",
       "      <td>148.924</td>\n",
       "      <td>9504</td>\n",
       "      <td>681</td>\n",
       "      <td>3</td>\n",
       "      <td>36</td>\n",
       "      <td>11</td>\n",
       "      <td>Female</td>\n",
       "      <td>No</td>\n",
       "      <td>No</td>\n",
       "      <td>Asian</td>\n",
       "      <td>964</td>\n",
       "      <td>1</td>\n",
       "      <td>0</td>\n",
       "      <td>1</td>\n",
       "      <td>0</td>\n",
       "      <td>0</td>\n",
       "      <td>0</td>\n",
       "    </tr>\n",
       "    <tr>\n",
       "      <th>4</th>\n",
       "      <td>55.882</td>\n",
       "      <td>4897</td>\n",
       "      <td>357</td>\n",
       "      <td>2</td>\n",
       "      <td>68</td>\n",
       "      <td>16</td>\n",
       "      <td>Male</td>\n",
       "      <td>No</td>\n",
       "      <td>Yes</td>\n",
       "      <td>Caucasian</td>\n",
       "      <td>331</td>\n",
       "      <td>0</td>\n",
       "      <td>0</td>\n",
       "      <td>0</td>\n",
       "      <td>0</td>\n",
       "      <td>1</td>\n",
       "      <td>0</td>\n",
       "    </tr>\n",
       "  </tbody>\n",
       "</table>\n",
       "</div>"
      ],
      "text/plain": [
       "    Income  Limit  Rating  Cards  Age  Education  Gender Student Married  \\\n",
       "0   14.891   3606     283      2   34         11    Male      No     Yes   \n",
       "1  106.025   6645     483      3   82         15  Female     Yes     Yes   \n",
       "2  104.593   7075     514      4   71         11    Male      No      No   \n",
       "3  148.924   9504     681      3   36         11  Female      No      No   \n",
       "4   55.882   4897     357      2   68         16    Male      No     Yes   \n",
       "\n",
       "   Ethnicity  Balance  Asian  AfricanAmerian  Married_No  Student_Yes  Male  \\\n",
       "0  Caucasian      333      0               0           0            0     1   \n",
       "1      Asian      903      1               0           0            1     0   \n",
       "2      Asian      580      1               0           1            0     1   \n",
       "3      Asian      964      1               0           1            0     0   \n",
       "4  Caucasian      331      0               0           0            0     1   \n",
       "\n",
       "   AfricanAmerican  \n",
       "0                0  \n",
       "1                0  \n",
       "2                0  \n",
       "3                0  \n",
       "4                0  "
      ]
     },
     "execution_count": 30,
     "metadata": {},
     "output_type": "execute_result"
    }
   ],
   "source": [
    "# Utiliza esta celda para crear variables binarias para las categorías de Ethnicity, omitiendo la de mayor frecuencia\n",
    "df['Asian'] = np.where(df['Ethnicity'] == 'Asian',1,0)\n",
    "df['AfricanAmerican'] = np.where(df['Ethnicity'] == 'African American',1,0)\n",
    "df.head()"
   ]
  },
  {
   "cell_type": "code",
   "execution_count": 9,
   "id": "0226e669",
   "metadata": {},
   "outputs": [
    {
     "data": {
      "text/plain": [
       "Yes    245\n",
       "No     155\n",
       "Name: Married, dtype: int64"
      ]
     },
     "execution_count": 9,
     "metadata": {},
     "output_type": "execute_result"
    }
   ],
   "source": [
    "# Utiliza esta celda para explorar las frecuencias de Married con value_counts\n",
    "df['Married'].value_counts()"
   ]
  },
  {
   "cell_type": "code",
   "execution_count": 11,
   "id": "b1c77559",
   "metadata": {},
   "outputs": [],
   "source": [
    "# Utiliza esta celda para crear una variable binaria para la categoría de Married de menor frecuencia\n",
    "df['Married_No'] = np.where(df['Married']=='No',1,0)"
   ]
  },
  {
   "cell_type": "code",
   "execution_count": 12,
   "id": "29c60f0e",
   "metadata": {},
   "outputs": [
    {
     "data": {
      "text/plain": [
       "No     360\n",
       "Yes     40\n",
       "Name: Student, dtype: int64"
      ]
     },
     "execution_count": 12,
     "metadata": {},
     "output_type": "execute_result"
    }
   ],
   "source": [
    "# Utiliza esta celda para explorar las frecuencias de Student con value_counts\n",
    "df['Student'].value_counts()"
   ]
  },
  {
   "cell_type": "code",
   "execution_count": 13,
   "id": "5ce9256f",
   "metadata": {},
   "outputs": [],
   "source": [
    "# Utiliza esta celda para crear una variable binaria para la categoría de Student de menor frecuencia\n",
    "\n",
    "df['Student_Yes'] = np.where(df['Student'] == 'Yes', 1,0)"
   ]
  },
  {
   "cell_type": "code",
   "execution_count": 14,
   "id": "b1f85e36",
   "metadata": {},
   "outputs": [
    {
     "data": {
      "text/plain": [
       "Female    207\n",
       " Male     193\n",
       "Name: Gender, dtype: int64"
      ]
     },
     "execution_count": 14,
     "metadata": {},
     "output_type": "execute_result"
    }
   ],
   "source": [
    "# Utiliza esta celda para explorar las frecuencias de Gender con value_counts\n",
    "df['Gender'].value_counts()"
   ]
  },
  {
   "cell_type": "code",
   "execution_count": 16,
   "id": "e97ca60f",
   "metadata": {},
   "outputs": [
    {
     "data": {
      "text/html": [
       "<div>\n",
       "<style scoped>\n",
       "    .dataframe tbody tr th:only-of-type {\n",
       "        vertical-align: middle;\n",
       "    }\n",
       "\n",
       "    .dataframe tbody tr th {\n",
       "        vertical-align: top;\n",
       "    }\n",
       "\n",
       "    .dataframe thead th {\n",
       "        text-align: right;\n",
       "    }\n",
       "</style>\n",
       "<table border=\"1\" class=\"dataframe\">\n",
       "  <thead>\n",
       "    <tr style=\"text-align: right;\">\n",
       "      <th></th>\n",
       "      <th>Income</th>\n",
       "      <th>Limit</th>\n",
       "      <th>Rating</th>\n",
       "      <th>Cards</th>\n",
       "      <th>Age</th>\n",
       "      <th>Education</th>\n",
       "      <th>Gender</th>\n",
       "      <th>Student</th>\n",
       "      <th>Married</th>\n",
       "      <th>Ethnicity</th>\n",
       "      <th>Balance</th>\n",
       "      <th>Asian</th>\n",
       "      <th>AfricanAmerian</th>\n",
       "      <th>Married_No</th>\n",
       "      <th>Student_Yes</th>\n",
       "      <th>Male</th>\n",
       "    </tr>\n",
       "  </thead>\n",
       "  <tbody>\n",
       "    <tr>\n",
       "      <th>0</th>\n",
       "      <td>14.891</td>\n",
       "      <td>3606</td>\n",
       "      <td>283</td>\n",
       "      <td>2</td>\n",
       "      <td>34</td>\n",
       "      <td>11</td>\n",
       "      <td>Male</td>\n",
       "      <td>No</td>\n",
       "      <td>Yes</td>\n",
       "      <td>Caucasian</td>\n",
       "      <td>333</td>\n",
       "      <td>0</td>\n",
       "      <td>0</td>\n",
       "      <td>0</td>\n",
       "      <td>0</td>\n",
       "      <td>1</td>\n",
       "    </tr>\n",
       "    <tr>\n",
       "      <th>1</th>\n",
       "      <td>106.025</td>\n",
       "      <td>6645</td>\n",
       "      <td>483</td>\n",
       "      <td>3</td>\n",
       "      <td>82</td>\n",
       "      <td>15</td>\n",
       "      <td>Female</td>\n",
       "      <td>Yes</td>\n",
       "      <td>Yes</td>\n",
       "      <td>Asian</td>\n",
       "      <td>903</td>\n",
       "      <td>1</td>\n",
       "      <td>0</td>\n",
       "      <td>0</td>\n",
       "      <td>1</td>\n",
       "      <td>0</td>\n",
       "    </tr>\n",
       "    <tr>\n",
       "      <th>2</th>\n",
       "      <td>104.593</td>\n",
       "      <td>7075</td>\n",
       "      <td>514</td>\n",
       "      <td>4</td>\n",
       "      <td>71</td>\n",
       "      <td>11</td>\n",
       "      <td>Male</td>\n",
       "      <td>No</td>\n",
       "      <td>No</td>\n",
       "      <td>Asian</td>\n",
       "      <td>580</td>\n",
       "      <td>1</td>\n",
       "      <td>0</td>\n",
       "      <td>1</td>\n",
       "      <td>0</td>\n",
       "      <td>1</td>\n",
       "    </tr>\n",
       "    <tr>\n",
       "      <th>3</th>\n",
       "      <td>148.924</td>\n",
       "      <td>9504</td>\n",
       "      <td>681</td>\n",
       "      <td>3</td>\n",
       "      <td>36</td>\n",
       "      <td>11</td>\n",
       "      <td>Female</td>\n",
       "      <td>No</td>\n",
       "      <td>No</td>\n",
       "      <td>Asian</td>\n",
       "      <td>964</td>\n",
       "      <td>1</td>\n",
       "      <td>0</td>\n",
       "      <td>1</td>\n",
       "      <td>0</td>\n",
       "      <td>0</td>\n",
       "    </tr>\n",
       "    <tr>\n",
       "      <th>4</th>\n",
       "      <td>55.882</td>\n",
       "      <td>4897</td>\n",
       "      <td>357</td>\n",
       "      <td>2</td>\n",
       "      <td>68</td>\n",
       "      <td>16</td>\n",
       "      <td>Male</td>\n",
       "      <td>No</td>\n",
       "      <td>Yes</td>\n",
       "      <td>Caucasian</td>\n",
       "      <td>331</td>\n",
       "      <td>0</td>\n",
       "      <td>0</td>\n",
       "      <td>0</td>\n",
       "      <td>0</td>\n",
       "      <td>1</td>\n",
       "    </tr>\n",
       "  </tbody>\n",
       "</table>\n",
       "</div>"
      ],
      "text/plain": [
       "    Income  Limit  Rating  Cards  Age  Education  Gender Student Married  \\\n",
       "0   14.891   3606     283      2   34         11    Male      No     Yes   \n",
       "1  106.025   6645     483      3   82         15  Female     Yes     Yes   \n",
       "2  104.593   7075     514      4   71         11    Male      No      No   \n",
       "3  148.924   9504     681      3   36         11  Female      No      No   \n",
       "4   55.882   4897     357      2   68         16    Male      No     Yes   \n",
       "\n",
       "   Ethnicity  Balance  Asian  AfricanAmerian  Married_No  Student_Yes  Male  \n",
       "0  Caucasian      333      0               0           0            0     1  \n",
       "1      Asian      903      1               0           0            1     0  \n",
       "2      Asian      580      1               0           1            0     1  \n",
       "3      Asian      964      1               0           1            0     0  \n",
       "4  Caucasian      331      0               0           0            0     1  "
      ]
     },
     "execution_count": 16,
     "metadata": {},
     "output_type": "execute_result"
    }
   ],
   "source": [
    "# Utiliza esta celda para crear una variable binaria para la categoría de Gender de menor frecuencia. OJO, Male tiene un espacio en blanco al principio\n",
    "df['Male'] = np.where(df['Gender']==' Male',1,0)\n",
    "df.head()\n"
   ]
  },
  {
   "cell_type": "markdown",
   "id": "b2faa9da",
   "metadata": {},
   "source": [
    "### 2. Generar gráficos descriptivos para las variables continuas (1 punto)\n",
    "\n",
    "- Genere una función llamada `plot_hist` que genere un histograma de la variable e indique la media y mediana de la misma.\n",
    "- Agregue una leyenda para indicar qué representa cada línea.\n",
    "- ¿Cuál es el comportamiento de Balance, Income, Cards y Rating?"
   ]
  },
  {
   "cell_type": "code",
   "execution_count": 17,
   "id": "48801c5f",
   "metadata": {},
   "outputs": [],
   "source": [
    "# Utiliza esta celda para definir la función plot_hist\n",
    "def plot_hist(data, variable):\n",
    "    media = np.mean(data[variable])\n",
    "    mediana = np.median(data[variable])\n",
    "\n",
    "    sns.displot(data[variable], kde=True, bins=8, aspect=2)\n",
    "    plt.axvline(media, color='lightseagreen', label=f'Media: {round(media,2)}', lw=3, ls='dotted')\n",
    "    plt.axvline(mediana, color='plum', label=f'Mediana: {round(mediana,2)}', lw=3, ls='dotted')\n",
    "    plt.title(f'Histograma para {variable}')\n",
    "    plt.legend()"
   ]
  },
  {
   "cell_type": "code",
   "execution_count": 18,
   "id": "b9eb53e4",
   "metadata": {},
   "outputs": [
    {
     "data": {
      "image/png": "[encoded data removed]",
      "text/plain": [
       "<Figure size 720x360 with 1 Axes>"
      ]
     },
     "metadata": {},
     "output_type": "display_data"
    }
   ],
   "source": [
    "# Utiliza esta celda para generar gráfico de Balance\n",
    "plot_hist(df,'Balance');"
   ]
  },
  {
   "cell_type": "markdown",
   "id": "fbc2e23d",
   "metadata": {},
   "source": [
    "**Comentarios**"
   ]
  },
  {
   "cell_type": "code",
   "execution_count": 19,
   "id": "dacadf0f",
   "metadata": {},
   "outputs": [
    {
     "data": {
      "image/png": "[encoded data removed]",
      "text/plain": [
       "<Figure size 720x360 with 1 Axes>"
      ]
     },
     "metadata": {},
     "output_type": "display_data"
    }
   ],
   "source": [
    "# Utiliza esta celda para generar gráfico de Cards\n",
    "plot_hist(df,'Cards')"
   ]
  },
  {
   "cell_type": "markdown",
   "id": "d623cf18",
   "metadata": {},
   "source": [
    "**Comentarios**"
   ]
  },
  {
   "cell_type": "code",
   "execution_count": 20,
   "id": "f51fd8f0",
   "metadata": {},
   "outputs": [
    {
     "data": {
      "image/png": "[encoded data removed]",
      "text/plain": [
       "<Figure size 720x360 with 1 Axes>"
      ]
     },
     "metadata": {},
     "output_type": "display_data"
    }
   ],
   "source": [
    "# Utiliza esta celda para generar gráfico de Income\n",
    "plot_hist(df,'Income')"
   ]
  },
  {
   "cell_type": "markdown",
   "id": "b1a4f60e",
   "metadata": {},
   "source": [
    "**Comentarios**"
   ]
  },
  {
   "cell_type": "code",
   "execution_count": 21,
   "id": "616d3f71",
   "metadata": {},
   "outputs": [
    {
     "data": {
      "image/png": "[encoded data removed]",
      "text/plain": [
       "<Figure size 720x360 with 1 Axes>"
      ]
     },
     "metadata": {},
     "output_type": "display_data"
    }
   ],
   "source": [
    "# Utiliza esta celda para generar gráfico de Limit\n",
    "plot_hist(df,'Limit')"
   ]
  },
  {
   "cell_type": "markdown",
   "id": "b013a427",
   "metadata": {},
   "source": [
    "**Comentarios**"
   ]
  },
  {
   "cell_type": "code",
   "execution_count": 22,
   "id": "50f055cf",
   "metadata": {},
   "outputs": [
    {
     "data": {
      "image/png": "[encoded data removed]",
      "text/plain": [
       "<Figure size 720x360 with 1 Axes>"
      ]
     },
     "metadata": {},
     "output_type": "display_data"
    }
   ],
   "source": [
    "# Utiliza esta celda para generar gráfico de Rating\n",
    "plot_hist(df,'Rating')"
   ]
  },
  {
   "cell_type": "markdown",
   "id": "d227d36d",
   "metadata": {},
   "source": [
    "**Comentarios**"
   ]
  },
  {
   "cell_type": "markdown",
   "id": "b4316129",
   "metadata": {},
   "source": [
    "### 3. Regresión Lineal Simple (2 puntos). \n",
    "\n",
    "- Para ello se debe generar una serie de modelos simples utilizando `statsmodels`:\n",
    "$$\n",
    "\\text{Balance}_i = \\beta_0 + \\gamma_{student} \\cdot \\text{student}_i + \\epsilon_i \\\\\n",
    "\\text{Balance}_i = \\beta_0 + \\beta_{income} \\cdot \\text{income}_i + \\epsilon_i \\\\\n",
    "\\text{Balance}_i = \\beta_0 + \\beta_{rating} \\cdot \\text{rating}_i + \\epsilon_i\n",
    "$$"
   ]
  },
  {
   "cell_type": "code",
   "execution_count": 23,
   "id": "917ca8f8",
   "metadata": {},
   "outputs": [],
   "source": [
    "# Utiliza esta celda para generar y entrenar los 3 modelos solicitados\n",
    "modelo_student = smf.ols('Balance ~ Student_Yes', data=df).fit()\n",
    "modelo_income = smf.ols('Balance ~ Income', data=df).fit()\n",
    "modelo_rating = smf.ols('Balance ~ Rating', data=df).fit()"
   ]
  },
  {
   "cell_type": "markdown",
   "id": "24c4b8a9",
   "metadata": {},
   "source": [
    "- ¿Qué variable presenta un mayor poder explicativo de la variabilidad de `Balance`?"
   ]
  },
  {
   "cell_type": "code",
   "execution_count": 24,
   "id": "5e98f2f5",
   "metadata": {},
   "outputs": [
    {
     "name": "stdout",
     "output_type": "stream",
     "text": [
      "El poder explicativo de la variabilidad de Balance para el modelo Balanace ~ Student_Yes es de 0.07\n",
      "El poder explicativo de la variabilidad de Balance para el modelo Balance ~ Income es de 0.21\n",
      "El poder explicativo de la variabilidad de Balance para el modelo Balance ~ Rating es de 0.75\n"
     ]
    }
   ],
   "source": [
    "# Utiliza esta celda para explorar el poder explicativo de la variabilidad de Balance en los 3 modelos\n",
    "print(f'El poder explicativo de la variabilidad de Balance para el modelo Balanace ~ Student_Yes es de {round(modelo_student.rsquared, 2)}')\n",
    "print(f'El poder explicativo de la variabilidad de Balance para el modelo Balance ~ Income es de {round(modelo_income.rsquared, 2)}')\n",
    "print(f'El poder explicativo de la variabilidad de Balance para el modelo Balance ~ Rating es de {round(modelo_rating.rsquared, 2)}')"
   ]
  },
  {
   "cell_type": "markdown",
   "id": "0b051682",
   "metadata": {},
   "source": [
    "**Respuesta**"
   ]
  },
  {
   "cell_type": "markdown",
   "id": "2deecf77",
   "metadata": {},
   "source": [
    "- ¿Qué podemos decir sobre el comportamiento de Student?"
   ]
  },
  {
   "cell_type": "code",
   "execution_count": 25,
   "id": "5b89909c",
   "metadata": {},
   "outputs": [
    {
     "data": {
      "text/plain": [
       "Intercept      480.369444\n",
       "Student_Yes    396.455556\n",
       "dtype: float64"
      ]
     },
     "execution_count": 25,
     "metadata": {},
     "output_type": "execute_result"
    }
   ],
   "source": [
    "# Utiliza esta celda para explorar los valores de los coeficientes del modelo Balance ~ Student\n",
    "modelo_student.params"
   ]
  },
  {
   "cell_type": "markdown",
   "id": "cb077dc2",
   "metadata": {},
   "source": [
    "**Respuesta**"
   ]
  },
  {
   "cell_type": "markdown",
   "id": "efa72fba",
   "metadata": {},
   "source": [
    "- ¿Qué pasa si aplicamos una prueba de hipótesis para muestras independientes de Balance entre aquellos que son y no son estudiantes?"
   ]
  },
  {
   "cell_type": "code",
   "execution_count": 26,
   "id": "56a867a0",
   "metadata": {},
   "outputs": [
    {
     "data": {
      "text/plain": [
       "(5.349964123075003, 0.9999998512265892)"
      ]
     },
     "execution_count": 26,
     "metadata": {},
     "output_type": "execute_result"
    }
   ],
   "source": [
    "# Utiliza esta celda para realizar la prueba de hipótesis solicitada\n",
    "prueba = stats.ttest_ind(\n",
    "    df.query('Student_Yes == 1')['Balance'].dropna(),\n",
    "    df.query('Student_Yes == 0')['Balance'].dropna()\n",
    ")\n",
    "\n",
    "prueba[0], 1 - prueba[1]"
   ]
  },
  {
   "cell_type": "markdown",
   "id": "0881f144",
   "metadata": {},
   "source": [
    "**Comentarios de la prueba de hipótesis realizada** Confianza del 99% en que el promediod del balance entre estudiantes y no estudiantes es diferente."
   ]
  },
  {
   "cell_type": "markdown",
   "id": "b0ac2aa5",
   "metadata": {},
   "source": [
    "### 4. Generar un modelo que incluya todos los regresores (2 puntos):\n",
    "A partir de la siguiente fórmula, genere el modelo que incluya dichos regresores\n",
    "\n",
    "$$\n",
    "\\text{Balance}_i = \\beta_0 + \\sum_{j=1}^{n} \\beta_{j} \\cdot x_{ij} + \\epsilon_i\n",
    "$$\n",
    "\n",
    "- $j$: Cantidad de tributos del modelo. **Para las variables categóricas, considerar solamente las variables binarias generadas, y omitir las columnas de las variables categóricas originales**"
   ]
  },
  {
   "cell_type": "code",
   "execution_count": 27,
   "id": "711e44ba",
   "metadata": {},
   "outputs": [
    {
     "data": {
      "text/plain": [
       "Index(['Income', 'Limit', 'Rating', 'Cards', 'Age', 'Education', 'Gender',\n",
       "       'Student', 'Married', 'Ethnicity', 'Balance', 'Asian', 'AfricanAmerian',\n",
       "       'Married_No', 'Student_Yes', 'Male'],\n",
       "      dtype='object')"
      ]
     },
     "execution_count": 27,
     "metadata": {},
     "output_type": "execute_result"
    }
   ],
   "source": [
    "# Sugerencia: Utiliza esta celda para explorar las columnas del set de datos\n",
    "df.columns"
   ]
  },
  {
   "cell_type": "code",
   "execution_count": 31,
   "id": "e2679370",
   "metadata": {},
   "outputs": [],
   "source": [
    "# Utiliza esta celda para generar el modelo solicitado\n",
    "modelo_saturado = smf.ols('Balance ~ Income + Limit + Rating + Cards + Age + Education + Male + Student_Yes + Married_No + Asian + AfricanAmerican', data=df).fit()"
   ]
  },
  {
   "cell_type": "markdown",
   "id": "c627e20f",
   "metadata": {},
   "source": [
    "- Comente brevemente sobre el poder explicativo en la varianza de $y$"
   ]
  },
  {
   "cell_type": "code",
   "execution_count": 33,
   "id": "7990339f",
   "metadata": {},
   "outputs": [
    {
     "name": "stdout",
     "output_type": "stream",
     "text": [
      "El poder explicativo del modelo generado en la varianza de Balance es de 0.95383\n"
     ]
    }
   ],
   "source": [
    "# Utiliza esta celda para explorar el poder explicativo en la varianza de Balance\n",
    "print(f'El poder explicativo del modelo generado en la varianza de Balance es de {round(modelo_saturado.rsquared_adj,5)}')"
   ]
  },
  {
   "cell_type": "markdown",
   "id": "540939f9",
   "metadata": {},
   "source": [
    "**Comentario**"
   ]
  },
  {
   "cell_type": "markdown",
   "id": "fe586796",
   "metadata": {},
   "source": [
    "- Comente sobre las principales características de los predictores."
   ]
  },
  {
   "cell_type": "code",
   "execution_count": 35,
   "id": "31dd7e8f",
   "metadata": {},
   "outputs": [
    {
     "data": {
      "text/html": [
       "<div>\n",
       "<style scoped>\n",
       "    .dataframe tbody tr th:only-of-type {\n",
       "        vertical-align: middle;\n",
       "    }\n",
       "\n",
       "    .dataframe tbody tr th {\n",
       "        vertical-align: top;\n",
       "    }\n",
       "\n",
       "    .dataframe thead th {\n",
       "        text-align: right;\n",
       "    }\n",
       "</style>\n",
       "<table border=\"1\" class=\"dataframe\">\n",
       "  <thead>\n",
       "    <tr style=\"text-align: right;\">\n",
       "      <th></th>\n",
       "      <th>Coef.</th>\n",
       "      <th>Std.Err.</th>\n",
       "      <th>t</th>\n",
       "      <th>P&gt;|t|</th>\n",
       "      <th>[0.025</th>\n",
       "      <th>0.975]</th>\n",
       "    </tr>\n",
       "  </thead>\n",
       "  <tbody>\n",
       "    <tr>\n",
       "      <th>Intercept</th>\n",
       "      <td>-488.287994</td>\n",
       "      <td>34.816063</td>\n",
       "      <td>-14.024791</td>\n",
       "      <td>1.953141e-36</td>\n",
       "      <td>-556.739746</td>\n",
       "      <td>-419.836241</td>\n",
       "    </tr>\n",
       "    <tr>\n",
       "      <th>Income</th>\n",
       "      <td>-7.803102</td>\n",
       "      <td>0.234232</td>\n",
       "      <td>-33.313573</td>\n",
       "      <td>7.372312e-116</td>\n",
       "      <td>-8.263624</td>\n",
       "      <td>-7.342579</td>\n",
       "    </tr>\n",
       "    <tr>\n",
       "      <th>Limit</th>\n",
       "      <td>0.190907</td>\n",
       "      <td>0.032779</td>\n",
       "      <td>5.824124</td>\n",
       "      <td>1.205974e-08</td>\n",
       "      <td>0.126461</td>\n",
       "      <td>0.255353</td>\n",
       "    </tr>\n",
       "    <tr>\n",
       "      <th>Rating</th>\n",
       "      <td>1.136527</td>\n",
       "      <td>0.490894</td>\n",
       "      <td>2.315216</td>\n",
       "      <td>2.112213e-02</td>\n",
       "      <td>0.171380</td>\n",
       "      <td>2.101673</td>\n",
       "    </tr>\n",
       "    <tr>\n",
       "      <th>Cards</th>\n",
       "      <td>17.724484</td>\n",
       "      <td>4.341033</td>\n",
       "      <td>4.083011</td>\n",
       "      <td>5.401200e-05</td>\n",
       "      <td>9.189592</td>\n",
       "      <td>26.259375</td>\n",
       "    </tr>\n",
       "    <tr>\n",
       "      <th>Age</th>\n",
       "      <td>-0.613909</td>\n",
       "      <td>0.293989</td>\n",
       "      <td>-2.088200</td>\n",
       "      <td>3.743127e-02</td>\n",
       "      <td>-1.191920</td>\n",
       "      <td>-0.035897</td>\n",
       "    </tr>\n",
       "    <tr>\n",
       "      <th>Education</th>\n",
       "      <td>-1.098855</td>\n",
       "      <td>1.597951</td>\n",
       "      <td>-0.687665</td>\n",
       "      <td>4.920746e-01</td>\n",
       "      <td>-4.240582</td>\n",
       "      <td>2.042872</td>\n",
       "    </tr>\n",
       "    <tr>\n",
       "      <th>Male</th>\n",
       "      <td>10.653248</td>\n",
       "      <td>9.914000</td>\n",
       "      <td>1.074566</td>\n",
       "      <td>2.832368e-01</td>\n",
       "      <td>-8.838637</td>\n",
       "      <td>30.145132</td>\n",
       "    </tr>\n",
       "    <tr>\n",
       "      <th>Student_Yes</th>\n",
       "      <td>425.747360</td>\n",
       "      <td>16.722580</td>\n",
       "      <td>25.459430</td>\n",
       "      <td>8.854521e-85</td>\n",
       "      <td>392.869147</td>\n",
       "      <td>458.625572</td>\n",
       "    </tr>\n",
       "    <tr>\n",
       "      <th>Married_No</th>\n",
       "      <td>8.533901</td>\n",
       "      <td>10.362875</td>\n",
       "      <td>0.823507</td>\n",
       "      <td>4.107256e-01</td>\n",
       "      <td>-11.840515</td>\n",
       "      <td>28.908316</td>\n",
       "    </tr>\n",
       "    <tr>\n",
       "      <th>Asian</th>\n",
       "      <td>6.697154</td>\n",
       "      <td>12.122442</td>\n",
       "      <td>0.552459</td>\n",
       "      <td>5.809519e-01</td>\n",
       "      <td>-17.136741</td>\n",
       "      <td>30.531049</td>\n",
       "    </tr>\n",
       "    <tr>\n",
       "      <th>AfricanAmerican</th>\n",
       "      <td>-10.107025</td>\n",
       "      <td>12.209923</td>\n",
       "      <td>-0.827771</td>\n",
       "      <td>4.083088e-01</td>\n",
       "      <td>-34.112917</td>\n",
       "      <td>13.898867</td>\n",
       "    </tr>\n",
       "  </tbody>\n",
       "</table>\n",
       "</div>"
      ],
      "text/plain": [
       "                      Coef.   Std.Err.          t          P>|t|      [0.025  \\\n",
       "Intercept       -488.287994  34.816063 -14.024791   1.953141e-36 -556.739746   \n",
       "Income            -7.803102   0.234232 -33.313573  7.372312e-116   -8.263624   \n",
       "Limit              0.190907   0.032779   5.824124   1.205974e-08    0.126461   \n",
       "Rating             1.136527   0.490894   2.315216   2.112213e-02    0.171380   \n",
       "Cards             17.724484   4.341033   4.083011   5.401200e-05    9.189592   \n",
       "Age               -0.613909   0.293989  -2.088200   3.743127e-02   -1.191920   \n",
       "Education         -1.098855   1.597951  -0.687665   4.920746e-01   -4.240582   \n",
       "Male              10.653248   9.914000   1.074566   2.832368e-01   -8.838637   \n",
       "Student_Yes      425.747360  16.722580  25.459430   8.854521e-85  392.869147   \n",
       "Married_No         8.533901  10.362875   0.823507   4.107256e-01  -11.840515   \n",
       "Asian              6.697154  12.122442   0.552459   5.809519e-01  -17.136741   \n",
       "AfricanAmerican  -10.107025  12.209923  -0.827771   4.083088e-01  -34.112917   \n",
       "\n",
       "                     0.975]  \n",
       "Intercept       -419.836241  \n",
       "Income            -7.342579  \n",
       "Limit              0.255353  \n",
       "Rating             2.101673  \n",
       "Cards             26.259375  \n",
       "Age               -0.035897  \n",
       "Education          2.042872  \n",
       "Male              30.145132  \n",
       "Student_Yes      458.625572  \n",
       "Married_No        28.908316  \n",
       "Asian             30.531049  \n",
       "AfricanAmerican   13.898867  "
      ]
     },
     "execution_count": 35,
     "metadata": {},
     "output_type": "execute_result"
    }
   ],
   "source": [
    "# Utiliza esta celda para almacenar los coeficientes y sus significancias. Tip: puede usar summary2.tables[1] y almacenar el resultado en una variable (será de tipo DataFrame)\n",
    "\n",
    "coef = modelo_saturado.summary2().tables[1]\n",
    "coef"
   ]
  },
  {
   "cell_type": "code",
   "execution_count": 36,
   "id": "f039d67a",
   "metadata": {},
   "outputs": [
    {
     "data": {
      "text/html": [
       "<div>\n",
       "<style scoped>\n",
       "    .dataframe tbody tr th:only-of-type {\n",
       "        vertical-align: middle;\n",
       "    }\n",
       "\n",
       "    .dataframe tbody tr th {\n",
       "        vertical-align: top;\n",
       "    }\n",
       "\n",
       "    .dataframe thead th {\n",
       "        text-align: right;\n",
       "    }\n",
       "</style>\n",
       "<table border=\"1\" class=\"dataframe\">\n",
       "  <thead>\n",
       "    <tr style=\"text-align: right;\">\n",
       "      <th></th>\n",
       "      <th>Coef.</th>\n",
       "      <th>Std.Err.</th>\n",
       "      <th>t</th>\n",
       "      <th>P&gt;|t|</th>\n",
       "      <th>[0.025</th>\n",
       "      <th>0.975]</th>\n",
       "    </tr>\n",
       "  </thead>\n",
       "  <tbody>\n",
       "    <tr>\n",
       "      <th>Limit</th>\n",
       "      <td>0.190907</td>\n",
       "      <td>0.032779</td>\n",
       "      <td>5.824124</td>\n",
       "      <td>1.205974e-08</td>\n",
       "      <td>0.126461</td>\n",
       "      <td>0.255353</td>\n",
       "    </tr>\n",
       "    <tr>\n",
       "      <th>Rating</th>\n",
       "      <td>1.136527</td>\n",
       "      <td>0.490894</td>\n",
       "      <td>2.315216</td>\n",
       "      <td>2.112213e-02</td>\n",
       "      <td>0.171380</td>\n",
       "      <td>2.101673</td>\n",
       "    </tr>\n",
       "    <tr>\n",
       "      <th>Cards</th>\n",
       "      <td>17.724484</td>\n",
       "      <td>4.341033</td>\n",
       "      <td>4.083011</td>\n",
       "      <td>5.401200e-05</td>\n",
       "      <td>9.189592</td>\n",
       "      <td>26.259375</td>\n",
       "    </tr>\n",
       "    <tr>\n",
       "      <th>Student_Yes</th>\n",
       "      <td>425.747360</td>\n",
       "      <td>16.722580</td>\n",
       "      <td>25.459430</td>\n",
       "      <td>8.854521e-85</td>\n",
       "      <td>392.869147</td>\n",
       "      <td>458.625572</td>\n",
       "    </tr>\n",
       "  </tbody>\n",
       "</table>\n",
       "</div>"
      ],
      "text/plain": [
       "                  Coef.   Std.Err.          t         P>|t|      [0.025  \\\n",
       "Limit          0.190907   0.032779   5.824124  1.205974e-08    0.126461   \n",
       "Rating         1.136527   0.490894   2.315216  2.112213e-02    0.171380   \n",
       "Cards         17.724484   4.341033   4.083011  5.401200e-05    9.189592   \n",
       "Student_Yes  425.747360  16.722580  25.459430  8.854521e-85  392.869147   \n",
       "\n",
       "                 0.975]  \n",
       "Limit          0.255353  \n",
       "Rating         2.101673  \n",
       "Cards         26.259375  \n",
       "Student_Yes  458.625572  "
      ]
     },
     "execution_count": 36,
     "metadata": {},
     "output_type": "execute_result"
    }
   ],
   "source": [
    "# Utiliza esta celda para explorar los atributos que aumentan el balance en forma significativa (considerando alpha 0.025)\n",
    "coef[\n",
    "    (coef['Coef.'] > 0) & (coef['P>|t|'] < 0.025)\n",
    "]"
   ]
  },
  {
   "cell_type": "code",
   "execution_count": 37,
   "id": "dff58556",
   "metadata": {},
   "outputs": [
    {
     "data": {
      "text/html": [
       "<div>\n",
       "<style scoped>\n",
       "    .dataframe tbody tr th:only-of-type {\n",
       "        vertical-align: middle;\n",
       "    }\n",
       "\n",
       "    .dataframe tbody tr th {\n",
       "        vertical-align: top;\n",
       "    }\n",
       "\n",
       "    .dataframe thead th {\n",
       "        text-align: right;\n",
       "    }\n",
       "</style>\n",
       "<table border=\"1\" class=\"dataframe\">\n",
       "  <thead>\n",
       "    <tr style=\"text-align: right;\">\n",
       "      <th></th>\n",
       "      <th>Coef.</th>\n",
       "      <th>Std.Err.</th>\n",
       "      <th>t</th>\n",
       "      <th>P&gt;|t|</th>\n",
       "      <th>[0.025</th>\n",
       "      <th>0.975]</th>\n",
       "    </tr>\n",
       "  </thead>\n",
       "  <tbody>\n",
       "    <tr>\n",
       "      <th>Intercept</th>\n",
       "      <td>-488.287994</td>\n",
       "      <td>34.816063</td>\n",
       "      <td>-14.024791</td>\n",
       "      <td>1.953141e-36</td>\n",
       "      <td>-556.739746</td>\n",
       "      <td>-419.836241</td>\n",
       "    </tr>\n",
       "    <tr>\n",
       "      <th>Income</th>\n",
       "      <td>-7.803102</td>\n",
       "      <td>0.234232</td>\n",
       "      <td>-33.313573</td>\n",
       "      <td>7.372312e-116</td>\n",
       "      <td>-8.263624</td>\n",
       "      <td>-7.342579</td>\n",
       "    </tr>\n",
       "  </tbody>\n",
       "</table>\n",
       "</div>"
      ],
      "text/plain": [
       "                Coef.   Std.Err.          t          P>|t|      [0.025  \\\n",
       "Intercept -488.287994  34.816063 -14.024791   1.953141e-36 -556.739746   \n",
       "Income      -7.803102   0.234232 -33.313573  7.372312e-116   -8.263624   \n",
       "\n",
       "               0.975]  \n",
       "Intercept -419.836241  \n",
       "Income      -7.342579  "
      ]
     },
     "execution_count": 37,
     "metadata": {},
     "output_type": "execute_result"
    }
   ],
   "source": [
    "# Utiliza esta celda para explorar los atributos que disminuyen el balance en forma significativa (considerando alpha 0.025)\n",
    "coef[\n",
    "    (coef['Coef.'] < 0) & (coef['P>|t|'] < 0.025)\n",
    "]"
   ]
  },
  {
   "cell_type": "code",
   "execution_count": 39,
   "id": "2bef76e6",
   "metadata": {},
   "outputs": [
    {
     "data": {
      "text/html": [
       "<div>\n",
       "<style scoped>\n",
       "    .dataframe tbody tr th:only-of-type {\n",
       "        vertical-align: middle;\n",
       "    }\n",
       "\n",
       "    .dataframe tbody tr th {\n",
       "        vertical-align: top;\n",
       "    }\n",
       "\n",
       "    .dataframe thead th {\n",
       "        text-align: right;\n",
       "    }\n",
       "</style>\n",
       "<table border=\"1\" class=\"dataframe\">\n",
       "  <thead>\n",
       "    <tr style=\"text-align: right;\">\n",
       "      <th></th>\n",
       "      <th>Coef.</th>\n",
       "      <th>Std.Err.</th>\n",
       "      <th>t</th>\n",
       "      <th>P&gt;|t|</th>\n",
       "      <th>[0.025</th>\n",
       "      <th>0.975]</th>\n",
       "    </tr>\n",
       "  </thead>\n",
       "  <tbody>\n",
       "    <tr>\n",
       "      <th>Age</th>\n",
       "      <td>-0.613909</td>\n",
       "      <td>0.293989</td>\n",
       "      <td>-2.088200</td>\n",
       "      <td>0.037431</td>\n",
       "      <td>-1.191920</td>\n",
       "      <td>-0.035897</td>\n",
       "    </tr>\n",
       "    <tr>\n",
       "      <th>Education</th>\n",
       "      <td>-1.098855</td>\n",
       "      <td>1.597951</td>\n",
       "      <td>-0.687665</td>\n",
       "      <td>0.492075</td>\n",
       "      <td>-4.240582</td>\n",
       "      <td>2.042872</td>\n",
       "    </tr>\n",
       "    <tr>\n",
       "      <th>Male</th>\n",
       "      <td>10.653248</td>\n",
       "      <td>9.914000</td>\n",
       "      <td>1.074566</td>\n",
       "      <td>0.283237</td>\n",
       "      <td>-8.838637</td>\n",
       "      <td>30.145132</td>\n",
       "    </tr>\n",
       "    <tr>\n",
       "      <th>Married_No</th>\n",
       "      <td>8.533901</td>\n",
       "      <td>10.362875</td>\n",
       "      <td>0.823507</td>\n",
       "      <td>0.410726</td>\n",
       "      <td>-11.840515</td>\n",
       "      <td>28.908316</td>\n",
       "    </tr>\n",
       "    <tr>\n",
       "      <th>Asian</th>\n",
       "      <td>6.697154</td>\n",
       "      <td>12.122442</td>\n",
       "      <td>0.552459</td>\n",
       "      <td>0.580952</td>\n",
       "      <td>-17.136741</td>\n",
       "      <td>30.531049</td>\n",
       "    </tr>\n",
       "    <tr>\n",
       "      <th>AfricanAmerican</th>\n",
       "      <td>-10.107025</td>\n",
       "      <td>12.209923</td>\n",
       "      <td>-0.827771</td>\n",
       "      <td>0.408309</td>\n",
       "      <td>-34.112917</td>\n",
       "      <td>13.898867</td>\n",
       "    </tr>\n",
       "  </tbody>\n",
       "</table>\n",
       "</div>"
      ],
      "text/plain": [
       "                     Coef.   Std.Err.         t     P>|t|     [0.025  \\\n",
       "Age              -0.613909   0.293989 -2.088200  0.037431  -1.191920   \n",
       "Education        -1.098855   1.597951 -0.687665  0.492075  -4.240582   \n",
       "Male             10.653248   9.914000  1.074566  0.283237  -8.838637   \n",
       "Married_No        8.533901  10.362875  0.823507  0.410726 -11.840515   \n",
       "Asian             6.697154  12.122442  0.552459  0.580952 -17.136741   \n",
       "AfricanAmerican -10.107025  12.209923 -0.827771  0.408309 -34.112917   \n",
       "\n",
       "                    0.975]  \n",
       "Age              -0.035897  \n",
       "Education         2.042872  \n",
       "Male             30.145132  \n",
       "Married_No       28.908316  \n",
       "Asian            30.531049  \n",
       "AfricanAmerican  13.898867  "
      ]
     },
     "execution_count": 39,
     "metadata": {},
     "output_type": "execute_result"
    }
   ],
   "source": [
    "# Utiliza esta celda para explorar los atributos que no modifican el balance de forma significativa significativos (considerando alpha 0.025)\n",
    "coef[\n",
    "   (coef['P>|t|'] > 0.025)\n",
    "]"
   ]
  },
  {
   "cell_type": "markdown",
   "id": "b2736a4f",
   "metadata": {},
   "source": [
    "**Comentarios**"
   ]
  },
  {
   "cell_type": "markdown",
   "id": "3d8da77c",
   "metadata": {},
   "source": [
    "### 5. Depurar el modelo e incluya sólo los predictores significativo (2 puntos)\n",
    "- En base al modelo anterior, refactoriza e incluya sólo las variables con un nivel de significancia _p-value_ $\\leq 0.025$. "
   ]
  },
  {
   "cell_type": "code",
   "execution_count": 40,
   "id": "2be30b53",
   "metadata": {},
   "outputs": [],
   "source": [
    "# Utiliza esta celda para generar el modelo depurado\n",
    "modelo_depurado = smf.ols('Balance ~ Income + Limit + Rating + Cards + Student_Yes ', data=df).fit()"
   ]
  },
  {
   "cell_type": "markdown",
   "id": "b7a73761",
   "metadata": {},
   "source": [
    "- Comente brevemente sobre el poder explicativo en la varianza de $y$"
   ]
  },
  {
   "cell_type": "code",
   "execution_count": 41,
   "id": "28e33ffe",
   "metadata": {},
   "outputs": [
    {
     "name": "stdout",
     "output_type": "stream",
     "text": [
      "El poder explicativo del modelo generado en la varianza de Balance es de 0.95358\n"
     ]
    }
   ],
   "source": [
    "# Utiliza esa celda para explorar el poder explicativ en la varianza de Balance\n",
    "print(f'El poder explicativo del modelo generado en la varianza de Balance es de {round(modelo_depurado.rsquared_adj,5)}')"
   ]
  },
  {
   "cell_type": "markdown",
   "id": "f76b98fe",
   "metadata": {},
   "source": [
    "**Comentarios**"
   ]
  },
  {
   "cell_type": "markdown",
   "id": "5f475309",
   "metadata": {},
   "source": [
    "- Comente brevemente las principales características de los predictores."
   ]
  },
  {
   "cell_type": "code",
   "execution_count": 29,
   "id": "3ca697b9",
   "metadata": {},
   "outputs": [],
   "source": [
    "# Utiliza esta celda para almacenar los coeficientes y sus significancias"
   ]
  },
  {
   "cell_type": "code",
   "execution_count": 30,
   "id": "2f7cb761",
   "metadata": {},
   "outputs": [],
   "source": [
    "# Utiliza esta celda para explorar los atributos que aumentan el balance en forma significativa (considerando alpha 0.025)"
   ]
  },
  {
   "cell_type": "code",
   "execution_count": 31,
   "id": "16859668",
   "metadata": {},
   "outputs": [],
   "source": [
    "# Utiliza esta celda para explorar los atributos que disminuyen el balance en forma significativa (considerando alpha 0.025)"
   ]
  },
  {
   "cell_type": "code",
   "execution_count": 32,
   "id": "3084a01a",
   "metadata": {},
   "outputs": [],
   "source": [
    "# Utiliza esta celda para explorar los atributos que no modifican el balance de forma significativa significativos (considerando alpha 0.025)"
   ]
  },
  {
   "cell_type": "markdown",
   "id": "d15d794e",
   "metadata": {},
   "source": [
    "**Comentarios**"
   ]
  },
  {
   "cell_type": "markdown",
   "id": "37fe2404",
   "metadata": {},
   "source": [
    "- ¿Mejoró o empeoró el modelo con la reducción de regresores?\n",
    "\n",
    "**Respuesta**"
   ]
  },
  {
   "cell_type": "markdown",
   "id": "bf46e64f",
   "metadata": {},
   "source": [
    "### 6. Utilizando `lmplot` de `seaborn`, inspeccione el comportamiento de los tres principales determinantes. (2 puntos)\n",
    "\n",
    "Considere los 3 con valores más bajos de _p-value_ del último modelo generado"
   ]
  },
  {
   "cell_type": "code",
   "execution_count": 33,
   "id": "74bf21b2",
   "metadata": {},
   "outputs": [],
   "source": [
    "# Utiliza esta celda para mostrar los coeficientes con los 3 p-values más bajos (no considere el intercepto)"
   ]
  },
  {
   "cell_type": "code",
   "execution_count": 34,
   "id": "a7aaab11",
   "metadata": {},
   "outputs": [],
   "source": [
    "# Utiliza esta celda para graficar el primer atributo"
   ]
  },
  {
   "cell_type": "markdown",
   "id": "4b157606",
   "metadata": {},
   "source": [
    "**Comentarios**\n"
   ]
  },
  {
   "cell_type": "code",
   "execution_count": 35,
   "id": "abadb422",
   "metadata": {},
   "outputs": [],
   "source": [
    "# Utiliza esta celda para graficar el segundo atributo"
   ]
  },
  {
   "cell_type": "markdown",
   "id": "c2081b41",
   "metadata": {},
   "source": [
    "**Comentarios**"
   ]
  },
  {
   "cell_type": "code",
   "execution_count": 36,
   "id": "abd382ce",
   "metadata": {},
   "outputs": [],
   "source": [
    "# Utiliza esta celda para graficar el tercer atributo"
   ]
  },
  {
   "cell_type": "markdown",
   "id": "501f70e7",
   "metadata": {},
   "source": [
    "**Comentarios**"
   ]
  },
  {
   "cell_type": "code",
   "execution_count": null,
   "id": "4e4c4d00",
   "metadata": {},
   "outputs": [],
   "source": []
  }
 ],
 "metadata": {
  "kernelspec": {
   "display_name": "Python 3.9.12 ('base')",
   "language": "python",
   "name": "python3"
  },
  "language_info": {
   "codemirror_mode": {
    "name": "ipython",
    "version": 3
   },
   "file_extension": ".py",
   "mimetype": "text/x-python",
   "name": "python",
   "nbconvert_exporter": "python",
   "pygments_lexer": "ipython3",
   "version": "3.9.12"
  },
  "vscode": {
   "interpreter": {
    "hash": "8c36b02c8e638dd02579157a992cf8c1e39377e4b1159ea46021ea15210cf677"
   }
  }
 },
 "nbformat": 4,
 "nbformat_minor": 5
}
