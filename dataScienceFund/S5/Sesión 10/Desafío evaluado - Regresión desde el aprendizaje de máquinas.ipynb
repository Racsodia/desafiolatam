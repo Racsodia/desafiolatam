{
 "cells": [
  {
   "cell_type": "markdown",
   "id": "c2161bed",
   "metadata": {},
   "source": [
    "<h1 style=\"text-align: center;\">Desafío - Estimando curvas de densidad de probabilidad</h1>\n",
    "\n",
    "- Para realizar este desafío debes haber estudiado previamente todo el material disponible correspondiente a la unidad.\n",
    "- Una vez terminado el desafío, comprime la carpeta que contiene el desarrollo de los requerimientos solicitados y sube el .zip en el LMS.\n",
    "- Desarrollo desafío: Individual.\n",
    "Para la realización del desafío necesitarás apoyarte del archivo <a href=\"https://empieza.desafiolatam.com/cohorts/2091/sections/78283/activities/119112/items/610889\">Apoyo Desafío - Regresión desde el aprendizaje de máquinas</a>."
   ]
  },
  {
   "cell_type": "markdown",
   "id": "a7fbb684",
   "metadata": {},
   "source": [
    "## Habilidades a evaluar\n",
    "- Identificar la regresión lineal y sus fundamentos.\n",
    "- Reconocer los supuestos en los que la regresión tiene sustento teórico.\n",
    "- Utilizar transformaciones simples en las variables independientes.\n",
    "- Implementar un modelo predictivo con `scikit-learn`.\n",
    "- Reconocer la terminología asociada a la modelación estadística."
   ]
  },
  {
   "cell_type": "markdown",
   "id": "595608f1",
   "metadata": {},
   "source": [
    "## Descripción\n",
    "\n",
    "Una consultora internacional radicada en EEUU está buscando analistas, por lo que han diseñado una prueba que permita poder seleccionar a quienes cuenten con las habilidades necesarias para crear modelación estadística. Para ello, ponen a disposición de los interesados una base de datos sobre los precios de las viviendas en Boston, utilizada en el paper Harrison Jr, D., & Rubinfeld, D. L. (1978). Hedonic housing prices and the demand for clean air. Journal of environmental economics and management, 5(1), 81-102.\n",
    "\n",
    "El objetivo del ejercicio de captación de talento es desarrollar un modelo predictivo para el valor mediano de las casas mediante el entrenamiento de un modelo de regresión lineal.\n",
    "\n",
    "- `crim`: Tasa de criminalidad por sector de Boston.\n",
    "- `zn`: Proporción de terreno residencial asignado para terrenos baldíos.\n",
    "- `indus`: Proporción de negocios no asociados al comercio por sector.\n",
    "- `chas`: Dummy. 1 si el sector colinda con el río Charles, 0 de lo contrario.\n",
    "- `nox`: Concentración de dióxido de carbono.\n",
    "- `rm`: Cantidad promedio de habitaciones por casa.\n",
    "- `age`: Proporción de casas construidas antes de 1940.\n",
    "- `dis`: Distancia promedio a cinco centros de empleos.\n",
    "- `rad`: Índice de accesibilidad a autopistas.\n",
    "- `tax`: Nivel de impuestos asociados a viviendas.\n",
    "- `ptratio`: Razón alumno:profesor por sector de Boston.\n",
    "- `black`: Proporción de afroamericanos por sector de Boston.\n",
    "- `lstat`: Porcentaje de población de estratos bajos.\n",
    "- `medv`: Valor mediano de las casas **(Vector objetivo)**."
   ]
  },
  {
   "cell_type": "markdown",
   "id": "74fe71f7",
   "metadata": {},
   "source": [
    "## Requerimientos\n",
    "A continuación revisaremos los requerimientos y acciones que la empresa a la cual postulas te pide realizar.\n",
    "\n",
    "\n",
    "### 1. Preparar el ambiente de trabajo (1 puntos)\n",
    "\n",
    "- Importe las librerías básicas para el análisis de datos.\n",
    "- Importe la clase `LinearRegression` del módulo `linear_model`, y las funciones `mean_squared_error`, `r2_score` y `train_test_split`.\n",
    "- Importe la base de datos `boston.csv` y elimine la columna `Unnamed: 0`.\n",
    "- Obtenga las medidas descriptivas de la base de datos con `describe()`."
   ]
  },
  {
   "cell_type": "code",
   "execution_count": 1,
   "id": "b2d999c2",
   "metadata": {},
   "outputs": [],
   "source": [
    "# Utiliza esta celda para realizar los import solicitados y leer el set de datos en la forma solicitada"
   ]
  },
  {
   "cell_type": "code",
   "execution_count": 2,
   "id": "beff4014",
   "metadata": {},
   "outputs": [],
   "source": [
    "# Utiliza esta celda para explorar las medidas descriptivas del set de datos"
   ]
  },
  {
   "cell_type": "markdown",
   "id": "fa3ac495",
   "metadata": {},
   "source": [
    "**Comentarios de las medidas descriptivas**"
   ]
  },
  {
   "cell_type": "markdown",
   "id": "4802cddd",
   "metadata": {},
   "source": [
    "### 2. Dividir la muestra (1 puntos)\n",
    "- Genere conjuntos de entrenamiento y pruebas con `train_test_split`.\n",
    "- Reserve un 33% de la muestra para el conjunto de pruebas.\n",
    "- Incluya una semilla pseudoaleatoria a su elección, esto lo puede hacer con el argumento `random_state` dentro del método `train_test_plit`."
   ]
  },
  {
   "cell_type": "code",
   "execution_count": 3,
   "id": "b0845a2d",
   "metadata": {},
   "outputs": [],
   "source": [
    "# Utiliza esta celda para generar los 4 subsets entregados por train_test_split"
   ]
  },
  {
   "cell_type": "markdown",
   "id": "84b4cab5",
   "metadata": {},
   "source": [
    "### 3. Generar modelos (2 puntos)\n",
    "- Ahora implementaremos dos versiones del modelo lineal:\n",
    "    - Con intercepto.\n",
    "    - Sin intercepto.\n",
    "- Cada versión debe generarse en un nuevo objeto inicializado.\n",
    "- Posteriormente se deben entrenar los modelos especificando la matriz y vector de entrenamiento.\n",
    "- Con los modelos entrenados, genere una predicción de la matriz de pruebas con el método `predict()`."
   ]
  },
  {
   "cell_type": "code",
   "execution_count": 4,
   "id": "cefd1e49",
   "metadata": {},
   "outputs": [],
   "source": [
    "# Utiliza esta celda para instanciar y entrenar los dos modelos solicitados"
   ]
  },
  {
   "cell_type": "code",
   "execution_count": 5,
   "id": "b16dd69c",
   "metadata": {},
   "outputs": [],
   "source": [
    "# Utiliza esta celda para generar predicciones para ambos modelos"
   ]
  },
  {
   "cell_type": "markdown",
   "id": "4b32761e",
   "metadata": {},
   "source": [
    "### 4. Obtención de métricas (1 puntos)\n",
    "- Ahora generaremos una función llamada `report_scores` que ingrese como argumentos el vector de datos predichos y el vector de datos por validar.\n",
    "- La función debe imprimir las métricas del Error Cuadrático Promedio y R2.\n",
    "- Reporte las métricas para ambos modelos. En base a ello, seleccione el mejor modelo."
   ]
  },
  {
   "cell_type": "code",
   "execution_count": 6,
   "id": "af2e395d",
   "metadata": {},
   "outputs": [],
   "source": [
    "# Utiliza esta celda para definir la función solicitada"
   ]
  },
  {
   "cell_type": "code",
   "execution_count": 7,
   "id": "4de34836",
   "metadata": {},
   "outputs": [],
   "source": [
    "# Utiliza esta celda para hacer el llamado a la función definida previamente para ambos modelos entrenados"
   ]
  },
  {
   "cell_type": "markdown",
   "id": "d6d26eeb",
   "metadata": {},
   "source": [
    "**Elección del mejor modelo y justificación**"
   ]
  },
  {
   "cell_type": "markdown",
   "id": "f732c0e0",
   "metadata": {},
   "source": [
    "### 5. Refactorización del modelo (1 puntos)\n",
    "- Genere una función llamada `fetch_features` que ingrese como argumentos el set de datos y el nombre del vector objetivo. El nombre del vector debe ser `medv` por defecto.\n",
    "- La función debe retornar una lista con las correlaciones entre cada atributo y el vector objetivo y su nombre.\n",
    "- Reporte brevemente cuáles son los 6 atributos con una mayor correlación _absoluta_ con `medv` (de mayor a menor correlación)."
   ]
  },
  {
   "cell_type": "code",
   "execution_count": 8,
   "id": "d1a09694",
   "metadata": {},
   "outputs": [],
   "source": [
    "# Utiliza esta celda para definir la función solicitada"
   ]
  },
  {
   "cell_type": "code",
   "execution_count": 9,
   "id": "eab8e035",
   "metadata": {},
   "outputs": [],
   "source": [
    "# Utiliza esta celda para hacer el llamado a la función definida previamente"
   ]
  },
  {
   "cell_type": "markdown",
   "id": "acb7e42e",
   "metadata": {},
   "source": [
    "### 6. Refactorización del modelo predictivo (2 puntos)\n",
    "- Genere otros conjuntos de entrenamiento y validación en base a una matriz con los 6 atributos identificados en el ejercicio anterior, y el vector objetivo.\n",
    "- Entrene un modelo en base al mejor desempeño.\n",
    "- Reporte las métricas para el nuevo modelo."
   ]
  },
  {
   "cell_type": "code",
   "execution_count": 10,
   "id": "32ca7dcb",
   "metadata": {},
   "outputs": [],
   "source": [
    "# Utiliza esta celda para generar los nuevos subserts de train y test"
   ]
  },
  {
   "cell_type": "code",
   "execution_count": 11,
   "id": "89f9120f",
   "metadata": {},
   "outputs": [],
   "source": [
    "# Utiliza esta celda para entrenar el nuevo modelo"
   ]
  },
  {
   "cell_type": "code",
   "execution_count": 12,
   "id": "432701c8",
   "metadata": {},
   "outputs": [],
   "source": [
    "# Utiliza esta celda para reportar las métricas del nuevo modelo"
   ]
  },
  {
   "cell_type": "markdown",
   "id": "09bd28e6",
   "metadata": {},
   "source": [
    "**Comentarios**"
   ]
  },
  {
   "cell_type": "markdown",
   "id": "75675d2b",
   "metadata": {},
   "source": [
    "### 7. Predicción de casos (2 puntos): \n",
    "\n",
    "- A continuación se generaron dos `np.array` que representan el peor escenario posible (worst_neighbor) y el mejor escenario posible (best_neighbor).\n",
    "- Las variables representan, para cada caso, los valores de los siguientes atributos (en el mismo orden entregado): `lstat`, `rm`, `ptratio`, `indus`, `tax`, `nox`."
   ]
  },
  {
   "cell_type": "code",
   "execution_count": null,
   "id": "0add8b71",
   "metadata": {},
   "outputs": [],
   "source": [
    "worst_neighbor = np.array([37.9, 12.6, 3.5, 27.7, 187, 0.87]).reshape(1, -1)\n",
    "best_neighbor = np.array([1.73, 22, 8.7, 0.46, 711, 0.38]).reshape(1, -1)"
   ]
  },
  {
   "cell_type": "markdown",
   "id": "6bf8a829",
   "metadata": {},
   "source": [
    "- Ingrese los `np.array` en el modelo entrenado en el ejercicio anterior, y reporte la predicción entregada por el modelo."
   ]
  },
  {
   "cell_type": "code",
   "execution_count": 14,
   "id": "e0957cb7",
   "metadata": {},
   "outputs": [],
   "source": [
    "# Utiliza esta celda para realizar una predicción para worst_neighbor"
   ]
  },
  {
   "cell_type": "code",
   "execution_count": 15,
   "id": "c0f97b7b",
   "metadata": {},
   "outputs": [],
   "source": [
    "# Utiliza esta celda para realizar una predicción para best_neighbor"
   ]
  },
  {
   "cell_type": "markdown",
   "id": "d00880cc",
   "metadata": {},
   "source": [
    "**Comentarios**"
   ]
  },
  {
   "cell_type": "code",
   "execution_count": null,
   "id": "c71902bb",
   "metadata": {},
   "outputs": [],
   "source": []
  }
 ],
 "metadata": {
  "kernelspec": {
   "display_name": "Python 3.8.9 64-bit",
   "language": "python",
   "name": "python3"
  },
  "language_info": {
   "codemirror_mode": {
    "name": "ipython",
    "version": 3
   },
   "file_extension": ".py",
   "mimetype": "text/x-python",
   "name": "python",
   "nbconvert_exporter": "python",
   "pygments_lexer": "ipython3",
   "version": "3.8.9"
  },
  "vscode": {
   "interpreter": {
    "hash": "31f2aee4e71d21fbe5cf8b01ff0e069b9275f58929596ceb00d14d90e3e16cd6"
   }
  }
 },
 "nbformat": 4,
 "nbformat_minor": 5
}
