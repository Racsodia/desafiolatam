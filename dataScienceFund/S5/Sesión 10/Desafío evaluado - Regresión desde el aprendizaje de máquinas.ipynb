{
 "cells": [
  {
   "attachments": {},
   "cell_type": "markdown",
   "id": "c2161bed",
   "metadata": {},
   "source": [
    "<h1 style=\"text-align: center;\">Desafío - Regresión desde el aprendizaje de máquinas</h1>\n",
    "\n",
    "- Para realizar este desafío debes haber estudiado previamente todo el material disponible correspondiente a la unidad.\n",
    "- Una vez terminado el desafío, comprime la carpeta que contiene el desarrollo de los requerimientos solicitados y sube el .zip en el LMS.\n",
    "- Desarrollo desafío: Individual.\n",
    "Para la realización del desafío necesitarás apoyarte del archivo <a href=\"https://empieza.desafiolatam.com/cohorts/2091/sections/78283/activities/119112/items/610889\">Apoyo Desafío - Regresión desde el aprendizaje de máquinas</a>."
   ]
  },
  {
   "cell_type": "markdown",
   "id": "a7fbb684",
   "metadata": {},
   "source": [
    "## Habilidades a evaluar\n",
    "- Identificar la regresión lineal y sus fundamentos.\n",
    "- Reconocer los supuestos en los que la regresión tiene sustento teórico.\n",
    "- Utilizar transformaciones simples en las variables independientes.\n",
    "- Implementar un modelo predictivo con `scikit-learn`.\n",
    "- Reconocer la terminología asociada a la modelación estadística."
   ]
  },
  {
   "cell_type": "markdown",
   "id": "595608f1",
   "metadata": {},
   "source": [
    "## Descripción\n",
    "\n",
    "Una consultora internacional radicada en EEUU está buscando analistas, por lo que han diseñado una prueba que permita poder seleccionar a quienes cuenten con las habilidades necesarias para crear modelación estadística. Para ello, ponen a disposición de los interesados una base de datos sobre los precios de las viviendas en Boston, utilizada en el paper Harrison Jr, D., & Rubinfeld, D. L. (1978). Hedonic housing prices and the demand for clean air. Journal of environmental economics and management, 5(1), 81-102.\n",
    "\n",
    "El objetivo del ejercicio de captación de talento es desarrollar un modelo predictivo para el valor mediano de las casas mediante el entrenamiento de un modelo de regresión lineal.\n",
    "\n",
    "- `crim`: Tasa de criminalidad por sector de Boston.\n",
    "- `zn`: Proporción de terreno residencial asignado para terrenos baldíos.\n",
    "- `indus`: Proporción de negocios no asociados al comercio por sector.\n",
    "- `chas`: Dummy. 1 si el sector colinda con el río Charles, 0 de lo contrario.\n",
    "- `nox`: Concentración de dióxido de carbono.\n",
    "- `rm`: Cantidad promedio de habitaciones por casa.\n",
    "- `age`: Proporción de casas construidas antes de 1940.\n",
    "- `dis`: Distancia promedio a cinco centros de empleos.\n",
    "- `rad`: Índice de accesibilidad a autopistas.\n",
    "- `tax`: Nivel de impuestos asociados a viviendas.\n",
    "- `ptratio`: Razón alumno:profesor por sector de Boston.\n",
    "- `black`: Proporción de afroamericanos por sector de Boston.\n",
    "- `lstat`: Porcentaje de población de estratos bajos.\n",
    "- `medv`: Valor mediano de las casas **(Vector objetivo)**."
   ]
  },
  {
   "cell_type": "markdown",
   "id": "74fe71f7",
   "metadata": {},
   "source": [
    "## Requerimientos\n",
    "A continuación revisaremos los requerimientos y acciones que la empresa a la cual postulas te pide realizar.\n",
    "\n",
    "\n",
    "### 1. Preparar el ambiente de trabajo (1 puntos)\n",
    "\n",
    "- Importe las librerías básicas para el análisis de datos.\n",
    "- Importe la clase `LinearRegression` del módulo `linear_model`, y las funciones `mean_squared_error`, `r2_score` y `train_test_split`.\n",
    "- Importe la base de datos `boston.csv` y elimine la columna `Unnamed: 0`.\n",
    "- Obtenga las medidas descriptivas de la base de datos con `describe()`."
   ]
  },
  {
   "cell_type": "code",
   "execution_count": 79,
   "id": "b2d999c2",
   "metadata": {},
   "outputs": [
    {
     "data": {
      "text/html": [
       "<div>\n",
       "<style scoped>\n",
       "    .dataframe tbody tr th:only-of-type {\n",
       "        vertical-align: middle;\n",
       "    }\n",
       "\n",
       "    .dataframe tbody tr th {\n",
       "        vertical-align: top;\n",
       "    }\n",
       "\n",
       "    .dataframe thead th {\n",
       "        text-align: right;\n",
       "    }\n",
       "</style>\n",
       "<table border=\"1\" class=\"dataframe\">\n",
       "  <thead>\n",
       "    <tr style=\"text-align: right;\">\n",
       "      <th></th>\n",
       "      <th>crim</th>\n",
       "      <th>zn</th>\n",
       "      <th>indus</th>\n",
       "      <th>chas</th>\n",
       "      <th>nox</th>\n",
       "      <th>rm</th>\n",
       "      <th>age</th>\n",
       "      <th>dis</th>\n",
       "      <th>rad</th>\n",
       "      <th>tax</th>\n",
       "      <th>ptratio</th>\n",
       "      <th>black</th>\n",
       "      <th>lstat</th>\n",
       "      <th>medv</th>\n",
       "    </tr>\n",
       "  </thead>\n",
       "  <tbody>\n",
       "    <tr>\n",
       "      <th>0</th>\n",
       "      <td>0.00632</td>\n",
       "      <td>18.0</td>\n",
       "      <td>2.31</td>\n",
       "      <td>0</td>\n",
       "      <td>0.538</td>\n",
       "      <td>6.575</td>\n",
       "      <td>65.2</td>\n",
       "      <td>4.0900</td>\n",
       "      <td>1</td>\n",
       "      <td>296</td>\n",
       "      <td>15.3</td>\n",
       "      <td>396.90</td>\n",
       "      <td>4.98</td>\n",
       "      <td>24.0</td>\n",
       "    </tr>\n",
       "    <tr>\n",
       "      <th>1</th>\n",
       "      <td>0.02731</td>\n",
       "      <td>0.0</td>\n",
       "      <td>7.07</td>\n",
       "      <td>0</td>\n",
       "      <td>0.469</td>\n",
       "      <td>6.421</td>\n",
       "      <td>78.9</td>\n",
       "      <td>4.9671</td>\n",
       "      <td>2</td>\n",
       "      <td>242</td>\n",
       "      <td>17.8</td>\n",
       "      <td>396.90</td>\n",
       "      <td>9.14</td>\n",
       "      <td>21.6</td>\n",
       "    </tr>\n",
       "    <tr>\n",
       "      <th>2</th>\n",
       "      <td>0.02729</td>\n",
       "      <td>0.0</td>\n",
       "      <td>7.07</td>\n",
       "      <td>0</td>\n",
       "      <td>0.469</td>\n",
       "      <td>7.185</td>\n",
       "      <td>61.1</td>\n",
       "      <td>4.9671</td>\n",
       "      <td>2</td>\n",
       "      <td>242</td>\n",
       "      <td>17.8</td>\n",
       "      <td>392.83</td>\n",
       "      <td>4.03</td>\n",
       "      <td>34.7</td>\n",
       "    </tr>\n",
       "    <tr>\n",
       "      <th>3</th>\n",
       "      <td>0.03237</td>\n",
       "      <td>0.0</td>\n",
       "      <td>2.18</td>\n",
       "      <td>0</td>\n",
       "      <td>0.458</td>\n",
       "      <td>6.998</td>\n",
       "      <td>45.8</td>\n",
       "      <td>6.0622</td>\n",
       "      <td>3</td>\n",
       "      <td>222</td>\n",
       "      <td>18.7</td>\n",
       "      <td>394.63</td>\n",
       "      <td>2.94</td>\n",
       "      <td>33.4</td>\n",
       "    </tr>\n",
       "    <tr>\n",
       "      <th>4</th>\n",
       "      <td>0.06905</td>\n",
       "      <td>0.0</td>\n",
       "      <td>2.18</td>\n",
       "      <td>0</td>\n",
       "      <td>0.458</td>\n",
       "      <td>7.147</td>\n",
       "      <td>54.2</td>\n",
       "      <td>6.0622</td>\n",
       "      <td>3</td>\n",
       "      <td>222</td>\n",
       "      <td>18.7</td>\n",
       "      <td>396.90</td>\n",
       "      <td>5.33</td>\n",
       "      <td>36.2</td>\n",
       "    </tr>\n",
       "  </tbody>\n",
       "</table>\n",
       "</div>"
      ],
      "text/plain": [
       "      crim    zn  indus  chas    nox     rm   age     dis  rad  tax  ptratio  \\\n",
       "0  0.00632  18.0   2.31     0  0.538  6.575  65.2  4.0900    1  296     15.3   \n",
       "1  0.02731   0.0   7.07     0  0.469  6.421  78.9  4.9671    2  242     17.8   \n",
       "2  0.02729   0.0   7.07     0  0.469  7.185  61.1  4.9671    2  242     17.8   \n",
       "3  0.03237   0.0   2.18     0  0.458  6.998  45.8  6.0622    3  222     18.7   \n",
       "4  0.06905   0.0   2.18     0  0.458  7.147  54.2  6.0622    3  222     18.7   \n",
       "\n",
       "    black  lstat  medv  \n",
       "0  396.90   4.98  24.0  \n",
       "1  396.90   9.14  21.6  \n",
       "2  392.83   4.03  34.7  \n",
       "3  394.63   2.94  33.4  \n",
       "4  396.90   5.33  36.2  "
      ]
     },
     "execution_count": 79,
     "metadata": {},
     "output_type": "execute_result"
    }
   ],
   "source": [
    "# Utiliza esta celda para realizar los import solicitados y leer el set de datos en la forma solicitada\n",
    "import pandas as pd\n",
    "import numpy as np\n",
    "from sklearn.linear_model import LinearRegression\n",
    "from sklearn.metrics import mean_squared_error, r2_score\n",
    "from sklearn.model_selection import train_test_split  \n",
    "import warnings\n",
    "warnings.simplefilter(\"ignore\")\n",
    "\n",
    "df = pd.read_csv(\"boston.csv\").drop(\"Unnamed: 0\", axis=1)\n",
    "df.head()"
   ]
  },
  {
   "cell_type": "code",
   "execution_count": 80,
   "id": "beff4014",
   "metadata": {},
   "outputs": [
    {
     "data": {
      "text/html": [
       "<div>\n",
       "<style scoped>\n",
       "    .dataframe tbody tr th:only-of-type {\n",
       "        vertical-align: middle;\n",
       "    }\n",
       "\n",
       "    .dataframe tbody tr th {\n",
       "        vertical-align: top;\n",
       "    }\n",
       "\n",
       "    .dataframe thead th {\n",
       "        text-align: right;\n",
       "    }\n",
       "</style>\n",
       "<table border=\"1\" class=\"dataframe\">\n",
       "  <thead>\n",
       "    <tr style=\"text-align: right;\">\n",
       "      <th></th>\n",
       "      <th>crim</th>\n",
       "      <th>zn</th>\n",
       "      <th>indus</th>\n",
       "      <th>chas</th>\n",
       "      <th>nox</th>\n",
       "      <th>rm</th>\n",
       "      <th>age</th>\n",
       "      <th>dis</th>\n",
       "      <th>rad</th>\n",
       "      <th>tax</th>\n",
       "      <th>ptratio</th>\n",
       "      <th>black</th>\n",
       "      <th>lstat</th>\n",
       "      <th>medv</th>\n",
       "    </tr>\n",
       "  </thead>\n",
       "  <tbody>\n",
       "    <tr>\n",
       "      <th>count</th>\n",
       "      <td>506.000000</td>\n",
       "      <td>506.000000</td>\n",
       "      <td>506.000000</td>\n",
       "      <td>506.000000</td>\n",
       "      <td>506.000000</td>\n",
       "      <td>506.000000</td>\n",
       "      <td>506.000000</td>\n",
       "      <td>506.000000</td>\n",
       "      <td>506.000000</td>\n",
       "      <td>506.000000</td>\n",
       "      <td>506.000000</td>\n",
       "      <td>506.000000</td>\n",
       "      <td>506.000000</td>\n",
       "      <td>506.000000</td>\n",
       "    </tr>\n",
       "    <tr>\n",
       "      <th>mean</th>\n",
       "      <td>3.613524</td>\n",
       "      <td>11.363636</td>\n",
       "      <td>11.136779</td>\n",
       "      <td>0.069170</td>\n",
       "      <td>0.554695</td>\n",
       "      <td>6.284634</td>\n",
       "      <td>68.574901</td>\n",
       "      <td>3.795043</td>\n",
       "      <td>9.549407</td>\n",
       "      <td>408.237154</td>\n",
       "      <td>18.455534</td>\n",
       "      <td>356.674032</td>\n",
       "      <td>12.653063</td>\n",
       "      <td>22.532806</td>\n",
       "    </tr>\n",
       "    <tr>\n",
       "      <th>std</th>\n",
       "      <td>8.601545</td>\n",
       "      <td>23.322453</td>\n",
       "      <td>6.860353</td>\n",
       "      <td>0.253994</td>\n",
       "      <td>0.115878</td>\n",
       "      <td>0.702617</td>\n",
       "      <td>28.148861</td>\n",
       "      <td>2.105710</td>\n",
       "      <td>8.707259</td>\n",
       "      <td>168.537116</td>\n",
       "      <td>2.164946</td>\n",
       "      <td>91.294864</td>\n",
       "      <td>7.141062</td>\n",
       "      <td>9.197104</td>\n",
       "    </tr>\n",
       "    <tr>\n",
       "      <th>min</th>\n",
       "      <td>0.006320</td>\n",
       "      <td>0.000000</td>\n",
       "      <td>0.460000</td>\n",
       "      <td>0.000000</td>\n",
       "      <td>0.385000</td>\n",
       "      <td>3.561000</td>\n",
       "      <td>2.900000</td>\n",
       "      <td>1.129600</td>\n",
       "      <td>1.000000</td>\n",
       "      <td>187.000000</td>\n",
       "      <td>12.600000</td>\n",
       "      <td>0.320000</td>\n",
       "      <td>1.730000</td>\n",
       "      <td>5.000000</td>\n",
       "    </tr>\n",
       "    <tr>\n",
       "      <th>25%</th>\n",
       "      <td>0.082045</td>\n",
       "      <td>0.000000</td>\n",
       "      <td>5.190000</td>\n",
       "      <td>0.000000</td>\n",
       "      <td>0.449000</td>\n",
       "      <td>5.885500</td>\n",
       "      <td>45.025000</td>\n",
       "      <td>2.100175</td>\n",
       "      <td>4.000000</td>\n",
       "      <td>279.000000</td>\n",
       "      <td>17.400000</td>\n",
       "      <td>375.377500</td>\n",
       "      <td>6.950000</td>\n",
       "      <td>17.025000</td>\n",
       "    </tr>\n",
       "    <tr>\n",
       "      <th>50%</th>\n",
       "      <td>0.256510</td>\n",
       "      <td>0.000000</td>\n",
       "      <td>9.690000</td>\n",
       "      <td>0.000000</td>\n",
       "      <td>0.538000</td>\n",
       "      <td>6.208500</td>\n",
       "      <td>77.500000</td>\n",
       "      <td>3.207450</td>\n",
       "      <td>5.000000</td>\n",
       "      <td>330.000000</td>\n",
       "      <td>19.050000</td>\n",
       "      <td>391.440000</td>\n",
       "      <td>11.360000</td>\n",
       "      <td>21.200000</td>\n",
       "    </tr>\n",
       "    <tr>\n",
       "      <th>75%</th>\n",
       "      <td>3.677083</td>\n",
       "      <td>12.500000</td>\n",
       "      <td>18.100000</td>\n",
       "      <td>0.000000</td>\n",
       "      <td>0.624000</td>\n",
       "      <td>6.623500</td>\n",
       "      <td>94.075000</td>\n",
       "      <td>5.188425</td>\n",
       "      <td>24.000000</td>\n",
       "      <td>666.000000</td>\n",
       "      <td>20.200000</td>\n",
       "      <td>396.225000</td>\n",
       "      <td>16.955000</td>\n",
       "      <td>25.000000</td>\n",
       "    </tr>\n",
       "    <tr>\n",
       "      <th>max</th>\n",
       "      <td>88.976200</td>\n",
       "      <td>100.000000</td>\n",
       "      <td>27.740000</td>\n",
       "      <td>1.000000</td>\n",
       "      <td>0.871000</td>\n",
       "      <td>8.780000</td>\n",
       "      <td>100.000000</td>\n",
       "      <td>12.126500</td>\n",
       "      <td>24.000000</td>\n",
       "      <td>711.000000</td>\n",
       "      <td>22.000000</td>\n",
       "      <td>396.900000</td>\n",
       "      <td>37.970000</td>\n",
       "      <td>50.000000</td>\n",
       "    </tr>\n",
       "  </tbody>\n",
       "</table>\n",
       "</div>"
      ],
      "text/plain": [
       "             crim          zn       indus        chas         nox          rm  \\\n",
       "count  506.000000  506.000000  506.000000  506.000000  506.000000  506.000000   \n",
       "mean     3.613524   11.363636   11.136779    0.069170    0.554695    6.284634   \n",
       "std      8.601545   23.322453    6.860353    0.253994    0.115878    0.702617   \n",
       "min      0.006320    0.000000    0.460000    0.000000    0.385000    3.561000   \n",
       "25%      0.082045    0.000000    5.190000    0.000000    0.449000    5.885500   \n",
       "50%      0.256510    0.000000    9.690000    0.000000    0.538000    6.208500   \n",
       "75%      3.677083   12.500000   18.100000    0.000000    0.624000    6.623500   \n",
       "max     88.976200  100.000000   27.740000    1.000000    0.871000    8.780000   \n",
       "\n",
       "              age         dis         rad         tax     ptratio       black  \\\n",
       "count  506.000000  506.000000  506.000000  506.000000  506.000000  506.000000   \n",
       "mean    68.574901    3.795043    9.549407  408.237154   18.455534  356.674032   \n",
       "std     28.148861    2.105710    8.707259  168.537116    2.164946   91.294864   \n",
       "min      2.900000    1.129600    1.000000  187.000000   12.600000    0.320000   \n",
       "25%     45.025000    2.100175    4.000000  279.000000   17.400000  375.377500   \n",
       "50%     77.500000    3.207450    5.000000  330.000000   19.050000  391.440000   \n",
       "75%     94.075000    5.188425   24.000000  666.000000   20.200000  396.225000   \n",
       "max    100.000000   12.126500   24.000000  711.000000   22.000000  396.900000   \n",
       "\n",
       "            lstat        medv  \n",
       "count  506.000000  506.000000  \n",
       "mean    12.653063   22.532806  \n",
       "std      7.141062    9.197104  \n",
       "min      1.730000    5.000000  \n",
       "25%      6.950000   17.025000  \n",
       "50%     11.360000   21.200000  \n",
       "75%     16.955000   25.000000  \n",
       "max     37.970000   50.000000  "
      ]
     },
     "execution_count": 80,
     "metadata": {},
     "output_type": "execute_result"
    }
   ],
   "source": [
    "# Utiliza esta celda para explorar las medidas descriptivas del set de datos\n",
    "df.describe()"
   ]
  },
  {
   "cell_type": "markdown",
   "id": "fa3ac495",
   "metadata": {},
   "source": [
    "**Comentarios de las medidas descriptivas** tiene 506 observaciones con 14 variables. solo me referire a medidas de medv que es el vector objetivo, tiene una media de 22.5 y desviacione estandar de 9.19, con un minimo de 5 y maximo de 50"
   ]
  },
  {
   "cell_type": "markdown",
   "id": "4802cddd",
   "metadata": {},
   "source": [
    "### 2. Dividir la muestra (1 puntos)\n",
    "- Genere conjuntos de entrenamiento y pruebas con `train_test_split`.\n",
    "- Reserve un 33% de la muestra para el conjunto de pruebas.\n",
    "- Incluya una semilla pseudoaleatoria a su elección, esto lo puede hacer con el argumento `random_state` dentro del método `train_test_plit`."
   ]
  },
  {
   "cell_type": "code",
   "execution_count": 81,
   "id": "b0845a2d",
   "metadata": {},
   "outputs": [],
   "source": [
    "# Utiliza esta celda para generar los 4 subsets entregados por train_test_split\n",
    "X_train, X_test, y_train, y_test = train_test_split(df.drop(\"medv\", axis = 1), df[\"medv\"], test_size = .33, random_state = 11238)"
   ]
  },
  {
   "cell_type": "code",
   "execution_count": 82,
   "id": "74915429",
   "metadata": {},
   "outputs": [
    {
     "data": {
      "text/html": [
       "<div>\n",
       "<style scoped>\n",
       "    .dataframe tbody tr th:only-of-type {\n",
       "        vertical-align: middle;\n",
       "    }\n",
       "\n",
       "    .dataframe tbody tr th {\n",
       "        vertical-align: top;\n",
       "    }\n",
       "\n",
       "    .dataframe thead th {\n",
       "        text-align: right;\n",
       "    }\n",
       "</style>\n",
       "<table border=\"1\" class=\"dataframe\">\n",
       "  <thead>\n",
       "    <tr style=\"text-align: right;\">\n",
       "      <th></th>\n",
       "      <th>crim</th>\n",
       "      <th>zn</th>\n",
       "      <th>indus</th>\n",
       "      <th>chas</th>\n",
       "      <th>nox</th>\n",
       "      <th>rm</th>\n",
       "      <th>age</th>\n",
       "      <th>dis</th>\n",
       "      <th>rad</th>\n",
       "      <th>tax</th>\n",
       "      <th>ptratio</th>\n",
       "      <th>black</th>\n",
       "      <th>lstat</th>\n",
       "    </tr>\n",
       "  </thead>\n",
       "  <tbody>\n",
       "    <tr>\n",
       "      <th>388</th>\n",
       "      <td>14.33370</td>\n",
       "      <td>0.0</td>\n",
       "      <td>18.10</td>\n",
       "      <td>0</td>\n",
       "      <td>0.700</td>\n",
       "      <td>4.880</td>\n",
       "      <td>100.0</td>\n",
       "      <td>1.5895</td>\n",
       "      <td>24</td>\n",
       "      <td>666</td>\n",
       "      <td>20.2</td>\n",
       "      <td>372.92</td>\n",
       "      <td>30.62</td>\n",
       "    </tr>\n",
       "    <tr>\n",
       "      <th>105</th>\n",
       "      <td>0.13262</td>\n",
       "      <td>0.0</td>\n",
       "      <td>8.56</td>\n",
       "      <td>0</td>\n",
       "      <td>0.520</td>\n",
       "      <td>5.851</td>\n",
       "      <td>96.7</td>\n",
       "      <td>2.1069</td>\n",
       "      <td>5</td>\n",
       "      <td>384</td>\n",
       "      <td>20.9</td>\n",
       "      <td>394.05</td>\n",
       "      <td>16.47</td>\n",
       "    </tr>\n",
       "    <tr>\n",
       "      <th>402</th>\n",
       "      <td>9.59571</td>\n",
       "      <td>0.0</td>\n",
       "      <td>18.10</td>\n",
       "      <td>0</td>\n",
       "      <td>0.693</td>\n",
       "      <td>6.404</td>\n",
       "      <td>100.0</td>\n",
       "      <td>1.6390</td>\n",
       "      <td>24</td>\n",
       "      <td>666</td>\n",
       "      <td>20.2</td>\n",
       "      <td>376.11</td>\n",
       "      <td>20.31</td>\n",
       "    </tr>\n",
       "    <tr>\n",
       "      <th>237</th>\n",
       "      <td>0.51183</td>\n",
       "      <td>0.0</td>\n",
       "      <td>6.20</td>\n",
       "      <td>0</td>\n",
       "      <td>0.507</td>\n",
       "      <td>7.358</td>\n",
       "      <td>71.6</td>\n",
       "      <td>4.1480</td>\n",
       "      <td>8</td>\n",
       "      <td>307</td>\n",
       "      <td>17.4</td>\n",
       "      <td>390.07</td>\n",
       "      <td>4.73</td>\n",
       "    </tr>\n",
       "    <tr>\n",
       "      <th>134</th>\n",
       "      <td>0.97617</td>\n",
       "      <td>0.0</td>\n",
       "      <td>21.89</td>\n",
       "      <td>0</td>\n",
       "      <td>0.624</td>\n",
       "      <td>5.757</td>\n",
       "      <td>98.4</td>\n",
       "      <td>2.3460</td>\n",
       "      <td>4</td>\n",
       "      <td>437</td>\n",
       "      <td>21.2</td>\n",
       "      <td>262.76</td>\n",
       "      <td>17.31</td>\n",
       "    </tr>\n",
       "    <tr>\n",
       "      <th>...</th>\n",
       "      <td>...</td>\n",
       "      <td>...</td>\n",
       "      <td>...</td>\n",
       "      <td>...</td>\n",
       "      <td>...</td>\n",
       "      <td>...</td>\n",
       "      <td>...</td>\n",
       "      <td>...</td>\n",
       "      <td>...</td>\n",
       "      <td>...</td>\n",
       "      <td>...</td>\n",
       "      <td>...</td>\n",
       "      <td>...</td>\n",
       "    </tr>\n",
       "    <tr>\n",
       "      <th>439</th>\n",
       "      <td>9.39063</td>\n",
       "      <td>0.0</td>\n",
       "      <td>18.10</td>\n",
       "      <td>0</td>\n",
       "      <td>0.740</td>\n",
       "      <td>5.627</td>\n",
       "      <td>93.9</td>\n",
       "      <td>1.8172</td>\n",
       "      <td>24</td>\n",
       "      <td>666</td>\n",
       "      <td>20.2</td>\n",
       "      <td>396.90</td>\n",
       "      <td>22.88</td>\n",
       "    </tr>\n",
       "    <tr>\n",
       "      <th>133</th>\n",
       "      <td>0.32982</td>\n",
       "      <td>0.0</td>\n",
       "      <td>21.89</td>\n",
       "      <td>0</td>\n",
       "      <td>0.624</td>\n",
       "      <td>5.822</td>\n",
       "      <td>95.4</td>\n",
       "      <td>2.4699</td>\n",
       "      <td>4</td>\n",
       "      <td>437</td>\n",
       "      <td>21.2</td>\n",
       "      <td>388.69</td>\n",
       "      <td>15.03</td>\n",
       "    </tr>\n",
       "    <tr>\n",
       "      <th>484</th>\n",
       "      <td>2.37857</td>\n",
       "      <td>0.0</td>\n",
       "      <td>18.10</td>\n",
       "      <td>0</td>\n",
       "      <td>0.583</td>\n",
       "      <td>5.871</td>\n",
       "      <td>41.9</td>\n",
       "      <td>3.7240</td>\n",
       "      <td>24</td>\n",
       "      <td>666</td>\n",
       "      <td>20.2</td>\n",
       "      <td>370.73</td>\n",
       "      <td>13.34</td>\n",
       "    </tr>\n",
       "    <tr>\n",
       "      <th>293</th>\n",
       "      <td>0.08265</td>\n",
       "      <td>0.0</td>\n",
       "      <td>13.92</td>\n",
       "      <td>0</td>\n",
       "      <td>0.437</td>\n",
       "      <td>6.127</td>\n",
       "      <td>18.4</td>\n",
       "      <td>5.5027</td>\n",
       "      <td>4</td>\n",
       "      <td>289</td>\n",
       "      <td>16.0</td>\n",
       "      <td>396.90</td>\n",
       "      <td>8.58</td>\n",
       "    </tr>\n",
       "    <tr>\n",
       "      <th>384</th>\n",
       "      <td>20.08490</td>\n",
       "      <td>0.0</td>\n",
       "      <td>18.10</td>\n",
       "      <td>0</td>\n",
       "      <td>0.700</td>\n",
       "      <td>4.368</td>\n",
       "      <td>91.2</td>\n",
       "      <td>1.4395</td>\n",
       "      <td>24</td>\n",
       "      <td>666</td>\n",
       "      <td>20.2</td>\n",
       "      <td>285.83</td>\n",
       "      <td>30.63</td>\n",
       "    </tr>\n",
       "  </tbody>\n",
       "</table>\n",
       "<p>339 rows × 13 columns</p>\n",
       "</div>"
      ],
      "text/plain": [
       "         crim   zn  indus  chas    nox     rm    age     dis  rad  tax  \\\n",
       "388  14.33370  0.0  18.10     0  0.700  4.880  100.0  1.5895   24  666   \n",
       "105   0.13262  0.0   8.56     0  0.520  5.851   96.7  2.1069    5  384   \n",
       "402   9.59571  0.0  18.10     0  0.693  6.404  100.0  1.6390   24  666   \n",
       "237   0.51183  0.0   6.20     0  0.507  7.358   71.6  4.1480    8  307   \n",
       "134   0.97617  0.0  21.89     0  0.624  5.757   98.4  2.3460    4  437   \n",
       "..        ...  ...    ...   ...    ...    ...    ...     ...  ...  ...   \n",
       "439   9.39063  0.0  18.10     0  0.740  5.627   93.9  1.8172   24  666   \n",
       "133   0.32982  0.0  21.89     0  0.624  5.822   95.4  2.4699    4  437   \n",
       "484   2.37857  0.0  18.10     0  0.583  5.871   41.9  3.7240   24  666   \n",
       "293   0.08265  0.0  13.92     0  0.437  6.127   18.4  5.5027    4  289   \n",
       "384  20.08490  0.0  18.10     0  0.700  4.368   91.2  1.4395   24  666   \n",
       "\n",
       "     ptratio   black  lstat  \n",
       "388     20.2  372.92  30.62  \n",
       "105     20.9  394.05  16.47  \n",
       "402     20.2  376.11  20.31  \n",
       "237     17.4  390.07   4.73  \n",
       "134     21.2  262.76  17.31  \n",
       "..       ...     ...    ...  \n",
       "439     20.2  396.90  22.88  \n",
       "133     21.2  388.69  15.03  \n",
       "484     20.2  370.73  13.34  \n",
       "293     16.0  396.90   8.58  \n",
       "384     20.2  285.83  30.63  \n",
       "\n",
       "[339 rows x 13 columns]"
      ]
     },
     "execution_count": 82,
     "metadata": {},
     "output_type": "execute_result"
    }
   ],
   "source": [
    "X_train"
   ]
  },
  {
   "cell_type": "markdown",
   "id": "84b4cab5",
   "metadata": {},
   "source": [
    "### 3. Generar modelos (2 puntos)\n",
    "- Ahora implementaremos dos versiones del modelo lineal:\n",
    "    - Con intercepto.\n",
    "    - Sin intercepto.\n",
    "- Cada versión debe generarse en un nuevo objeto inicializado.\n",
    "- Posteriormente se deben entrenar los modelos especificando la matriz y vector de entrenamiento.\n",
    "- Con los modelos entrenados, genere una predicción de la matriz de pruebas con el método `predict()`."
   ]
  },
  {
   "cell_type": "code",
   "execution_count": 83,
   "id": "cefd1e49",
   "metadata": {},
   "outputs": [
    {
     "data": {
      "text/plain": [
       "LinearRegression()"
      ]
     },
     "execution_count": 83,
     "metadata": {},
     "output_type": "execute_result"
    }
   ],
   "source": [
    "# Utiliza esta celda para instanciar y entrenar los dos modelos solicitados\n",
    "modelo1 = LinearRegression(fit_intercept = True)\n",
    "modelo2 = LinearRegression(fit_intercept = False)\n",
    "\n",
    "modelo1.fit(X_train, y_train)\n"
   ]
  },
  {
   "cell_type": "code",
   "execution_count": 84,
   "id": "8ce900b1",
   "metadata": {},
   "outputs": [
    {
     "data": {
      "text/plain": [
       "LinearRegression(fit_intercept=False)"
      ]
     },
     "execution_count": 84,
     "metadata": {},
     "output_type": "execute_result"
    }
   ],
   "source": [
    "modelo2.fit(X_train, y_train)"
   ]
  },
  {
   "cell_type": "code",
   "execution_count": 85,
   "id": "b16dd69c",
   "metadata": {},
   "outputs": [],
   "source": [
    "# Utiliza esta celda para generar predicciones para ambos modelos\n",
    "modelo1_yhat = modelo1.predict(X_test)"
   ]
  },
  {
   "cell_type": "code",
   "execution_count": 86,
   "id": "6a9c2153",
   "metadata": {},
   "outputs": [],
   "source": [
    "modelo2_yhat = modelo2.predict(X_test)"
   ]
  },
  {
   "cell_type": "markdown",
   "id": "4b32761e",
   "metadata": {},
   "source": [
    "### 4. Obtención de métricas (1 puntos)\n",
    "- Ahora generaremos una función llamada `report_scores` que ingrese como argumentos el vector de datos predichos y el vector de datos por validar.\n",
    "- La función debe imprimir las métricas del Error Cuadrático Promedio y R2.\n",
    "- Reporte las métricas para ambos modelos. En base a ello, seleccione el mejor modelo."
   ]
  },
  {
   "cell_type": "code",
   "execution_count": 87,
   "id": "af2e395d",
   "metadata": {},
   "outputs": [],
   "source": [
    "# Utiliza esta celda para definir la función solicitada\n",
    "def report_scores(y_test, y_hat):\n",
    "    MSE = mean_squared_error(y_test, y_hat)\n",
    "    r2 =  r2_score(y_test, y_hat)\n",
    "\n",
    "    print(f\"MSE: {MSE}, R2: {r2}\")"
   ]
  },
  {
   "cell_type": "code",
   "execution_count": 88,
   "id": "4de34836",
   "metadata": {},
   "outputs": [
    {
     "name": "stdout",
     "output_type": "stream",
     "text": [
      "MSE: 30.697831517740802, R2: 0.6005199127106753\n",
      "MSE: 34.269399961452756, R2: 0.5540420215010212\n"
     ]
    },
    {
     "data": {
      "text/plain": [
       "(None, None)"
      ]
     },
     "execution_count": 88,
     "metadata": {},
     "output_type": "execute_result"
    }
   ],
   "source": [
    "# Utiliza esta celda para hacer el llamado a la función definida previamente para ambos modelos entrenados\n",
    "report_scores(y_test, modelo1_yhat), report_scores(y_test, modelo2_yhat)"
   ]
  },
  {
   "cell_type": "markdown",
   "id": "d6d26eeb",
   "metadata": {},
   "source": [
    "**Elección del mejor modelo y justificación**"
   ]
  },
  {
   "cell_type": "markdown",
   "id": "f732c0e0",
   "metadata": {},
   "source": [
    "### 5. Refactorización del modelo (1 puntos)\n",
    "- Genere una función llamada `fetch_features` que ingrese como argumentos el set de datos y el nombre del vector objetivo. El nombre del vector debe ser `medv` por defecto.\n",
    "- La función debe retornar una lista con las correlaciones entre cada atributo y el vector objetivo y su nombre.\n",
    "- Reporte brevemente cuáles son los 6 atributos con una mayor correlación _absoluta_ con `medv` (de mayor a menor correlación)."
   ]
  },
  {
   "cell_type": "code",
   "execution_count": 89,
   "id": "d1a09694",
   "metadata": {},
   "outputs": [],
   "source": [
    "# Utiliza esta celda para definir la función solicitada\n",
    "def fetch_features(df, objetivo = \"medv\"):\n",
    "   return df.corr()[objetivo].abs().sort_values(ascending=False).drop(objetivo).head(6)"
   ]
  },
  {
   "cell_type": "code",
   "execution_count": 90,
   "id": "eab8e035",
   "metadata": {},
   "outputs": [
    {
     "data": {
      "text/plain": [
       "Index(['lstat', 'rm', 'ptratio', 'indus', 'tax', 'nox'], dtype='object')"
      ]
     },
     "execution_count": 90,
     "metadata": {},
     "output_type": "execute_result"
    }
   ],
   "source": [
    "# Utiliza esta celda para hacer el llamado a la función definida previamente\n",
    "fetch_features(df).index"
   ]
  },
  {
   "cell_type": "code",
   "execution_count": 91,
   "id": "d778d821",
   "metadata": {},
   "outputs": [],
   "source": [
    "seleccion = list(fetch_features(df).index)"
   ]
  },
  {
   "cell_type": "code",
   "execution_count": 92,
   "id": "5ec46af4",
   "metadata": {},
   "outputs": [
    {
     "data": {
      "text/plain": [
       "['lstat', 'rm', 'ptratio', 'indus', 'tax', 'nox']"
      ]
     },
     "execution_count": 92,
     "metadata": {},
     "output_type": "execute_result"
    }
   ],
   "source": [
    "seleccion"
   ]
  },
  {
   "cell_type": "markdown",
   "id": "acb7e42e",
   "metadata": {},
   "source": [
    "### 6. Refactorización del modelo predictivo (2 puntos)\n",
    "- Genere otros conjuntos de entrenamiento y validación en base a una matriz con los 6 atributos identificados en el ejercicio anterior, y el vector objetivo.\n",
    "- Entrene un modelo en base al mejor desempeño.\n",
    "- Reporte las métricas para el nuevo modelo."
   ]
  },
  {
   "cell_type": "code",
   "execution_count": 93,
   "id": "30eb32f3",
   "metadata": {},
   "outputs": [],
   "source": [
    "seleccion.append(\"medv\")"
   ]
  },
  {
   "cell_type": "code",
   "execution_count": 94,
   "id": "04c33f95",
   "metadata": {},
   "outputs": [
    {
     "data": {
      "text/html": [
       "<div>\n",
       "<style scoped>\n",
       "    .dataframe tbody tr th:only-of-type {\n",
       "        vertical-align: middle;\n",
       "    }\n",
       "\n",
       "    .dataframe tbody tr th {\n",
       "        vertical-align: top;\n",
       "    }\n",
       "\n",
       "    .dataframe thead th {\n",
       "        text-align: right;\n",
       "    }\n",
       "</style>\n",
       "<table border=\"1\" class=\"dataframe\">\n",
       "  <thead>\n",
       "    <tr style=\"text-align: right;\">\n",
       "      <th></th>\n",
       "      <th>lstat</th>\n",
       "      <th>rm</th>\n",
       "      <th>ptratio</th>\n",
       "      <th>indus</th>\n",
       "      <th>tax</th>\n",
       "      <th>nox</th>\n",
       "      <th>medv</th>\n",
       "    </tr>\n",
       "  </thead>\n",
       "  <tbody>\n",
       "    <tr>\n",
       "      <th>0</th>\n",
       "      <td>4.98</td>\n",
       "      <td>6.575</td>\n",
       "      <td>15.3</td>\n",
       "      <td>2.31</td>\n",
       "      <td>296</td>\n",
       "      <td>0.538</td>\n",
       "      <td>24.0</td>\n",
       "    </tr>\n",
       "  </tbody>\n",
       "</table>\n",
       "</div>"
      ],
      "text/plain": [
       "   lstat     rm  ptratio  indus  tax    nox  medv\n",
       "0   4.98  6.575     15.3   2.31  296  0.538  24.0"
      ]
     },
     "execution_count": 94,
     "metadata": {},
     "output_type": "execute_result"
    }
   ],
   "source": [
    "df_seleccion = df[seleccion]\n",
    "df_seleccion.head(1)"
   ]
  },
  {
   "cell_type": "code",
   "execution_count": 95,
   "id": "32ca7dcb",
   "metadata": {},
   "outputs": [],
   "source": [
    "# Utiliza esta celda para generar los nuevos subserts de train y test\n",
    "X_train, X_test, y_train, y_test = train_test_split(df_seleccion.drop(\"medv\", axis = 1), df_seleccion[\"medv\"], test_size = .33, random_state = 11238)"
   ]
  },
  {
   "cell_type": "code",
   "execution_count": 96,
   "id": "89f9120f",
   "metadata": {},
   "outputs": [
    {
     "data": {
      "text/plain": [
       "array([31.7154155 , 24.86653591, 21.61377952, 19.49294024, 21.2161735 ,\n",
       "       26.13967462, 25.08101932, 28.79999134, 23.52759539, 20.90434083,\n",
       "       28.3738251 , 22.58028404, 19.46077415, 28.04063226, 17.67793017,\n",
       "       19.49272448, 31.2664637 , 25.42080231, 23.23468695, 17.14740981,\n",
       "       15.10293691, 24.99615742, 16.15015849, 15.50423755, 20.78768924,\n",
       "       32.65013017, 24.77688799, 18.86346762, 18.39245434, 16.89961266,\n",
       "       18.09143602, 19.26992544, 26.08310975, 17.46071904, 13.54108939,\n",
       "       22.78144451, 23.80352985, 18.2991265 , 31.82150031, 31.05867465,\n",
       "       18.32267256, 19.76828209, 34.65560416, 27.0308222 , 28.1548651 ,\n",
       "       33.92956697, 23.00042356, 29.42845064, 29.10995088, 25.86561102,\n",
       "       19.07713735, 27.6824574 , 17.12353655, 15.86969425, 22.5138358 ,\n",
       "       17.92516194, 24.62439942, 19.65164806, 22.76785078, 24.7127325 ,\n",
       "       19.51239488, 14.49680611, 25.62624888, 14.34669708, 21.01931291,\n",
       "       36.21089149, 14.06228619, 17.086307  , 27.60304903, 30.74500657,\n",
       "       19.93749419, 16.98147604, 32.55282249, 26.09733132, 36.81354585,\n",
       "       21.19417813, 20.86042592, 29.54541149, 10.69084693, 16.01240508,\n",
       "       20.83833551, 21.62713532, 25.09646358, 17.96654223, 23.76339887,\n",
       "       29.71715529, 33.75758154, 25.72867223, 26.50599843, 30.37303515,\n",
       "       11.80310992, 16.23253097, 39.91749162, 39.48067505, 41.09976207,\n",
       "       31.10408294, 26.72966789, 11.88366562, 27.13435772, 16.86147358,\n",
       "       16.66234947, 28.09144022, 15.99780091, 32.66215147, 32.69437838,\n",
       "       31.27857446, 16.33648339, 33.9294879 , 36.94292184, 19.28635841,\n",
       "       17.69349937, 18.69618636, 15.82711192, 19.93893408, 19.10099633,\n",
       "       11.32963907, 27.15326242, 20.43024862, 24.32561778, 22.45039908,\n",
       "       28.99464833, 34.04457659, 17.22003653, 16.4652696 , 14.12641485,\n",
       "       30.61804513, 17.6312976 , 26.50273679, 24.9203088 , 27.62706328,\n",
       "       16.35165963, 30.80423067, 18.5781573 , 21.927067  , 14.58453015,\n",
       "       12.12909047,  3.57729094, 28.54936415, 21.71779436, 25.58693949,\n",
       "       18.52220237, 14.72396692,  9.98901079, 23.01622831, 14.48644955,\n",
       "       -3.49639252, 22.22095596, 27.74574281, 25.52532169, 28.30085823,\n",
       "       13.84543633, 21.86000631, 24.76173153, 22.10406865, 27.52810842,\n",
       "       20.91501098, 28.46030385, 28.9468385 , 31.01652187,  7.93710524,\n",
       "       35.91889889, 22.34082528, 19.28167386, 26.02158777, 34.75476478,\n",
       "       31.38107018, 17.51120451])"
      ]
     },
     "execution_count": 96,
     "metadata": {},
     "output_type": "execute_result"
    }
   ],
   "source": [
    "# Utiliza esta celda para entrenar el nuevo modelo\n",
    "modelo3 = LinearRegression(fit_intercept = True)\n",
    "modelo3.fit(X_train, y_train)\n",
    "modelo3.predict(X_test)"
   ]
  },
  {
   "cell_type": "code",
   "execution_count": 97,
   "id": "432701c8",
   "metadata": {},
   "outputs": [
    {
     "name": "stdout",
     "output_type": "stream",
     "text": [
      "MSE: 37.51916467496898, R2: 0.5117518587357794\n"
     ]
    }
   ],
   "source": [
    "# Utiliza esta celda para reportar las métricas del nuevo modelo\n",
    "modelo3_yhat = modelo3.predict(X_test)\n",
    "report_scores(y_test, modelo3_yhat)"
   ]
  },
  {
   "cell_type": "markdown",
   "id": "09bd28e6",
   "metadata": {},
   "source": [
    "**Comentarios**El rendimiento bajo un poco, el MSE aumento, esto puede ocurrir porque se quitaron variables.    "
   ]
  },
  {
   "cell_type": "markdown",
   "id": "75675d2b",
   "metadata": {},
   "source": [
    "### 7. Predicción de casos (2 puntos): \n",
    "\n",
    "- A continuación se generaron dos `np.array` que representan el peor escenario posible (worst_neighbor) y el mejor escenario posible (best_neighbor).\n",
    "- Las variables representan, para cada caso, los valores de los siguientes atributos (en el mismo orden entregado): `lstat`, `rm`, `ptratio`, `indus`, `tax`, `nox`."
   ]
  },
  {
   "cell_type": "code",
   "execution_count": 98,
   "id": "0add8b71",
   "metadata": {},
   "outputs": [],
   "source": [
    "worst_neighbor = np.array([37.9, 12.6, 3.5, 27.7, 187, 0.87]).reshape(1, -1)\n",
    "best_neighbor = np.array([1.73, 22, 8.7, 0.46, 711, 0.38]).reshape(1, -1)"
   ]
  },
  {
   "cell_type": "markdown",
   "id": "6bf8a829",
   "metadata": {},
   "source": [
    "- Ingrese los `np.array` en el modelo entrenado en el ejercicio anterior, y reporte la predicción entregada por el modelo."
   ]
  },
  {
   "cell_type": "code",
   "execution_count": 99,
   "id": "e0957cb7",
   "metadata": {},
   "outputs": [
    {
     "data": {
      "text/plain": [
       "array([59.97435265])"
      ]
     },
     "execution_count": 99,
     "metadata": {},
     "output_type": "execute_result"
    }
   ],
   "source": [
    "# Utiliza esta celda para realizar una predicción para worst_neighbor\n",
    "\n",
    "modelo3.predict(worst_neighbor)"
   ]
  },
  {
   "cell_type": "code",
   "execution_count": 100,
   "id": "c0f97b7b",
   "metadata": {},
   "outputs": [
    {
     "data": {
      "text/plain": [
       "array([118.55978502])"
      ]
     },
     "execution_count": 100,
     "metadata": {},
     "output_type": "execute_result"
    }
   ],
   "source": [
    "# Utiliza esta celda para realizar una predicción para best_neighbor\n",
    "modelo3.predict(best_neighbor)"
   ]
  },
  {
   "cell_type": "markdown",
   "id": "d00880cc",
   "metadata": {},
   "source": [
    "**Comentarios** Se puede ver que el modelo de best_neghbor tiene un valor mayor, que es porque deberia tener mejor condiciones"
   ]
  },
  {
   "cell_type": "markdown",
   "id": "6b0a18fa",
   "metadata": {},
   "source": [
    "**Adicional al desafio**"
   ]
  },
  {
   "cell_type": "code",
   "execution_count": 101,
   "id": "c71902bb",
   "metadata": {},
   "outputs": [],
   "source": [
    "import seaborn as sns\n",
    "import matplotlib.pyplot as plt\n",
    "\n",
    "plt.style.use(\"ggplot\")"
   ]
  },
  {
   "cell_type": "code",
   "execution_count": 102,
   "id": "f60f1cc8",
   "metadata": {},
   "outputs": [],
   "source": [
    "X_train, X_test, y_train, y_test = train_test_split(df.drop(\"medv\", axis = 1), df[\"medv\"], test_size = .33, random_state = 11238)"
   ]
  },
  {
   "cell_type": "code",
   "execution_count": 103,
   "id": "6bb25ec6",
   "metadata": {},
   "outputs": [],
   "source": [
    "modelo1 = LinearRegression(fit_intercept = True)"
   ]
  },
  {
   "cell_type": "code",
   "execution_count": 104,
   "id": "136eccbc",
   "metadata": {},
   "outputs": [
    {
     "data": {
      "text/plain": [
       "LinearRegression()"
      ]
     },
     "execution_count": 104,
     "metadata": {},
     "output_type": "execute_result"
    }
   ],
   "source": [
    "modelo1.fit(X_train, y_train)"
   ]
  },
  {
   "cell_type": "code",
   "execution_count": 105,
   "id": "6bf2eb14",
   "metadata": {},
   "outputs": [],
   "source": [
    "modelo1_yhat = modelo1.predict(X_test)"
   ]
  },
  {
   "cell_type": "code",
   "execution_count": 106,
   "id": "4901649e",
   "metadata": {},
   "outputs": [],
   "source": [
    "df_resultados = X_test\\\n",
    "                .assign(real = y_test)\\\n",
    "                .assign(modelo1 = modelo1_yhat)\\\n",
    "                .assign(modelo2 = modelo2_yhat)"
   ]
  },
  {
   "cell_type": "code",
   "execution_count": 107,
   "id": "50efa643",
   "metadata": {},
   "outputs": [
    {
     "data": {
      "text/html": [
       "<div>\n",
       "<style scoped>\n",
       "    .dataframe tbody tr th:only-of-type {\n",
       "        vertical-align: middle;\n",
       "    }\n",
       "\n",
       "    .dataframe tbody tr th {\n",
       "        vertical-align: top;\n",
       "    }\n",
       "\n",
       "    .dataframe thead th {\n",
       "        text-align: right;\n",
       "    }\n",
       "</style>\n",
       "<table border=\"1\" class=\"dataframe\">\n",
       "  <thead>\n",
       "    <tr style=\"text-align: right;\">\n",
       "      <th></th>\n",
       "      <th>crim</th>\n",
       "      <th>zn</th>\n",
       "      <th>indus</th>\n",
       "      <th>chas</th>\n",
       "      <th>nox</th>\n",
       "      <th>rm</th>\n",
       "      <th>age</th>\n",
       "      <th>dis</th>\n",
       "      <th>rad</th>\n",
       "      <th>tax</th>\n",
       "      <th>ptratio</th>\n",
       "      <th>black</th>\n",
       "      <th>lstat</th>\n",
       "      <th>real</th>\n",
       "      <th>modelo1</th>\n",
       "      <th>modelo2</th>\n",
       "    </tr>\n",
       "  </thead>\n",
       "  <tbody>\n",
       "    <tr>\n",
       "      <th>191</th>\n",
       "      <td>0.06911</td>\n",
       "      <td>45.0</td>\n",
       "      <td>3.44</td>\n",
       "      <td>0</td>\n",
       "      <td>0.437</td>\n",
       "      <td>6.739</td>\n",
       "      <td>30.8</td>\n",
       "      <td>6.4798</td>\n",
       "      <td>5</td>\n",
       "      <td>398</td>\n",
       "      <td>15.2</td>\n",
       "      <td>389.71</td>\n",
       "      <td>4.69</td>\n",
       "      <td>30.5</td>\n",
       "      <td>30.531588</td>\n",
       "      <td>29.738002</td>\n",
       "    </tr>\n",
       "    <tr>\n",
       "      <th>164</th>\n",
       "      <td>2.24236</td>\n",
       "      <td>0.0</td>\n",
       "      <td>19.58</td>\n",
       "      <td>0</td>\n",
       "      <td>0.605</td>\n",
       "      <td>5.854</td>\n",
       "      <td>91.8</td>\n",
       "      <td>2.4220</td>\n",
       "      <td>5</td>\n",
       "      <td>403</td>\n",
       "      <td>14.7</td>\n",
       "      <td>395.11</td>\n",
       "      <td>11.64</td>\n",
       "      <td>22.7</td>\n",
       "      <td>24.750931</td>\n",
       "      <td>22.445633</td>\n",
       "    </tr>\n",
       "    <tr>\n",
       "      <th>132</th>\n",
       "      <td>0.59005</td>\n",
       "      <td>0.0</td>\n",
       "      <td>21.89</td>\n",
       "      <td>0</td>\n",
       "      <td>0.624</td>\n",
       "      <td>6.372</td>\n",
       "      <td>97.9</td>\n",
       "      <td>2.3274</td>\n",
       "      <td>4</td>\n",
       "      <td>437</td>\n",
       "      <td>21.2</td>\n",
       "      <td>385.76</td>\n",
       "      <td>11.12</td>\n",
       "      <td>23.0</td>\n",
       "      <td>19.810385</td>\n",
       "      <td>21.658883</td>\n",
       "    </tr>\n",
       "    <tr>\n",
       "      <th>61</th>\n",
       "      <td>0.17171</td>\n",
       "      <td>25.0</td>\n",
       "      <td>5.13</td>\n",
       "      <td>0</td>\n",
       "      <td>0.453</td>\n",
       "      <td>5.966</td>\n",
       "      <td>93.4</td>\n",
       "      <td>6.8185</td>\n",
       "      <td>8</td>\n",
       "      <td>284</td>\n",
       "      <td>19.7</td>\n",
       "      <td>378.08</td>\n",
       "      <td>14.44</td>\n",
       "      <td>16.0</td>\n",
       "      <td>17.422823</td>\n",
       "      <td>17.685582</td>\n",
       "    </tr>\n",
       "    <tr>\n",
       "      <th>120</th>\n",
       "      <td>0.06899</td>\n",
       "      <td>0.0</td>\n",
       "      <td>25.65</td>\n",
       "      <td>0</td>\n",
       "      <td>0.581</td>\n",
       "      <td>5.870</td>\n",
       "      <td>69.7</td>\n",
       "      <td>2.2577</td>\n",
       "      <td>2</td>\n",
       "      <td>188</td>\n",
       "      <td>19.1</td>\n",
       "      <td>389.15</td>\n",
       "      <td>14.37</td>\n",
       "      <td>22.0</td>\n",
       "      <td>22.509701</td>\n",
       "      <td>21.811075</td>\n",
       "    </tr>\n",
       "    <tr>\n",
       "      <th>...</th>\n",
       "      <td>...</td>\n",
       "      <td>...</td>\n",
       "      <td>...</td>\n",
       "      <td>...</td>\n",
       "      <td>...</td>\n",
       "      <td>...</td>\n",
       "      <td>...</td>\n",
       "      <td>...</td>\n",
       "      <td>...</td>\n",
       "      <td>...</td>\n",
       "      <td>...</td>\n",
       "      <td>...</td>\n",
       "      <td>...</td>\n",
       "      <td>...</td>\n",
       "      <td>...</td>\n",
       "      <td>...</td>\n",
       "    </tr>\n",
       "    <tr>\n",
       "      <th>372</th>\n",
       "      <td>8.26725</td>\n",
       "      <td>0.0</td>\n",
       "      <td>18.10</td>\n",
       "      <td>1</td>\n",
       "      <td>0.668</td>\n",
       "      <td>5.875</td>\n",
       "      <td>89.6</td>\n",
       "      <td>1.1296</td>\n",
       "      <td>24</td>\n",
       "      <td>666</td>\n",
       "      <td>20.2</td>\n",
       "      <td>347.88</td>\n",
       "      <td>8.88</td>\n",
       "      <td>50.0</td>\n",
       "      <td>23.935532</td>\n",
       "      <td>23.231775</td>\n",
       "    </tr>\n",
       "    <tr>\n",
       "      <th>63</th>\n",
       "      <td>0.12650</td>\n",
       "      <td>25.0</td>\n",
       "      <td>5.13</td>\n",
       "      <td>0</td>\n",
       "      <td>0.453</td>\n",
       "      <td>6.762</td>\n",
       "      <td>43.4</td>\n",
       "      <td>7.9809</td>\n",
       "      <td>8</td>\n",
       "      <td>284</td>\n",
       "      <td>19.7</td>\n",
       "      <td>395.58</td>\n",
       "      <td>9.50</td>\n",
       "      <td>25.0</td>\n",
       "      <td>23.204047</td>\n",
       "      <td>25.154547</td>\n",
       "    </tr>\n",
       "    <tr>\n",
       "      <th>264</th>\n",
       "      <td>0.55007</td>\n",
       "      <td>20.0</td>\n",
       "      <td>3.97</td>\n",
       "      <td>0</td>\n",
       "      <td>0.647</td>\n",
       "      <td>7.206</td>\n",
       "      <td>91.6</td>\n",
       "      <td>1.9301</td>\n",
       "      <td>5</td>\n",
       "      <td>264</td>\n",
       "      <td>13.0</td>\n",
       "      <td>387.89</td>\n",
       "      <td>8.10</td>\n",
       "      <td>36.5</td>\n",
       "      <td>36.305647</td>\n",
       "      <td>35.559594</td>\n",
       "    </tr>\n",
       "    <tr>\n",
       "      <th>3</th>\n",
       "      <td>0.03237</td>\n",
       "      <td>0.0</td>\n",
       "      <td>2.18</td>\n",
       "      <td>0</td>\n",
       "      <td>0.458</td>\n",
       "      <td>6.998</td>\n",
       "      <td>45.8</td>\n",
       "      <td>6.0622</td>\n",
       "      <td>3</td>\n",
       "      <td>222</td>\n",
       "      <td>18.7</td>\n",
       "      <td>394.63</td>\n",
       "      <td>2.94</td>\n",
       "      <td>33.4</td>\n",
       "      <td>29.341915</td>\n",
       "      <td>30.256919</td>\n",
       "    </tr>\n",
       "    <tr>\n",
       "      <th>459</th>\n",
       "      <td>6.80117</td>\n",
       "      <td>0.0</td>\n",
       "      <td>18.10</td>\n",
       "      <td>0</td>\n",
       "      <td>0.713</td>\n",
       "      <td>6.081</td>\n",
       "      <td>84.4</td>\n",
       "      <td>2.7175</td>\n",
       "      <td>24</td>\n",
       "      <td>666</td>\n",
       "      <td>20.2</td>\n",
       "      <td>396.90</td>\n",
       "      <td>14.70</td>\n",
       "      <td>20.0</td>\n",
       "      <td>17.990545</td>\n",
       "      <td>19.199699</td>\n",
       "    </tr>\n",
       "  </tbody>\n",
       "</table>\n",
       "<p>167 rows × 16 columns</p>\n",
       "</div>"
      ],
      "text/plain": [
       "        crim    zn  indus  chas    nox     rm   age     dis  rad  tax  \\\n",
       "191  0.06911  45.0   3.44     0  0.437  6.739  30.8  6.4798    5  398   \n",
       "164  2.24236   0.0  19.58     0  0.605  5.854  91.8  2.4220    5  403   \n",
       "132  0.59005   0.0  21.89     0  0.624  6.372  97.9  2.3274    4  437   \n",
       "61   0.17171  25.0   5.13     0  0.453  5.966  93.4  6.8185    8  284   \n",
       "120  0.06899   0.0  25.65     0  0.581  5.870  69.7  2.2577    2  188   \n",
       "..       ...   ...    ...   ...    ...    ...   ...     ...  ...  ...   \n",
       "372  8.26725   0.0  18.10     1  0.668  5.875  89.6  1.1296   24  666   \n",
       "63   0.12650  25.0   5.13     0  0.453  6.762  43.4  7.9809    8  284   \n",
       "264  0.55007  20.0   3.97     0  0.647  7.206  91.6  1.9301    5  264   \n",
       "3    0.03237   0.0   2.18     0  0.458  6.998  45.8  6.0622    3  222   \n",
       "459  6.80117   0.0  18.10     0  0.713  6.081  84.4  2.7175   24  666   \n",
       "\n",
       "     ptratio   black  lstat  real    modelo1    modelo2  \n",
       "191     15.2  389.71   4.69  30.5  30.531588  29.738002  \n",
       "164     14.7  395.11  11.64  22.7  24.750931  22.445633  \n",
       "132     21.2  385.76  11.12  23.0  19.810385  21.658883  \n",
       "61      19.7  378.08  14.44  16.0  17.422823  17.685582  \n",
       "120     19.1  389.15  14.37  22.0  22.509701  21.811075  \n",
       "..       ...     ...    ...   ...        ...        ...  \n",
       "372     20.2  347.88   8.88  50.0  23.935532  23.231775  \n",
       "63      19.7  395.58   9.50  25.0  23.204047  25.154547  \n",
       "264     13.0  387.89   8.10  36.5  36.305647  35.559594  \n",
       "3       18.7  394.63   2.94  33.4  29.341915  30.256919  \n",
       "459     20.2  396.90  14.70  20.0  17.990545  19.199699  \n",
       "\n",
       "[167 rows x 16 columns]"
      ]
     },
     "execution_count": 107,
     "metadata": {},
     "output_type": "execute_result"
    }
   ],
   "source": [
    "df_resultados"
   ]
  },
  {
   "cell_type": "code",
   "execution_count": 108,
   "id": "9cc08d40",
   "metadata": {},
   "outputs": [
    {
     "data": {
      "text/plain": [
       "<AxesSubplot:xlabel='real', ylabel='Density'>"
      ]
     },
     "execution_count": 108,
     "metadata": {},
     "output_type": "execute_result"
    },
    {
     "data": {
      "image/png": "[encoded data removed]",
      "text/plain": [
       "<Figure size 432x288 with 1 Axes>"
      ]
     },
     "metadata": {},
     "output_type": "display_data"
    }
   ],
   "source": [
    "sns.kdeplot(df_resultados[\"real\"], label=\"real\", fill = True)"
   ]
  },
  {
   "cell_type": "code",
   "execution_count": 109,
   "id": "2ba8c281",
   "metadata": {},
   "outputs": [
    {
     "data": {
      "image/png": "[encoded data removed]",
      "text/plain": [
       "<Figure size 432x288 with 1 Axes>"
      ]
     },
     "metadata": {},
     "output_type": "display_data"
    }
   ],
   "source": [
    "sns.kdeplot(df_resultados[\"real\"], label=\"real\", fill = True)\n",
    "sns.kdeplot(df_resultados[\"modelo1\"], label=\"medv_modelo1\", alpha = .7)\n",
    "sns.kdeplot(df_resultados[\"modelo2\"], label=\"medv_modelo2\", alpha = .7, color = \"green\")\n",
    "\n",
    "plt.legend();"
   ]
  }
 ],
 "metadata": {
  "kernelspec": {
   "display_name": "Python 3.7.9 64-bit",
   "language": "python",
   "name": "python3"
  },
  "language_info": {
   "codemirror_mode": {
    "name": "ipython",
    "version": 3
   },
   "file_extension": ".py",
   "mimetype": "text/x-python",
   "name": "python",
   "nbconvert_exporter": "python",
   "pygments_lexer": "ipython3",
   "version": "3.7.9"
  },
  "vscode": {
   "interpreter": {
    "hash": "2dd4c0c2d30bf6610b180a8631493e6b8c6db922af395a415c6a467a4854f5a9"
   }
  }
 },
 "nbformat": 4,
 "nbformat_minor": 5
}
