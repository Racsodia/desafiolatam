{
 "cells": [
  {
   "cell_type": "markdown",
   "id": "5163981a",
   "metadata": {},
   "source": [
    "# Pandas\n",
    "\n",
    "## Lectura de archivos\n",
    "\n",
    "- Pandas es una librería orientada a la manipulación de estructuras de datos, ingesta de datos en múltiples formatos.\n",
    "- La convención sugiere importar pandas de la siguiente manera: `import pandas as pd`"
   ]
  },
  {
   "cell_type": "code",
   "execution_count": 1,
   "id": "a6488e61",
   "metadata": {},
   "outputs": [],
   "source": [
    "# Forma estándar de importar el módulo pandas\n",
    "import pandas as pd"
   ]
  },
  {
   "cell_type": "markdown",
   "id": "e49280bf",
   "metadata": {},
   "source": [
    "- Existen varias funciones para cargar datos, dependiendo del formato en el que estos se encuentran. La más usual, y que usaremos en la mayoría de los casos del curso, es `pd.read_csv()`, que permite cargar archivos en formato `csv`.\n",
    "- Existen dos estructuras de datos básicas de pandas: `DataFrame` y `Series`"
   ]
  },
  {
   "cell_type": "code",
   "execution_count": 2,
   "id": "71803838",
   "metadata": {},
   "outputs": [
    {
     "name": "stdout",
     "output_type": "stream",
     "text": [
      "La variable 'df' es de tipo <class 'pandas.core.frame.DataFrame'>, y tiene 21 filas y 5 columnas.\n"
     ]
    }
   ],
   "source": [
    "# Carga de un archivo csv para ser almacenado en la estructura de tipo DataFrame\n",
    "df = pd.read_csv('alumnos.csv')\n",
    "\n",
    "# 'df' es una instancia de la clase (por tanto, un objeto) DataFrame\n",
    "# Posee el atributo 'shape' que almacena las dimensiones de los datos en una tupla de 2 valores, donde la primera corresponde a la cantidad de filas, y la segunda a la cantidad de columnas\n",
    "print(f\"La variable 'df' es de tipo {type(df)}, y tiene {df.shape[0]} filas y {df.shape[1]} columnas.\")"
   ]
  },
  {
   "cell_type": "markdown",
   "id": "04802c9b",
   "metadata": {},
   "source": [
    "## DataFrame\n",
    "- Es una representación de una matriz de datos ordenados por filas y columnas."
   ]
  },
  {
   "cell_type": "code",
   "execution_count": 4,
   "id": "93c4239a",
   "metadata": {},
   "outputs": [
    {
     "data": {
      "text/html": [
       "<div>\n",
       "<style scoped>\n",
       "    .dataframe tbody tr th:only-of-type {\n",
       "        vertical-align: middle;\n",
       "    }\n",
       "\n",
       "    .dataframe tbody tr th {\n",
       "        vertical-align: top;\n",
       "    }\n",
       "\n",
       "    .dataframe thead th {\n",
       "        text-align: right;\n",
       "    }\n",
       "</style>\n",
       "<table border=\"1\" class=\"dataframe\">\n",
       "  <thead>\n",
       "    <tr style=\"text-align: right;\">\n",
       "      <th></th>\n",
       "      <th>nombre</th>\n",
       "      <th>altura</th>\n",
       "      <th>peso</th>\n",
       "      <th>edad</th>\n",
       "      <th>sexo</th>\n",
       "    </tr>\n",
       "  </thead>\n",
       "  <tbody>\n",
       "    <tr>\n",
       "      <th>0</th>\n",
       "      <td>Hugo</td>\n",
       "      <td>1.67</td>\n",
       "      <td>60</td>\n",
       "      <td>23</td>\n",
       "      <td>h</td>\n",
       "    </tr>\n",
       "    <tr>\n",
       "      <th>17</th>\n",
       "      <td>Carolina</td>\n",
       "      <td>1.60</td>\n",
       "      <td>63</td>\n",
       "      <td>28</td>\n",
       "      <td>m</td>\n",
       "    </tr>\n",
       "    <tr>\n",
       "      <th>15</th>\n",
       "      <td>Alejandra</td>\n",
       "      <td>1.86</td>\n",
       "      <td>74</td>\n",
       "      <td>21</td>\n",
       "      <td>m</td>\n",
       "    </tr>\n",
       "    <tr>\n",
       "      <th>1</th>\n",
       "      <td>Paco</td>\n",
       "      <td>1.73</td>\n",
       "      <td>83</td>\n",
       "      <td>25</td>\n",
       "      <td>h</td>\n",
       "    </tr>\n",
       "    <tr>\n",
       "      <th>8</th>\n",
       "      <td>Marisol</td>\n",
       "      <td>1.60</td>\n",
       "      <td>56</td>\n",
       "      <td>30</td>\n",
       "      <td>m</td>\n",
       "    </tr>\n",
       "    <tr>\n",
       "      <th>5</th>\n",
       "      <td>Felipe</td>\n",
       "      <td>1.79</td>\n",
       "      <td>100</td>\n",
       "      <td>26</td>\n",
       "      <td>h</td>\n",
       "    </tr>\n",
       "    <tr>\n",
       "      <th>11</th>\n",
       "      <td>Camila</td>\n",
       "      <td>1.63</td>\n",
       "      <td>57</td>\n",
       "      <td>26</td>\n",
       "      <td>m</td>\n",
       "    </tr>\n",
       "    <tr>\n",
       "      <th>3</th>\n",
       "      <td>Diana</td>\n",
       "      <td>1.58</td>\n",
       "      <td>58</td>\n",
       "      <td>21</td>\n",
       "      <td>m</td>\n",
       "    </tr>\n",
       "    <tr>\n",
       "      <th>18</th>\n",
       "      <td>Vicente</td>\n",
       "      <td>1.98</td>\n",
       "      <td>102</td>\n",
       "      <td>31</td>\n",
       "      <td>h</td>\n",
       "    </tr>\n",
       "    <tr>\n",
       "      <th>16</th>\n",
       "      <td>Fernando</td>\n",
       "      <td>1.79</td>\n",
       "      <td>93</td>\n",
       "      <td>27</td>\n",
       "      <td>h</td>\n",
       "    </tr>\n",
       "  </tbody>\n",
       "</table>\n",
       "</div>"
      ],
      "text/plain": [
       "       nombre  altura  peso  edad sexo\n",
       "0        Hugo    1.67    60    23    h\n",
       "17   Carolina    1.60    63    28    m\n",
       "15  Alejandra    1.86    74    21    m\n",
       "1        Paco    1.73    83    25    h\n",
       "8     Marisol    1.60    56    30    m\n",
       "5      Felipe    1.79   100    26    h\n",
       "11     Camila    1.63    57    26    m\n",
       "3       Diana    1.58    58    21    m\n",
       "18    Vicente    1.98   102    31    h\n",
       "16   Fernando    1.79    93    27    h"
      ]
     },
     "execution_count": 4,
     "metadata": {},
     "output_type": "execute_result"
    }
   ],
   "source": [
    "# Se explora 10 datos al azar\n",
    "df.sample(\n",
    "    10, # Cantidad de datos a seleccionar al azar\n",
    "    random_state=42 # Semilla para que la selección sea la misma en cada ejecución\n",
    ")"
   ]
  },
  {
   "cell_type": "markdown",
   "id": "b8c90833",
   "metadata": {},
   "source": [
    "- Presenta una serie de métodos que operan a nivel de matriz."
   ]
  },
  {
   "cell_type": "code",
   "execution_count": 5,
   "id": "83da806a",
   "metadata": {},
   "outputs": [
    {
     "data": {
      "text/plain": [
       "nombre    HugoPacoLuisDianaFranciscoFelipeJacintaBernard...\n",
       "altura                                                35.93\n",
       "peso                                                   1599\n",
       "edad                                                    553\n",
       "sexo                                  hhhmhhmhmhmmmhhmhmhhm\n",
       "dtype: object"
      ]
     },
     "execution_count": 5,
     "metadata": {},
     "output_type": "execute_result"
    }
   ],
   "source": [
    "# Aplica 'sum' a cada columna\n",
    "df.sum()"
   ]
  },
  {
   "cell_type": "code",
   "execution_count": 6,
   "id": "0e294110",
   "metadata": {},
   "outputs": [
    {
     "data": {
      "text/html": [
       "<div>\n",
       "<style scoped>\n",
       "    .dataframe tbody tr th:only-of-type {\n",
       "        vertical-align: middle;\n",
       "    }\n",
       "\n",
       "    .dataframe tbody tr th {\n",
       "        vertical-align: top;\n",
       "    }\n",
       "\n",
       "    .dataframe thead th {\n",
       "        text-align: right;\n",
       "    }\n",
       "</style>\n",
       "<table border=\"1\" class=\"dataframe\">\n",
       "  <thead>\n",
       "    <tr style=\"text-align: right;\">\n",
       "      <th></th>\n",
       "      <th>altura</th>\n",
       "      <th>peso</th>\n",
       "      <th>edad</th>\n",
       "    </tr>\n",
       "  </thead>\n",
       "  <tbody>\n",
       "    <tr>\n",
       "      <th>altura</th>\n",
       "      <td>1.000000</td>\n",
       "      <td>0.808529</td>\n",
       "      <td>0.376476</td>\n",
       "    </tr>\n",
       "    <tr>\n",
       "      <th>peso</th>\n",
       "      <td>0.808529</td>\n",
       "      <td>1.000000</td>\n",
       "      <td>0.512292</td>\n",
       "    </tr>\n",
       "    <tr>\n",
       "      <th>edad</th>\n",
       "      <td>0.376476</td>\n",
       "      <td>0.512292</td>\n",
       "      <td>1.000000</td>\n",
       "    </tr>\n",
       "  </tbody>\n",
       "</table>\n",
       "</div>"
      ],
      "text/plain": [
       "          altura      peso      edad\n",
       "altura  1.000000  0.808529  0.376476\n",
       "peso    0.808529  1.000000  0.512292\n",
       "edad    0.376476  0.512292  1.000000"
      ]
     },
     "execution_count": 6,
     "metadata": {},
     "output_type": "execute_result"
    }
   ],
   "source": [
    "# Aplica correlación de pearson a los atributos de tipo numérico\n",
    "df.corr()"
   ]
  },
  {
   "cell_type": "markdown",
   "id": "ee07d13d",
   "metadata": {},
   "source": [
    "- Cada fila y columna se considera una serie"
   ]
  },
  {
   "cell_type": "code",
   "execution_count": 7,
   "id": "105658fd",
   "metadata": {},
   "outputs": [
    {
     "data": {
      "text/plain": [
       "Index(['nombre', 'altura', 'peso', 'edad', 'sexo'], dtype='object')"
      ]
     },
     "execution_count": 7,
     "metadata": {},
     "output_type": "execute_result"
    }
   ],
   "source": [
    "df.columns"
   ]
  },
  {
   "cell_type": "code",
   "execution_count": 8,
   "id": "e9048bfc",
   "metadata": {},
   "outputs": [
    {
     "data": {
      "text/plain": [
       "RangeIndex(start=0, stop=21, step=1)"
      ]
     },
     "execution_count": 8,
     "metadata": {},
     "output_type": "execute_result"
    }
   ],
   "source": [
    "df.index"
   ]
  },
  {
   "cell_type": "code",
   "execution_count": 9,
   "id": "ebfb795e",
   "metadata": {},
   "outputs": [
    {
     "name": "stdout",
     "output_type": "stream",
     "text": [
      "La columna 'altura' es de tipo <class 'pandas.core.series.Series'>\n",
      "La tercera fila es de tipo <class 'pandas.core.series.Series'>\n"
     ]
    }
   ],
   "source": [
    "# Se toma la columna 'altura' y se consulta su tipo. Para acceder a una columna se debe usar su nombre.\n",
    "print(f\"La columna 'altura' es de tipo {type(df['altura'])}\")\n",
    "\n",
    "# Se toma la tercera fila y se consulta su tipo. Para acceder a una fila se usa .iloc[indice]. Recordar que los índices comienzan en 0.\n",
    "print(f\"La tercera fila es de tipo {type(df.iloc[2])}\")"
   ]
  },
  {
   "cell_type": "markdown",
   "id": "5ee7e296",
   "metadata": {},
   "source": [
    "## Series\n",
    "- Una serie se compone de valores e índices. Es similar a un 'diccionario' de Python, donde los índices equivalen a la \"clave\" en un diccionario."
   ]
  },
  {
   "cell_type": "code",
   "execution_count": 10,
   "id": "159c8d73",
   "metadata": {},
   "outputs": [
    {
     "name": "stdout",
     "output_type": "stream",
     "text": [
      "Los índices de la Serie de la columna 'altura' son: RangeIndex(start=0, stop=21, step=1)\n",
      "Los valores de la Serie de la columna 'altura' son: [1.67 1.73 1.62 1.58 1.86 1.79 1.69 1.6  1.6  1.98 1.72 1.63 1.73 1.62\n",
      " 1.58 1.86 1.79 1.6  1.98 1.72 1.58]\n",
      "\n",
      "Los índices y valores de la Serie de la columna 'altura' son:\n",
      " (0, 1.67) (1, 1.73) (2, 1.62) (3, 1.58) (4, 1.86) (5, 1.79) (6, 1.69) (7, 1.6) (8, 1.6) (9, 1.98) (10, 1.72) (11, 1.63) (12, 1.73) (13, 1.62) (14, 1.58) (15, 1.86) (16, 1.79) (17, 1.6) (18, 1.98) (19, 1.72) (20, 1.58) \n",
      "\n",
      "Los índices de la Serie de la tercera fila son: Index(['nombre', 'altura', 'peso', 'edad', 'sexo'], dtype='object')\n",
      "Los valores de la Serie de la tercera fila son: ['Luis' 1.62 70 28 'h']\n",
      "\n",
      "Los índices y valores de la Serie de la columna 'altura' son:\n",
      " ('nombre', 'Luis') ('altura', 1.62) ('peso', 70) ('edad', 28) ('sexo', 'h') \n",
      "\n"
     ]
    }
   ],
   "source": [
    "# Se accede a los índices de la serie con el atributo index, que para el caso de una columna corresponde a un rango numérico\n",
    "print(f\"Los índices de la Serie de la columna 'altura' son: {df['altura'].index}\")\n",
    "\n",
    "# Se accede a los valores de la serie con el atributo values\n",
    "print(f\"Los valores de la Serie de la columna 'altura' son: {df['altura'].values}\\n\")\n",
    "\n",
    "# Se accede en forma conjunta a índices y valores con el método items, los cuales son retornados en una dirección de memoria (puntero) de un 'zip' con tuplas\n",
    "# Para acceder a los valores de un puntero, se debe anteponer un *\n",
    "print(f\"Los índices y valores de la Serie de la columna 'altura' son:\\n\", *df['altura'].items(), \"\\n\")\n",
    "\n",
    "# Se accede a los índices de la serie con el atributo index, que para el caso de una fila corresponde a los nombres de las columnas\n",
    "print(f\"Los índices de la Serie de la tercera fila son: {df.iloc[2].index}\")\n",
    "\n",
    "# Se accede a los valores de la serie con el atributo values, que para el cas de una fila corresponde al valor asociado en cada columna\n",
    "print(f\"Los valores de la Serie de la tercera fila son: {df.iloc[2].values}\\n\")\n",
    "\n",
    "print(f\"Los índices y valores de la Serie de la columna 'altura' son:\\n\", *df.iloc[2].items(), \"\\n\")"
   ]
  },
  {
   "cell_type": "markdown",
   "id": "b1241c22",
   "metadata": {},
   "source": [
    "- Una serie también presentará métodos disponibles gracias a Pandas"
   ]
  },
  {
   "cell_type": "code",
   "execution_count": 12,
   "id": "c15ac7fd",
   "metadata": {},
   "outputs": [
    {
     "data": {
      "text/plain": [
       "h    12\n",
       "m     9\n",
       "Name: sexo, dtype: int64"
      ]
     },
     "execution_count": 12,
     "metadata": {},
     "output_type": "execute_result"
    }
   ],
   "source": [
    "# Frecuencia absoluta de los valores presentes en la columna sexo\n",
    "df['sexo'].value_counts()"
   ]
  },
  {
   "cell_type": "code",
   "execution_count": 18,
   "id": "4bc346b5",
   "metadata": {},
   "outputs": [
    {
     "data": {
      "text/plain": [
       "'Luis1.627028h'"
      ]
     },
     "execution_count": 18,
     "metadata": {},
     "output_type": "execute_result"
    }
   ],
   "source": [
    "# Los métodos matemáticos afectan a los valores de la Serie (no a sus índices)\n",
    "# Primero se cambia el tipo de dato a texto para que el tipo de dato sea uniforme y se pueda aplicar sum\n",
    "df.iloc[2].astype(str).sum()"
   ]
  },
  {
   "cell_type": "markdown",
   "id": "1378bab3",
   "metadata": {},
   "source": [
    "# Control de flujo en pandas\n",
    "- Normalmente se itera los datos de una `Serie` o de un `DataFrame` cuando se quiere _acceder_ a sus valores (usualmente para _explorarlos_).\n",
    "- En caso de querer realizar _modificaciones_ en los datos o _estadística descriptiva_ (resumir los valores en estadísticos), se privilegia el uso de _métodos de `pandas`_ (o `numpy`), ya que operan matricialmente (mejora el rendimiento). \n",
    "\n",
    "## Iteración a nivel de una serie\n",
    "- Al iterar la serie como tal, el iterador entrega el valor de cada elemento, _no su índice_."
   ]
  },
  {
   "cell_type": "code",
   "execution_count": 14,
   "id": "4137b282",
   "metadata": {
    "scrolled": false
   },
   "outputs": [
    {
     "name": "stdout",
     "output_type": "stream",
     "text": [
      "1.67\n",
      "1.73\n",
      "1.62\n"
     ]
    }
   ],
   "source": [
    "for i in df[\"altura\"][:3]:\n",
    "    print(i)"
   ]
  },
  {
   "cell_type": "markdown",
   "id": "e1ec45ca",
   "metadata": {},
   "source": [
    "- Se puede iterar a la vez los índices y valores recorriendo `items()`"
   ]
  },
  {
   "cell_type": "code",
   "execution_count": 18,
   "id": "00b3edff",
   "metadata": {},
   "outputs": [
    {
     "name": "stdout",
     "output_type": "stream",
     "text": [
      "0\n",
      "1\n",
      "2\n"
     ]
    }
   ],
   "source": [
    "for index in df[\"altura\"].index[:3]:\n",
    "    print(index)"
   ]
  },
  {
   "cell_type": "code",
   "execution_count": 15,
   "id": "fdb2f57f",
   "metadata": {},
   "outputs": [
    {
     "name": "stdout",
     "output_type": "stream",
     "text": [
      "0: 1.67\n",
      "1: 1.73\n",
      "2: 1.62\n"
     ]
    }
   ],
   "source": [
    "for indice, valor in df[\"altura\"][:3].items():\n",
    "    print(f\"{indice}: {valor}\")"
   ]
  },
  {
   "cell_type": "markdown",
   "id": "84895fb9",
   "metadata": {},
   "source": [
    "## Iteración nivel de DataFrame\n",
    "- Las _columnas_ se recorren con _iteritems_. Entrega 2 iteradores, donde el primero corresponde al nombre de la columna, y el segundo a la _serie_ asociada a esa columna."
   ]
  },
  {
   "cell_type": "code",
   "execution_count": 19,
   "id": "8a5f86e0",
   "metadata": {
    "scrolled": true
   },
   "outputs": [
    {
     "name": "stdout",
     "output_type": "stream",
     "text": [
      "Primeros 5 valores de nombre: ['Hugo' 'Paco' 'Luis' 'Diana' 'Francisco']\n",
      "Primeros 5 valores de altura: [1.67 1.73 1.62 1.58 1.86]\n",
      "Primeros 5 valores de peso: [60 83 70 58 98]\n",
      "Primeros 5 valores de edad: [23 25 28 21 28]\n",
      "Primeros 5 valores de sexo: ['h' 'h' 'h' 'm' 'h']\n"
     ]
    }
   ],
   "source": [
    "for columna, valores in df.iteritems():\n",
    "    # Como 'valores' es una \"Serie\", se accede a los valores como tal con el atributo values\n",
    "    print(f\"Primeros 5 valores de {columna}: {valores.values[:5]}\")"
   ]
  },
  {
   "cell_type": "markdown",
   "id": "17c837ef",
   "metadata": {},
   "source": [
    "- Las _filas_ se recorren con _iterrows_. Entrega 2 iteradores, donde el primero corresponde al índice de la fila, y el segundo a la serie asociada a esa fila."
   ]
  },
  {
   "cell_type": "code",
   "execution_count": 26,
   "id": "c569ac2b",
   "metadata": {},
   "outputs": [
    {
     "name": "stdout",
     "output_type": "stream",
     "text": [
      "Valores de la fila #0:  ('nombre', 'Hugo') ('altura', 1.67) ('peso', 60) ('edad', 23) ('sexo', 'h')\n",
      "Valores de la fila #1:  ('nombre', 'Paco') ('altura', 1.73) ('peso', 83) ('edad', 25) ('sexo', 'h')\n",
      "Valores de la fila #2:  ('nombre', 'Luis') ('altura', 1.62) ('peso', 70) ('edad', 28) ('sexo', 'h')\n",
      "Valores de la fila #3:  ('nombre', 'Diana') ('altura', 1.58) ('peso', 58) ('edad', 21) ('sexo', 'm')\n",
      "Valores de la fila #4:  ('nombre', 'Francisco') ('altura', 1.86) ('peso', 98) ('edad', 28) ('sexo', 'h')\n"
     ]
    }
   ],
   "source": [
    "# El método \"head\" toma los primeros \"n\" valores del DataFrame\n",
    "for i, valores in df.head(5).iterrows():\n",
    "    # Como 'valores' es una \"Serie\", se accede a sus claves y valores con items()\n",
    "    print(f\"Valores de la fila #{i}: \", *valores.items())"
   ]
  },
  {
   "cell_type": "markdown",
   "id": "ef2567f0",
   "metadata": {},
   "source": [
    "### Control de flujo usando iterrows"
   ]
  },
  {
   "cell_type": "code",
   "execution_count": 22,
   "id": "7edec0f4",
   "metadata": {},
   "outputs": [
    {
     "name": "stdout",
     "output_type": "stream",
     "text": [
      "El peso promedio de los hombres es 85.33 kilos\n"
     ]
    }
   ],
   "source": [
    "suma_peso_hombres = 0\n",
    "contador_hombres = 0\n",
    "\n",
    "for i, valores in df.iterrows():\n",
    "    if valores[\"sexo\"] == \"h\":\n",
    "        suma_peso_hombres += valores[\"peso\"]\n",
    "        contador_hombres += 1\n",
    "        \n",
    "print(f\"El peso promedio de los hombres es {round(suma_peso_hombres / contador_hombres, 2)} kilos\")"
   ]
  },
  {
   "cell_type": "markdown",
   "id": "97740615",
   "metadata": {},
   "source": [
    "### \"Control de flujo\" usando operaciones matriciales nativas de pandas"
   ]
  },
  {
   "cell_type": "code",
   "execution_count": 24,
   "id": "702b5386",
   "metadata": {},
   "outputs": [
    {
     "data": {
      "text/plain": [
       "[2, 3, 2, 3]"
      ]
     },
     "execution_count": 24,
     "metadata": {},
     "output_type": "execute_result"
    }
   ],
   "source": [
    "[2, 3] * 2"
   ]
  },
  {
   "cell_type": "code",
   "execution_count": 23,
   "id": "5191b017",
   "metadata": {},
   "outputs": [
    {
     "data": {
      "text/plain": [
       "array([4, 6])"
      ]
     },
     "execution_count": 23,
     "metadata": {},
     "output_type": "execute_result"
    }
   ],
   "source": [
    "# Pandas trabaja \"por debajo\" con numpy que nos permite hacer operaciones matriciales\n",
    "# En este ejemplo se multiplica por 2 a cada elemento del arreglo [2,3]\n",
    "import numpy as np\n",
    "np.array([2, 3]) * 2"
   ]
  },
  {
   "cell_type": "code",
   "execution_count": 25,
   "id": "2bdb78ac",
   "metadata": {},
   "outputs": [
    {
     "name": "stdout",
     "output_type": "stream",
     "text": [
      "El peso promedio de los hombres es 85.33 kilos\n"
     ]
    }
   ],
   "source": [
    "# Esto es más eficiente en términos computacionales que la opción anterior\n",
    "\n",
    "peso_promedio_hombres = df[    # Se indica con la apertura de corchete que se hará una selección PARA todas las filas del DataFrame 'df'. Equivale al \"for\".\n",
    "    df[\"sexo\"]==\"h\"            # Se aplica el filtro seleccionando solo los datos SI se cumpla la condición booleana. Equivale al \"if\".\n",
    "][                             # Se indica que se termina la selección con el cierre de corchete, y se accede...\n",
    "    \"peso\"                     # ... a la columna \"peso\" (solo en los datos del DataFrame filtrado)\n",
    "].mean()                       # Se obtiene el peso promedio\n",
    "\n",
    "# En 1 linea seria df[df[\"sexo\"]==\"h\"][\"peso\"].mean()      \n",
    "\n",
    "print(f\"El peso promedio de los hombres es {round(peso_promedio_hombres, 2)} kilos\")"
   ]
  },
  {
   "cell_type": "markdown",
   "id": "6a8187ce",
   "metadata": {},
   "source": [
    "# Tipos de estadística\n",
    "- Independiente del tipo, la estadística nos permite _transformar datos en **información**_"
   ]
  },
  {
   "cell_type": "code",
   "execution_count": 26,
   "id": "c1b73a00",
   "metadata": {
    "scrolled": false
   },
   "outputs": [
    {
     "name": "stdout",
     "output_type": "stream",
     "text": [
      "Los datos de altura son [1.67 1.73 1.62 1.58 1.86 1.79 1.69 1.6  1.6  1.98 1.72 1.63 1.73 1.62\n",
      " 1.58 1.86 1.79 1.6  1.98 1.72 1.58]\n",
      "Su promedio es de 1.71\n"
     ]
    }
   ],
   "source": [
    "print(f\"Los datos de altura son {df['altura'].values}\")\n",
    "print(f\"Su promedio es de {round(df['altura'].mean(), 2)}\")"
   ]
  },
  {
   "cell_type": "markdown",
   "id": "39c9acbd",
   "metadata": {},
   "source": [
    "## Estadística inferencial\n",
    "- Busca determinar los parámetros de una _población_, asumiendo que siguen una determinada distribución estadística, a partir de _muestras_ de datos.\n",
    "\n",
    "Por ejemplo, se asume que la altura de todos los alumnos de la academia (población) sigue una distribución normal con ciertos valores para su media y varianza: Altura $\\sim \\mathcal{N}(\\mu, \\sigma)$. Por medio de estadística inferencial, se puede determinar _con un cierto grado de confianza_ si el promedio (estimador) obtenido en nuestra muestra permite _inferir_ la media (parámetro real de toda la población) de altura de todos los alumnos de la academia. Independiente de la conclusión (si el promedio muestral corresponde o no a la media de la población), se habrá obtenido _información_,\n",
    "\n",
    "## Estadística descriptiva\n",
    "- Permite caracterizar los datos obtenidos, usualmente _muestrales_, para obtener _información_ a partir de los _datos_.\n",
    "- Normalmente esta caracterización es por medio de _**estadísticos**_:\n",
    "    - Corresponden a \"medidas de resumen\" de los datos en un solo valor.\n",
    "    - En datos muestrales, se debe usar _estimadores_ de los estadísticos (en estadística descriptiva no determinamos si estos estimadores son \"buenos\" o \"malos\", solo los utilizamos).\n",
    "- Esta caracterización también puede llevarse a cabo mediante _gráficos_.\n",
    "- Puede aplicarse en dos formas:\n",
    "    - Univariada: Describe el comportamiento de 1 variable por sí sola.\n",
    "    - Multivariada: Describe el comportamiento de 2 o más variables _en conjunto_, describiendo la interacción entre ellas.\n",
    "- Se aplica tanto a datos cualitativos como cuantitativos.\n",
    "\n",
    "En este curso el enfoque principal será el de realizar _estadística descriptiva_. En esta sesión, se hará el enfoque además en la _estadística univariada_ mediante _estadísticos_."
   ]
  },
  {
   "cell_type": "markdown",
   "id": "56051e41",
   "metadata": {},
   "source": [
    "# Estadística univariada\n",
    "\n",
    "## Conceptualización y Operacionalización\n",
    "\n",
    "Existen tres dimensiones a considerar en los datos:\n",
    "- Desde el conocimiento específico de la industria (dominio específico)\n",
    "- Desde la estadística (operacionalización estadística)\n",
    "- Estructura específica de los datos ingresados (operacionalización computacional)\n",
    "\n",
    "![](ejemplo_operacionalizacion.png)"
   ]
  },
  {
   "cell_type": "markdown",
   "id": "5222b43e",
   "metadata": {},
   "source": [
    "## Tipos de variables\n",
    "\n",
    "Desde la estadística existen dos grandes tipos de variables:\n",
    "- Variables Cualitativas, \"se pueden contar\", \"no se pueden sumar\"\n",
    "- Variables Cuantitativas, \"no se cuentan\", \"se pueden sumar\""
   ]
  },
  {
   "cell_type": "code",
   "execution_count": 27,
   "id": "0350a7ce",
   "metadata": {},
   "outputs": [
    {
     "name": "stdout",
     "output_type": "stream",
     "text": [
      "<class 'pandas.core.frame.DataFrame'>\n",
      "RangeIndex: 21 entries, 0 to 20\n",
      "Data columns (total 5 columns):\n",
      " #   Column  Non-Null Count  Dtype  \n",
      "---  ------  --------------  -----  \n",
      " 0   nombre  21 non-null     object \n",
      " 1   altura  21 non-null     float64\n",
      " 2   peso    21 non-null     int64  \n",
      " 3   edad    21 non-null     int64  \n",
      " 4   sexo    21 non-null     object \n",
      "dtypes: float64(1), int64(2), object(2)\n",
      "memory usage: 968.0+ bytes\n"
     ]
    }
   ],
   "source": [
    "# El método df.info() nos puede dar una pista\n",
    "# El tipo 'object' es un tipo genérico. Normalmente las variables de tipo cadena tienen asociado este tipo\n",
    "df.info()"
   ]
  },
  {
   "cell_type": "code",
   "execution_count": 28,
   "id": "fd9c2590",
   "metadata": {},
   "outputs": [
    {
     "data": {
      "text/plain": [
       "h    12\n",
       "m     9\n",
       "Name: sexo, dtype: int64"
      ]
     },
     "execution_count": 28,
     "metadata": {},
     "output_type": "execute_result"
    }
   ],
   "source": [
    "# Podemos contar cuántos hay para cada sexo\n",
    "df[\"sexo\"].value_counts()"
   ]
  },
  {
   "cell_type": "code",
   "execution_count": 29,
   "id": "6c1b9c37",
   "metadata": {},
   "outputs": [
    {
     "data": {
      "text/plain": [
       "553"
      ]
     },
     "execution_count": 29,
     "metadata": {},
     "output_type": "execute_result"
    }
   ],
   "source": [
    "# Podemos sumar las edades\n",
    "df[\"edad\"].sum()"
   ]
  },
  {
   "cell_type": "markdown",
   "id": "679a4518",
   "metadata": {},
   "source": [
    "## Medidas de tendencia central\n",
    "\n",
    "Como todo estadístico, buscan caracterizar los datos por medio de un único valor \"resumen\". En este caso, este resumen es en torno _al valor donde se concentran los datos_, que en estadística _inferencial_ se conoce como _primer momento estadístico_.\n",
    "\n",
    "### Media\n",
    "- **Objetivo**: Generar una cifra que represente de mejor manera la muestra que estudiamos.\n",
    "- Se denota el valor poblacional como $\\mu$ y el muestral (estimador de $\\mu$) como $\\bar X$, siendo en ambos casos la misma fórmula.\n",
    "$$\n",
    "\\bar X = \\frac{1}{n}\\sum_{i=1}^{n} x_i\n",
    "$$\n",
    "    - $\\bar X$: Promedio muestral\n",
    "    - $n$: Tamaño muestral. Para la media poblacional, $\\mu$, se denota como $N$ (tamaño de la población).\n",
    "    - $\\sum_{i=1}^{n} x_i$: Sumatoria de cada valor, \"$x_i$\", desde el dato en la posición 1, $i=1$, hasta la posición que equivale al tamaño de la muestra, $n$. En Pythom una sumatoria equivale a:\n",
    "    ```python\n",
    "    suma = 0\n",
    "    \n",
    "    for i in [1, 2, 3]:\n",
    "        suma += i\n",
    "    ```\n",
    "    <img width=\"600\" src=\"https://64.media.tumblr.com/341787c83a27e65e7110d09d83ce7bf6/fc36913523e3aecd-0a/s1280x1920/01703efac5367eca9e00c8b3580b6d9a53ea7c27.jpg\" />"
   ]
  },
  {
   "cell_type": "code",
   "execution_count": 30,
   "id": "896ffbb0",
   "metadata": {},
   "outputs": [
    {
     "name": "stdout",
     "output_type": "stream",
     "text": [
      "Resultado: 1.71\n",
      "Resultado: 1.71\n",
      "Resultado: 1.71\n"
     ]
    }
   ],
   "source": [
    "# Python nativo\n",
    "print(f\"Resultado: {round(sum(df['altura']) / len(df['altura']), 2)}\")\n",
    "\n",
    "# Pandas\n",
    "print(f\"Resultado: {round(df['altura'].mean(), 2)}\")\n",
    "    \n",
    "# Numpy\n",
    "import numpy as np\n",
    "print(f\"Resultado: {round(np.mean(df['altura']), 2)}\")"
   ]
  },
  {
   "cell_type": "markdown",
   "id": "0e1bbd8a",
   "metadata": {},
   "source": [
    "### Moda\n",
    "\n",
    "- **Objetivo**: Identificar cuál es el valor observado con una mayor frecuencia en la muestra.\n",
    "- Normalmente se aplica a datos _cualitativos_.\n",
    "- Se usa el valor muestral para estimar el poblacional. También podría utilizarse para estimar la media."
   ]
  },
  {
   "cell_type": "code",
   "execution_count": 36,
   "id": "331ac6c1",
   "metadata": {},
   "outputs": [
    {
     "data": {
      "text/plain": [
       "0    h\n",
       "Name: sexo, dtype: object"
      ]
     },
     "execution_count": 36,
     "metadata": {},
     "output_type": "execute_result"
    }
   ],
   "source": [
    "# Se puede obtener utilizando pandas, pero no entrega la frecuencia\n",
    "df['sexo'].mode()"
   ]
  },
  {
   "cell_type": "code",
   "execution_count": 74,
   "id": "b880d960",
   "metadata": {},
   "outputs": [
    {
     "data": {
      "text/plain": [
       "count     21\n",
       "unique     2\n",
       "top        h\n",
       "freq      12\n",
       "Name: sexo, dtype: object"
      ]
     },
     "execution_count": 74,
     "metadata": {},
     "output_type": "execute_result"
    }
   ],
   "source": [
    "# Alternativamente se puede usar \"describe\"\n",
    "df['sexo'].describe()"
   ]
  },
  {
   "cell_type": "code",
   "execution_count": 31,
   "id": "f50b022c",
   "metadata": {},
   "outputs": [
    {
     "name": "stdout",
     "output_type": "stream",
     "text": [
      "La moda es ['h'], y aparece en [12] registros\n"
     ]
    }
   ],
   "source": [
    "import scipy.stats as stats\n",
    "\n",
    "# O con el módulo stats de scipy, que también entrega la frecuencia\n",
    "moda = stats.mode(df['sexo'])\n",
    "print(f\"La moda es {moda[0]}, y aparece en {moda[1]} registros\")"
   ]
  },
  {
   "cell_type": "code",
   "execution_count": 32,
   "id": "a2c93647",
   "metadata": {},
   "outputs": [
    {
     "data": {
      "text/plain": [
       "h    12\n",
       "m     9\n",
       "Name: sexo, dtype: int64"
      ]
     },
     "execution_count": 32,
     "metadata": {},
     "output_type": "execute_result"
    }
   ],
   "source": [
    "# Con value counts se obtiene las frecuencias de todos los valores. Los ordena de mayor a menor.\n",
    "df['sexo'].value_counts()"
   ]
  },
  {
   "cell_type": "markdown",
   "id": "ec396853",
   "metadata": {},
   "source": [
    "### Mediana\n",
    "\n",
    "- **Objetivo**: Identificar el punto equidistante en una variable. \n",
    "- Requiere que primero se ordenen de acuerdo a sus valores.\n",
    "- Se usa el mismo valor muestral para estimar el poblacional. También podría usarse para estimar la media poblacional."
   ]
  },
  {
   "cell_type": "code",
   "execution_count": 33,
   "id": "c849e3e7",
   "metadata": {},
   "outputs": [
    {
     "name": "stdout",
     "output_type": "stream",
     "text": [
      "Resultado: 1.69\n",
      "Resultado: 1.69\n"
     ]
    }
   ],
   "source": [
    "# Pandas\n",
    "print(f\"Resultado: {df['altura'].median()}\")\n",
    "    \n",
    "# Numpy\n",
    "print(f\"Resultado: {np.median(df['altura'])}\")"
   ]
  },
  {
   "cell_type": "markdown",
   "id": "0e31b16f",
   "metadata": {},
   "source": [
    "## Medidas de dispersión\n",
    "Estos estadísticos buscan caracterizar _la dispersión de los datos_ en torno a una medida de tendencia central (usualmente la media). En estadística _inferencial_ se conoce como el _segundo momento estadístico_.\n",
    "\n",
    "### Varianza\n",
    "- **Objetivo**: Reportar qué tan dispersos están las observaciones respecto al punto de origen.\n",
    "- Las diferencias entre el valor observado y el valor promedio (residuos) se elevan al cuadrado para evitar que estos se anulen al sumar las diferencias de todos los valores.\n",
    "- Siempre es positiva.\n",
    "- Normalmente se denota al valor poblacional como $\\sigma^2$, y al muestral (estimador insesgado de la varianza) como $\\mathcal{S}^2$.\n",
    "$$\n",
    "\\sigma^2 = \\frac{\\sum_{i=1}^{N}(x_i - \\mu)^2}{N} \\\\\n",
    "\\mathcal{S}^2 = \\frac{\\sum_{i=1}^{n}(x_i - \\bar X)^2}{n - 1}\n",
    "$$\n",
    "    - $\\mu$: Media poblacional. Si no se posee, se usa un _estimador_, como $\\bar X$.\n",
    "    - Para muestras \"grandes\", el valor del estimador insesgado equivale a calcular $\\sigma^2$, y se puede denotar como $\\hat \\sigma^2$.\n",
    "        - _Nota_: El concepto \"grande\" es relativo; Para un matemático puede ser $n=20$, mientras que para un estadista puede ser $n=100$, y para un data scientist $n=10.000$."
   ]
  },
  {
   "cell_type": "code",
   "execution_count": 36,
   "id": "a78da705",
   "metadata": {},
   "outputs": [
    {
     "name": "stdout",
     "output_type": "stream",
     "text": [
      "Resultado: 0.01581\n",
      "Resultado: 0.01581\n"
     ]
    }
   ],
   "source": [
    "# Pandas. Por defecto calcula S^2. Se puede cambiar a sigma^2 pasando el argumento 0 al parámetro ddof (por defecto 1)\n",
    "print(f\"Resultado: {round(df['altura'].var(), 5)}\")\n",
    "    \n",
    "# Numpy. Por defecto calcula sigma^2. Se puede cambiar a S^2 pasando el argumento 1 al parámetro ddof (por defecto 0)\n",
    "import numpy as np\n",
    "print(f\"Resultado: {round(np.var(df['altura']), 5)}\")"
   ]
  },
  {
   "cell_type": "markdown",
   "id": "bbec86e9",
   "metadata": {},
   "source": [
    "### Desviación estándar\n",
    "\n",
    "- Está fuertemente asociada con la varianza. Para obtenerla, es necesario obtener la raíz cuadrada de ésta última.\n",
    "$$\n",
    "\\sigma = \\sqrt{\\frac{\\sum_{i=1}^{N}(x_i - \\mu)^2}{N}} \\\\\n",
    "\\mathcal{S} = \\sqrt{\\frac{\\sum_{i=1}^{n}(x_i - \\bar X)^2}{n - 1}}\n",
    "$$"
   ]
  },
  {
   "cell_type": "code",
   "execution_count": 37,
   "id": "65f8725b",
   "metadata": {},
   "outputs": [
    {
     "name": "stdout",
     "output_type": "stream",
     "text": [
      "Resultado: 0.12573\n",
      "Resultado: 0.1227\n"
     ]
    }
   ],
   "source": [
    "# Pandas. Por defecto calcula S. Se puede cambiar a sigma pasando el argumento 0 al parámetro ddof (por defecto 1)\n",
    "print(f\"Resultado: {round(df['altura'].std(), 5)}\")\n",
    "    \n",
    "# Numpy. Por defecto calcula sigma. Se puede cambiar a S pasando el argumento 1 al parámetro ddof (por defecto 0)\n",
    "print(f\"Resultado: {round(np.std(df['altura']), 5)}\")"
   ]
  },
  {
   "cell_type": "markdown",
   "id": "fa1a2073",
   "metadata": {},
   "source": [
    "## Otros estadísticos\n",
    "- Mínimo\n",
    "- Máximo\n",
    "- Percentiles (la mediana corresponde al percentil 50%)"
   ]
  },
  {
   "cell_type": "code",
   "execution_count": 39,
   "id": "2ea70c4d",
   "metadata": {},
   "outputs": [
    {
     "data": {
      "text/html": [
       "<div>\n",
       "<style scoped>\n",
       "    .dataframe tbody tr th:only-of-type {\n",
       "        vertical-align: middle;\n",
       "    }\n",
       "\n",
       "    .dataframe tbody tr th {\n",
       "        vertical-align: top;\n",
       "    }\n",
       "\n",
       "    .dataframe thead th {\n",
       "        text-align: right;\n",
       "    }\n",
       "</style>\n",
       "<table border=\"1\" class=\"dataframe\">\n",
       "  <thead>\n",
       "    <tr style=\"text-align: right;\">\n",
       "      <th></th>\n",
       "      <th>count</th>\n",
       "      <th>mean</th>\n",
       "      <th>std</th>\n",
       "      <th>min</th>\n",
       "      <th>25%</th>\n",
       "      <th>50%</th>\n",
       "      <th>75%</th>\n",
       "      <th>max</th>\n",
       "    </tr>\n",
       "  </thead>\n",
       "  <tbody>\n",
       "    <tr>\n",
       "      <th>altura</th>\n",
       "      <td>21.0</td>\n",
       "      <td>1.710952</td>\n",
       "      <td>0.125734</td>\n",
       "      <td>1.58</td>\n",
       "      <td>1.6</td>\n",
       "      <td>1.69</td>\n",
       "      <td>1.79</td>\n",
       "      <td>1.98</td>\n",
       "    </tr>\n",
       "    <tr>\n",
       "      <th>peso</th>\n",
       "      <td>21.0</td>\n",
       "      <td>76.142857</td>\n",
       "      <td>16.514496</td>\n",
       "      <td>56.00</td>\n",
       "      <td>63.0</td>\n",
       "      <td>72.00</td>\n",
       "      <td>83.00</td>\n",
       "      <td>112.00</td>\n",
       "    </tr>\n",
       "    <tr>\n",
       "      <th>edad</th>\n",
       "      <td>21.0</td>\n",
       "      <td>26.333333</td>\n",
       "      <td>4.651165</td>\n",
       "      <td>20.00</td>\n",
       "      <td>23.0</td>\n",
       "      <td>26.00</td>\n",
       "      <td>28.00</td>\n",
       "      <td>36.00</td>\n",
       "    </tr>\n",
       "  </tbody>\n",
       "</table>\n",
       "</div>"
      ],
      "text/plain": [
       "        count       mean        std    min   25%    50%    75%     max\n",
       "altura   21.0   1.710952   0.125734   1.58   1.6   1.69   1.79    1.98\n",
       "peso     21.0  76.142857  16.514496  56.00  63.0  72.00  83.00  112.00\n",
       "edad     21.0  26.333333   4.651165  20.00  23.0  26.00  28.00   36.00"
      ]
     },
     "execution_count": 39,
     "metadata": {},
     "output_type": "execute_result"
    }
   ],
   "source": [
    "# Se pueden explorar usando describe\n",
    "df.describe().T"
   ]
  },
  {
   "cell_type": "markdown",
   "id": "b7fe16da",
   "metadata": {},
   "source": [
    "## Estadística descriptiva univariada en un gráfico"
   ]
  },
  {
   "cell_type": "code",
   "execution_count": 47,
   "id": "c7aa5ea8",
   "metadata": {},
   "outputs": [
    {
     "data": {
      "image/png": "[encoded data removed]",
      "text/plain": [
       "<Figure size 1080x360 with 1 Axes>"
      ]
     },
     "metadata": {},
     "output_type": "display_data"
    }
   ],
   "source": [
    "import matplotlib.pyplot as plt\n",
    "plt.style.use(\"ggplot\")\n",
    "\n",
    "plt.figure(figsize=(15,5))\n",
    "df['altura'].plot(kind=\"hist\", edgecolor=\"darkred\", bins=8, alpha=0.8)\n",
    "plt.axvline(df[\"altura\"].mean(), color=\"dodgerblue\", label=f\"Media: {round(df['altura'].mean(), 2)}\", lw=5)\n",
    "plt.axvline(df[\"altura\"].mode()[0], color=\"mediumpurple\", label=f\"Moda: {round(df['altura'].mode()[0], 2)}\", lw=5)\n",
    "plt.axvline(df[\"altura\"].median(), color=\"lightseagreen\", label=f\"Mediana: {round(df['altura'].median(), 2)}\", lw=5)\n",
    "plt.axvline(df[\"altura\"].mean() + df[\"altura\"].std(), color=\"darkblue\", label=f\"Media + 1 std: {round(df['altura'].mean() + df['altura'].std(), 2)}\", lw=2, ls=\"--\")\n",
    "plt.axvline(df[\"altura\"].mean() - df[\"altura\"].std(), color=\"darkblue\", label=f\"Media - 1 std: {round(df['altura'].mean() - df['altura'].std(), 2)}\", lw=2, ls=\"--\")\n",
    "plt.title(\"Distribución de altura y estadísticos\")\n",
    "plt.xlabel(\"Altura\")\n",
    "plt.legend();"
   ]
  },
  {
   "cell_type": "code",
   "execution_count": null,
   "id": "60382f4f",
   "metadata": {},
   "outputs": [],
   "source": []
  }
 ],
 "metadata": {
  "kernelspec": {
   "display_name": "Python 3 (ipykernel)",
   "language": "python",
   "name": "python3"
  },
  "language_info": {
   "codemirror_mode": {
    "name": "ipython",
    "version": 3
   },
   "file_extension": ".py",
   "mimetype": "text/x-python",
   "name": "python",
   "nbconvert_exporter": "python",
   "pygments_lexer": "ipython3",
   "version": "3.9.12"
  }
 },
 "nbformat": 4,
 "nbformat_minor": 5
}
