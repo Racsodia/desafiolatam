{
 "cells": [
  {
   "cell_type": "markdown",
   "id": "3a40d243",
   "metadata": {},
   "source": [
    "<h1 style=\"text-align: center;\">Desafío - Control de Flujo</h1>\n",
    "\n",
    "- Para realizar este desafío debes haber estudiado previamente todo el material disponible correspondiente a la unidad.\n",
    "- Una vez terminado el desafío, comprime la carpeta que contiene el desarrollo de los requerimientos solicitados y sube el .zip en el LMS.\n",
    "- Desarrollo desafío: Individual.\n",
    "- Puntaje total: 10 puntos."
   ]
  },
  {
   "cell_type": "markdown",
   "id": "71ae3ff4",
   "metadata": {},
   "source": [
    "## Habilidades a evaluar\n",
    "- Generar arrays ficticios con `numpy`\n",
    "- Ejecutar un loop que devuelva los resultados requeridos."
   ]
  },
  {
   "cell_type": "markdown",
   "id": "7bcc8ba8",
   "metadata": {},
   "source": [
    "## Descripción\n",
    "¡Has logrado pasar la primera ronda de la selección de la Empresa TI en la cual postulaste en el Desafío anterior! A los reclutadores les interesó tu currículum una vez revisado, pero\n",
    "siguen existiendo al menos 10 competidores para el puesto, por lo tanto, te solicitan una vez más una serie de requerimientos para poder filtrar técnicamente a los postulantes. Pero esta vez, serán un poco más complejos. Revisémoslos."
   ]
  },
  {
   "cell_type": "markdown",
   "id": "6cac6c89",
   "metadata": {},
   "source": [
    "## Requerimientos\n",
    "### 1. Generar un par de arrays ficticios con numpy (1 punto).\n",
    "\n",
    "**_Tip_**: Utilice la función linspace para generar un array entre 1 y 50, y un array entre 50 y 150."
   ]
  },
  {
   "cell_type": "code",
   "execution_count": 1,
   "id": "e193e15c",
   "metadata": {},
   "outputs": [],
   "source": [
    "# Utiliza esta celda para generar los arreglos solicitados\n",
    "import numpy as np\n",
    "\n",
    "array1 = np.linspace(1,50) #Por defecto entrega 50 numeros\n",
    "array2 = np.linspace(51,150,100)\n"
   ]
  },
  {
   "cell_type": "markdown",
   "id": "05070a9b",
   "metadata": {},
   "source": [
    "### 2. Ejecuta un loop que devuelva si el número en el primer array es par o impar (1 punto).\n",
    "\n",
    "_**Tip**_: Utilice la función _módulo_ para encontrar si el número es divisible por 2."
   ]
  },
  {
   "cell_type": "code",
   "execution_count": 2,
   "id": "035b630c",
   "metadata": {},
   "outputs": [
    {
     "name": "stdout",
     "output_type": "stream",
     "text": [
      "El nùmero 1.0 es impar.\n",
      "El número 2.0 es par.\n",
      "El nùmero 3.0 es impar.\n",
      "El número 4.0 es par.\n",
      "El nùmero 5.0 es impar.\n",
      "El número 6.0 es par.\n",
      "El nùmero 7.0 es impar.\n",
      "El número 8.0 es par.\n",
      "El nùmero 9.0 es impar.\n",
      "El número 10.0 es par.\n",
      "El nùmero 11.0 es impar.\n",
      "El número 12.0 es par.\n",
      "El nùmero 13.0 es impar.\n",
      "El número 14.0 es par.\n",
      "El nùmero 15.0 es impar.\n",
      "El número 16.0 es par.\n",
      "El nùmero 17.0 es impar.\n",
      "El número 18.0 es par.\n",
      "El nùmero 19.0 es impar.\n",
      "El número 20.0 es par.\n",
      "El nùmero 21.0 es impar.\n",
      "El número 22.0 es par.\n",
      "El nùmero 23.0 es impar.\n",
      "El número 24.0 es par.\n",
      "El nùmero 25.0 es impar.\n",
      "El número 26.0 es par.\n",
      "El nùmero 27.0 es impar.\n",
      "El número 28.0 es par.\n",
      "El nùmero 29.0 es impar.\n",
      "El número 30.0 es par.\n",
      "El nùmero 31.0 es impar.\n",
      "El número 32.0 es par.\n",
      "El nùmero 33.0 es impar.\n",
      "El número 34.0 es par.\n",
      "El nùmero 35.0 es impar.\n",
      "El número 36.0 es par.\n",
      "El nùmero 37.0 es impar.\n",
      "El número 38.0 es par.\n",
      "El nùmero 39.0 es impar.\n",
      "El número 40.0 es par.\n",
      "El nùmero 41.0 es impar.\n",
      "El número 42.0 es par.\n",
      "El nùmero 43.0 es impar.\n",
      "El número 44.0 es par.\n",
      "El nùmero 45.0 es impar.\n",
      "El número 46.0 es par.\n",
      "El nùmero 47.0 es impar.\n",
      "El número 48.0 es par.\n",
      "El nùmero 49.0 es impar.\n",
      "El número 50.0 es par.\n"
     ]
    }
   ],
   "source": [
    "# Utiliza esta celda para programar el loop solicitado\n",
    "for i in array1:\n",
    "    if i % 2 == 0:\n",
    "        print(f'El número {i} es par.')\n",
    "    else:\n",
    "        print(f'El nùmero {i} es impar.')"
   ]
  },
  {
   "cell_type": "markdown",
   "id": "61495e2a",
   "metadata": {},
   "source": [
    "### 3. Genere un loop con el segundo array que cuente las siguientes condiciones (1 punto):\n",
    "- Si el número es divisible por 2 o 3.\n",
    "- Si el número es divisible por 2 y 3.\n",
    "- Si el número es divisible por 3 pero no por 2.\n",
    "- Si el número no es divisible por 2 ni 3."
   ]
  },
  {
   "cell_type": "code",
   "execution_count": 3,
   "id": "4fedb533",
   "metadata": {},
   "outputs": [
    {
     "name": "stdout",
     "output_type": "stream",
     "text": [
      "El número 51.0 es divisible por 3 pero no por 2.\n",
      "El número 52.0 es divisible por 2 o 3.\n",
      "El número 53.0 no es divisible ni por 2 ni por 3.\n",
      "El número 54.0 es divisivle por 2 y 3.\n",
      "El número 55.0 no es divisible ni por 2 ni por 3.\n",
      "El número 56.0 es divisible por 2 o 3.\n",
      "El número 57.0 es divisible por 3 pero no por 2.\n",
      "El número 58.0 es divisible por 2 o 3.\n",
      "El número 59.0 no es divisible ni por 2 ni por 3.\n",
      "El número 60.0 es divisivle por 2 y 3.\n",
      "El número 61.0 no es divisible ni por 2 ni por 3.\n",
      "El número 62.0 es divisible por 2 o 3.\n",
      "El número 63.0 es divisible por 3 pero no por 2.\n",
      "El número 64.0 es divisible por 2 o 3.\n",
      "El número 65.0 no es divisible ni por 2 ni por 3.\n",
      "El número 66.0 es divisivle por 2 y 3.\n",
      "El número 67.0 no es divisible ni por 2 ni por 3.\n",
      "El número 68.0 es divisible por 2 o 3.\n",
      "El número 69.0 es divisible por 3 pero no por 2.\n",
      "El número 70.0 es divisible por 2 o 3.\n",
      "El número 71.0 no es divisible ni por 2 ni por 3.\n",
      "El número 72.0 es divisivle por 2 y 3.\n",
      "El número 73.0 no es divisible ni por 2 ni por 3.\n",
      "El número 74.0 es divisible por 2 o 3.\n",
      "El número 75.0 es divisible por 3 pero no por 2.\n",
      "El número 76.0 es divisible por 2 o 3.\n",
      "El número 77.0 no es divisible ni por 2 ni por 3.\n",
      "El número 78.0 es divisivle por 2 y 3.\n",
      "El número 79.0 no es divisible ni por 2 ni por 3.\n",
      "El número 80.0 es divisible por 2 o 3.\n",
      "El número 81.0 es divisible por 3 pero no por 2.\n",
      "El número 82.0 es divisible por 2 o 3.\n",
      "El número 83.0 no es divisible ni por 2 ni por 3.\n",
      "El número 84.0 es divisivle por 2 y 3.\n",
      "El número 85.0 no es divisible ni por 2 ni por 3.\n",
      "El número 86.0 es divisible por 2 o 3.\n",
      "El número 87.0 es divisible por 3 pero no por 2.\n",
      "El número 88.0 es divisible por 2 o 3.\n",
      "El número 89.0 no es divisible ni por 2 ni por 3.\n",
      "El número 90.0 es divisivle por 2 y 3.\n",
      "El número 91.0 no es divisible ni por 2 ni por 3.\n",
      "El número 92.0 es divisible por 2 o 3.\n",
      "El número 93.0 es divisible por 3 pero no por 2.\n",
      "El número 94.0 es divisible por 2 o 3.\n",
      "El número 95.0 no es divisible ni por 2 ni por 3.\n",
      "El número 96.0 es divisivle por 2 y 3.\n",
      "El número 97.0 no es divisible ni por 2 ni por 3.\n",
      "El número 98.0 es divisible por 2 o 3.\n",
      "El número 99.0 es divisible por 3 pero no por 2.\n",
      "El número 100.0 es divisible por 2 o 3.\n",
      "El número 101.0 no es divisible ni por 2 ni por 3.\n",
      "El número 102.0 es divisivle por 2 y 3.\n",
      "El número 103.0 no es divisible ni por 2 ni por 3.\n",
      "El número 104.0 es divisible por 2 o 3.\n",
      "El número 105.0 es divisible por 3 pero no por 2.\n",
      "El número 106.0 es divisible por 2 o 3.\n",
      "El número 107.0 no es divisible ni por 2 ni por 3.\n",
      "El número 108.0 es divisivle por 2 y 3.\n",
      "El número 109.0 no es divisible ni por 2 ni por 3.\n",
      "El número 110.0 es divisible por 2 o 3.\n",
      "El número 111.0 es divisible por 3 pero no por 2.\n",
      "El número 112.0 es divisible por 2 o 3.\n",
      "El número 113.0 no es divisible ni por 2 ni por 3.\n",
      "El número 114.0 es divisivle por 2 y 3.\n",
      "El número 115.0 no es divisible ni por 2 ni por 3.\n",
      "El número 116.0 es divisible por 2 o 3.\n",
      "El número 117.0 es divisible por 3 pero no por 2.\n",
      "El número 118.0 es divisible por 2 o 3.\n",
      "El número 119.0 no es divisible ni por 2 ni por 3.\n",
      "El número 120.0 es divisivle por 2 y 3.\n",
      "El número 121.0 no es divisible ni por 2 ni por 3.\n",
      "El número 122.0 es divisible por 2 o 3.\n",
      "El número 123.0 es divisible por 3 pero no por 2.\n",
      "El número 124.0 es divisible por 2 o 3.\n",
      "El número 125.0 no es divisible ni por 2 ni por 3.\n",
      "El número 126.0 es divisivle por 2 y 3.\n",
      "El número 127.0 no es divisible ni por 2 ni por 3.\n",
      "El número 128.0 es divisible por 2 o 3.\n",
      "El número 129.0 es divisible por 3 pero no por 2.\n",
      "El número 130.0 es divisible por 2 o 3.\n",
      "El número 131.0 no es divisible ni por 2 ni por 3.\n",
      "El número 132.0 es divisivle por 2 y 3.\n",
      "El número 133.0 no es divisible ni por 2 ni por 3.\n",
      "El número 134.0 es divisible por 2 o 3.\n",
      "El número 135.0 es divisible por 3 pero no por 2.\n",
      "El número 136.0 es divisible por 2 o 3.\n",
      "El número 137.0 no es divisible ni por 2 ni por 3.\n",
      "El número 138.0 es divisivle por 2 y 3.\n",
      "El número 139.0 no es divisible ni por 2 ni por 3.\n",
      "El número 140.0 es divisible por 2 o 3.\n",
      "El número 141.0 es divisible por 3 pero no por 2.\n",
      "El número 142.0 es divisible por 2 o 3.\n",
      "El número 143.0 no es divisible ni por 2 ni por 3.\n",
      "El número 144.0 es divisivle por 2 y 3.\n",
      "El número 145.0 no es divisible ni por 2 ni por 3.\n",
      "El número 146.0 es divisible por 2 o 3.\n",
      "El número 147.0 es divisible por 3 pero no por 2.\n",
      "El número 148.0 es divisible por 2 o 3.\n",
      "El número 149.0 no es divisible ni por 2 ni por 3.\n",
      "El número 150.0 es divisivle por 2 y 3.\n"
     ]
    }
   ],
   "source": [
    "# Utilza esta celda para programar el loop solicitado, y definir las variables necesarias\n",
    "for i in array2:\n",
    "    if i % 3 != 0 and i % 2 != 0: \n",
    "        print(f'El número {i} no es divisible ni por 2 ni por 3.')      \n",
    "    elif i % 2 == 0 and i % 3 == 0:\n",
    "        print(f'El número {i} es divisivle por 2 y 3.')\n",
    "    elif i % 3 == 0 and i % 2 != 0:\n",
    "        print(f'El número {i} es divisible por 3 pero no por 2.')\n",
    "    else:\n",
    "        print(f'El número {i} es divisible por 2 o 3.')\n",
    "    #i % 2 == 0 or i % 3 == 0:\n"
   ]
  },
  {
   "cell_type": "markdown",
   "id": "44455155",
   "metadata": {},
   "source": [
    "### 4. Corrección de errores: Revisa el siguiente código y encuentra los errores a corregir (1 punto):\n",
    "\n",
    "```python\n",
    "for i in range(100):\n",
    "    print(I**2)\n",
    "```\n",
    "El error ocurre porque la variable I (mayúscula) no está definida. La variable que sí existe es i (minúscula) que guarda el valor iterado por el for."
   ]
  },
  {
   "cell_type": "markdown",
   "id": "0e2861df",
   "metadata": {},
   "source": [
    "<!-- Comenta aquí cómo corregir el error -->"
   ]
  },
  {
   "cell_type": "code",
   "execution_count": 4,
   "id": "dfac67a1",
   "metadata": {},
   "outputs": [
    {
     "name": "stdout",
     "output_type": "stream",
     "text": [
      "0\n",
      "1\n",
      "4\n",
      "9\n",
      "16\n",
      "25\n",
      "36\n",
      "49\n",
      "64\n",
      "81\n",
      "100\n",
      "121\n",
      "144\n",
      "169\n",
      "196\n",
      "225\n",
      "256\n",
      "289\n",
      "324\n",
      "361\n",
      "400\n",
      "441\n",
      "484\n",
      "529\n",
      "576\n",
      "625\n",
      "676\n",
      "729\n",
      "784\n",
      "841\n",
      "900\n",
      "961\n",
      "1024\n",
      "1089\n",
      "1156\n",
      "1225\n",
      "1296\n",
      "1369\n",
      "1444\n",
      "1521\n",
      "1600\n",
      "1681\n",
      "1764\n",
      "1849\n",
      "1936\n",
      "2025\n",
      "2116\n",
      "2209\n",
      "2304\n",
      "2401\n",
      "2500\n",
      "2601\n",
      "2704\n",
      "2809\n",
      "2916\n",
      "3025\n",
      "3136\n",
      "3249\n",
      "3364\n",
      "3481\n",
      "3600\n",
      "3721\n",
      "3844\n",
      "3969\n",
      "4096\n",
      "4225\n",
      "4356\n",
      "4489\n",
      "4624\n",
      "4761\n",
      "4900\n",
      "5041\n",
      "5184\n",
      "5329\n",
      "5476\n",
      "5625\n",
      "5776\n",
      "5929\n",
      "6084\n",
      "6241\n",
      "6400\n",
      "6561\n",
      "6724\n",
      "6889\n",
      "7056\n",
      "7225\n",
      "7396\n",
      "7569\n",
      "7744\n",
      "7921\n",
      "8100\n",
      "8281\n",
      "8464\n",
      "8649\n",
      "8836\n",
      "9025\n",
      "9216\n",
      "9409\n",
      "9604\n",
      "9801\n"
     ]
    }
   ],
   "source": [
    "for i in range(100):\n",
    "    print(i**2)"
   ]
  },
  {
   "cell_type": "markdown",
   "id": "b116f789",
   "metadata": {},
   "source": [
    "### 5. Utilizando la misma base `flights.csv` debes hacer un loop y clasificar los meses con una cantidad de pasajeros menor a la media (3 puntos).  \n",
    "\n",
    "Para ello:\n",
    "- Genera un nuevo objeto que represente la media de passengers."
   ]
  },
  {
   "cell_type": "code",
   "execution_count": 5,
   "id": "dadc8af7",
   "metadata": {},
   "outputs": [
    {
     "name": "stdout",
     "output_type": "stream",
     "text": [
      "280.2986111111111\n"
     ]
    }
   ],
   "source": [
    "# Utiliza esta celda para guardar la media de passengers\n",
    "import pandas as pd\n",
    "import numpy as np\n",
    "\n",
    "df = pd.read_csv('flights.csv')\n",
    "media_pasajeros = df['passengers'].mean()\n",
    "\n",
    "print(media_pasajeros)"
   ]
  },
  {
   "cell_type": "markdown",
   "id": "cef2d270",
   "metadata": {},
   "source": [
    "- Genera una columna en la base de datos que se llame `underperforming` y asígnele `0`."
   ]
  },
  {
   "cell_type": "code",
   "execution_count": 27,
   "id": "e1f243c7",
   "metadata": {},
   "outputs": [
    {
     "data": {
      "text/html": [
       "<div>\n",
       "<style scoped>\n",
       "    .dataframe tbody tr th:only-of-type {\n",
       "        vertical-align: middle;\n",
       "    }\n",
       "\n",
       "    .dataframe tbody tr th {\n",
       "        vertical-align: top;\n",
       "    }\n",
       "\n",
       "    .dataframe thead th {\n",
       "        text-align: right;\n",
       "    }\n",
       "</style>\n",
       "<table border=\"1\" class=\"dataframe\">\n",
       "  <thead>\n",
       "    <tr style=\"text-align: right;\">\n",
       "      <th></th>\n",
       "      <th>year</th>\n",
       "      <th>month</th>\n",
       "      <th>passengers</th>\n",
       "      <th>underperforming</th>\n",
       "      <th>outlier</th>\n",
       "    </tr>\n",
       "  </thead>\n",
       "  <tbody>\n",
       "    <tr>\n",
       "      <th>139</th>\n",
       "      <td>1960</td>\n",
       "      <td>August</td>\n",
       "      <td>606</td>\n",
       "      <td>0</td>\n",
       "      <td>1</td>\n",
       "    </tr>\n",
       "    <tr>\n",
       "      <th>140</th>\n",
       "      <td>1960</td>\n",
       "      <td>September</td>\n",
       "      <td>508</td>\n",
       "      <td>0</td>\n",
       "      <td>1</td>\n",
       "    </tr>\n",
       "    <tr>\n",
       "      <th>141</th>\n",
       "      <td>1960</td>\n",
       "      <td>October</td>\n",
       "      <td>461</td>\n",
       "      <td>0</td>\n",
       "      <td>1</td>\n",
       "    </tr>\n",
       "    <tr>\n",
       "      <th>142</th>\n",
       "      <td>1960</td>\n",
       "      <td>November</td>\n",
       "      <td>390</td>\n",
       "      <td>0</td>\n",
       "      <td>0</td>\n",
       "    </tr>\n",
       "    <tr>\n",
       "      <th>143</th>\n",
       "      <td>1960</td>\n",
       "      <td>December</td>\n",
       "      <td>432</td>\n",
       "      <td>0</td>\n",
       "      <td>1</td>\n",
       "    </tr>\n",
       "  </tbody>\n",
       "</table>\n",
       "</div>"
      ],
      "text/plain": [
       "     year      month  passengers  underperforming  outlier\n",
       "139  1960     August         606                0        1\n",
       "140  1960  September         508                0        1\n",
       "141  1960    October         461                0        1\n",
       "142  1960   November         390                0        0\n",
       "143  1960   December         432                0        1"
      ]
     },
     "execution_count": 27,
     "metadata": {},
     "output_type": "execute_result"
    }
   ],
   "source": [
    "# Utiliza esta celda para generar la columna solicitada\n",
    "df['underperforming'] = 0\n",
    "df.tail()"
   ]
  },
  {
   "cell_type": "markdown",
   "id": "57996679",
   "metadata": {},
   "source": [
    "- Ejecuta un loop que recorra cada observación de passengers, donde si la observación es menor a la media de passengers, se le asigne a `underperforming` un 1. Para ello utilice la función `at` de pandas"
   ]
  },
  {
   "cell_type": "code",
   "execution_count": 7,
   "id": "701452ea",
   "metadata": {},
   "outputs": [],
   "source": [
    "# Utiliza esta celda para programar el loop solicitado\n",
    "for index, row in df.iterrows():\n",
    "    if df.at[index,'passengers'] < media_pasajeros:\n",
    "        df.at[index,'underperforming'] = 1\n",
    "    else:\n",
    "        df.at[index,'underperforming'] = 0\n"
   ]
  },
  {
   "cell_type": "markdown",
   "id": "2cd8f059",
   "metadata": {},
   "source": [
    "### 6. Por último, haz un loop que clasifique los meses donde la cantidad de pasajeros se escapa de la tendencia (3 puntos).\n",
    "\n",
    "Para ello:\n",
    "- Genera dos objetos que guarden la media general y la desviación estándar general de `passengers`."
   ]
  },
  {
   "cell_type": "code",
   "execution_count": 8,
   "id": "3b632c17",
   "metadata": {},
   "outputs": [
    {
     "name": "stdout",
     "output_type": "stream",
     "text": [
      "280.2986111111111 119.96631694294321\n"
     ]
    }
   ],
   "source": [
    "# Utiliza esta celda para generar las variables solicitadas\n",
    "media_general, desviacion_general = df['passengers'].mean(), df['passengers'].std()\n",
    "print(media_general, desviacion_general)"
   ]
  },
  {
   "cell_type": "markdown",
   "id": "6553099c",
   "metadata": {},
   "source": [
    "- Genera una nueva columna en la tabla de datos que se llame `outlier` y asígnale 0"
   ]
  },
  {
   "cell_type": "code",
   "execution_count": 9,
   "id": "47daa737",
   "metadata": {},
   "outputs": [
    {
     "data": {
      "text/html": [
       "<div>\n",
       "<style scoped>\n",
       "    .dataframe tbody tr th:only-of-type {\n",
       "        vertical-align: middle;\n",
       "    }\n",
       "\n",
       "    .dataframe tbody tr th {\n",
       "        vertical-align: top;\n",
       "    }\n",
       "\n",
       "    .dataframe thead th {\n",
       "        text-align: right;\n",
       "    }\n",
       "</style>\n",
       "<table border=\"1\" class=\"dataframe\">\n",
       "  <thead>\n",
       "    <tr style=\"text-align: right;\">\n",
       "      <th></th>\n",
       "      <th>year</th>\n",
       "      <th>month</th>\n",
       "      <th>passengers</th>\n",
       "      <th>underperforming</th>\n",
       "      <th>outlier</th>\n",
       "    </tr>\n",
       "  </thead>\n",
       "  <tbody>\n",
       "    <tr>\n",
       "      <th>0</th>\n",
       "      <td>1949</td>\n",
       "      <td>January</td>\n",
       "      <td>112</td>\n",
       "      <td>1</td>\n",
       "      <td>0</td>\n",
       "    </tr>\n",
       "    <tr>\n",
       "      <th>1</th>\n",
       "      <td>1949</td>\n",
       "      <td>February</td>\n",
       "      <td>118</td>\n",
       "      <td>1</td>\n",
       "      <td>0</td>\n",
       "    </tr>\n",
       "    <tr>\n",
       "      <th>2</th>\n",
       "      <td>1949</td>\n",
       "      <td>March</td>\n",
       "      <td>132</td>\n",
       "      <td>1</td>\n",
       "      <td>0</td>\n",
       "    </tr>\n",
       "    <tr>\n",
       "      <th>3</th>\n",
       "      <td>1949</td>\n",
       "      <td>April</td>\n",
       "      <td>129</td>\n",
       "      <td>1</td>\n",
       "      <td>0</td>\n",
       "    </tr>\n",
       "    <tr>\n",
       "      <th>4</th>\n",
       "      <td>1949</td>\n",
       "      <td>May</td>\n",
       "      <td>121</td>\n",
       "      <td>1</td>\n",
       "      <td>0</td>\n",
       "    </tr>\n",
       "  </tbody>\n",
       "</table>\n",
       "</div>"
      ],
      "text/plain": [
       "   year     month  passengers  underperforming  outlier\n",
       "0  1949   January         112                1        0\n",
       "1  1949  February         118                1        0\n",
       "2  1949     March         132                1        0\n",
       "3  1949     April         129                1        0\n",
       "4  1949       May         121                1        0"
      ]
     },
     "execution_count": 9,
     "metadata": {},
     "output_type": "execute_result"
    }
   ],
   "source": [
    "# Utiliza esta celda para generar la columna solicitada\n",
    "df['outlier'] = 0\n",
    "df.head()"
   ]
  },
  {
   "cell_type": "markdown",
   "id": "972bccdc",
   "metadata": {},
   "source": [
    "- Ejecuta un loop que recorra cada observación de passengers, donde si la observación se escapa de la tendencia sea 1, de lo contrario 0.\n",
    "- Para clasificar los casos que se escapen la tendencia, la observación debe satisfacer _una_ de las siguientes condiciones:\n",
    "    - La observación debe ser menor a la media menos la desviación estándar.\n",
    "    - La observación debe ser mayor a la media más la desviación estándar.\n",
    "- ¿Cuántas observaciones se pueden clasificar como casos extremos?"
   ]
  },
  {
   "cell_type": "code",
   "execution_count": 28,
   "id": "efe7502a",
   "metadata": {},
   "outputs": [
    {
     "name": "stdout",
     "output_type": "stream",
     "text": [
      "0    91\n",
      "1    53\n",
      "Name: outlier, dtype: int64\n",
      "143\n",
      "0.3706\n"
     ]
    }
   ],
   "source": [
    "# Utiliza esta celda para generar el loop solicitado y mostrar los casos extremos\n",
    "for index, row in df.iterrows():\n",
    "    if df.at[index,'passengers'] < media_general - desviacion_general or df.at[index,'passengers'] > media_general + desviacion_general:\n",
    "        df.at[index,'outlier'] = 1\n",
    "    else:\n",
    "        df.at[index,'outlier'] = 0\n",
    "\n",
    "casos = df['outlier'].value_counts()\n",
    "print(casos)\n",
    "print(len(df)-1)\n",
    "print(round(casos[1]/(len(df)-1),4))"
   ]
  },
  {
   "cell_type": "markdown",
   "id": "50003340",
   "metadata": {},
   "source": [
    "<!-- Utiliza esta celda para responder con palabras la pregunta indicada -->\n",
    "Según el resultado del input anterior, del total de casos, 53 son considerados extremos. En otras palabras, el 37,06% son extremos de un total de 143 casos."
   ]
  }
 ],
 "metadata": {
  "kernelspec": {
   "display_name": "Python 3.9.12 ('base')",
   "language": "python",
   "name": "python3"
  },
  "language_info": {
   "codemirror_mode": {
    "name": "ipython",
    "version": 3
   },
   "file_extension": ".py",
   "mimetype": "text/x-python",
   "name": "python",
   "nbconvert_exporter": "python",
   "pygments_lexer": "ipython3",
   "version": "3.9.12"
  },
  "vscode": {
   "interpreter": {
    "hash": "8c36b02c8e638dd02579157a992cf8c1e39377e4b1159ea46021ea15210cf677"
   }
  }
 },
 "nbformat": 4,
 "nbformat_minor": 5
}
