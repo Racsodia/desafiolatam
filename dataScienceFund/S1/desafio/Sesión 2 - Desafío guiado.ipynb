{
 "cells": [
  {
   "cell_type": "markdown",
   "id": "e31e5e2c",
   "metadata": {},
   "source": [
    "<h1 style=\"text-align: center;\">Desafío - Introducción al ambiente de trabajo</h1>\n",
    "\n",
    "- Para realizar este desafío debes haber estudiado previamente todo el material disponible correspondiente a la unidad.\n",
    "- Una vez terminado el desafío, comprime la carpeta que contiene el desarrollo de los requerimientos solicitados y sube el .zip en el LMS.\n",
    "- Desarrollo del desafío: individual\n",
    "- Para la realización del desafío necesitarás apoyarte del archivo `Apoyo Desafío - Introducción al ambiente de trabajo.zip`, disponible en la <a href=\"https://empieza.desafiolatam.com/cohorts/2091/sections/78263/activities/119091/items/610763\">plataforma</a>."
   ]
  },
  {
   "cell_type": "markdown",
   "id": "647841e3",
   "metadata": {},
   "source": [
    "## Habilidades a evaluar\n",
    "- Utilizar el método print para comenzar a programar en Python.\n",
    "- Ingresar variables para utilizarlas posteriormente e imprimirlas.\n",
    "- Corregir errores posterior a su identificación dentro de los códigos dados."
   ]
  },
  {
   "cell_type": "markdown",
   "id": "e7c31987",
   "metadata": {},
   "source": [
    "## Descripción\n",
    "Una empresa dedicada al mundo de la programación se encuentra buscando perfiles junior que trabajen con Data Analytics en Python. Para ello, publican un anuncio en un conocido\n",
    "portal de búsqueda de trabajo TI en el cual tu te encuentras inscrito. Una vez llenada la postulación, la página te redirige al sitio web de la empresa donde se le solicita a cada candidato/a que desarrolle acciones básicas de programación para comprobar sus habilidades. Solo quienes desarrollen exitosamente los requerimientos podrán pasar a la siguiente etapa de selección."
   ]
  },
  {
   "cell_type": "markdown",
   "id": "d3973591",
   "metadata": {},
   "source": [
    "## Requerimientos\n",
    "A continuación revisaremos los requerimientos y acciones que la empresa a la cual postulas te pide realizar."
   ]
  },
  {
   "cell_type": "markdown",
   "id": "5fc925a5",
   "metadata": {},
   "source": [
    "### 1. Hola Mundo (1 pto): \n",
    "\n",
    "Utilice la función `print` para mostrar en pantalla la siguiente línea:\n",
    "\n",
    "`Hola Mundo, esta es mi primera incursión en Python`"
   ]
  },
  {
   "cell_type": "code",
   "execution_count": 1,
   "id": "90d43078",
   "metadata": {},
   "outputs": [
    {
     "name": "stdout",
     "output_type": "stream",
     "text": [
      "Hola Mundo, esta es mi primera incursión en Python\n"
     ]
    }
   ],
   "source": [
    "# Utiliza esta celda para desarrollar el primer requerimiento\n",
    "print(\"Hola Mundo, esta es mi primera incursión en Python\")"
   ]
  },
  {
   "cell_type": "markdown",
   "id": "a64291b9",
   "metadata": {},
   "source": [
    "### 2. Ingreso de variables (2 ptos):\n",
    "\n",
    "Ingrese una serie de datos respecto a su información personal. Esta información debe estar ingresada en variables para su posterior uso. Ingrese los siguientes datos:\n",
    "- Su nombre.\n",
    "- Edad.\n",
    "- Una lista con sus 3 actividades favoritas.\n",
    "- ¿Tiene mascotas?"
   ]
  },
  {
   "cell_type": "code",
   "execution_count": 1,
   "id": "d634a46f",
   "metadata": {},
   "outputs": [],
   "source": [
    "# Utiliza esta celda para desarrollar el segundo requerimiento\n",
    "nombre = \"Oscar Aguilera\"\n",
    "edad = 35\n",
    "actividades_favoritas = [\"Tocar guitarra\", \"Cantar\", \"Programar\"]\n",
    "mascota = True"
   ]
  },
  {
   "cell_type": "markdown",
   "id": "680ad37d",
   "metadata": {},
   "source": [
    "### 3. Imprimir variables (2 ptos):\n",
    "- Muestre cada variable creada: acceda al segundo elemento de su lista.\n",
    "- Pida los tipos de datos asociados.\n",
    "- Interpole los datos usando la función print para generar una presentación sobre usted."
   ]
  },
  {
   "cell_type": "code",
   "execution_count": 2,
   "id": "925f12ff",
   "metadata": {},
   "outputs": [
    {
     "data": {
      "text/plain": [
       "('Oscar Aguilera', 35, ['Tocar guitarra', 'Cantar', 'Programar'], True)"
      ]
     },
     "execution_count": 2,
     "metadata": {},
     "output_type": "execute_result"
    }
   ],
   "source": [
    "# Utiliza esta celda para mostrar las variables solicitadas\n",
    "nombre , edad, actividades_favoritas, mascota"
   ]
  },
  {
   "cell_type": "code",
   "execution_count": 3,
   "id": "8786cc1a",
   "metadata": {},
   "outputs": [
    {
     "data": {
      "text/plain": [
       "(str, int, list, bool)"
      ]
     },
     "execution_count": 3,
     "metadata": {},
     "output_type": "execute_result"
    }
   ],
   "source": [
    "# Utiliza esta celda para pedir los tipos de datos asociados\n",
    "type(nombre), type(edad), type(actividades_favoritas[1]), type(mascota)"
   ]
  },
  {
   "cell_type": "code",
   "execution_count": 5,
   "id": "e9abe763",
   "metadata": {},
   "outputs": [
    {
     "name": "stdout",
     "output_type": "stream",
     "text": [
      "Hola, mi nombre es Oscar Aguilera, tengo 35 años. Mis actividades favoritas son ['Tocar guitarra', 'Cantar', 'Programar'] y tengo mascotas\n"
     ]
    }
   ],
   "source": [
    "# Utiliza esta celda para realizar tu presentación personal\n",
    "print(\n",
    "    f'Hola, mi nombre es {nombre}, tengo {edad} años. Mis actividades favoritas son {actividades_favoritas} y {\"tengo mascotas\" if mascota else \"no tengo mascotas\"}'\n",
    ")"
   ]
  },
  {
   "cell_type": "code",
   "execution_count": null,
   "id": "1da429df",
   "metadata": {},
   "outputs": [],
   "source": []
  },
  {
   "cell_type": "markdown",
   "id": "76569449",
   "metadata": {},
   "source": [
    "### 4. Identificar códigos erróneos (2 ptos): \n",
    "A continuación se presenta una serie de códigos que generan errores. Corríjalos y comente cuáles fueron las fallas."
   ]
  },
  {
   "cell_type": "code",
   "execution_count": 10,
   "id": "04e92229",
   "metadata": {},
   "outputs": [
    {
     "name": "stdout",
     "output_type": "stream",
     "text": [
      "Estaba la pájara pinta sentada en el verde limón\n"
     ]
    }
   ],
   "source": [
    "print('Estaba la pájara pinta sentada en el verde limón')"
   ]
  },
  {
   "cell_type": "markdown",
   "id": "7ee40ba5",
   "metadata": {},
   "source": [
    "<!-- Escribe en esta celda la razón del error de la ejecución anterior. Puedes borrar este comentario (comentario de HTML, no se visualiza en la renderización)-->\n",
    "\n",
    " El error ocurre porque falta una comilla al final del string para cerrarlo."
   ]
  },
  {
   "cell_type": "code",
   "execution_count": 7,
   "id": "b6a44411",
   "metadata": {},
   "outputs": [
    {
     "name": "stdout",
     "output_type": "stream",
     "text": [
      "Mi nombre es Oscar Aguilera y tengo 35 años\n"
     ]
    }
   ],
   "source": [
    "print('Mi nombre es', nombre, 'y tengo' ,edad, 'años')"
   ]
  },
  {
   "cell_type": "markdown",
   "id": "48d2fab8",
   "metadata": {},
   "source": [
    "<!-- Escribe en esta celda la razón del error de la ejecución anterior. -->\n",
    "El error se producía porque 1: la variable estaba definida con otro nombre y 2: faltaban comas para separar cada elemento del print. También se podía solucionar interpolando con f'{}' "
   ]
  },
  {
   "cell_type": "code",
   "execution_count": null,
   "id": "732382dd",
   "metadata": {},
   "outputs": [],
   "source": [
    "import pandas as pd\n",
    "import numpy as np"
   ]
  },
  {
   "cell_type": "markdown",
   "id": "04628e11",
   "metadata": {},
   "source": [
    "<!-- Escribe en esta celda la razón del error de la ejecución anterior. -->\n",
    "Este es un error lógico respecto a las convenciones en los alias, pandas tiene como alias pd y numpy como np"
   ]
  },
  {
   "cell_type": "code",
   "execution_count": 8,
   "id": "484fa58a",
   "metadata": {},
   "outputs": [
    {
     "data": {
      "text/plain": [
       "'Ornitorrinco45'"
      ]
     },
     "execution_count": 8,
     "metadata": {},
     "output_type": "execute_result"
    }
   ],
   "source": [
    "\"Ornitorrinco\" + str(45)"
   ]
  },
  {
   "cell_type": "markdown",
   "id": "5158b4d4",
   "metadata": {},
   "source": [
    "<!-- Escribe en esta celda la razón del error de la ejecución anterior. -->\n",
    "La operación suma no se puede realizar entre un entero y un strig. Se soluciona convirtiendo el número a tipo str()"
   ]
  },
  {
   "cell_type": "markdown",
   "id": "434d3d79",
   "metadata": {},
   "source": [
    "### 5. Utilizar pandas y numpy (3 ptos):\n",
    "Para ello, sigue los siguientes pasos.\n",
    "- A. Importa `pandas` y `numpy`."
   ]
  },
  {
   "cell_type": "code",
   "execution_count": 11,
   "id": "3a5c941c",
   "metadata": {},
   "outputs": [],
   "source": [
    "# Utiliza esta celda para responder el punto A\n",
    "import pandas as pd\n",
    "import numpy as np"
   ]
  },
  {
   "cell_type": "markdown",
   "id": "bf181a77",
   "metadata": {},
   "source": [
    "- B. Posteriormente importa el archivo flights.csv"
   ]
  },
  {
   "cell_type": "code",
   "execution_count": 17,
   "id": "23d731f9",
   "metadata": {},
   "outputs": [
    {
     "data": {
      "text/plain": [
       "Index(['year', 'month', 'passengers'], dtype='object')"
      ]
     },
     "execution_count": 17,
     "metadata": {},
     "output_type": "execute_result"
    }
   ],
   "source": [
    "# Utiliza esta celda para responder el punto B\n",
    "df = pd.read_csv('flights.csv')\n",
    "df.columns"
   ]
  },
  {
   "cell_type": "markdown",
   "id": "7e205004",
   "metadata": {},
   "source": [
    "- C. Solicita las primeras y últimas 5 observaciones de la tabla de datos."
   ]
  },
  {
   "cell_type": "code",
   "execution_count": 14,
   "id": "1b934ef0",
   "metadata": {},
   "outputs": [
    {
     "data": {
      "text/html": [
       "<div>\n",
       "<style scoped>\n",
       "    .dataframe tbody tr th:only-of-type {\n",
       "        vertical-align: middle;\n",
       "    }\n",
       "\n",
       "    .dataframe tbody tr th {\n",
       "        vertical-align: top;\n",
       "    }\n",
       "\n",
       "    .dataframe thead th {\n",
       "        text-align: right;\n",
       "    }\n",
       "</style>\n",
       "<table border=\"1\" class=\"dataframe\">\n",
       "  <thead>\n",
       "    <tr style=\"text-align: right;\">\n",
       "      <th></th>\n",
       "      <th>year</th>\n",
       "      <th>month</th>\n",
       "      <th>passengers</th>\n",
       "    </tr>\n",
       "  </thead>\n",
       "  <tbody>\n",
       "    <tr>\n",
       "      <th>0</th>\n",
       "      <td>1949</td>\n",
       "      <td>January</td>\n",
       "      <td>112</td>\n",
       "    </tr>\n",
       "    <tr>\n",
       "      <th>1</th>\n",
       "      <td>1949</td>\n",
       "      <td>February</td>\n",
       "      <td>118</td>\n",
       "    </tr>\n",
       "    <tr>\n",
       "      <th>2</th>\n",
       "      <td>1949</td>\n",
       "      <td>March</td>\n",
       "      <td>132</td>\n",
       "    </tr>\n",
       "    <tr>\n",
       "      <th>3</th>\n",
       "      <td>1949</td>\n",
       "      <td>April</td>\n",
       "      <td>129</td>\n",
       "    </tr>\n",
       "    <tr>\n",
       "      <th>4</th>\n",
       "      <td>1949</td>\n",
       "      <td>May</td>\n",
       "      <td>121</td>\n",
       "    </tr>\n",
       "  </tbody>\n",
       "</table>\n",
       "</div>"
      ],
      "text/plain": [
       "   year     month  passengers\n",
       "0  1949   January         112\n",
       "1  1949  February         118\n",
       "2  1949     March         132\n",
       "3  1949     April         129\n",
       "4  1949       May         121"
      ]
     },
     "execution_count": 14,
     "metadata": {},
     "output_type": "execute_result"
    }
   ],
   "source": [
    "# Utiliza esta celda para responder el punto C, primeras 5\n",
    "df.head(5)"
   ]
  },
  {
   "cell_type": "code",
   "execution_count": 15,
   "id": "1ca11527",
   "metadata": {},
   "outputs": [
    {
     "data": {
      "text/html": [
       "<div>\n",
       "<style scoped>\n",
       "    .dataframe tbody tr th:only-of-type {\n",
       "        vertical-align: middle;\n",
       "    }\n",
       "\n",
       "    .dataframe tbody tr th {\n",
       "        vertical-align: top;\n",
       "    }\n",
       "\n",
       "    .dataframe thead th {\n",
       "        text-align: right;\n",
       "    }\n",
       "</style>\n",
       "<table border=\"1\" class=\"dataframe\">\n",
       "  <thead>\n",
       "    <tr style=\"text-align: right;\">\n",
       "      <th></th>\n",
       "      <th>year</th>\n",
       "      <th>month</th>\n",
       "      <th>passengers</th>\n",
       "    </tr>\n",
       "  </thead>\n",
       "  <tbody>\n",
       "    <tr>\n",
       "      <th>139</th>\n",
       "      <td>1960</td>\n",
       "      <td>August</td>\n",
       "      <td>606</td>\n",
       "    </tr>\n",
       "    <tr>\n",
       "      <th>140</th>\n",
       "      <td>1960</td>\n",
       "      <td>September</td>\n",
       "      <td>508</td>\n",
       "    </tr>\n",
       "    <tr>\n",
       "      <th>141</th>\n",
       "      <td>1960</td>\n",
       "      <td>October</td>\n",
       "      <td>461</td>\n",
       "    </tr>\n",
       "    <tr>\n",
       "      <th>142</th>\n",
       "      <td>1960</td>\n",
       "      <td>November</td>\n",
       "      <td>390</td>\n",
       "    </tr>\n",
       "    <tr>\n",
       "      <th>143</th>\n",
       "      <td>1960</td>\n",
       "      <td>December</td>\n",
       "      <td>432</td>\n",
       "    </tr>\n",
       "  </tbody>\n",
       "</table>\n",
       "</div>"
      ],
      "text/plain": [
       "     year      month  passengers\n",
       "139  1960     August         606\n",
       "140  1960  September         508\n",
       "141  1960    October         461\n",
       "142  1960   November         390\n",
       "143  1960   December         432"
      ]
     },
     "execution_count": 15,
     "metadata": {},
     "output_type": "execute_result"
    }
   ],
   "source": [
    "# Utiliza esta celda para responder el punto C, últimas 5\n",
    "df.tail()"
   ]
  },
  {
   "cell_type": "markdown",
   "id": "8be8f801",
   "metadata": {},
   "source": [
    "- D. Utiliza describe para obtener las medidas univariadas de la columna `year`"
   ]
  },
  {
   "cell_type": "code",
   "execution_count": 16,
   "id": "92d1cc11",
   "metadata": {},
   "outputs": [
    {
     "data": {
      "text/plain": [
       "count     144.000000\n",
       "mean     1954.500000\n",
       "std         3.464102\n",
       "min      1949.000000\n",
       "25%      1951.750000\n",
       "50%      1954.500000\n",
       "75%      1957.250000\n",
       "max      1960.000000\n",
       "Name: year, dtype: float64"
      ]
     },
     "execution_count": 16,
     "metadata": {},
     "output_type": "execute_result"
    }
   ],
   "source": [
    "# Utiliza esta celda para responder el punto D\n",
    "df['year'].describe()"
   ]
  },
  {
   "cell_type": "markdown",
   "id": "56f0c7a0",
   "metadata": {},
   "source": [
    "- E. Utiliza `value_counts` para obtener la frecuencia de meses y años de la tabla."
   ]
  },
  {
   "cell_type": "code",
   "execution_count": 18,
   "id": "b1cac615",
   "metadata": {},
   "outputs": [
    {
     "data": {
      "text/plain": [
       "January      12\n",
       "February     12\n",
       "March        12\n",
       "April        12\n",
       "May          12\n",
       "June         12\n",
       "July         12\n",
       "August       12\n",
       "September    12\n",
       "October      12\n",
       "November     12\n",
       "December     12\n",
       "Name: month, dtype: int64"
      ]
     },
     "execution_count": 18,
     "metadata": {},
     "output_type": "execute_result"
    }
   ],
   "source": [
    "# Utiliza esta celda para responder el punto E. Frecuencia de meses\n",
    "df['month'].value_counts()"
   ]
  },
  {
   "cell_type": "code",
   "execution_count": 19,
   "id": "92071af8",
   "metadata": {},
   "outputs": [
    {
     "data": {
      "text/plain": [
       "1949    12\n",
       "1950    12\n",
       "1951    12\n",
       "1952    12\n",
       "1953    12\n",
       "1954    12\n",
       "1955    12\n",
       "1956    12\n",
       "1957    12\n",
       "1958    12\n",
       "1959    12\n",
       "1960    12\n",
       "Name: year, dtype: int64"
      ]
     },
     "execution_count": 19,
     "metadata": {},
     "output_type": "execute_result"
    }
   ],
   "source": [
    "# Utiliza esta celda para responder el punto E. Frecuencia de años\n",
    "df['year'].value_counts()"
   ]
  },
  {
   "cell_type": "markdown",
   "id": "0ff71c18",
   "metadata": {},
   "source": [
    "- F. Guarda en variables las primeras y últimas 15 observaciones de la tabla."
   ]
  },
  {
   "cell_type": "code",
   "execution_count": 20,
   "id": "d5d9db96",
   "metadata": {},
   "outputs": [],
   "source": [
    "# Utiliza esta celda para responder el punto F\n",
    "primeras_quince = df.head(15)\n",
    "ultimas_quince = df.tail(15)"
   ]
  },
  {
   "cell_type": "markdown",
   "id": "250ab7af",
   "metadata": {},
   "source": [
    "- G. Solicita la media, mediana y desviación estándar de la cantidad de pasajeros utilizando las funciones de numpy. Replique el procedimiento para las últimas y primeras 15 observaciones. Comente brevemente los resultados"
   ]
  },
  {
   "cell_type": "code",
   "execution_count": 22,
   "id": "de17c53f",
   "metadata": {},
   "outputs": [
    {
     "data": {
      "text/plain": [
       "(280.2986111111111, 265.5, 119.54904153277148, 40363)"
      ]
     },
     "execution_count": 22,
     "metadata": {},
     "output_type": "execute_result"
    }
   ],
   "source": [
    "# Utiliza esta celda para obteer media, mediana y desviación estándar de la cantidad de pasajeros utilizando numpy\n",
    "np.mean(df['passengers']),np.median(df['passengers']),np.std(df['passengers']),np.sum(df['passengers'])"
   ]
  },
  {
   "cell_type": "code",
   "execution_count": 25,
   "id": "e4d4b2b2",
   "metadata": {},
   "outputs": [
    {
     "data": {
      "text/plain": [
       "(459.2, 432.0, 75.29426715671431, 6888)"
      ]
     },
     "execution_count": 25,
     "metadata": {},
     "output_type": "execute_result"
    }
   ],
   "source": [
    "# Utiliza esta celda para repetir el procedimiento para las últimas 15 observaciones\n",
    "np.mean(ultimas_quince['passengers']),np.median(ultimas_quince['passengers']),np.std(ultimas_quince['passengers']),np.sum(ultimas_quince['passengers'])"
   ]
  },
  {
   "cell_type": "code",
   "execution_count": 26,
   "id": "f31182e7",
   "metadata": {},
   "outputs": [
    {
     "data": {
      "text/plain": [
       "(126.8, 126.0, 12.681745410891462, 1902)"
      ]
     },
     "execution_count": 26,
     "metadata": {},
     "output_type": "execute_result"
    }
   ],
   "source": [
    "# Utiliza esta celda para repetir el procedimiento para las primeras 15 observaciones\n",
    "np.mean(primeras_quince['passengers']),np.median(primeras_quince['passengers']),np.std(primeras_quince['passengers']),np.sum(primeras_quince['passengers'])"
   ]
  },
  {
   "cell_type": "markdown",
   "id": "53b8c606",
   "metadata": {},
   "source": [
    "<!-- Utiliza esta celda para comentar tus resultados -->\n",
    "La cantidad de pasajeros ha ido aumentando con los años y es más disperso el uso de los vuelos."
   ]
  },
  {
   "cell_type": "code",
   "execution_count": null,
   "id": "107fbd27",
   "metadata": {},
   "outputs": [],
   "source": []
  }
 ],
 "metadata": {
  "kernelspec": {
   "display_name": "Python 3 (ipykernel)",
   "language": "python",
   "name": "python3"
  },
  "language_info": {
   "codemirror_mode": {
    "name": "ipython",
    "version": 3
   },
   "file_extension": ".py",
   "mimetype": "text/x-python",
   "name": "python",
   "nbconvert_exporter": "python",
   "pygments_lexer": "ipython3",
   "version": "3.8.9"
  },
  "vscode": {
   "interpreter": {
    "hash": "31f2aee4e71d21fbe5cf8b01ff0e069b9275f58929596ceb00d14d90e3e16cd6"
   }
  }
 },
 "nbformat": 4,
 "nbformat_minor": 5
}
