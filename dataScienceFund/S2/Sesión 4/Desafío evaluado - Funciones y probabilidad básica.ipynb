{
 "cells": [
  {
   "cell_type": "markdown",
   "id": "57cdecdb",
   "metadata": {},
   "source": [
    "<h1 style=\"text-align: center;\">Desafío - Funciones y probabilidades</h1>\n",
    "\n",
    "- Para realizar este desafío debes haber estudiado previamente todo el material disponible correspondiente a la unidad.\n",
    "- Una vez terminado el desafío, comprime la carpeta que contiene el desarrollo de los requerimientos solicitados y sube el .zip en el LMS.\n",
    "- Para la realización del desafío necesitarás apoyarte del archivo `Apoyo Desafío - Calculando probabilidades.zip`, disponible en la <a href=\"https://empieza.desafiolatam.com/cohorts/2091/sections/78268/activities/119096/items/610788\">plataforma</a>.\n",
    "- Desarrollo desafío:\n",
    "    - El desafío se debe desarrollar de manera Individual.\n",
    "    - Puntaje total: 10 puntos."
   ]
  },
  {
   "cell_type": "markdown",
   "id": "60d41138",
   "metadata": {},
   "source": [
    "## Desafío 1: Generación de funciones (1 punto)\n",
    "- Genere funciones para calcular la media y varianza de un vector. Debe cumplir con los siguientes requisitos:\n",
    "    - Ambas funciones deben ingresar un argumento x correspondiente al vector.\n",
    "    - Las funciones deben contener docstrings con la documentación asociada a la variable y retornar un valor utilizando `return`.\n",
    "- La función de la varianza se debe llamar a la función de la media.\n",
    "- Utilice las funciones para reportar la información sobre `goles_favor`, `goles_contra` y `puntos`."
   ]
  },
  {
   "cell_type": "code",
   "execution_count": 1,
   "id": "1edc173d",
   "metadata": {},
   "outputs": [],
   "source": [
    "# Utiliza este bloque para definir las funciones solicitadas"
   ]
  },
  {
   "cell_type": "code",
   "execution_count": 2,
   "id": "09bc2d70",
   "metadata": {},
   "outputs": [],
   "source": [
    "# Utiliza este bloque para reportar la información sobre goles_favor, goles_contra y puntos"
   ]
  },
  {
   "cell_type": "markdown",
   "id": "5cc8e767",
   "metadata": {},
   "source": [
    "## Desafío 2: Uso de groupby y agg (2 puntos)\n",
    "Utilizando el método `groupby` de la clase `DataFrame`, en conjunto con la función `.agg` de pandas, calcule la media, la varianza y desviación estándar de la cantidad de goles a favor, en contra y de la cantidad de puntos por continente."
   ]
  },
  {
   "cell_type": "code",
   "execution_count": 3,
   "id": "7776cdd1",
   "metadata": {},
   "outputs": [],
   "source": [
    "# Utiliza esta celda para aplicar groupby y obtener las métricas solicitadas con agg"
   ]
  },
  {
   "cell_type": "markdown",
   "id": "3d6e53f2",
   "metadata": {},
   "source": [
    "**¿En qué continente se observa una mayor cantidad de goles a favor?**\n",
    "\n",
    "**Respuesta**:"
   ]
  },
  {
   "cell_type": "markdown",
   "id": "45a56621",
   "metadata": {},
   "source": [
    "**¿En qué continente se observa una mayor cantidad de goles en contra?**\n",
    "\n",
    "**Respuesta:**"
   ]
  },
  {
   "cell_type": "markdown",
   "id": "ad57715f",
   "metadata": {},
   "source": [
    "**¿En qué continente se observa una mayor cantidad de puntos en promedio?**\n",
    "\n",
    "**Respuesta**:"
   ]
  },
  {
   "cell_type": "markdown",
   "id": "9759a972",
   "metadata": {},
   "source": [
    "## Desafío 3: Simulaciones (3 puntos)\n",
    "\n",
    "- Genere una función `generate_pet` que devuelva de forma aleatoria un string `'perro'` o `'gato'` un número `n` de veces. Ejecútela un par de veces.\n",
    "    - Tip: Puede utilizar la función `np.random.choice` para retornar elementos al azar.\n",
    "- Aplique la función generate_pet para generar 20 muestras."
   ]
  },
  {
   "cell_type": "code",
   "execution_count": 1,
   "id": "3d099a43",
   "metadata": {},
   "outputs": [],
   "source": [
    "# Use este bloque para definir la función generate_pet"
   ]
  },
  {
   "cell_type": "code",
   "execution_count": 2,
   "id": "72342cf8",
   "metadata": {},
   "outputs": [],
   "source": [
    "# Use este bloque para generar las 20 muestras usando la función"
   ]
  },
  {
   "cell_type": "markdown",
   "id": "74ffe4d9",
   "metadata": {},
   "source": [
    "**¿Cuál es la probabilidad de elegir un perro al azar? ¿Y un gato?**\n",
    "\n",
    "**Respuesta:**"
   ]
  },
  {
   "cell_type": "markdown",
   "id": "8a3ba77b",
   "metadata": {},
   "source": [
    "**Agregue `np.random.seed(2)` al inicio del chunk. ¿Qué diferencia hay cuando se ejecuta la función varias veces luego de fijar la semilla?**\n",
    "\n",
    "**Respuesta**:"
   ]
  },
  {
   "cell_type": "markdown",
   "id": "da1da134",
   "metadata": {},
   "source": [
    "## Desafío 4: Función simuladora (4 puntos)\n",
    "- Genere una función llamada `simulate_pets_prob` que tome como argumento un número finito de simulaciones a generar.\n",
    "- La función debe simular dos situaciones `'young_pet'` y `'old_pet'`, y contar la ocurrencia de los siguientes casos:\n",
    "    - De las dos mascotas simuladas (`'young_pet'` y `'old_pet'`), contar las ocasiones donde _por lo menos una_ de las mascotas sea un perro.\n",
    "    - De las dos mascotas simuladas, contar las ocasiones donde `'old_pet'` sea un perro.\n",
    "    - De las dos mascotas simuladas, contar las ocasiones donde los dos sean perros.\n",
    "- El método debe tener una semilla pseudoaleatoria de 1.\n",
    "- El output de la función debe entregarse en términos de Probabilidad."
   ]
  },
  {
   "cell_type": "code",
   "execution_count": 3,
   "id": "99c0b838",
   "metadata": {},
   "outputs": [],
   "source": [
    "# Use este bloque para definir la función"
   ]
  },
  {
   "cell_type": "code",
   "execution_count": 4,
   "id": "130cead5",
   "metadata": {},
   "outputs": [],
   "source": [
    "# Utilice este bloque para realizar el llamado"
   ]
  },
  {
   "cell_type": "markdown",
   "id": "a1243484",
   "metadata": {},
   "source": [
    "**De los tres escenarios, ¿Cuál es el menos probable? ¿Cuál es el más probable? ¿Por qué?**\n",
    "\n",
    "**Respuesta:**"
   ]
  },
  {
   "cell_type": "code",
   "execution_count": null,
   "id": "1b02cf50",
   "metadata": {},
   "outputs": [],
   "source": []
  }
 ],
 "metadata": {
  "kernelspec": {
   "display_name": "Python 3 (ipykernel)",
   "language": "python",
   "name": "python3"
  },
  "language_info": {
   "codemirror_mode": {
    "name": "ipython",
    "version": 3
   },
   "file_extension": ".py",
   "mimetype": "text/x-python",
   "name": "python",
   "nbconvert_exporter": "python",
   "pygments_lexer": "ipython3",
   "version": "3.9.12"
  }
 },
 "nbformat": 4,
 "nbformat_minor": 5
}
