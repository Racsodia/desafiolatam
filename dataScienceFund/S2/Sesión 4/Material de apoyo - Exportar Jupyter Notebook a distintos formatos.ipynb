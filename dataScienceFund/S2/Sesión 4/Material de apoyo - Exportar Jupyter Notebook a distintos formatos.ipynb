{
 "cells": [
  {
   "cell_type": "markdown",
   "id": "6076b107",
   "metadata": {},
   "source": [
    "# Desde la aplicación\n",
    "- La forma más sencilla de exportar un Jupyter Notebook a otro formato es por medio de la opción disponible en el menú `File -> Download as`\n",
    "<img src=\"https://res.cloudinary.com/dyd911kmh/image/upload/f_auto,q_auto:best/v1603465232/jup14_v2gzvf.png\" width=\"50%\">\n",
    "\n",
    "- Al aplicar esta forma, en cada formato se incluirá todo el contenido del notebook:\n",
    "    - Bloques markdown\n",
    "    - Bloques de código\n",
    "    - Salidas de los bloques de código"
   ]
  },
  {
   "cell_type": "markdown",
   "id": "0d83253b",
   "metadata": {},
   "source": [
    "## Formatos disponibles más utilizados\n",
    "- En esta sesión veremos 2 formatos: HTML y LaTeX\n",
    "\n",
    "### HTML\n",
    "- Genera un archivo `html`, que puede ser abierto en el navegador\n",
    "- Como es una página web, puede luego ser exportado a PDF dando a la opción \"Imprimir...\" al hacer click derecho sobre la página, y escogiendo \"Guardar como PDF\" en lugar de una impresora en la sección \"Destino\".\n",
    "<img src=\"ej_html.png\" width=\"50%\" />"
   ]
  },
  {
   "cell_type": "markdown",
   "id": "070456ab",
   "metadata": {},
   "source": [
    "### LaTeX\n",
    "- Requiere tener instalado Latex en el computador.\n",
    "- Luego puede ser abierto por un editor Latex como \"TEX MAKER\", donde, por ejemplo, se puede modificar el formato añadiendo doble columna y un encabezado. También de esta forma se puede añadir otros paquetes, lo cual es más complicado de hacer al usar Latex de markdown directamente en Jupyter Notebook.\n",
    "- Puede requerir de bastante edición manual, pero en mi experiencia sigue siendo más rápido que crear un documento .tex desde cero manualmente.\n",
    "<img src=\"ej_latex.png\" width=\"60%\" />"
   ]
  },
  {
   "cell_type": "markdown",
   "id": "7b9169e5",
   "metadata": {},
   "source": [
    "## ¿Cómo exportar el contenido del notebook sin incluir los bloques de código?\n",
    "\n",
    "- Para ello se puede utilizar el paquete `nbconvert`. Puede ser instalado tanto con `pip` como con `conda`, ya sea en una terminal o en una celda de tipo código:"
   ]
  },
  {
   "cell_type": "code",
   "execution_count": 1,
   "id": "35e2f97c",
   "metadata": {},
   "outputs": [
    {
     "name": "stdout",
     "output_type": "stream",
     "text": [
      "Requirement already satisfied: nbconvert in /home/giani/anaconda3/lib/python3.9/site-packages (6.4.4)\n",
      "Requirement already satisfied: nbclient<0.6.0,>=0.5.0 in /home/giani/anaconda3/lib/python3.9/site-packages (from nbconvert) (0.5.13)\n",
      "Requirement already satisfied: beautifulsoup4 in /home/giani/anaconda3/lib/python3.9/site-packages (from nbconvert) (4.11.1)\n",
      "Requirement already satisfied: defusedxml in /home/giani/anaconda3/lib/python3.9/site-packages (from nbconvert) (0.7.1)\n",
      "Requirement already satisfied: pandocfilters>=1.4.1 in /home/giani/anaconda3/lib/python3.9/site-packages (from nbconvert) (1.5.0)\n",
      "Requirement already satisfied: bleach in /home/giani/anaconda3/lib/python3.9/site-packages (from nbconvert) (4.1.0)\n",
      "Requirement already satisfied: traitlets>=5.0 in /home/giani/anaconda3/lib/python3.9/site-packages (from nbconvert) (5.1.1)\n",
      "Requirement already satisfied: pygments>=2.4.1 in /home/giani/anaconda3/lib/python3.9/site-packages (from nbconvert) (2.11.2)\n",
      "Requirement already satisfied: mistune<2,>=0.8.1 in /home/giani/anaconda3/lib/python3.9/site-packages (from nbconvert) (0.8.4)\n",
      "Requirement already satisfied: nbformat>=4.4 in /home/giani/anaconda3/lib/python3.9/site-packages (from nbconvert) (5.3.0)\n",
      "Requirement already satisfied: testpath in /home/giani/anaconda3/lib/python3.9/site-packages (from nbconvert) (0.5.0)\n",
      "Requirement already satisfied: entrypoints>=0.2.2 in /home/giani/anaconda3/lib/python3.9/site-packages (from nbconvert) (0.4)\n",
      "Requirement already satisfied: jupyterlab-pygments in /home/giani/anaconda3/lib/python3.9/site-packages (from nbconvert) (0.1.2)\n",
      "Requirement already satisfied: jupyter-core in /home/giani/anaconda3/lib/python3.9/site-packages (from nbconvert) (4.9.2)\n",
      "Requirement already satisfied: jinja2>=2.4 in /home/giani/anaconda3/lib/python3.9/site-packages (from nbconvert) (2.11.3)\n",
      "Requirement already satisfied: MarkupSafe>=0.23 in /home/giani/anaconda3/lib/python3.9/site-packages (from jinja2>=2.4->nbconvert) (2.0.1)\n",
      "Requirement already satisfied: nest-asyncio in /home/giani/anaconda3/lib/python3.9/site-packages (from nbclient<0.6.0,>=0.5.0->nbconvert) (1.5.5)\n",
      "Requirement already satisfied: jupyter-client>=6.1.5 in /home/giani/anaconda3/lib/python3.9/site-packages (from nbclient<0.6.0,>=0.5.0->nbconvert) (6.1.12)\n",
      "Requirement already satisfied: pyzmq>=13 in /home/giani/anaconda3/lib/python3.9/site-packages (from jupyter-client>=6.1.5->nbclient<0.6.0,>=0.5.0->nbconvert) (22.3.0)\n",
      "Requirement already satisfied: python-dateutil>=2.1 in /home/giani/anaconda3/lib/python3.9/site-packages (from jupyter-client>=6.1.5->nbclient<0.6.0,>=0.5.0->nbconvert) (2.8.2)\n",
      "Requirement already satisfied: tornado>=4.1 in /home/giani/anaconda3/lib/python3.9/site-packages (from jupyter-client>=6.1.5->nbclient<0.6.0,>=0.5.0->nbconvert) (6.1)\n",
      "Requirement already satisfied: jsonschema>=2.6 in /home/giani/anaconda3/lib/python3.9/site-packages (from nbformat>=4.4->nbconvert) (4.4.0)\n",
      "Requirement already satisfied: fastjsonschema in /home/giani/anaconda3/lib/python3.9/site-packages (from nbformat>=4.4->nbconvert) (2.15.1)\n",
      "Requirement already satisfied: attrs>=17.4.0 in /home/giani/anaconda3/lib/python3.9/site-packages (from jsonschema>=2.6->nbformat>=4.4->nbconvert) (21.4.0)\n",
      "Requirement already satisfied: pyrsistent!=0.17.0,!=0.17.1,!=0.17.2,>=0.14.0 in /home/giani/anaconda3/lib/python3.9/site-packages (from jsonschema>=2.6->nbformat>=4.4->nbconvert) (0.18.0)\n",
      "Requirement already satisfied: six>=1.5 in /home/giani/anaconda3/lib/python3.9/site-packages (from python-dateutil>=2.1->jupyter-client>=6.1.5->nbclient<0.6.0,>=0.5.0->nbconvert) (1.16.0)\n",
      "Requirement already satisfied: soupsieve>1.2 in /home/giani/anaconda3/lib/python3.9/site-packages (from beautifulsoup4->nbconvert) (2.3.1)\n",
      "Requirement already satisfied: packaging in /home/giani/anaconda3/lib/python3.9/site-packages (from bleach->nbconvert) (21.3)\n",
      "Requirement already satisfied: webencodings in /home/giani/anaconda3/lib/python3.9/site-packages (from bleach->nbconvert) (0.5.1)\n",
      "Requirement already satisfied: pyparsing!=3.0.5,>=2.0.2 in /home/giani/anaconda3/lib/python3.9/site-packages (from packaging->bleach->nbconvert) (3.0.4)\n"
     ]
    }
   ],
   "source": [
    "!pip install nbconvert"
   ]
  },
  {
   "cell_type": "markdown",
   "id": "98b9d8c2",
   "metadata": {},
   "source": [
    "Luego, en una terminal en la ubicación del archivo que se desea exportar, o en una celda de código del archivo que se desea exportar, se debe indicar lo siguiente:\n",
    "```bash\n",
    "# Para exportar a html\n",
    "jupyter nbconvert --to html --no-input nombre_archivo.ipynb\n",
    "\n",
    "# Para exportar a latex\n",
    "jupyter nbconvert --to latex --no-input nombre_archivo.ipynb\n",
    "```\n",
    "\n",
    "**NOTA**: Importante guardar el notebook usando el botón \"guardar\" antes de exportar"
   ]
  },
  {
   "cell_type": "code",
   "execution_count": 2,
   "id": "0166e978",
   "metadata": {},
   "outputs": [
    {
     "data": {
      "text/html": [
       "<div>\n",
       "<style scoped>\n",
       "    .dataframe tbody tr th:only-of-type {\n",
       "        vertical-align: middle;\n",
       "    }\n",
       "\n",
       "    .dataframe tbody tr th {\n",
       "        vertical-align: top;\n",
       "    }\n",
       "\n",
       "    .dataframe thead th {\n",
       "        text-align: right;\n",
       "    }\n",
       "</style>\n",
       "<table border=\"1\" class=\"dataframe\">\n",
       "  <thead>\n",
       "    <tr style=\"text-align: right;\">\n",
       "      <th></th>\n",
       "      <th>alumno</th>\n",
       "      <th>curso</th>\n",
       "    </tr>\n",
       "  </thead>\n",
       "  <tbody>\n",
       "    <tr>\n",
       "      <th>0</th>\n",
       "      <td>Juan</td>\n",
       "      <td>Fundamentos Data Science</td>\n",
       "    </tr>\n",
       "    <tr>\n",
       "      <th>1</th>\n",
       "      <td>Pedro</td>\n",
       "      <td>Introducción a Python</td>\n",
       "    </tr>\n",
       "    <tr>\n",
       "      <th>2</th>\n",
       "      <td>María</td>\n",
       "      <td>Fundamentos Data Science</td>\n",
       "    </tr>\n",
       "  </tbody>\n",
       "</table>\n",
       "</div>"
      ],
      "text/plain": [
       "  alumno                     curso\n",
       "0   Juan  Fundamentos Data Science\n",
       "1  Pedro     Introducción a Python\n",
       "2  María  Fundamentos Data Science"
      ]
     },
     "execution_count": 2,
     "metadata": {},
     "output_type": "execute_result"
    }
   ],
   "source": [
    "# Se crea esta celda de código para ver que al exportarse no se va a generar\n",
    "import pandas as pd\n",
    "\n",
    "pd.DataFrame([\n",
    "    {\"alumno\": \"Juan\", \"curso\": \"Fundamentos Data Science\"},\n",
    "    {\"alumno\": \"Pedro\", \"curso\": \"Introducción a Python\"},\n",
    "    {\"alumno\": \"María\", \"curso\": \"Fundamentos Data Science\"}\n",
    "])"
   ]
  },
  {
   "cell_type": "markdown",
   "id": "e75259a4",
   "metadata": {},
   "source": [
    "### Ejemplo: Exportar este notebook a html sin código"
   ]
  },
  {
   "cell_type": "code",
   "execution_count": 2,
   "id": "8e11b5e2",
   "metadata": {},
   "outputs": [
    {
     "name": "stdout",
     "output_type": "stream",
     "text": [
      "[NbConvertApp] Converting notebook Material de apoyo - Exportar Jupyter Notebook a distintos formatos.ipynb to html\n",
      "[NbConvertApp] Writing 659834 bytes to Material de apoyo - Exportar Jupyter Notebook a distintos formatos.html\n"
     ]
    }
   ],
   "source": [
    "!jupyter nbconvert --to html --no-input Material\\ de\\ apoyo\\ -\\ Exportar\\ Jupyter\\ Notebook\\ a\\ distintos\\ formatos.ipynb"
   ]
  },
  {
   "cell_type": "markdown",
   "id": "fe561747",
   "metadata": {},
   "source": [
    "<img src=\"ej_html_noinput.png\" width=\"50%\" />"
   ]
  },
  {
   "cell_type": "code",
   "execution_count": null,
   "id": "66db8154",
   "metadata": {},
   "outputs": [],
   "source": []
  }
 ],
 "metadata": {
  "kernelspec": {
   "display_name": "Python 3 (ipykernel)",
   "language": "python",
   "name": "python3"
  },
  "language_info": {
   "codemirror_mode": {
    "name": "ipython",
    "version": 3
   },
   "file_extension": ".py",
   "mimetype": "text/x-python",
   "name": "python",
   "nbconvert_exporter": "python",
   "pygments_lexer": "ipython3",
   "version": "3.9.12"
  }
 },
 "nbformat": 4,
 "nbformat_minor": 5
}
