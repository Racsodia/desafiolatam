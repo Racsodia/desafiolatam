{
 "cells": [
  {
   "cell_type": "markdown",
   "id": "57cdecdb",
   "metadata": {},
   "source": [
    "<h1 style=\"text-align: center;\">Desafío - Funciones y probabilidades</h1>\n",
    "\n",
    "- Para realizar este desafío debes haber estudiado previamente todo el material disponible correspondiente a la unidad.\n",
    "- Una vez terminado el desafío, comprime la carpeta que contiene el desarrollo de los requerimientos solicitados y sube el .zip en el LMS.\n",
    "- Para la realización del desafío necesitarás apoyarte del archivo `Apoyo Desafío - Calculando probabilidades.zip`, disponible en la <a href=\"https://empieza.desafiolatam.com/cohorts/2091/sections/78268/activities/119096/items/610788\">plataforma</a>.\n",
    "- Desarrollo desafío:\n",
    "    - El desafío se debe desarrollar de manera Individual.\n",
    "    - Puntaje total: 10 puntos."
   ]
  },
  {
   "cell_type": "markdown",
   "id": "60d41138",
   "metadata": {},
   "source": [
    "## Desafío 1: Generación de funciones (1 punto)\n",
    "- Genere funciones para calcular la media y varianza de un vector. Debe cumplir con los siguientes requisitos:\n",
    "    - Ambas funciones deben ingresar un argumento x correspondiente al vector.\n",
    "    - Las funciones deben contener docstrings con la documentación asociada a la variable y retornar un valor utilizando `return`.\n",
    "- La función de la varianza se debe llamar a la función de la media.\n",
    "- Utilice las funciones para reportar la información sobre `goles_favor`, `goles_contra` y `puntos`."
   ]
  },
  {
   "cell_type": "code",
   "execution_count": 1,
   "id": "1edc173d",
   "metadata": {},
   "outputs": [],
   "source": [
    "# Se utiliza este bloque para definir las funciones solicitadas\n",
    "\n",
    "def media(data_vector):\n",
    "    ''' \n",
    "        Esta función retorna la media artimética del vector de datos ingresado como parámetro\n",
    "\n",
    "        Parametros:\n",
    "            a (list): una lista que contiene números a los cuales calcularles su media\n",
    "        Retorno:\n",
    "            media (float): El valor de la media calculada entre los números del vector ingresado\n",
    "    '''\n",
    "    acumulador = 0\n",
    "    for i in data_vector:\n",
    "        acumulador += i\n",
    "    media = acumulador/len(data_vector)\n",
    "    return media\n",
    "\n",
    "def varianza(data_vector):\n",
    "    ''' \n",
    "        Esta función retorna la varianza del vector de datos ingresado como parámetro\n",
    "\n",
    "        Parametros:\n",
    "            a (list): una lista que contiene números a los cuales calcularles su varianza\n",
    "        Retorno:\n",
    "            varianza (float): El valor de la varainza calculada entre los números del vector ingresado\n",
    "    '''\n",
    "    acumulador = 0\n",
    "    valor_media = media(data_vector)\n",
    "    for i in data_vector:\n",
    "        acumulador += (i - valor_media)**2\n",
    "    varianza = acumulador/(len(data_vector)-1)\n",
    "    return varianza\n"
   ]
  },
  {
   "cell_type": "code",
   "execution_count": 2,
   "id": "09bc2d70",
   "metadata": {},
   "outputs": [
    {
     "name": "stdout",
     "output_type": "stream",
     "text": [
      "El promedio de goles a favor de todos los equipos del mundial de fútbol es : 4.25 y su varianza es 5.35\n",
      "El promedio de goles en contra de todos los equipos del mundial de fútbol es : 4.25 y su varianza es 4.97\n",
      "El promedio de puntos de todos los equipos del mundial de fútbol es : 4.21875 y su varianza es 8.31\n"
     ]
    }
   ],
   "source": [
    "# Se utiliza este bloque para reportar la información sobre goles_favor, goles_contra y puntos\n",
    "import pandas as pd\n",
    "\n",
    "df = pd.read_csv('worldcup2014.csv')\n",
    "media_goles_favor = media(df['goles_favor'])\n",
    "media_goles_contra = media(df['goles_contra'])\n",
    "varianza_goles_favor = round(varianza(df['goles_favor']),2)\n",
    "varianza_goles_contra = round(varianza(df['goles_contra']),2)\n",
    "media_puntos = media(df['puntos'])\n",
    "varianza_puntos = round(varianza(df['puntos']),2)\n",
    "print(f'El promedio de goles a favor de todos los equipos del mundial de fútbol es : {media_goles_favor} y su varianza es {varianza_goles_favor}')\n",
    "print(f'El promedio de goles en contra de todos los equipos del mundial de fútbol es : {media_goles_contra} y su varianza es {varianza_goles_contra}')\n",
    "print(f'El promedio de puntos de todos los equipos del mundial de fútbol es : {media_puntos} y su varianza es {varianza_puntos}')\n"
   ]
  },
  {
   "cell_type": "markdown",
   "id": "5cc8e767",
   "metadata": {},
   "source": [
    "## Desafío 2: Uso de groupby y agg (2 puntos)\n",
    "Utilizando el método `groupby` de la clase `DataFrame`, en conjunto con la función `.agg` de pandas, calcule la media, la varianza y desviación estándar de la cantidad de goles a favor, en contra y de la cantidad de puntos por continente."
   ]
  },
  {
   "cell_type": "code",
   "execution_count": 9,
   "id": "7776cdd1",
   "metadata": {},
   "outputs": [
    {
     "data": {
      "text/html": [
       "<div>\n",
       "<style scoped>\n",
       "    .dataframe tbody tr th:only-of-type {\n",
       "        vertical-align: middle;\n",
       "    }\n",
       "\n",
       "    .dataframe tbody tr th {\n",
       "        vertical-align: top;\n",
       "    }\n",
       "\n",
       "    .dataframe thead tr th {\n",
       "        text-align: left;\n",
       "    }\n",
       "\n",
       "    .dataframe thead tr:last-of-type th {\n",
       "        text-align: right;\n",
       "    }\n",
       "</style>\n",
       "<table border=\"1\" class=\"dataframe\">\n",
       "  <thead>\n",
       "    <tr>\n",
       "      <th></th>\n",
       "      <th colspan=\"4\" halign=\"left\">goles_favor</th>\n",
       "      <th colspan=\"4\" halign=\"left\">goles_contra</th>\n",
       "      <th colspan=\"4\" halign=\"left\">puntos</th>\n",
       "    </tr>\n",
       "    <tr>\n",
       "      <th></th>\n",
       "      <th>sum</th>\n",
       "      <th>mean</th>\n",
       "      <th>var</th>\n",
       "      <th>std</th>\n",
       "      <th>sum</th>\n",
       "      <th>mean</th>\n",
       "      <th>var</th>\n",
       "      <th>std</th>\n",
       "      <th>sum</th>\n",
       "      <th>mean</th>\n",
       "      <th>var</th>\n",
       "      <th>std</th>\n",
       "    </tr>\n",
       "    <tr>\n",
       "      <th>continent</th>\n",
       "      <th></th>\n",
       "      <th></th>\n",
       "      <th></th>\n",
       "      <th></th>\n",
       "      <th></th>\n",
       "      <th></th>\n",
       "      <th></th>\n",
       "      <th></th>\n",
       "      <th></th>\n",
       "      <th></th>\n",
       "      <th></th>\n",
       "      <th></th>\n",
       "    </tr>\n",
       "  </thead>\n",
       "  <tbody>\n",
       "    <tr>\n",
       "      <th>africa</th>\n",
       "      <td>18</td>\n",
       "      <td>3.600000</td>\n",
       "      <td>3.300000</td>\n",
       "      <td>1.816590</td>\n",
       "      <td>28</td>\n",
       "      <td>5.600000</td>\n",
       "      <td>4.800000</td>\n",
       "      <td>2.190890</td>\n",
       "      <td>12</td>\n",
       "      <td>2.400000</td>\n",
       "      <td>3.300000</td>\n",
       "      <td>1.816590</td>\n",
       "    </tr>\n",
       "    <tr>\n",
       "      <th>asia</th>\n",
       "      <td>9</td>\n",
       "      <td>2.250000</td>\n",
       "      <td>0.916667</td>\n",
       "      <td>0.957427</td>\n",
       "      <td>25</td>\n",
       "      <td>6.250000</td>\n",
       "      <td>4.250000</td>\n",
       "      <td>2.061553</td>\n",
       "      <td>3</td>\n",
       "      <td>0.750000</td>\n",
       "      <td>0.250000</td>\n",
       "      <td>0.500000</td>\n",
       "    </tr>\n",
       "    <tr>\n",
       "      <th>europe</th>\n",
       "      <td>62</td>\n",
       "      <td>4.769231</td>\n",
       "      <td>6.858974</td>\n",
       "      <td>2.618964</td>\n",
       "      <td>52</td>\n",
       "      <td>4.000000</td>\n",
       "      <td>3.833333</td>\n",
       "      <td>1.957890</td>\n",
       "      <td>61</td>\n",
       "      <td>4.692308</td>\n",
       "      <td>6.897436</td>\n",
       "      <td>2.626297</td>\n",
       "    </tr>\n",
       "    <tr>\n",
       "      <th>northamerica</th>\n",
       "      <td>13</td>\n",
       "      <td>3.250000</td>\n",
       "      <td>2.250000</td>\n",
       "      <td>1.500000</td>\n",
       "      <td>14</td>\n",
       "      <td>3.500000</td>\n",
       "      <td>11.000000</td>\n",
       "      <td>3.316625</td>\n",
       "      <td>18</td>\n",
       "      <td>4.500000</td>\n",
       "      <td>11.000000</td>\n",
       "      <td>3.316625</td>\n",
       "    </tr>\n",
       "    <tr>\n",
       "      <th>southamerica</th>\n",
       "      <td>34</td>\n",
       "      <td>5.666667</td>\n",
       "      <td>4.666667</td>\n",
       "      <td>2.160247</td>\n",
       "      <td>17</td>\n",
       "      <td>2.833333</td>\n",
       "      <td>0.566667</td>\n",
       "      <td>0.752773</td>\n",
       "      <td>41</td>\n",
       "      <td>6.833333</td>\n",
       "      <td>3.766667</td>\n",
       "      <td>1.940790</td>\n",
       "    </tr>\n",
       "  </tbody>\n",
       "</table>\n",
       "</div>"
      ],
      "text/plain": [
       "             goles_favor                               goles_contra            \\\n",
       "                     sum      mean       var       std          sum      mean   \n",
       "continent                                                                       \n",
       "africa                18  3.600000  3.300000  1.816590           28  5.600000   \n",
       "asia                   9  2.250000  0.916667  0.957427           25  6.250000   \n",
       "europe                62  4.769231  6.858974  2.618964           52  4.000000   \n",
       "northamerica          13  3.250000  2.250000  1.500000           14  3.500000   \n",
       "southamerica          34  5.666667  4.666667  2.160247           17  2.833333   \n",
       "\n",
       "                                  puntos                                 \n",
       "                    var       std    sum      mean        var       std  \n",
       "continent                                                                \n",
       "africa         4.800000  2.190890     12  2.400000   3.300000  1.816590  \n",
       "asia           4.250000  2.061553      3  0.750000   0.250000  0.500000  \n",
       "europe         3.833333  1.957890     61  4.692308   6.897436  2.626297  \n",
       "northamerica  11.000000  3.316625     18  4.500000  11.000000  3.316625  \n",
       "southamerica   0.566667  0.752773     41  6.833333   3.766667  1.940790  "
      ]
     },
     "execution_count": 9,
     "metadata": {},
     "output_type": "execute_result"
    }
   ],
   "source": [
    "# Utiliza esta celda para aplicar groupby y obtener las métricas solicitadas con agg\n",
    "goles_favor = df.groupby(df['continent'])['goles_favor'].agg(['sum'])\n",
    "goles_contra = df.groupby(df['continent'])['goles_contra'].agg(['sum'])\n",
    "puntos = df.groupby(df['continent'])['puntos'].agg(['sum'])\n",
    "\n",
    "media_gf = df.groupby(df['continent'])['goles_favor'].agg(['mean'])\n",
    "std_gf = df.groupby(df['continent'])['goles_favor'].agg(['std'])\n",
    "var_gf = df.groupby(df['continent'])['goles_favor'].agg(['var'])\n",
    "\n",
    "media_gc = df.groupby(df['continent'])['goles_contra'].agg(['mean'])\n",
    "std_gc =  df.groupby(df['continent'])['goles_contra'].agg(['std'])\n",
    "var_gc = df.groupby(df['continent'])['goles_contra'].agg(['var'])\n",
    "\n",
    "media_pt = df.groupby(df['continent'])['puntos'].agg(['mean'])\n",
    "std_pt = df.groupby(df['continent'])['puntos'].agg(['std'])\n",
    "var_pt = df.groupby(df['continent'])['puntos'].agg(['var'])\n",
    "\n",
    "df.groupby('continent')[['goles_favor', 'goles_contra','puntos']].agg(['sum','mean','var','std'])\n"
   ]
  },
  {
   "cell_type": "code",
   "execution_count": 4,
   "id": "e455bf88",
   "metadata": {},
   "outputs": [
    {
     "name": "stdout",
     "output_type": "stream",
     "text": [
      "Goles a favor:               sum\n",
      "continent        \n",
      "africa         18\n",
      "asia            9\n",
      "europe         62\n",
      "northamerica   13\n",
      "southamerica   34 \n",
      "\n",
      "Goles en contra:               sum\n",
      "continent        \n",
      "africa         28\n",
      "asia           25\n",
      "europe         52\n",
      "northamerica   14\n",
      "southamerica   17 \n",
      "\n",
      "Puntos por continente:               sum\n",
      "continent        \n",
      "africa         28\n",
      "asia           25\n",
      "europe         52\n",
      "northamerica   14\n",
      "southamerica   17 \n",
      "\n"
     ]
    }
   ],
   "source": [
    "# A continuación se muestran las cantidades asociadas a cada dato\n",
    "print(f'Goles a favor: {goles_favor} \\n')\n",
    "print(f'Goles en contra: {goles_contra} \\n')\n",
    "print(f'Puntos por continente: {goles_contra} \\n')\n"
   ]
  },
  {
   "cell_type": "code",
   "execution_count": 5,
   "id": "6c699dfe",
   "metadata": {},
   "outputs": [
    {
     "name": "stdout",
     "output_type": "stream",
     "text": [
      "La media de los goles a favor por continente es:                mean\n",
      "continent          \n",
      "africa        3.600\n",
      "asia          2.250\n",
      "europe        4.769\n",
      "northamerica  3.250\n",
      "southamerica  5.667 \n",
      "\n",
      "La media de los goles en contra por continente es:                mean\n",
      "continent          \n",
      "africa        5.600\n",
      "asia          6.250\n",
      "europe        4.000\n",
      "northamerica  3.500\n",
      "southamerica  2.833 \n",
      "\n",
      "La media de los puntos por continente es:                mean\n",
      "continent          \n",
      "africa        2.400\n",
      "asia          0.750\n",
      "europe        4.692\n",
      "northamerica  4.500\n",
      "southamerica  6.833 \n",
      "\n"
     ]
    }
   ],
   "source": [
    "print(f'La media de los goles a favor por continente es: {round(media_gf,3)} \\n')\n",
    "print(f'La media de los goles en contra por continente es: {round(media_gc,3)} \\n')\n",
    "print(f'La media de los puntos por continente es: {round(media_pt,3)} \\n')\n"
   ]
  },
  {
   "cell_type": "code",
   "execution_count": 7,
   "id": "7db74d0f",
   "metadata": {},
   "outputs": [
    {
     "name": "stdout",
     "output_type": "stream",
     "text": [
      "La varianza de los goles a favor por continente es:                 var\n",
      "continent          \n",
      "africa        3.300\n",
      "asia          0.917\n",
      "europe        6.859\n",
      "northamerica  2.250\n",
      "southamerica  4.667 \n",
      " \n",
      "La varianza de los goles en contra por continente es:                  var\n",
      "continent           \n",
      "africa         4.800\n",
      "asia           4.250\n",
      "europe         3.833\n",
      "northamerica  11.000\n",
      "southamerica   0.567 \n",
      " \n",
      "La varianza de los puntos por continente es:                 var\n",
      "continent          \n",
      "africa         3.30\n",
      "asia           0.25\n",
      "europe         6.90\n",
      "northamerica  11.00\n",
      "southamerica   3.77 \n",
      " \n"
     ]
    }
   ],
   "source": [
    "print(f'La varianza de los goles a favor por continente es: {round(var_gf,3)} \\n ')\n",
    "print(f'La varianza de los goles en contra por continente es: {round(var_gc,3)} \\n ')\n",
    "print(f'La varianza de los puntos por continente es: {round(var_pt,2)} \\n ')"
   ]
  },
  {
   "cell_type": "code",
   "execution_count": 8,
   "id": "60e8b75d",
   "metadata": {},
   "outputs": [
    {
     "name": "stdout",
     "output_type": "stream",
     "text": [
      "La desviación estándar de los goles a favor por continente es:                 std\n",
      "continent          \n",
      "africa        1.817\n",
      "asia          0.957\n",
      "europe        2.619\n",
      "northamerica  1.500\n",
      "southamerica  2.160 \n",
      "\n",
      "La desviación estándar de los goles en contra por continente es:                 std\n",
      "continent          \n",
      "africa        2.191\n",
      "asia          2.062\n",
      "europe        1.958\n",
      "northamerica  3.317\n",
      "southamerica  0.753 \n",
      "\n",
      "La desviación estándar de los puntos por continente es:                 std\n",
      "continent          \n",
      "africa        1.817\n",
      "asia          0.500\n",
      "europe        2.626\n",
      "northamerica  3.317\n",
      "southamerica  1.941\n"
     ]
    }
   ],
   "source": [
    "print(f'La desviación estándar de los goles a favor por continente es: {round(std_gf,3)} \\n')\n",
    "print(f'La desviación estándar de los goles en contra por continente es: {round(std_gc,3)} \\n')\n",
    "print(f'La desviación estándar de los puntos por continente es: {round(std_pt,3)}')\n"
   ]
  },
  {
   "cell_type": "markdown",
   "id": "3d6e53f2",
   "metadata": {},
   "source": [
    "**¿En qué continente se observa una mayor cantidad de goles a favor?**\n",
    "\n",
    "**Respuesta**: Europa"
   ]
  },
  {
   "cell_type": "markdown",
   "id": "45a56621",
   "metadata": {},
   "source": [
    "**¿En qué continente se observa una mayor cantidad de goles en contra?**\n",
    "\n",
    "**Respuesta:** Europa"
   ]
  },
  {
   "cell_type": "markdown",
   "id": "ad57715f",
   "metadata": {},
   "source": [
    "**¿En qué continente se observa una mayor cantidad de puntos en promedio?**\n",
    "\n",
    "**Respuesta**: Sudamérica"
   ]
  },
  {
   "cell_type": "markdown",
   "id": "9759a972",
   "metadata": {},
   "source": [
    "## Desafío 3: Simulaciones (3 puntos)\n",
    "\n",
    "- Genere una función `generate_pet` que devuelva de forma aleatoria un string `'perro'` o `'gato'` un número `n` de veces. Ejecútela un par de veces.\n",
    "    - Tip: Puede utilizar la función `np.random.choice` para retornar elementos al azar.\n",
    "- Aplique la función generate_pet para generar 20 muestras."
   ]
  },
  {
   "cell_type": "code",
   "execution_count": 67,
   "id": "3d099a43",
   "metadata": {},
   "outputs": [],
   "source": [
    "# Se usa este bloque para definir la función generate_pet\n",
    "import numpy as np\n",
    "\n",
    "def generate_pet(n):\n",
    "    '''\n",
    "        Función que entrega una cantidad n de elementos en una lista de los cuales pueden tener el valor 'perro' o 'gato\n",
    "\n",
    "        Parámetros:\n",
    "            n (int): Cantidad de valores en la lista\n",
    "        Retorno:\n",
    "            Una lista con los valores 'perro' o 'gato'\n",
    "    '''\n",
    "    pets = ['perro', 'gato']\n",
    "    return np.random.choice(pets,n)"
   ]
  },
  {
   "cell_type": "code",
   "execution_count": 35,
   "id": "72342cf8",
   "metadata": {},
   "outputs": [
    {
     "data": {
      "text/plain": [
       "gato     0.6\n",
       "perro    0.4\n",
       "Name: pet, dtype: float64"
      ]
     },
     "execution_count": 35,
     "metadata": {},
     "output_type": "execute_result"
    }
   ],
   "source": [
    "# Se usa este bloque para generar las 20 muestras usando la función\n",
    "df = pd.DataFrame({'pet':generate_pet(20)})\n",
    "df['pet'].value_counts('%')"
   ]
  },
  {
   "cell_type": "markdown",
   "id": "74ffe4d9",
   "metadata": {},
   "source": [
    "**¿Cuál es la probabilidad de elegir un perro al azar? ¿Y un gato?**\n",
    "\n",
    "**Respuesta:** No existe una probabilidad fija ya que depende de como se genere el resultado de la función generate_pet"
   ]
  },
  {
   "cell_type": "markdown",
   "id": "8a3ba77b",
   "metadata": {},
   "source": [
    "**Agregue `np.random.seed(2)` al inicio del chunk. ¿Qué diferencia hay cuando se ejecuta la función varias veces luego de fijar la semilla?**\n",
    "\n",
    "**Respuesta**: El generar una semilla previa, el resultado se hace predecible por lo que la probabilidad de elegir un perro es de : 0.4 y un fato de 0.6. El código es replicable"
   ]
  },
  {
   "cell_type": "markdown",
   "id": "da1da134",
   "metadata": {},
   "source": [
    "## Desafío 4: Función simuladora (4 puntos)\n",
    "- Genere una función llamada `simulate_pets_prob` que tome como argumento un número finito de simulaciones a generar.\n",
    "- La función debe simular dos situaciones `'young_pet'` y `'old_pet'`, y contar la ocurrencia de los siguientes casos:\n",
    "    - De las dos mascotas simuladas (`'young_pet'` y `'old_pet'`), contar las ocasiones donde _por lo menos una_ de las mascotas sea un perro.\n",
    "    - De las dos mascotas simuladas, contar las ocasiones donde `'old_pet'` sea un perro.\n",
    "    - De las dos mascotas simuladas, contar las ocasiones donde los dos sean perros.\n",
    "- El método debe tener una semilla pseudoaleatoria de 1.\n",
    "- El output de la función debe entregarse en términos de Probabilidad."
   ]
  },
  {
   "cell_type": "code",
   "execution_count": 68,
   "id": "99c0b838",
   "metadata": {},
   "outputs": [],
   "source": [
    "# Use este bloque para definir la función\n",
    "\n",
    "def simulate_pets_prob(n):\n",
    "    '''\n",
    "        Función que simula dos mascotas: old u young\n",
    "\n",
    "        Parámetros:\n",
    "            n (int): Cantidad de experimentos\n",
    "        Return:\n",
    "            La probabilidad de las ocurrencias de mascotas\n",
    "    '''\n",
    "    np.random.seed(1) \n",
    "    pets_age = pd.DataFrame([[generate_pet(1), generate_pet(1)] for i in range(n)], columns=['old_pet', 'young_pet']).applymap(lambda x: x[0])\n",
    "    pets_age['is_dog'] = np.where((pets_age['young_pet'] == 'perro') | (pets_age['old_pet'] == 'perro'), 1, 0)\n",
    "    pets_age['old_dog'] = np.where(pets_age['old_pet'] == 'perro', 1, 0)\n",
    "    pets_age['both_dogs'] = np.where((pets_age['young_pet'] == 'perro') & (pets_age['old_pet'] == 'perro'), 1, 0)\n",
    "\n",
    "    return pets_age.value_counts(normalize=True)\n"
   ]
  },
  {
   "cell_type": "code",
   "execution_count": 69,
   "id": "130cead5",
   "metadata": {},
   "outputs": [
    {
     "data": {
      "text/html": [
       "<div>\n",
       "<style scoped>\n",
       "    .dataframe tbody tr th:only-of-type {\n",
       "        vertical-align: middle;\n",
       "    }\n",
       "\n",
       "    .dataframe tbody tr th {\n",
       "        vertical-align: top;\n",
       "    }\n",
       "\n",
       "    .dataframe thead th {\n",
       "        text-align: right;\n",
       "    }\n",
       "</style>\n",
       "<table border=\"1\" class=\"dataframe\">\n",
       "  <thead>\n",
       "    <tr style=\"text-align: right;\">\n",
       "      <th></th>\n",
       "      <th></th>\n",
       "      <th></th>\n",
       "      <th></th>\n",
       "      <th></th>\n",
       "      <th>0</th>\n",
       "    </tr>\n",
       "    <tr>\n",
       "      <th>old_pet</th>\n",
       "      <th>young_pet</th>\n",
       "      <th>is_dog</th>\n",
       "      <th>old_dog</th>\n",
       "      <th>both_dogs</th>\n",
       "      <th></th>\n",
       "    </tr>\n",
       "  </thead>\n",
       "  <tbody>\n",
       "    <tr>\n",
       "      <th>gato</th>\n",
       "      <th>gato</th>\n",
       "      <th>0</th>\n",
       "      <th>0</th>\n",
       "      <th>0</th>\n",
       "      <td>0.28</td>\n",
       "    </tr>\n",
       "    <tr>\n",
       "      <th>perro</th>\n",
       "      <th>perro</th>\n",
       "      <th>1</th>\n",
       "      <th>1</th>\n",
       "      <th>1</th>\n",
       "      <td>0.27</td>\n",
       "    </tr>\n",
       "    <tr>\n",
       "      <th>gato</th>\n",
       "      <th>perro</th>\n",
       "      <th>1</th>\n",
       "      <th>0</th>\n",
       "      <th>0</th>\n",
       "      <td>0.24</td>\n",
       "    </tr>\n",
       "    <tr>\n",
       "      <th>perro</th>\n",
       "      <th>gato</th>\n",
       "      <th>1</th>\n",
       "      <th>1</th>\n",
       "      <th>0</th>\n",
       "      <td>0.21</td>\n",
       "    </tr>\n",
       "  </tbody>\n",
       "</table>\n",
       "</div>"
      ],
      "text/plain": [
       "                                               0\n",
       "old_pet young_pet is_dog old_dog both_dogs      \n",
       "gato    gato      0      0       0          0.28\n",
       "perro   perro     1      1       1          0.27\n",
       "gato    perro     1      0       0          0.24\n",
       "perro   gato      1      1       0          0.21"
      ]
     },
     "execution_count": 69,
     "metadata": {},
     "output_type": "execute_result"
    }
   ],
   "source": [
    "# Utilice este bloque para realizar el llamado\n",
    "simulate_pets_prob(100).to_frame()\n"
   ]
  },
  {
   "cell_type": "markdown",
   "id": "a1243484",
   "metadata": {},
   "source": [
    "**De los tres escenarios, ¿Cuál es el menos probable? ¿Cuál es el más probable? ¿Por qué?**\n",
    "\n",
    "**Respuesta:**\n",
    "El escenario menos probable es que un perro sea anciano y un gato jóven con una probabilidad de 0.21.\n",
    "El escenario más probable es que haya un par de perros jóven y anciano con una probabilidad de 0.27"
   ]
  },
  {
   "cell_type": "markdown",
   "id": "be0c3a93",
   "metadata": {},
   "source": []
  }
 ],
 "metadata": {
  "kernelspec": {
   "display_name": "Python 3.9.12 ('base')",
   "language": "python",
   "name": "python3"
  },
  "language_info": {
   "codemirror_mode": {
    "name": "ipython",
    "version": 3
   },
   "file_extension": ".py",
   "mimetype": "text/x-python",
   "name": "python",
   "nbconvert_exporter": "python",
   "pygments_lexer": "ipython3",
   "version": "3.9.12"
  },
  "vscode": {
   "interpreter": {
    "hash": "8c36b02c8e638dd02579157a992cf8c1e39377e4b1159ea46021ea15210cf677"
   }
  }
 },
 "nbformat": 4,
 "nbformat_minor": 5
}
