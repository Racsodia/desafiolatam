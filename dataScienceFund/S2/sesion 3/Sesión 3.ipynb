{
 "cells": [
  {
   "cell_type": "markdown",
   "id": "de08049c",
   "metadata": {},
   "source": [
    "# Probabilidad\n",
    "\n",
    "## Nociones básicas de probabilidad\n",
    "\n",
    "Existen 2 escuelas de probabilidad\n",
    "- **Laplace**: Es _frecuentista_. Define la probabilidad como \"la cantidad de casos favorables, dividido por los casos totales\". Requiere por tanto definir qué es un _caso favorable_ (evento específico), y cuáles son los _casos totales_ o _número de experimentos_ (n).\n",
    "    - **Ejemplo**: Si de una bolsa de bolitas escojo 100 veces una bolita, y 40 son azules, y 60 son rojas, entonces la probabilidad de que una bolita sea azul es de 0.4, y la probabilidad de que una bolita sea roja es de 0.6.\n",
    "- **Bayes**: Define la probabilidad introduciendo una probabilidad _\"a priori\"_ (conocimiento previo que se tiene del fenómeno) para el cálculo de la probabilidad _\"a posteriori\"_; Combina el conocimiento _a priori_ con la evidencia dada por datos para obtener la probabilidad. Utiliza para su cálculo _el teorema de Bayes_.\n",
    "    \n",
    "En este curso se hará foco en el cálculo _frecuentista_ de probabilidad. Luego, en el módulo de _Machine Learning_, se profundizará un poco más en el _Teorema de Bayes_.\n",
    "\n",
    "### Definición frecuentista de probabilidad\n",
    "- También se llama _probabilidad empírica_. \n",
    "- Se sustenta en _frecuencias relativas_ (número de veces que se observó un evento).\n",
    "- Si _n_ es grande (mayor cantidad de experimentos) converge a la _probabilidad teórica_ (de la población).\n",
    "- Entiende como un _juicio_ donde evaluamos experimentos aleatorios que producen una serie de resultados.\n",
    "- Cuando decimos que _\"la probabilidad que salga sello al lanzar una moneda es del 50%\"_, estamos considerando dos elementos:\n",
    "    - **Un número de experimentos** (cantidad de veces que se lanzó una moneda, no definidos en este ejemplo)\n",
    "    - **Un evento específico** (obtener un sello, lo cual se da en la mitad de los experimentos)"
   ]
  },
  {
   "cell_type": "markdown",
   "id": "c1470bf1",
   "metadata": {},
   "source": [
    "## Espacio muestral\n",
    "\n",
    "- Se denota como $\\Omega$ o $S$\n",
    "- Conjunto de _todos los posibles resultados_ de un experimento aleatorio. \n",
    "    - Un experimento aleatorio es aquel donde, al realizarlo, _no sabemos lo que va a ocurrir_.\n",
    "    - Existe también el _espacio de probabilidad_, que contiene dentro de sus elementos al espacio muestral, pero no lo revisaremos en este curso. "
   ]
  },
  {
   "cell_type": "markdown",
   "id": "56c4a491",
   "metadata": {},
   "source": [
    "## Definición básica de probabilidad (según enfoque frecuentista)\n",
    "\n",
    "$$\n",
    "P(A) = \\frac{A}{n}\n",
    "$$\n",
    "- $A$: _Evento específico_ al cual se le asigna un número no negativo que representa la verosimilitud de ocurrencia.\n",
    "    - El evento aleatorio es un _subconjunto_ o del espacio muestral, o equivalente a éste; $A \\subseteq \\Omega $\n",
    "- $n$: Hace referencia a la _cantidad de experimentos_.\n",
    "- $P(A)$: Probabilidad del evento $A$."
   ]
  },
  {
   "cell_type": "markdown",
   "id": "22acd4bc",
   "metadata": {},
   "source": [
    "## Definición de elementos dentro de un espacio muestral\n",
    "- Resulta que la definición del espacio muestral y sus elementos también surge de la conceptualización y operacionalización de los datos.\n",
    "\n",
    "\n",
    "### Ejemplo GOT:"
   ]
  },
  {
   "cell_type": "code",
   "execution_count": 43,
   "id": "235cefc3",
   "metadata": {},
   "outputs": [
    {
     "data": {
      "text/html": [
       "<div>\n",
       "<style scoped>\n",
       "    .dataframe tbody tr th:only-of-type {\n",
       "        vertical-align: middle;\n",
       "    }\n",
       "\n",
       "    .dataframe tbody tr th {\n",
       "        vertical-align: top;\n",
       "    }\n",
       "\n",
       "    .dataframe thead th {\n",
       "        text-align: right;\n",
       "    }\n",
       "</style>\n",
       "<table border=\"1\" class=\"dataframe\">\n",
       "  <thead>\n",
       "    <tr style=\"text-align: right;\">\n",
       "      <th></th>\n",
       "      <th>33</th>\n",
       "      <th>36</th>\n",
       "      <th>4</th>\n",
       "    </tr>\n",
       "  </thead>\n",
       "  <tbody>\n",
       "    <tr>\n",
       "      <th>me</th>\n",
       "      <td>Second Seige of Storm's End</td>\n",
       "      <td>Siege of Raventree</td>\n",
       "      <td>Battle of the Whispering Wood</td>\n",
       "    </tr>\n",
       "    <tr>\n",
       "      <th>year</th>\n",
       "      <td>300</td>\n",
       "      <td>300</td>\n",
       "      <td>298</td>\n",
       "    </tr>\n",
       "    <tr>\n",
       "      <th>battle_number</th>\n",
       "      <td>34</td>\n",
       "      <td>37</td>\n",
       "      <td>5</td>\n",
       "    </tr>\n",
       "    <tr>\n",
       "      <th>attacker_king</th>\n",
       "      <td>Joffrey/Tommen Baratheon</td>\n",
       "      <td>Joffrey/Tommen Baratheon</td>\n",
       "      <td>Robb Stark</td>\n",
       "    </tr>\n",
       "    <tr>\n",
       "      <th>defender_king</th>\n",
       "      <td>Stannis Baratheon</td>\n",
       "      <td>Robb Stark</td>\n",
       "      <td>Joffrey/Tommen Baratheon</td>\n",
       "    </tr>\n",
       "    <tr>\n",
       "      <th>attacker_1</th>\n",
       "      <td>Baratheon</td>\n",
       "      <td>Bracken</td>\n",
       "      <td>Stark</td>\n",
       "    </tr>\n",
       "    <tr>\n",
       "      <th>attacker_2</th>\n",
       "      <td>NaN</td>\n",
       "      <td>Lannister</td>\n",
       "      <td>Tully</td>\n",
       "    </tr>\n",
       "    <tr>\n",
       "      <th>attacker_3</th>\n",
       "      <td>NaN</td>\n",
       "      <td>NaN</td>\n",
       "      <td>NaN</td>\n",
       "    </tr>\n",
       "    <tr>\n",
       "      <th>attacker_4</th>\n",
       "      <td>NaN</td>\n",
       "      <td>NaN</td>\n",
       "      <td>NaN</td>\n",
       "    </tr>\n",
       "    <tr>\n",
       "      <th>defender_1</th>\n",
       "      <td>Baratheon</td>\n",
       "      <td>Blackwood</td>\n",
       "      <td>Lannister</td>\n",
       "    </tr>\n",
       "    <tr>\n",
       "      <th>defender_2</th>\n",
       "      <td>NaN</td>\n",
       "      <td>NaN</td>\n",
       "      <td>NaN</td>\n",
       "    </tr>\n",
       "    <tr>\n",
       "      <th>defender_3</th>\n",
       "      <td>NaN</td>\n",
       "      <td>NaN</td>\n",
       "      <td>NaN</td>\n",
       "    </tr>\n",
       "    <tr>\n",
       "      <th>defender_4</th>\n",
       "      <td>NaN</td>\n",
       "      <td>NaN</td>\n",
       "      <td>NaN</td>\n",
       "    </tr>\n",
       "    <tr>\n",
       "      <th>attacker_outcome</th>\n",
       "      <td>win</td>\n",
       "      <td>win</td>\n",
       "      <td>win</td>\n",
       "    </tr>\n",
       "    <tr>\n",
       "      <th>battle_type</th>\n",
       "      <td>siege</td>\n",
       "      <td>siege</td>\n",
       "      <td>ambush</td>\n",
       "    </tr>\n",
       "    <tr>\n",
       "      <th>major_death</th>\n",
       "      <td>0.0</td>\n",
       "      <td>0.0</td>\n",
       "      <td>1.0</td>\n",
       "    </tr>\n",
       "    <tr>\n",
       "      <th>major_capture</th>\n",
       "      <td>0.0</td>\n",
       "      <td>1.0</td>\n",
       "      <td>1.0</td>\n",
       "    </tr>\n",
       "    <tr>\n",
       "      <th>attacker_size</th>\n",
       "      <td>NaN</td>\n",
       "      <td>1500.0</td>\n",
       "      <td>1875.0</td>\n",
       "    </tr>\n",
       "    <tr>\n",
       "      <th>defender_size</th>\n",
       "      <td>200.0</td>\n",
       "      <td>NaN</td>\n",
       "      <td>6000.0</td>\n",
       "    </tr>\n",
       "    <tr>\n",
       "      <th>attacker_commander</th>\n",
       "      <td>Mace Tyrell, Mathis Rowan</td>\n",
       "      <td>Jonos Bracken, Jaime Lannister</td>\n",
       "      <td>Robb Stark, Brynden Tully</td>\n",
       "    </tr>\n",
       "    <tr>\n",
       "      <th>defender_commander</th>\n",
       "      <td>Gilbert Farring</td>\n",
       "      <td>Tytos Blackwood</td>\n",
       "      <td>Jaime Lannister</td>\n",
       "    </tr>\n",
       "    <tr>\n",
       "      <th>summer</th>\n",
       "      <td>0.0</td>\n",
       "      <td>0.0</td>\n",
       "      <td>1.0</td>\n",
       "    </tr>\n",
       "    <tr>\n",
       "      <th>location</th>\n",
       "      <td>Storm's End</td>\n",
       "      <td>Raventree</td>\n",
       "      <td>Whispering Wood</td>\n",
       "    </tr>\n",
       "    <tr>\n",
       "      <th>region</th>\n",
       "      <td>The Stormlands</td>\n",
       "      <td>The Riverlands</td>\n",
       "      <td>The Riverlands</td>\n",
       "    </tr>\n",
       "    <tr>\n",
       "      <th>note</th>\n",
       "      <td>NaN</td>\n",
       "      <td>NaN</td>\n",
       "      <td>NaN</td>\n",
       "    </tr>\n",
       "  </tbody>\n",
       "</table>\n",
       "</div>"
      ],
      "text/plain": [
       "                                             33  \\\n",
       "me                  Second Seige of Storm's End   \n",
       "year                                        300   \n",
       "battle_number                                34   \n",
       "attacker_king          Joffrey/Tommen Baratheon   \n",
       "defender_king                 Stannis Baratheon   \n",
       "attacker_1                            Baratheon   \n",
       "attacker_2                                  NaN   \n",
       "attacker_3                                  NaN   \n",
       "attacker_4                                  NaN   \n",
       "defender_1                            Baratheon   \n",
       "defender_2                                  NaN   \n",
       "defender_3                                  NaN   \n",
       "defender_4                                  NaN   \n",
       "attacker_outcome                            win   \n",
       "battle_type                               siege   \n",
       "major_death                                 0.0   \n",
       "major_capture                               0.0   \n",
       "attacker_size                               NaN   \n",
       "defender_size                             200.0   \n",
       "attacker_commander    Mace Tyrell, Mathis Rowan   \n",
       "defender_commander              Gilbert Farring   \n",
       "summer                                      0.0   \n",
       "location                            Storm's End   \n",
       "region                           The Stormlands   \n",
       "note                                        NaN   \n",
       "\n",
       "                                                36  \\\n",
       "me                              Siege of Raventree   \n",
       "year                                           300   \n",
       "battle_number                                   37   \n",
       "attacker_king             Joffrey/Tommen Baratheon   \n",
       "defender_king                           Robb Stark   \n",
       "attacker_1                                 Bracken   \n",
       "attacker_2                               Lannister   \n",
       "attacker_3                                     NaN   \n",
       "attacker_4                                     NaN   \n",
       "defender_1                               Blackwood   \n",
       "defender_2                                     NaN   \n",
       "defender_3                                     NaN   \n",
       "defender_4                                     NaN   \n",
       "attacker_outcome                               win   \n",
       "battle_type                                  siege   \n",
       "major_death                                    0.0   \n",
       "major_capture                                  1.0   \n",
       "attacker_size                               1500.0   \n",
       "defender_size                                  NaN   \n",
       "attacker_commander  Jonos Bracken, Jaime Lannister   \n",
       "defender_commander                 Tytos Blackwood   \n",
       "summer                                         0.0   \n",
       "location                                 Raventree   \n",
       "region                              The Riverlands   \n",
       "note                                           NaN   \n",
       "\n",
       "                                               4   \n",
       "me                  Battle of the Whispering Wood  \n",
       "year                                          298  \n",
       "battle_number                                   5  \n",
       "attacker_king                          Robb Stark  \n",
       "defender_king            Joffrey/Tommen Baratheon  \n",
       "attacker_1                                  Stark  \n",
       "attacker_2                                  Tully  \n",
       "attacker_3                                    NaN  \n",
       "attacker_4                                    NaN  \n",
       "defender_1                              Lannister  \n",
       "defender_2                                    NaN  \n",
       "defender_3                                    NaN  \n",
       "defender_4                                    NaN  \n",
       "attacker_outcome                              win  \n",
       "battle_type                                ambush  \n",
       "major_death                                   1.0  \n",
       "major_capture                                 1.0  \n",
       "attacker_size                              1875.0  \n",
       "defender_size                              6000.0  \n",
       "attacker_commander      Robb Stark, Brynden Tully  \n",
       "defender_commander                Jaime Lannister  \n",
       "summer                                        1.0  \n",
       "location                          Whispering Wood  \n",
       "region                             The Riverlands  \n",
       "note                                          NaN  "
      ]
     },
     "execution_count": 43,
     "metadata": {},
     "output_type": "execute_result"
    }
   ],
   "source": [
    "import pandas as pd\n",
    "\n",
    "# Se leen los datos\n",
    "df_got = pd.read_csv(\"got_battles.csv\")\n",
    "\n",
    "# Se transponen los elementos seleccionados al azar para facilitar la lectura. OJO, se observa muchos \"NaN\", puede afectar el cálculo de frecuencia\n",
    "df_got.sample(3, random_state=42).T"
   ]
  },
  {
   "cell_type": "markdown",
   "id": "9967056f",
   "metadata": {},
   "source": [
    "### Datos nulos"
   ]
  },
  {
   "cell_type": "code",
   "execution_count": 44,
   "id": "29cf1782",
   "metadata": {},
   "outputs": [
    {
     "data": {
      "text/plain": [
       "nan"
      ]
     },
     "execution_count": 44,
     "metadata": {},
     "output_type": "execute_result"
    }
   ],
   "source": [
    "import numpy as np\n",
    "\n",
    "# En numpy, los nulos corresponden a np.nan\n",
    "np.nan"
   ]
  },
  {
   "cell_type": "code",
   "execution_count": 3,
   "id": "3fe26700",
   "metadata": {},
   "outputs": [],
   "source": [
    "# En python nativo, corresponde a None\n",
    "None"
   ]
  },
  {
   "cell_type": "code",
   "execution_count": 4,
   "id": "1a6a0c4d",
   "metadata": {},
   "outputs": [
    {
     "data": {
      "text/plain": [
       "(True, True)"
      ]
     },
     "execution_count": 4,
     "metadata": {},
     "output_type": "execute_result"
    }
   ],
   "source": [
    "# Con pandas, podemos validar si un dato es nulo con el método isnull(), que devuelve True en caso de que el dato entregado sea equivalente a un \"nulo\"\n",
    "pd.isnull(np.nan), pd.isnull(None)"
   ]
  },
  {
   "cell_type": "code",
   "execution_count": 45,
   "id": "d05a040f",
   "metadata": {},
   "outputs": [
    {
     "data": {
      "text/plain": [
       "True"
      ]
     },
     "execution_count": 45,
     "metadata": {},
     "output_type": "execute_result"
    }
   ],
   "source": [
    "# Podemos acceder a un dato específico del DataFrame usando \"loc\": El primer valor corresponde al índice de la fila, y el segundo al nombre de la columna\n",
    "pd.isnull(df_got.loc[33, \"attacker_size\"])"
   ]
  },
  {
   "cell_type": "markdown",
   "id": "2ba0c89f",
   "metadata": {},
   "source": [
    "### Primer ejemplo: Consideraremos nuestro espacio muestral como solamente los reyes conocidos\n",
    "- Recordar que la definición del espacio muestral depende de la conceptualización y operacionalización de los datos. En este primer caso, se conceptualiza como pertenecientes al espacio muestral _solo los reyes conocidos_.\n",
    "- Más adelante, se _imputará_ a los reyes no conocidos, realizándose _otra operacionalización de los datos_, y por ende definiendo un espacio muestral diferente."
   ]
  },
  {
   "cell_type": "code",
   "execution_count": 46,
   "id": "daf869bd",
   "metadata": {},
   "outputs": [
    {
     "name": "stdout",
     "output_type": "stream",
     "text": [
      "Para el experimento aleatorio 'Que una batalla sea inicializada por un rey', el espacio muestral es ['Joffrey/Tommen Baratheon' 'Robb Stark' 'Balon/Euron Greyjoy'\n",
      " 'Stannis Baratheon']\n"
     ]
    }
   ],
   "source": [
    "# El método unique() entrega todos los distintos valores presentes en una Serie de pandas\n",
    "# Eliminalos los nulos con dropna() porque un nulo no lo consideramos un rey válido, sino que corresponde a un caso donde no se sabe o no se registró el dato\n",
    "reyes_conocidos = df_got[\"attacker_king\"].dropna().unique()\n",
    "\n",
    "print(f\"Para el experimento aleatorio 'Que una batalla sea inicializada por un rey', el espacio muestral es {reyes_conocidos}\")"
   ]
  },
  {
   "cell_type": "markdown",
   "id": "3cf75624",
   "metadata": {},
   "source": [
    "#### Cantidad de experimentos para el espacio muestral \"reyes conocidos\"\n",
    "- Para definir el número de experimentos considerando el espacio muestral \"reyes conocidos\", debemos considerar solamente los experimentos aleatorios _que contengan los elementos de este espacio muestral_. \n",
    "- En este caso, se considera un \"experimento aleatorio\" cada batalla. Es decir, cada fila del set de datos.\n",
    "- Por lo tanto, para definir la cantidad de experimentos asociada al espacio muestral \"reyes conocidos\", _no se debe considerar las batallas (experimentos) donde no se conoce el rey atacante_, ya que _los datos nulos no pertenecen al espacio muestral definido previamente_."
   ]
  },
  {
   "cell_type": "code",
   "execution_count": 47,
   "id": "d2c67790",
   "metadata": {},
   "outputs": [
    {
     "name": "stdout",
     "output_type": "stream",
     "text": [
      "La cantidad de experimentos (n), para el espacio muestral 'reyes conocidos', equivale a la cantidad de filas del set de datos que no considera a los registros que tengan 'nulo' en la columna 'attacker_king'. De esta forma, en este primer ejemplo, 'n' corresponde a: 36 experimentos.\n"
     ]
    }
   ],
   "source": [
    "# Para eliminar de un DataFrame las filas que contengan datos nulos en una o más columnas específicas, se utiliza el método dropna() y el parámetro subset, que recibe una lista de columnas\n",
    "n_para_reyes_conocidos = df_got.dropna(subset=[\"attacker_king\"]).shape[0]\n",
    "\n",
    "print(\n",
    "    f\"La cantidad de experimentos (n), para el espacio muestral 'reyes conocidos', equivale a la cantidad de filas del set de datos que no considera a los\"\n",
    "    f\" registros que tengan 'nulo' en la columna 'attacker_king'. De esta forma, en este primer ejemplo, 'n' corresponde a: {n_para_reyes_conocidos} experimentos.\"\n",
    ")"
   ]
  },
  {
   "cell_type": "markdown",
   "id": "a503a782",
   "metadata": {},
   "source": [
    "### Segundo ejemplo: Considerando nuestro espacio muestran incluyendo todos los experimentos\n",
    "- Para el resto de ejemplos en esta sesión, se utiliza _otra operacionalización de datos_, donde se considera como 'n' la cantidad de filas del set de datos completo, incluyendo en este caso entonces aquellas batallas donde no se conoce el rey atacante."
   ]
  },
  {
   "cell_type": "code",
   "execution_count": 50,
   "id": "06348c9b",
   "metadata": {},
   "outputs": [
    {
     "name": "stdout",
     "output_type": "stream",
     "text": [
      "La cantidad de experimentos totales equivale a la cantidad de filas del set de datos (cantidad de batallas): 38\n"
     ]
    }
   ],
   "source": [
    "# Primero almacenamos 'n', la cantidad de experimentos, que corresponde a todas las batallas\n",
    "n = df_got.shape[0]\n",
    "print(f\"La cantidad de experimentos totales equivale a la cantidad de filas del set de datos (cantidad de batallas): {n}\")"
   ]
  },
  {
   "cell_type": "markdown",
   "id": "3a6e9acf",
   "metadata": {},
   "source": [
    "- Por tanto, esto define _un nuevo espacio muestral_, donde se deberá \"definir\" algún valor _no nulo_ asociado a los registros donde `attacker_king` es nulo. "
   ]
  },
  {
   "cell_type": "code",
   "execution_count": 51,
   "id": "24724fb0",
   "metadata": {},
   "outputs": [
    {
     "data": {
      "text/plain": [
       "me                     0\n",
       "year                   0\n",
       "battle_number          0\n",
       "attacker_king          2\n",
       "defender_king          3\n",
       "attacker_1             0\n",
       "attacker_2            28\n",
       "attacker_3            35\n",
       "attacker_4            36\n",
       "defender_1             1\n",
       "defender_2            36\n",
       "defender_3            38\n",
       "defender_4            38\n",
       "attacker_outcome       1\n",
       "battle_type            1\n",
       "major_death            1\n",
       "major_capture          1\n",
       "attacker_size         14\n",
       "defender_size         19\n",
       "attacker_commander     1\n",
       "defender_commander    10\n",
       "summer                 1\n",
       "location               1\n",
       "region                 0\n",
       "note                  33\n",
       "dtype: int64"
      ]
     },
     "execution_count": 51,
     "metadata": {},
     "output_type": "execute_result"
    }
   ],
   "source": [
    "# Se explora la cantidad de nulos en el set de datos\n",
    "df_got.isna().sum()"
   ]
  },
  {
   "cell_type": "markdown",
   "id": "6a2a48ff",
   "metadata": {},
   "source": [
    "- Se explora primero la frecuencia relativa de datos nulos, así como para cada rey, utilizando `value_counts` en la columna `attacker_king`.\n",
    "- Recordar que en el enfoque frecuentista de Laplace, _la frecuencia relativa corresponde a la probabilidad_."
   ]
  },
  {
   "cell_type": "code",
   "execution_count": 52,
   "id": "2c204ea3",
   "metadata": {},
   "outputs": [
    {
     "data": {
      "text/plain": [
       "Joffrey/Tommen Baratheon    0.368421\n",
       "Robb Stark                  0.263158\n",
       "Balon/Euron Greyjoy         0.184211\n",
       "Stannis Baratheon           0.131579\n",
       "NaN                         0.052632\n",
       "Name: attacker_king, dtype: float64"
      ]
     },
     "execution_count": 52,
     "metadata": {},
     "output_type": "execute_result"
    }
   ],
   "source": [
    "df_got[\"attacker_king\"].value_counts(\n",
    "    normalize=True, # Cuando es \"False\" (valor por defecto) entrega frecuencia absoluta. Damos \"True\" para obtener frecuencia relativa, equivalente a probabilidad frecuentista\n",
    "    dropna=False # Cuando es \"True\" (valor por defecto) no considera los registros nulos. Debemos incluir los nulos (indicando False), para que los casos \"favorables\" (cada categoria) se divida en los totales (38 casos en lugar de 36)\n",
    ")"
   ]
  },
  {
   "cell_type": "code",
   "execution_count": 53,
   "id": "bcec7780",
   "metadata": {},
   "outputs": [
    {
     "data": {
      "text/plain": [
       "Joffrey/Tommen Baratheon    0.368421\n",
       "Robb Stark                  0.263158\n",
       "Balon/Euron Greyjoy         0.184211\n",
       "Stannis Baratheon           0.131579\n",
       "Name: attacker_king, dtype: float64"
      ]
     },
     "execution_count": 53,
     "metadata": {},
     "output_type": "execute_result"
    }
   ],
   "source": [
    "# Alternativamente, se puede solicitar la frecuencia absoluta y dividir por el número de filas del DataFrame (numero de experimentos)\n",
    "df_got[\"attacker_king\"].value_counts() / n"
   ]
  },
  {
   "cell_type": "markdown",
   "id": "e53caaf2",
   "metadata": {},
   "source": [
    "#### Nota\n",
    "- Si no se usara `dropna=False`, se obtendría otras frecuencias, que NO equivalen a las probabilidades para el evento específico y espacio muestral definidos en este caso (ejemplo 2)\n",
    "- Lo que se obtiene en cambio son las frecuencias relativas, o probabilidades, de lo revisado en el ejemplo 1, donde no consideraba como experimentos donde no se conocía el rey"
   ]
  },
  {
   "cell_type": "code",
   "execution_count": 54,
   "id": "f1e9a766",
   "metadata": {},
   "outputs": [
    {
     "data": {
      "text/plain": [
       "Joffrey/Tommen Baratheon    0.388889\n",
       "Robb Stark                  0.277778\n",
       "Balon/Euron Greyjoy         0.194444\n",
       "Stannis Baratheon           0.138889\n",
       "Name: attacker_king, dtype: float64"
      ]
     },
     "execution_count": 54,
     "metadata": {},
     "output_type": "execute_result"
    }
   ],
   "source": [
    "df_got[\"attacker_king\"].value_counts(normalize=True, dropna=True)"
   ]
  },
  {
   "cell_type": "markdown",
   "id": "e831cbdc",
   "metadata": {},
   "source": [
    "#### (Continuando con el ejemplo 2...)\n",
    "- Se realiza la _imputación de nulos_ utilizando el método `fillna()`, el cual recibe como argumento el valor por el cual se quiere reemplazar los datos nulos encontrados.\n",
    "- Se puede aplicar `fillna()` tanto al `DataFrame` completo como a una `Serie` específica.\n",
    "- En este caso, se aplica solo a la columna `attacker_king`, y se imputará los datos nulos con el valor \"Otro rey\". Se debe asignar este reemplazo a la serie original con `=`."
   ]
  },
  {
   "cell_type": "code",
   "execution_count": 56,
   "id": "bd366751",
   "metadata": {},
   "outputs": [],
   "source": [
    "df_got[\"attacker_king\"] = df_got[\"attacker_king\"].fillna(\"Otro rey\")"
   ]
  },
  {
   "cell_type": "markdown",
   "id": "554c7d9f",
   "metadata": {},
   "source": [
    "- Esta vez, se realiza nuevamente `value_counts()` con `dropna=True`, y como ya no hay datos nulos, se obtiene las mismas frecuencias que se obtenía antes de la imputación"
   ]
  },
  {
   "cell_type": "code",
   "execution_count": 57,
   "id": "29cd548c",
   "metadata": {},
   "outputs": [
    {
     "data": {
      "text/plain": [
       "Joffrey/Tommen Baratheon    0.368421\n",
       "Robb Stark                  0.263158\n",
       "Balon/Euron Greyjoy         0.184211\n",
       "Stannis Baratheon           0.131579\n",
       "Otro rey                    0.052632\n",
       "Name: attacker_king, dtype: float64"
      ]
     },
     "execution_count": 57,
     "metadata": {},
     "output_type": "execute_result"
    }
   ],
   "source": [
    "df_got[\"attacker_king\"].value_counts(normalize=True)"
   ]
  },
  {
   "cell_type": "code",
   "execution_count": 59,
   "id": "bbdde1b4",
   "metadata": {},
   "outputs": [
    {
     "data": {
      "text/plain": [
       "Joffrey/Tommen Baratheon    14\n",
       "Robb Stark                  10\n",
       "Balon/Euron Greyjoy          7\n",
       "Stannis Baratheon            5\n",
       "Otro rey                     2\n",
       "Name: attacker_king, dtype: int64"
      ]
     },
     "execution_count": 59,
     "metadata": {},
     "output_type": "execute_result"
    }
   ],
   "source": [
    "# Ejemplo frecuencia absoluta (cantidad de casos)\n",
    "df_got[\"attacker_king\"].value_counts()"
   ]
  },
  {
   "cell_type": "markdown",
   "id": "5f9c4f5f",
   "metadata": {},
   "source": [
    "- Finalmente, se obtiene el nuevo espacio muestral luego de la imputación de nulos"
   ]
  },
  {
   "cell_type": "code",
   "execution_count": 58,
   "id": "69cba035",
   "metadata": {},
   "outputs": [
    {
     "name": "stdout",
     "output_type": "stream",
     "text": [
      "El espacio muestral corresponde a: ['Joffrey/Tommen Baratheon' 'Robb Stark' 'Balon/Euron Greyjoy'\n",
      " 'Stannis Baratheon' 'Otro rey']\n"
     ]
    }
   ],
   "source": [
    "reyes_fillna = df_got[\"attacker_king\"].unique()\n",
    "\n",
    "print(f\"El espacio muestral corresponde a: {reyes_fillna}\")"
   ]
  },
  {
   "cell_type": "markdown",
   "id": "d6400941",
   "metadata": {},
   "source": [
    "## Cálculo de probabilidad\n",
    "### Se define el evento específico para obtener su probabilidad\n",
    "- Se tomará como _evento específico_ para calcular su probabilidad que _una batalla sea inicializada por un rey Baratheon_.\n",
    "- Para ello, se almacenará las probabilidades obtenidas con `value_counts` en la variable `probabilidades_reyes`"
   ]
  },
  {
   "cell_type": "code",
   "execution_count": 60,
   "id": "974d280f",
   "metadata": {},
   "outputs": [],
   "source": [
    "probabilidades_reyes = df_got[\"attacker_king\"].value_counts(normalize=True)"
   ]
  },
  {
   "cell_type": "markdown",
   "id": "1b0b6dff",
   "metadata": {},
   "source": [
    "- Para obtener específicamente la probabilidad del evento señalado, se hace uso de `get` aplicado a la Serie almacenada en `probabilidades_reyes`; Al igual que en un diccionario, en una serie de pandas puedo acceder al valor de un índice con 'get'.\n",
    "- Es preferible usar \"get\" ya que no lanza una excepción cuando el índice solicitado no existe, sino que solo retorna \"None\"."
   ]
  },
  {
   "cell_type": "code",
   "execution_count": 61,
   "id": "02e1bf8d",
   "metadata": {},
   "outputs": [],
   "source": [
    "# Ejemplo \"get\" en diccionario de python\n",
    "ejemplo = {\"a\": 1}\n",
    "ejemplo.get(\"b\")"
   ]
  },
  {
   "cell_type": "code",
   "execution_count": 63,
   "id": "bec18f63",
   "metadata": {},
   "outputs": [
    {
     "name": "stdout",
     "output_type": "stream",
     "text": [
      "La probabilidad de que una batalla sea iniciada por un 'Baratheon' (evento específico) es de 0.37\n"
     ]
    }
   ],
   "source": [
    "probabilidad_evento_baratheon = probabilidades_reyes.get(\"Joffrey/Tommen Baratheon\")\n",
    "\n",
    "print(f\"La probabilidad de que una batalla sea iniciada por un 'Baratheon' (evento específico) es de {round(probabilidad_evento_baratheon, 2)}\")"
   ]
  },
  {
   "cell_type": "markdown",
   "id": "5ea80d85",
   "metadata": {},
   "source": [
    "## Condiciones a cumplir\n",
    "\n",
    "Toda probabilidad debe cumplir una serie de condiciones, conocidas como los _Axiomas de Kolmogorov_:\n",
    "- **Nonegatividad**: $P(A) \\geq 0, \\forall A \\subseteq \\Omega$. Esta expresión se lee como _\"La probabilidad del evento \"A\" es mayor o igual a 0, para todo evento A subconjunto o equivalente al espacio muestral Omega\"_. \n",
    "- **Normalización**: $P(\\Omega)=1$. La probabilidad del espacio muestral es 1. Esto significa que la cota superior, es decir, la máxima probabilidad posible de cualquier evento, es 1. Se le llama también \"certidumbre\", ya que indica que siempre ocurrirá alguno de los eventos en $\\Omega$.\n",
    "- **Aditividad**: Para una colección infinita de eventos excluyentes, la probabilidad de que ellos ocurran conjuntamente equivale a la suma de las probabilidades de que cada uno ocurra por separado.\n",
    "$$\n",
    "\\begin{align}\n",
    "P\\left(\\bigcup_{i=1}^{\\infty}A_i\\right) &= \\sum_{i=1}^{\\infty}P(A_i) \\\\\n",
    "P(A_1 \\cup A_2 \\cup A_3 \\cup...) &= P(A_1) + P(A_2) + P(A_3) +...\n",
    "\\end{align}\n",
    "$$\n",
    "<br />\n",
    "\n",
    "    - **Nota**: Cuando se \"une\" probabilidades, equivale al operador lógico \"or\"; \"Puede ocurrir lo uno O lo otro\". Cuando las probabilidades se \"intersectan\", equivale al operador lógico \"and\"; \"Debe ocurrir lo uno Y lo otro\".\n",
    "    - **Ejemplo Axioma 3**: \"La probabilidad al lanzar una moneda de obtener cara _**o**_ sello, **_es igual_** a la probabilidad de obtener cara **_más_** la probabilidad de obtener sello\"."
   ]
  },
  {
   "cell_type": "markdown",
   "id": "aa1e579e",
   "metadata": {},
   "source": [
    "- Efectivamente, en nuestro experimento aleatorio \"Que una batalla sea inicializada por un rey\", todos los eventos posibles definidos (los distintos reyes) ocurren con probabilidad mayor o igual a cero... (Axioma 1)"
   ]
  },
  {
   "cell_type": "code",
   "execution_count": 66,
   "id": "d0b71056",
   "metadata": {},
   "outputs": [
    {
     "name": "stdout",
     "output_type": "stream",
     "text": [
      "La probabilidad del evento Joffrey/Tommen Baratheon es mayor o igual a 0\n",
      "La probabilidad del evento Robb Stark es mayor o igual a 0\n",
      "La probabilidad del evento Balon/Euron Greyjoy es mayor o igual a 0\n",
      "La probabilidad del evento Stannis Baratheon es mayor o igual a 0\n",
      "La probabilidad del evento Otro rey es mayor o igual a 0\n"
     ]
    }
   ],
   "source": [
    "for a, p in probabilidades_reyes.items(): # Se itera el índice (a) y el valor (p) de cada elemento de la serie\n",
    "    print(f\"La probabilidad del evento {a} {'es mayor o igual a 0' if p >=0 else 'no es mayor o igual a 0'}\")\n",
    "    \n",
    "    # Programáticamente, podemos usar un \"assert\"; En caso de que la condición no se cumpla, lanzará una excepción\n",
    "    assert p >= 0"
   ]
  },
  {
   "cell_type": "markdown",
   "id": "fd86e25a",
   "metadata": {},
   "source": [
    "... y menor o igual a 1 (Axioma 2)"
   ]
  },
  {
   "cell_type": "code",
   "execution_count": 67,
   "id": "d49abdd7",
   "metadata": {},
   "outputs": [
    {
     "name": "stdout",
     "output_type": "stream",
     "text": [
      "La probabilidad del evento Joffrey/Tommen Baratheon es menor o igual a 1\n",
      "La probabilidad del evento Robb Stark es menor o igual a 1\n",
      "La probabilidad del evento Balon/Euron Greyjoy es menor o igual a 1\n",
      "La probabilidad del evento Stannis Baratheon es menor o igual a 1\n",
      "La probabilidad del evento Otro rey es menor o igual a 1\n"
     ]
    }
   ],
   "source": [
    "for a, p in probabilidades_reyes.items(): \n",
    "    print(f\"La probabilidad del evento {a} {'es menor o igual a 1' if p <=1 else 'no es menor o igual a 1'}\")\n",
    "    assert p <= 1"
   ]
  },
  {
   "cell_type": "markdown",
   "id": "6ae59d4d",
   "metadata": {},
   "source": [
    "- A su vez, la suma de las probabilidades de cada evento (cada rey posible, incluyendo los desconocidos) equivale a la unión de las probabilidades de cada evento (Axioma 3). "
   ]
  },
  {
   "cell_type": "code",
   "execution_count": 68,
   "id": "325f7731",
   "metadata": {},
   "outputs": [
    {
     "name": "stdout",
     "output_type": "stream",
     "text": [
      "La probabilidad de la unión de eventos es igual a la suma de las probabilidades de cada evento\n"
     ]
    }
   ],
   "source": [
    "import numpy as np\n",
    "# Suma de todas las probabilidades\n",
    "suma_probs = probabilidades_reyes.sum()\n",
    "\n",
    "# Llenamos los \"reyes nulos\" en todo el set\n",
    "df_got[\"attacker_king\"] = df_got[\"attacker_king\"].fillna(\"Otro rey\")\n",
    "\n",
    "# Obtenemos la lista de eventos (reyes) actualizada\n",
    "reyes_fillna = df_got[\"attacker_king\"].unique()\n",
    "\n",
    "# Se hace una lista con todos los eventos posibles\n",
    "eventos = [\n",
    "    df_got[\"attacker_king\"] == r\n",
    "    for r in reyes_fillna\n",
    "]\n",
    "\n",
    "# Se hace una selección donde ocurra la unión de cada evento; Esto se hace con el el método logical_or de numpy\n",
    "union_eventos = df_got[np.logical_or.reduce(eventos)]\n",
    "\n",
    "# Se obtiene la probabilidad de la unión de eventos\n",
    "prob_union = union_eventos.shape[0] / n\n",
    "\n",
    "assert suma_probs == prob_union\n",
    "\n",
    "print(f\"La probabilidad de la unión de eventos {'es igual' if prob_union == suma_probs else 'no es igual'} a la suma de las probabilidades de cada evento\")"
   ]
  },
  {
   "cell_type": "code",
   "execution_count": 69,
   "id": "ae6eac97",
   "metadata": {},
   "outputs": [],
   "source": [
    "# Forma iterativa equivalente a la compresion de lista\n",
    "eventos = []\n",
    "for r in reyes_fillna:\n",
    "    eventos.append(df_got[\"attacker_king\"] == r)"
   ]
  },
  {
   "cell_type": "markdown",
   "id": "baf6da1f",
   "metadata": {},
   "source": [
    "- La unión de las probabilidades de todos los eventos posibles en nuestro espacio muestral, corresponde a la probabilidad de $\\Omega$, que es 1 (Axioma 2)."
   ]
  },
  {
   "cell_type": "code",
   "execution_count": 70,
   "id": "87a898b9",
   "metadata": {},
   "outputs": [
    {
     "name": "stdout",
     "output_type": "stream",
     "text": [
      "La suma de las probabilidades de todos los eventos es 1.0\n",
      "La unión de las probabilidades es 1.0\n"
     ]
    }
   ],
   "source": [
    "print(f\"La suma de las probabilidades de todos los eventos es {suma_probs}\")\n",
    "print(f\"La unión de las probabilidades es {prob_union}\")\n",
    "\n",
    "assert suma_probs == prob_union == 1"
   ]
  },
  {
   "cell_type": "markdown",
   "id": "4c0dd37f",
   "metadata": {},
   "source": [
    "## Unión de eventos\n",
    "- Formalmente, si tenemos un conjunto de datos donde observamos dos eventos A y B en un espacio muestral, la unión corresponde a todo dato que satisfaga por lo menos uno de los eventos.\n",
    "- Ésta definición equivale al operador _or_ de Python\n",
    "- Se puede expresar como $P(A\\cup B)$"
   ]
  },
  {
   "cell_type": "code",
   "execution_count": 71,
   "id": "ac3e6348",
   "metadata": {},
   "outputs": [
    {
     "name": "stdout",
     "output_type": "stream",
     "text": [
      "O es un gato, o es azul!\n"
     ]
    }
   ],
   "source": [
    "# Ejemplo operador \"or\"\n",
    "animal = \"gato\"\n",
    "color = \"azul\"\n",
    "\n",
    "# Usar == en lugar de \"is\" para evitar warning\n",
    "if animal == \"gato\" or color == \"azul\":\n",
    "    print(\"O es un gato, o es azul!\")"
   ]
  },
  {
   "cell_type": "markdown",
   "id": "26a4fa68",
   "metadata": {},
   "source": [
    "- En nuestro ejemplo de GOT, definiremos:\n",
    "    - Evento A: Que un rey Baratheon inicie una batalla\n",
    "    - Evento B: Que el rey Rob Stark inicie una batalla"
   ]
  },
  {
   "cell_type": "code",
   "execution_count": 73,
   "id": "81ed7224",
   "metadata": {},
   "outputs": [],
   "source": [
    "# Se define los eventos\n",
    "evento_a = df_got[\"attacker_king\"] == 'Joffrey/Tommen Baratheon'\n",
    "evento_b = df_got[\"attacker_king\"] == 'Robb Stark'\n",
    "\n",
    "# Se selecciona en los datos donde se cumpla alguno de los eventos\n",
    "a_u_b = df_got[\n",
    "    evento_a | evento_b # Cuando se trabaja con datos de numpy, se debe usar \"&\" para \"and\" y \"|\" para \"or\"\n",
    "]\n",
    "\n",
    "# IMPORTANTE, si los eventos no se almacenan en variables, y se escriben directamente, deben ir entre paréntesis\n",
    "assert df_got[\n",
    "    (df_got[\"attacker_king\"] == 'Joffrey/Tommen Baratheon') | (df_got[\"attacker_king\"] == 'Robb Stark')\n",
    "].equals(a_u_b) # podemos comprobar que dos DataFrame son iguales con el método \"equals\"; Retorna True si los DataFrame son iguales, y False si no lo son"
   ]
  },
  {
   "cell_type": "markdown",
   "id": "5884c9f0",
   "metadata": {},
   "source": [
    "- Se calcula $P(A \\cup B)$:\n",
    "\n",
    "$$\n",
    "\\begin{align}\n",
    "P(A \\cup B) &= \\frac{A \\cup B}{n} \\\\\n",
    "P(A \\cup B) &= \\frac{\\text{N° de Batallas Baratheon o Rob Stark}}{\\text{N° Batallas totales}}\n",
    "\\end{align}\n",
    "$$\n",
    "<br />\n",
    "\n",
    "- Recordar que `shape[0]` entrega la cantidad de filas de un `DataFrame`. Por tanto, para el caso del `DataFrame` almacenado en `a_u_b`, entrega la cantidad de ocurrencias de que una batalla fuera iniciada por un rey Baratheon o Rob Stark (numerador)."
   ]
  },
  {
   "cell_type": "code",
   "execution_count": 74,
   "id": "97c62d39",
   "metadata": {},
   "outputs": [
    {
     "name": "stdout",
     "output_type": "stream",
     "text": [
      "La probabilidad de que una batalla sea inicializada por un rey Baratheon o por el rey Rob Stark es de 0.63\n"
     ]
    }
   ],
   "source": [
    "prob_a_u_b = a_u_b.shape[0] / n\n",
    "\n",
    "print(f\"La probabilidad de que una batalla sea inicializada por un rey Baratheon o por el rey Rob Stark es de {round(prob_a_u_b, 2)}\")"
   ]
  },
  {
   "cell_type": "code",
   "execution_count": 78,
   "id": "ff78ee43",
   "metadata": {},
   "outputs": [],
   "source": [
    "# Axioma 3: La probabilidad de la unión de eventos excluyentes es igual a la suma de las probabilidades separadas de dichos eventos\n",
    "assert prob_a_u_b == probabilidades_reyes.get('Joffrey/Tommen Baratheon') + probabilidades_reyes.get('Robb Stark')"
   ]
  },
  {
   "cell_type": "markdown",
   "id": "7532d8a0",
   "metadata": {},
   "source": [
    "## Intersección de eventos\n",
    "\n",
    "- Formalmente, si tenemos un conjunto de datos donde observamos dos eventos A y B en un espacio muestral, aquellos casos donde ocurren ambos corresponde a la intersección de los eventos.\n",
    "- Ésta definición equivale al operador _and_ de Python\n",
    "- Se puede expresar como $P(A \\cap B)$"
   ]
  },
  {
   "cell_type": "code",
   "execution_count": 79,
   "id": "01b945ba",
   "metadata": {},
   "outputs": [
    {
     "name": "stdout",
     "output_type": "stream",
     "text": [
      "Es un gato azul!\n"
     ]
    }
   ],
   "source": [
    "# Ejemplo operador and\n",
    "\n",
    "if animal == \"gato\" and color == \"azul\":\n",
    "    print(\"Es un gato azul!\")"
   ]
  },
  {
   "cell_type": "markdown",
   "id": "7552fde2",
   "metadata": {},
   "source": [
    "- ¿Qué ocurrirá en nuestro ejemplo de GOT si calculamos $P(A \\cap B)$?\n",
    "\n",
    "$$\n",
    "\\begin{align}\n",
    "P(A \\cap B) &= \\frac{A \\cap B}{n} \\\\\n",
    "P(A \\cap B) &= \\frac{\\text{N° de Batallas Baratheon y Rob Stark}}{\\text{N° Batallas totales}}\n",
    "\\end{align}\n",
    "$$"
   ]
  },
  {
   "cell_type": "code",
   "execution_count": 80,
   "id": "3596a274",
   "metadata": {},
   "outputs": [
    {
     "name": "stdout",
     "output_type": "stream",
     "text": [
      "La probabilidad de que una batalla sea inicializada por un rey Baratheon y por el rey Rob Stark es de 0.0\n"
     ]
    }
   ],
   "source": [
    "# Se selecciona en los datos donde se cumpla ambos eventos\n",
    "a_int_b = df_got[evento_a & evento_b]\n",
    "\n",
    "# Se calcula probabilidad de a intersectado b\n",
    "prob_a_int_b = a_int_b.shape[0] / n\n",
    "\n",
    "print(f\"La probabilidad de que una batalla sea inicializada por un rey Baratheon y por el rey Rob Stark es de {round(prob_a_int_b, 2)}\")"
   ]
  },
  {
   "cell_type": "markdown",
   "id": "49d3cc2f",
   "metadata": {},
   "source": [
    "- Como nuestros eventos son _excluyentes_ (no puede ocurrir ambos a la vez), la probabilidad de su intersección es 0 "
   ]
  },
  {
   "cell_type": "markdown",
   "id": "e2a0c684",
   "metadata": {},
   "source": [
    "# Probabilidad condicional\n",
    "\n",
    "## Objetivo de la Probabilidad Condicional\n",
    "\n",
    "- Buscamos responder a la verosimilitud de ocurrencia de un evento A, condicional a su ocurrencia en otro evento B.\n",
    "- El objetivo es resolver el siguiente problema:\n",
    "\n",
    "$$\n",
    "P(A|B) = \\frac{P(A \\cap B)}{P(B)}\n",
    "$$\n",
    "\n",
    "- Donde:\n",
    "    - $P(A|B)$: Probabilidad condicional del evento A _dado_ el evento B"
   ]
  },
  {
   "cell_type": "markdown",
   "id": "e2d7756f",
   "metadata": {},
   "source": [
    "### Muertes importantes en batallas Baratheon\n",
    "\n",
    "$$\n",
    "\\begin{align}\n",
    "P(\\text{Muerte Importante} | \\text{Batalla Baratheon}) &= \\frac{P(\\text{Muerte Importante} \\cap \\text{Batalla Baratheon})}{P(\\text{Batalla Baratheon})} \\\\\n",
    "P(\\text{Muerte Importante} | \\text{Batalla Baratheon}) &= \\frac{\\frac{\\text{Muerte Importante } \\cap \\text{ Batalla Baratheon}}{n}}{\\frac{\\text{Batalla Baratheon}}{n}} \\\\\n",
    "P(\\text{Muerte Importante} | \\text{Batalla Baratheon}) &= \\frac{\\text{Muerte Importante } \\cap \\text{ Batalla Baratheon}}{\\text{Batalla Baratheon}} \\\\\n",
    "P(\\text{Muerte Importante} | \\text{Batalla Baratheon}) &= \\frac{\\text{N° de Batallas con una Muerte Importante y Atacante Baratheon}}{\\text{N° Batallas Baratheon}}\n",
    "\\end{align}\n",
    "$$\n",
    "\n",
    "- **Evento A**: Muerte importante en una batalla cualquiera.\n",
    "- **Evento B**: Batalla originada por un Baratheon.\n",
    "- **Probabilidad condicional A dado B**: Probabilidad de muerte importante en batalla Baratheon."
   ]
  },
  {
   "cell_type": "code",
   "execution_count": 81,
   "id": "099737f2",
   "metadata": {},
   "outputs": [
    {
     "data": {
      "text/plain": [
       "Index(['me', 'year', 'battle_number', 'attacker_king', 'defender_king',\n",
       "       'attacker_1', 'attacker_2', 'attacker_3', 'attacker_4', 'defender_1',\n",
       "       'defender_2', 'defender_3', 'defender_4', 'attacker_outcome',\n",
       "       'battle_type', 'major_death', 'major_capture', 'attacker_size',\n",
       "       'defender_size', 'attacker_commander', 'defender_commander', 'summer',\n",
       "       'location', 'region', 'note'],\n",
       "      dtype='object')"
      ]
     },
     "execution_count": 81,
     "metadata": {},
     "output_type": "execute_result"
    }
   ],
   "source": [
    "# Se explora las columnas\n",
    "df_got.columns"
   ]
  },
  {
   "cell_type": "code",
   "execution_count": 82,
   "id": "efee3418",
   "metadata": {},
   "outputs": [
    {
     "data": {
      "text/plain": [
       "0.0    24\n",
       "1.0    13\n",
       "Name: major_death, dtype: int64"
      ]
     },
     "execution_count": 82,
     "metadata": {},
     "output_type": "execute_result"
    }
   ],
   "source": [
    "# Se explora los valores posibles de las muertes importantes (major_death)\n",
    "df_got[\"major_death\"].value_counts()"
   ]
  },
  {
   "cell_type": "markdown",
   "id": "3a233a49",
   "metadata": {},
   "source": [
    "- Primero calculamos la probabilidad condicional $P(A|B)$ en forma iterativa. Recordar que esta forma es más costosa computacionalmente."
   ]
  },
  {
   "cell_type": "code",
   "execution_count": 83,
   "id": "cc1001dd",
   "metadata": {},
   "outputs": [
    {
     "name": "stdout",
     "output_type": "stream",
     "text": [
      "La probabilidad de que se produzca una muerte importante, dado que la batalla fue iniciada por un Baratheon es de 0.36\n"
     ]
    }
   ],
   "source": [
    "muerte_y_baratheon = 0\n",
    "baratheon = 0\n",
    "\n",
    "for index, row in df_got.iterrows():\n",
    "    if row[\"attacker_king\"] == \"Joffrey/Tommen Baratheon\":\n",
    "        baratheon += 1\n",
    "        \n",
    "        if row[\"major_death\"] == 1:\n",
    "            muerte_y_baratheon += 1\n",
    "\n",
    "prob_a_dado_b = muerte_y_baratheon / baratheon            \n",
    "print(f\"La probabilidad de que se produzca una muerte importante, dado que la batalla fue iniciada por un Baratheon es de {round(prob_a_dado_b, 2)}\")"
   ]
  },
  {
   "cell_type": "markdown",
   "id": "185cd1ee",
   "metadata": {},
   "source": [
    "- Ahora aplicando selección matricial"
   ]
  },
  {
   "cell_type": "code",
   "execution_count": 84,
   "id": "b031ca8d",
   "metadata": {},
   "outputs": [],
   "source": [
    "a_y_b = df_got[\n",
    "    (df_got[\"attacker_king\"] == \"Joffrey/Tommen Baratheon\") # Que se cumpla la condición de que la batalla fue iniciada por un Baratheon\n",
    "    & (df_got[\"major_death\"] == 1)                          # Y que se cumpla la condición de que sea una muerte importante\n",
    "].shape[0]                                                  # Se obtiene la cantidad de casos\n",
    "\n",
    "prob_a_y_b = a_y_b / n\n",
    "\n",
    "prob_b = probabilidades_reyes.get(\"Joffrey/Tommen Baratheon\")\n",
    "\n",
    "assert prob_a_dado_b == prob_a_y_b / prob_b"
   ]
  },
  {
   "cell_type": "markdown",
   "id": "22e63a6a",
   "metadata": {},
   "source": [
    "# Funciones\n",
    "\n",
    "## Puntos importantes a considerar\n",
    "- Las funciones pueden tener parámetros de ingreso, los cuales se pueden definir por defecto.\n",
    "- Las funciones no devuelven resultados por defecto, éstos se deben pedir de manera explícita con _return_.\n",
    "- Siempre incluir _docstrings_, que deben responder los siguientes puntos:\n",
    "    - ¿Cuál es el objetivo de la función?\n",
    "    - ¿Qué parámetros entran?\n",
    "    - ¿Qué parámetros salen?"
   ]
  },
  {
   "cell_type": "markdown",
   "id": "d8858736",
   "metadata": {},
   "source": [
    "- Definiremos una función que permita calcular la probabilidad condicional de que se produzca una muerte importante en una batalla dado un rey específico"
   ]
  },
  {
   "cell_type": "code",
   "execution_count": 85,
   "id": "40e750d2",
   "metadata": {},
   "outputs": [],
   "source": [
    "# Se define la función\n",
    "def get_prob_condicional_muerte_importante_rey(\n",
    "    data, # Importante pedir el set de datos, ya que la función debe programarse asumiendo un entorno aislado del jupyter notebook en ejecución\n",
    "    nombre_rey, # Solicitamos como parámetro obligatorio el rey del cual se quiere obtener la probabilidad condicional\n",
    "    es_muerte_importante = 1, # Se asigna el valor por defecto 1 para el parámetro que indica el valor de si la muerte es importante o no\n",
    "    rey_col = \"attacker_king\", # Dejamos como opcional el nombre de la columna del nombre del rey atacante\n",
    "    muerte_col = \"major_death\" # Dejamos como opcional el nombre de la columna de si es una muerte importante o no\n",
    "):\n",
    "    \"\"\"\n",
    "        El docstring debe ir inmediatamente luego de la definición de la función, en el bloque interior de ésta\n",
    "        \n",
    "        Objetivo:\n",
    "            - Retornar la probabilidad condicional de ocurrencia de una muerte importante en una batalla dado que ésta fue inicializada por un rey específino\n",
    "            \n",
    "        Parámetros:\n",
    "            - data (DataFrame): Set de datos. Obligatorio.\n",
    "            - nombre_rey (str): Nombre del rey de la probabilidad condicional (evento B). Obligatorio.\n",
    "            - es_muerte_importante (int): Indica si se considera una muerte importante para la probabilidad condicional (evento A). Opcional, por defecto 1.\n",
    "            - rey_col (str): Nombre de la columna donde están los reyes. Opcional, por defecto \"attacker_king\"\n",
    "            - muerte_col (str): Nombre de la columna donde se indica si hubo una muerte importante. Opcional, por defecto \"major_death\"\n",
    "            \n",
    "        Retorno:\n",
    "           - prob_a_dado_b (float): Probabilidad condicional del evento A dado el evento B\n",
    "    \"\"\"                                                \n",
    "    \n",
    "    # Para la lógica de nuestra función reutilizamos el código ya hecho para el caso particular, reemplazando por los parámetros donde corresponda\n",
    "    a_y_b = data[\n",
    "        (data[rey_col] == nombre_rey)\n",
    "        & (data[muerte_col] == es_muerte_importante)                          \n",
    "    ].shape[0]                                                  \n",
    "\n",
    "    # Ojo, se debe obtener \"n\" dentro del alcance de la función\n",
    "    n = data.shape[0] \n",
    "    prob_a_y_b = a_y_b / n \n",
    "\n",
    "    # Ojo, se debe obtener las probabilidades de reyes para el alcance de la función    \n",
    "    probabilidades_reyes = data[rey_col].value_counts(normalize=True, dropna=False)\n",
    "    prob_b = probabilidades_reyes.get(nombre_rey)\n",
    "    \n",
    "    prob_a_dado_b = prob_a_y_b / prob_b\n",
    "    \n",
    "    # Se retorna la probabilidad condicional\n",
    "    return prob_a_dado_b"
   ]
  },
  {
   "cell_type": "markdown",
   "id": "6453ecb8",
   "metadata": {},
   "source": [
    "- Se llama a la función para cada Rey"
   ]
  },
  {
   "cell_type": "code",
   "execution_count": 87,
   "id": "235618ef",
   "metadata": {},
   "outputs": [
    {
     "data": {
      "text/plain": [
       "array(['Joffrey/Tommen Baratheon', 'Robb Stark', 'Balon/Euron Greyjoy',\n",
       "       'Stannis Baratheon', 'Otro rey'], dtype=object)"
      ]
     },
     "execution_count": 87,
     "metadata": {},
     "output_type": "execute_result"
    }
   ],
   "source": [
    "reyes_fillna"
   ]
  },
  {
   "cell_type": "code",
   "execution_count": 88,
   "id": "0375ab6b",
   "metadata": {},
   "outputs": [
    {
     "name": "stdout",
     "output_type": "stream",
     "text": [
      "La probabilidad de que se produzca una muerte importante, dado que la batalla fue iniciada por Joffrey/Tommen Baratheon es de 0.36\n",
      "La probabilidad de que se produzca una muerte importante, dado que la batalla fue iniciada por Robb Stark es de 0.5\n",
      "La probabilidad de que se produzca una muerte importante, dado que la batalla fue iniciada por Balon/Euron Greyjoy es de 0.0\n",
      "La probabilidad de que se produzca una muerte importante, dado que la batalla fue iniciada por Stannis Baratheon es de 0.6\n",
      "La probabilidad de que se produzca una muerte importante, dado que la batalla fue iniciada por Otro rey es de 0.0\n"
     ]
    }
   ],
   "source": [
    "for rey in reyes_fillna:\n",
    "    prob_a_dado_b = get_prob_condicional_muerte_importante_rey(df_got, rey) # Solo pasamos com argumento los correspondientes a los parámetros obligatorios\n",
    "    print(f\"La probabilidad de que se produzca una muerte importante, dado que la batalla fue iniciada por {rey} es de {round(prob_a_dado_b, 2)}\")"
   ]
  },
  {
   "cell_type": "markdown",
   "id": "9984b7b6",
   "metadata": {},
   "source": [
    "# Reflexión\n",
    "\n",
    "- Ahora que sabemos que la frecuencia relativa corresponde a la probabilidad, y que esto se acerca a la probabilidad teórica en la medida que tenemos más experimentos, aplicaremos una mejor imputación de los datos nulos utilizando estas probabilidades.\n",
    "- Primero, volveremos a dejar como \"dato nulo\" las batallas donde existe \"Otro rey\" en `attacker_king`. Esto lo podemos hacer sobreescribiendo la columna utilizando `replace`."
   ]
  },
  {
   "cell_type": "code",
   "execution_count": 89,
   "id": "e1dc6481",
   "metadata": {},
   "outputs": [],
   "source": [
    "df_got[\"attacker_king\"] = df_got[\"attacker_king\"].replace( # Replace se puede aplicar a una Serie o al DataFrame completo\n",
    "    [\"Otro rey\"],                                          # Recibe como primer argumento la lista de valores originales\n",
    "    [np.nan]                                               # Y como segundo argumento la lista de valores a reemplazar, segun las posiciones (índices) en la lista anterior\n",
    ")\n",
    "\n",
    "# Corroboramos que debe haber 2 datos nulos\n",
    "assert df_got[\"attacker_king\"].isna().sum() == 2"
   ]
  },
  {
   "cell_type": "markdown",
   "id": "103ea119",
   "metadata": {},
   "source": [
    "- Volvemos a almacenar las probabilidades de cada rey, considerando solo las batallas con rey conocido"
   ]
  },
  {
   "cell_type": "code",
   "execution_count": 90,
   "id": "25ea33cc",
   "metadata": {},
   "outputs": [
    {
     "data": {
      "text/plain": [
       "Joffrey/Tommen Baratheon    0.388889\n",
       "Robb Stark                  0.277778\n",
       "Balon/Euron Greyjoy         0.194444\n",
       "Stannis Baratheon           0.138889\n",
       "Name: attacker_king, dtype: float64"
      ]
     },
     "execution_count": 90,
     "metadata": {},
     "output_type": "execute_result"
    }
   ],
   "source": [
    "probabilidades_reyes = df_got[\"attacker_king\"].value_counts(normalize=True, dropna=True)\n",
    "probabilidades_reyes"
   ]
  },
  {
   "cell_type": "markdown",
   "id": "773fc590",
   "metadata": {},
   "source": [
    "- Para imputar los datos nulos, se hará uso de la función `random.choice` de `numpy`"
   ]
  },
  {
   "cell_type": "code",
   "execution_count": 93,
   "id": "6eb5efff",
   "metadata": {},
   "outputs": [
    {
     "data": {
      "text/plain": [
       "'Balon/Euron Greyjoy'"
      ]
     },
     "execution_count": 93,
     "metadata": {},
     "output_type": "execute_result"
    }
   ],
   "source": [
    "# Los reyes del espacio muestral corresponden a los índices en nuestra Serie probabilidades_reyes\n",
    "posibles_reyes = probabilidades_reyes.index\n",
    "\n",
    "# Cada vez que se ejecuta, escoge un rey al azar, asignando la misma probabilidad a cada ejecución. Ejecuta esta celda varias veces para obtener distintos reyes\n",
    "np.random.choice(posibles_reyes)"
   ]
  },
  {
   "cell_type": "markdown",
   "id": "fc33c87e",
   "metadata": {},
   "source": [
    "- Dentro de `random.choice`, pasaremos además como argumento del parámetro `p` las probabilidades correspondientes a cada rey"
   ]
  },
  {
   "cell_type": "code",
   "execution_count": 96,
   "id": "1f3b5655",
   "metadata": {},
   "outputs": [
    {
     "data": {
      "text/plain": [
       "'Joffrey/Tommen Baratheon'"
      ]
     },
     "execution_count": 96,
     "metadata": {},
     "output_type": "execute_result"
    }
   ],
   "source": [
    "# Los valores de las probabilidades corresponden a los índices en nuestra Serie probabilidades_reyes\n",
    "probabilidades_de_cada_rey = probabilidades_reyes.values\n",
    "\n",
    "# Ejecuta esta celda varias veces. Pocas veces debiese salir Stannis Baratheon, porque tiene poca probabilidad asignada\n",
    "np.random.choice(\n",
    "    posibles_reyes,\n",
    "    p=probabilidades_de_cada_rey # \"p\" permite asignar una probabilidad de elección a cada rey entregado en posibles_reyes, haciendo la asignación a cada uno según los índices en cada lista\n",
    ")"
   ]
  },
  {
   "cell_type": "markdown",
   "id": "a85099bc",
   "metadata": {},
   "source": [
    "- Se inputa los valores nulos usando `fillna` y `np.random.choice`"
   ]
  },
  {
   "cell_type": "code",
   "execution_count": 97,
   "id": "cd83614f",
   "metadata": {},
   "outputs": [
    {
     "data": {
      "text/plain": [
       "Joffrey/Tommen Baratheon    0.421053\n",
       "Robb Stark                  0.263158\n",
       "Balon/Euron Greyjoy         0.184211\n",
       "Stannis Baratheon           0.131579\n",
       "Name: attacker_king, dtype: float64"
      ]
     },
     "execution_count": 97,
     "metadata": {},
     "output_type": "execute_result"
    }
   ],
   "source": [
    "df_got[\"attacker_king\"] = df_got[\"attacker_king\"].fillna(np.random.choice(posibles_reyes, p=probabilidades_de_cada_rey))\n",
    "\n",
    "# Vemos las nuevas frecuencias\n",
    "df_got[\"attacker_king\"].value_counts(normalize=True)"
   ]
  },
  {
   "cell_type": "markdown",
   "id": "0e187531",
   "metadata": {},
   "source": [
    "- En este caso sí cambió un poco las frecuencias de cada rey al imputar nulos, pero sabemos que _al tener más experimentos_ (en este caso solo teniamos 38), la probabilidad obtenida convergerá a la teórica."
   ]
  },
  {
   "cell_type": "code",
   "execution_count": null,
   "id": "8db67e23",
   "metadata": {},
   "outputs": [],
   "source": []
  }
 ],
 "metadata": {
  "kernelspec": {
   "display_name": "Python 3 (ipykernel)",
   "language": "python",
   "name": "python3"
  },
  "language_info": {
   "codemirror_mode": {
    "name": "ipython",
    "version": 3
   },
   "file_extension": ".py",
   "mimetype": "text/x-python",
   "name": "python",
   "nbconvert_exporter": "python",
   "pygments_lexer": "ipython3",
   "version": "3.9.12"
  }
 },
 "nbformat": 4,
 "nbformat_minor": 5
}
