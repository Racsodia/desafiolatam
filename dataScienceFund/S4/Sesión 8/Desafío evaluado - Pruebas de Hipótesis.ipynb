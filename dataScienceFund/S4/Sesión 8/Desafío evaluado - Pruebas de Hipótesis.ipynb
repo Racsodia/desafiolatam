{
 "cells": [
  {
   "cell_type": "markdown",
   "id": "cfca4da3",
   "metadata": {},
   "source": [
    "<h1 style=\"text-align: center;\">Desafío - Estimando curvas de densidad de probabilidad</h1>\n",
    "\n",
    "- Para realizar este desafío debes haber estudiado previamente todo el material disponible correspondiente a la unidad.\n",
    "- Una vez terminado el desafío, comprime la carpeta que contiene el desarrollo de los requerimientos solicitados y sube el .zip en el LMS.\n",
    "- Desarrollo desafío: Individual.\n",
    "Para la realización del desafío necesitarás apoyarte del archivo <a href=\"https://empieza.desafiolatam.com/cohorts/2091/sections/78278/activities/119107/items/610854\">Apoyo Desafío - Pruebas de hipótesis</a>."
   ]
  },
  {
   "cell_type": "markdown",
   "id": "be76e709",
   "metadata": {},
   "source": [
    "## Habilidades a evaluar\n",
    "- Identificar la estandarización de variables mediante el cálculo de puntajes $z$.\n",
    "- Conocer la distribución $t$ de Student y su aplicación.\n",
    "- Aplicar pruebas de hipótesis simples en el contexto de la inferencia."
   ]
  },
  {
   "cell_type": "markdown",
   "id": "1a9104ea",
   "metadata": {},
   "source": [
    "## Descripción\n",
    "A partir del trabajo realizado en el Desafío anterior, la empresa para la cual trabajas, te ha solicitado continuar el análisis de datos pero, está vez, evaluando juicios de hipótesis e implementando funciones que faciliten el análisis de datos. Para ello, te entregan un material de apoyo el cual deberá servir como base para desarrollar los siguientes requerimientos."
   ]
  },
  {
   "cell_type": "markdown",
   "id": "a16f7ef0",
   "metadata": {},
   "source": [
    "## Requerimientos\n",
    "A continuación revisaremos los requerimientos y acciones que la empresa a la cual postulas te pide realizar.\n",
    "\n",
    "### 1. Evaluar juicios de hipótesis (2 puntos): \n",
    "Para evaluar la pertinencia de diversas hipótesis, se te solicita discernir si es posible rechazar la hipótesis nula.\n",
    "\n",
    "- 75 individuos elegidos al azar fueron alcanzados por activistas pro-LGTB que se identificaron como homosexuales, y 75 alcanzados por activistas pro-LGTB que se identificaron como heterosexuales. El objetivo era medir actitudes frente a la adopción homoparental. La organización encargada de procesar los datos obtuvo los siguientes resultados:\n",
    ">El 67% de los encuestados por heterosexuales se mostró a favor de la adopción homoparental ($p_{\\text{heterosexuales}}$), mientras que un 72% de los encuestados por activistas que se identificaron como homosexuales se mostraron a favor de la adopción homoparental ($p_{\\text{homosexuales}}$).\n",
    "    \n",
    "- Asumiendo que la hipótesis nula es que ambos porcentajes no son diferentes, y la hipótesis alternativa es que existe una diferencia substancial entre ambos.\n",
    "$$\n",
    "H_0: p_{\\text{heterosexuales}} = p_{\\text{homosexuales}} \\\\\n",
    "H_1: p_{\\text{heterosexuales}} \\neq p_{\\text{homosexuales}}\n",
    "$$"
   ]
  },
  {
   "cell_type": "markdown",
   "id": "25661d5c",
   "metadata": {},
   "source": [
    "- Con _p-valor_ de 0.1183 ¿es posible rechazar la hipótesis nula en favor de la alternativa con una confianza de 95%?\n",
    "\n",
    "**Respuesta**:"
   ]
  },
  {
   "cell_type": "markdown",
   "id": "7351c545",
   "metadata": {},
   "source": [
    "- ¿Cuanta es la confianza máxima con la que sería posible rechazar la hipótesis nula en favor de la alternativa con estos resultados?\n",
    "\n",
    "**Respuesta**:"
   ]
  },
  {
   "cell_type": "markdown",
   "id": "1a076940",
   "metadata": {},
   "source": [
    "### 2. Importar la base de datos utilizada la sesión presencial anterior (2 puntos):\n",
    "- Agregue una serie de variables binarias por cada continente de la variable region. _**Tip**_: Utilice np.where para ello.\n",
    "- De manera similar a la sesión anterior, enfóquese en las siguientes variables:\n",
    "    - **Apellidos desde la A hasta la N**: Enfocarse en las variables `chldmort`, `adfert` y `life`.\n",
    "    - **Apellidos desde la N hasta la Z**: Enfocarse en las variables `femlab`, `literacy` y `school`."
   ]
  },
  {
   "cell_type": "code",
   "execution_count": 1,
   "id": "402cdd01",
   "metadata": {},
   "outputs": [],
   "source": [
    "# Utiliza esta celda par importar los módulos necesarios y el set de datos. Recuerda el encoding!"
   ]
  },
  {
   "cell_type": "code",
   "execution_count": 2,
   "id": "25d731bc",
   "metadata": {},
   "outputs": [],
   "source": [
    "# Utiliza esta celda para crear una variable binaria para cada continente (1: Pertenece al contiente, 0: No pertenece al continente)\n",
    "# Esto añadirá 5 columnas a tu dataframe"
   ]
  },
  {
   "cell_type": "markdown",
   "id": "46e7678f",
   "metadata": {},
   "source": [
    "### 3. Implementar una función de prueba de hipótesis a mano (3 puntos):\n",
    "- La función debe ingresar los siguientes argumentos:\n",
    "    - `data`: La tabla de datos.\n",
    "    - `variable`: La variable a analizar.\n",
    "    - `binarize`: El indicador binario a utilizar.\n",
    "    \n",
    "_**Tip**_:\n",
    "- Separe la variable en dos, utilizando el indicador binario. Recuerde eliminar los perdidos con `dropna()`.\n",
    "- Implemente `ttest_ind` de `scipy.stats` y guarde el valor $t$ y _p-value_.\n",
    "- Reporte las medias para cada grupo (0 y 1).\n",
    "- Reporte la diferencia de entre las medias.\n",
    "- Reporte los valores $t$ y _p-value_."
   ]
  },
  {
   "cell_type": "code",
   "execution_count": 3,
   "id": "d0dac334",
   "metadata": {},
   "outputs": [],
   "source": [
    "# Utiliza esta celda para definir la función"
   ]
  },
  {
   "cell_type": "code",
   "execution_count": 4,
   "id": "7447ce4d",
   "metadata": {},
   "outputs": [],
   "source": [
    "# Utiliza esta celda para hacer 1 llamado de prueba de la función implementada"
   ]
  },
  {
   "cell_type": "markdown",
   "id": "27206729",
   "metadata": {},
   "source": [
    "### 4. Implementar una función que grafique los histogramas para ambas muestras (3 puntos)\n",
    "- Genere una función que devuelva un gráfico donde visualice los dos histogramas cuando la variable es 1 y 0, respectivamente. _**Tip**_: Refactorize la función incluyendo el método `hist` de `matplotlib.pyplot`. Incluya los argumentos `alpha` y `label`.\n",
    "- Para las tres variables de interés acorde a su grupo, analice las diferencias de medias por cada continente, y posteriormente grafique.\n",
    "- Concluya con los principales resultados al respecto."
   ]
  },
  {
   "cell_type": "code",
   "execution_count": 5,
   "id": "81fc267f",
   "metadata": {},
   "outputs": [],
   "source": [
    "# Utiliza esta celda para refactorizar la función implementada en el punto 3"
   ]
  },
  {
   "cell_type": "markdown",
   "id": "f542f2fe",
   "metadata": {},
   "source": [
    "**África**"
   ]
  },
  {
   "cell_type": "code",
   "execution_count": 6,
   "id": "e559def1",
   "metadata": {},
   "outputs": [],
   "source": [
    "# Utiliza esta celda para realizar el llamado a la función para África y la primera variable"
   ]
  },
  {
   "cell_type": "code",
   "execution_count": 7,
   "id": "b8f32335",
   "metadata": {},
   "outputs": [],
   "source": [
    "# Utiliza esta celda para realizar el llamado a la función para África y la segunda variable"
   ]
  },
  {
   "cell_type": "code",
   "execution_count": 8,
   "id": "195f14e7",
   "metadata": {},
   "outputs": [],
   "source": [
    "# Utiliza esta celda para realizar el llamado a la función para África y la tercera variable"
   ]
  },
  {
   "cell_type": "markdown",
   "id": "477646d0",
   "metadata": {},
   "source": [
    "**Comentarios**"
   ]
  },
  {
   "cell_type": "markdown",
   "id": "92fae31f",
   "metadata": {},
   "source": [
    "**Asia**"
   ]
  },
  {
   "cell_type": "code",
   "execution_count": 9,
   "id": "5100cba9",
   "metadata": {},
   "outputs": [],
   "source": [
    "# Utiliza esta celda para realizar el llamado a la función para Asia y la primera variable"
   ]
  },
  {
   "cell_type": "code",
   "execution_count": 10,
   "id": "0d6da30e",
   "metadata": {},
   "outputs": [],
   "source": [
    "# Utiliza esta celda para realizar el llamado a la función para Asia y la segunda variable"
   ]
  },
  {
   "cell_type": "code",
   "execution_count": 11,
   "id": "e8ab8af1",
   "metadata": {},
   "outputs": [],
   "source": [
    "# Utiliza esta celda para realizar el llamado a la función para Asia y la tercera variable"
   ]
  },
  {
   "cell_type": "markdown",
   "id": "c22e2580",
   "metadata": {},
   "source": [
    "**Comentarios**"
   ]
  },
  {
   "cell_type": "markdown",
   "id": "1c847879",
   "metadata": {},
   "source": [
    "**Américas**"
   ]
  },
  {
   "cell_type": "code",
   "execution_count": 12,
   "id": "540acb98",
   "metadata": {},
   "outputs": [],
   "source": [
    "# Utiliza esta celda para realizar el llamado a la función para Américas y la primera variable"
   ]
  },
  {
   "cell_type": "code",
   "execution_count": 13,
   "id": "47f3a734",
   "metadata": {},
   "outputs": [],
   "source": [
    "# Utiliza esta celda para realizar el llamado a la función para Américas y la segunda variable"
   ]
  },
  {
   "cell_type": "code",
   "execution_count": 14,
   "id": "6c2e37a9",
   "metadata": {},
   "outputs": [],
   "source": [
    "# Utiliza esta celda para realizar el llamado a la función para Américas y la tercera variable"
   ]
  },
  {
   "cell_type": "markdown",
   "id": "a8680eed",
   "metadata": {},
   "source": [
    "**Comentarios**"
   ]
  },
  {
   "cell_type": "markdown",
   "id": "095b853a",
   "metadata": {},
   "source": [
    "**Europa**"
   ]
  },
  {
   "cell_type": "code",
   "execution_count": 15,
   "id": "4c8cbcea",
   "metadata": {},
   "outputs": [],
   "source": [
    "# Utiliza esta celda para realizar el llamado a la función para Europa y la primera variable"
   ]
  },
  {
   "cell_type": "code",
   "execution_count": 16,
   "id": "83dd69fd",
   "metadata": {},
   "outputs": [],
   "source": [
    "# Utiliza esta celda para realizar el llamado a la función para Europa y la segunda variable"
   ]
  },
  {
   "cell_type": "code",
   "execution_count": 17,
   "id": "bd0504b8",
   "metadata": {},
   "outputs": [],
   "source": [
    "# Utiliza esta celda para realizar el llamado a la función para Europa y la tercera variable"
   ]
  },
  {
   "cell_type": "markdown",
   "id": "baf1c33a",
   "metadata": {},
   "source": [
    "**Comentarios**"
   ]
  },
  {
   "cell_type": "markdown",
   "id": "efda3b10",
   "metadata": {},
   "source": [
    "**Oceanía**"
   ]
  },
  {
   "cell_type": "code",
   "execution_count": 18,
   "id": "f28b8814",
   "metadata": {},
   "outputs": [],
   "source": [
    "# Utiliza esta celda para realizar el llamado a la función para Oceanía y la primera variable"
   ]
  },
  {
   "cell_type": "code",
   "execution_count": 19,
   "id": "53e4c158",
   "metadata": {},
   "outputs": [],
   "source": [
    "# Utiliza esta celda para realizar el llamado a la función para Oceanía y la segunda variable"
   ]
  },
  {
   "cell_type": "code",
   "execution_count": 20,
   "id": "164a10dd",
   "metadata": {},
   "outputs": [],
   "source": [
    "# Utiliza esta celda para realizar el llamado a la función para Oceanía y la tercera variable"
   ]
  },
  {
   "cell_type": "markdown",
   "id": "eb1b8483",
   "metadata": {},
   "source": [
    "**Comentarios**"
   ]
  },
  {
   "cell_type": "code",
   "execution_count": null,
   "id": "c1304b07",
   "metadata": {},
   "outputs": [],
   "source": []
  }
 ],
 "metadata": {
  "kernelspec": {
   "display_name": "Python 3 (ipykernel)",
   "language": "python",
   "name": "python3"
  },
  "language_info": {
   "codemirror_mode": {
    "name": "ipython",
    "version": 3
   },
   "file_extension": ".py",
   "mimetype": "text/x-python",
   "name": "python",
   "nbconvert_exporter": "python",
   "pygments_lexer": "ipython3",
   "version": "3.9.12"
  }
 },
 "nbformat": 4,
 "nbformat_minor": 5
}
