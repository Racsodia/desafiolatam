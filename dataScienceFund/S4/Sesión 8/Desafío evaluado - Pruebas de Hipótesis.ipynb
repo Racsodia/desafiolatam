{
 "cells": [
  {
   "cell_type": "markdown",
   "metadata": {},
   "source": [
    "<h1 style=\"text-align: center;\">Desafío - Pruebas de hipótesis</h1>\n",
    "\n",
    "- Para realizar este desafío debes haber estudiado previamente todo el material disponible correspondiente a la unidad.\n",
    "- Una vez terminado el desafío, comprime la carpeta que contiene el desarrollo de los requerimientos solicitados y sube el .zip en el LMS.\n",
    "- Desarrollo desafío: Individual.\n",
    "Para la realización del desafío necesitarás apoyarte del archivo <a href=\"https://empieza.desafiolatam.com/cohorts/2091/sections/78278/activities/119107/items/610854\">Apoyo Desafío - Pruebas de hipótesis</a>."
   ]
  },
  {
   "cell_type": "markdown",
   "metadata": {},
   "source": [
    "## Habilidades a evaluar\n",
    "- Identificar la estandarización de variables mediante el cálculo de puntajes $z$.\n",
    "- Conocer la distribución $t$ de Student y su aplicación.\n",
    "- Aplicar pruebas de hipótesis simples en el contexto de la inferencia."
   ]
  },
  {
   "cell_type": "markdown",
   "metadata": {},
   "source": [
    "## Descripción\n",
    "A partir del trabajo realizado en el Desafío anterior, la empresa para la cual trabajas, te ha solicitado continuar el análisis de datos pero, está vez, evaluando juicios de hipótesis e implementando funciones que faciliten el análisis de datos. Para ello, te entregan un material de apoyo el cual deberá servir como base para desarrollar los siguientes requerimientos."
   ]
  },
  {
   "cell_type": "markdown",
   "metadata": {},
   "source": [
    "## Requerimientos\n",
    "A continuación revisaremos los requerimientos y acciones que la empresa a la cual postulas te pide realizar.\n",
    "\n",
    "### 1. Evaluar juicios de hipótesis (2 puntos): \n",
    "Para evaluar la pertinencia de diversas hipótesis, se te solicita discernir si es posible rechazar la hipótesis nula.\n",
    "\n",
    "- 75 individuos elegidos al azar fueron alcanzados por activistas pro-LGTB que se identificaron como homosexuales, y 75 alcanzados por activistas pro-LGTB que se identificaron como heterosexuales. El objetivo era medir actitudes frente a la adopción homoparental. La organización encargada de procesar los datos obtuvo los siguientes resultados:\n",
    ">El 67% de los encuestados por heterosexuales se mostró a favor de la adopción homoparental ($p_{\\text{heterosexuales}}$), mientras que un 72% de los encuestados por activistas que se identificaron como homosexuales se mostraron a favor de la adopción homoparental ($p_{\\text{homosexuales}}$).\n",
    "    \n",
    "- Asumiendo que la hipótesis nula es que ambos porcentajes no son diferentes, y la hipótesis alternativa es que existe una diferencia substancial entre ambos.\n",
    "$$\n",
    "H_0: p_{\\text{heterosexuales}} = p_{\\text{homosexuales}} \\\\\n",
    "H_1: p_{\\text{heterosexuales}} \\neq p_{\\text{homosexuales}}\n",
    "$$"
   ]
  },
  {
   "cell_type": "markdown",
   "id": "58184b23",
   "metadata": {},
   "source": [
    "- Con _p-valor_ de 0.1183 ¿es posible rechazar la hipótesis nula en favor de la alternativa con una confianza de 95%?\n",
    "\n",
    "**Respuesta**:no se puede rechazar con un 95% de confianza"
   ]
  },
  {
   "cell_type": "markdown",
   "id": "f0407b46",
   "metadata": {},
   "source": [
    "- ¿Cuanta es la confianza máxima con la que sería posible rechazar la hipótesis nula en favor de la alternativa con estos resultados?\n",
    "\n",
    "**Respuesta**:0.8817"
   ]
  },
  {
   "cell_type": "markdown",
   "id": "9d0ccec6",
   "metadata": {},
   "source": [
    "### 2. Importar la base de datos utilizada la sesión presencial anterior (2 puntos):\n",
    "- Agregue una serie de variables binarias por cada continente de la variable region. _**Tip**_: Utilice np.where para ello.\n",
    "- De manera similar a la sesión anterior, enfóquese en las siguientes variables:\n",
    "    - **Apellidos desde la A hasta la N**: Enfocarse en las variables `chldmort`, `adfert` y `life`.\n",
    "    - **Apellidos desde la N hasta la Z**: Enfocarse en las variables `femlab`, `literacy` y `school`."
   ]
  },
  {
   "cell_type": "code",
   "execution_count": 1,
   "id": "25b52027",
   "metadata": {},
   "outputs": [],
   "source": [
    "# Utiliza esta celda par importar los módulos necesarios y el set de datos. Recuerda el encoding!\n",
    "import pandas as pd\n",
    "import numpy as np\n",
    "\n",
    "df = pd.read_csv(\"nations.csv\", encoding = \"ISO-8859-1\").drop(columns=[\"Unnamed: 0\"])\n",
    "df.head()\n",
    "my_cols = ['chldmort','adfert','life']"
   ]
  },
  {
   "cell_type": "code",
   "execution_count": 4,
   "id": "ff553d58",
   "metadata": {},
   "outputs": [
    {
     "data": {
      "text/html": [
       "<div>\n",
       "<style scoped>\n",
       "    .dataframe tbody tr th:only-of-type {\n",
       "        vertical-align: middle;\n",
       "    }\n",
       "\n",
       "    .dataframe tbody tr th {\n",
       "        vertical-align: top;\n",
       "    }\n",
       "\n",
       "    .dataframe thead th {\n",
       "        text-align: right;\n",
       "    }\n",
       "</style>\n",
       "<table border=\"1\" class=\"dataframe\">\n",
       "  <thead>\n",
       "    <tr style=\"text-align: right;\">\n",
       "      <th></th>\n",
       "      <th>country</th>\n",
       "      <th>region</th>\n",
       "      <th>gdp</th>\n",
       "      <th>school</th>\n",
       "      <th>adfert</th>\n",
       "      <th>chldmort</th>\n",
       "      <th>life</th>\n",
       "      <th>pop</th>\n",
       "      <th>urban</th>\n",
       "      <th>femlab</th>\n",
       "      <th>literacy</th>\n",
       "      <th>co2</th>\n",
       "      <th>gini</th>\n",
       "      <th>region_Africa</th>\n",
       "      <th>region_Americas</th>\n",
       "      <th>region_Asia</th>\n",
       "      <th>region_Europe</th>\n",
       "      <th>region_Oceania</th>\n",
       "    </tr>\n",
       "  </thead>\n",
       "  <tbody>\n",
       "    <tr>\n",
       "      <th>0</th>\n",
       "      <td>Algeria</td>\n",
       "      <td>Africa</td>\n",
       "      <td>7300.399902</td>\n",
       "      <td>6.716667</td>\n",
       "      <td>7.300000</td>\n",
       "      <td>34.75</td>\n",
       "      <td>72.316666</td>\n",
       "      <td>34172236</td>\n",
       "      <td>64.933334</td>\n",
       "      <td>0.4522</td>\n",
       "      <td>72.599998</td>\n",
       "      <td>15.0</td>\n",
       "      <td>NaN</td>\n",
       "      <td>1</td>\n",
       "      <td>0</td>\n",
       "      <td>0</td>\n",
       "      <td>0</td>\n",
       "      <td>0</td>\n",
       "    </tr>\n",
       "    <tr>\n",
       "      <th>1</th>\n",
       "      <td>Benin</td>\n",
       "      <td>Africa</td>\n",
       "      <td>1338.800049</td>\n",
       "      <td>3.100000</td>\n",
       "      <td>111.699997</td>\n",
       "      <td>122.75</td>\n",
       "      <td>54.733334</td>\n",
       "      <td>8237634</td>\n",
       "      <td>41.000000</td>\n",
       "      <td>0.8482</td>\n",
       "      <td>41.700001</td>\n",
       "      <td>1.2</td>\n",
       "      <td>NaN</td>\n",
       "      <td>1</td>\n",
       "      <td>0</td>\n",
       "      <td>0</td>\n",
       "      <td>0</td>\n",
       "      <td>0</td>\n",
       "    </tr>\n",
       "    <tr>\n",
       "      <th>2</th>\n",
       "      <td>Botswana</td>\n",
       "      <td>Africa</td>\n",
       "      <td>12307.400391</td>\n",
       "      <td>8.600000</td>\n",
       "      <td>52.099998</td>\n",
       "      <td>60.25</td>\n",
       "      <td>52.250000</td>\n",
       "      <td>1941233</td>\n",
       "      <td>59.250000</td>\n",
       "      <td>0.8870</td>\n",
       "      <td>84.099998</td>\n",
       "      <td>9.2</td>\n",
       "      <td>NaN</td>\n",
       "      <td>1</td>\n",
       "      <td>0</td>\n",
       "      <td>0</td>\n",
       "      <td>0</td>\n",
       "      <td>0</td>\n",
       "    </tr>\n",
       "    <tr>\n",
       "      <th>3</th>\n",
       "      <td>Burkina Faso</td>\n",
       "      <td>Africa</td>\n",
       "      <td>1063.400024</td>\n",
       "      <td>1.300000</td>\n",
       "      <td>124.800003</td>\n",
       "      <td>170.50</td>\n",
       "      <td>53.783333</td>\n",
       "      <td>15308383</td>\n",
       "      <td>23.583334</td>\n",
       "      <td>0.8584</td>\n",
       "      <td>23.600000</td>\n",
       "      <td>0.2</td>\n",
       "      <td>NaN</td>\n",
       "      <td>1</td>\n",
       "      <td>0</td>\n",
       "      <td>0</td>\n",
       "      <td>0</td>\n",
       "      <td>0</td>\n",
       "    </tr>\n",
       "    <tr>\n",
       "      <th>4</th>\n",
       "      <td>Burundi</td>\n",
       "      <td>Africa</td>\n",
       "      <td>349.200012</td>\n",
       "      <td>2.483333</td>\n",
       "      <td>18.600000</td>\n",
       "      <td>168.50</td>\n",
       "      <td>48.866665</td>\n",
       "      <td>7821783</td>\n",
       "      <td>10.250000</td>\n",
       "      <td>1.0344</td>\n",
       "      <td>66.599998</td>\n",
       "      <td>0.1</td>\n",
       "      <td>33.299999</td>\n",
       "      <td>1</td>\n",
       "      <td>0</td>\n",
       "      <td>0</td>\n",
       "      <td>0</td>\n",
       "      <td>0</td>\n",
       "    </tr>\n",
       "  </tbody>\n",
       "</table>\n",
       "</div>"
      ],
      "text/plain": [
       "        country  region           gdp    school      adfert  chldmort  \\\n",
       "0       Algeria  Africa   7300.399902  6.716667    7.300000     34.75   \n",
       "1         Benin  Africa   1338.800049  3.100000  111.699997    122.75   \n",
       "2      Botswana  Africa  12307.400391  8.600000   52.099998     60.25   \n",
       "3  Burkina Faso  Africa   1063.400024  1.300000  124.800003    170.50   \n",
       "4       Burundi  Africa    349.200012  2.483333   18.600000    168.50   \n",
       "\n",
       "        life       pop      urban  femlab   literacy   co2       gini  \\\n",
       "0  72.316666  34172236  64.933334  0.4522  72.599998  15.0        NaN   \n",
       "1  54.733334   8237634  41.000000  0.8482  41.700001   1.2        NaN   \n",
       "2  52.250000   1941233  59.250000  0.8870  84.099998   9.2        NaN   \n",
       "3  53.783333  15308383  23.583334  0.8584  23.600000   0.2        NaN   \n",
       "4  48.866665   7821783  10.250000  1.0344  66.599998   0.1  33.299999   \n",
       "\n",
       "   region_Africa  region_Americas  region_Asia  region_Europe  region_Oceania  \n",
       "0              1                0            0              0               0  \n",
       "1              1                0            0              0               0  \n",
       "2              1                0            0              0               0  \n",
       "3              1                0            0              0               0  \n",
       "4              1                0            0              0               0  "
      ]
     },
     "execution_count": 4,
     "metadata": {},
     "output_type": "execute_result"
    }
   ],
   "source": [
    "# Utiliza esta celda para crear una variable binaria para cada continente (1: Pertenece al contiente, 0: No pertenece al continente)\n",
    "# Esto añadirá 5 columnas a tu dataframe\n",
    "regiones = df[\"region\"].unique()\n",
    "df[\"region_Africa\"]=np.where(df[\"region\"]==\"Africa\",1,0)\n",
    "for region in regiones:\n",
    "    df[f\"region_{region}\"] = np.where(df[\"region\"] == region, 1,0)\n",
    "df.head()"
   ]
  },
  {
   "cell_type": "markdown",
   "id": "f80afb06",
   "metadata": {},
   "source": [
    "### 3. Implementar una función de prueba de hipótesis a mano (3 puntos):\n",
    "- La función debe ingresar los siguientes argumentos:\n",
    "    - `data`: La tabla de datos.\n",
    "    - `variable`: La variable a analizar.\n",
    "    - `binarize`: El indicador binario a utilizar.\n",
    "    \n",
    "_**Tip**_:\n",
    "- Separe la variable en dos, utilizando el indicador binario. Recuerde eliminar los perdidos con `dropna()`.\n",
    "- Implemente `ttest_ind` de `scipy.stats` y guarde el valor $t$ y _p-value_.\n",
    "- Reporte las medias para cada grupo (0 y 1).\n",
    "- Reporte la diferencia de entre las medias.\n",
    "- Reporte los valores $t$ y _p-value_."
   ]
  },
  {
   "cell_type": "code",
   "execution_count": 6,
   "id": "6cf0eec1",
   "metadata": {},
   "outputs": [],
   "source": [
    "# Utiliza esta celda para definir la función\n",
    "from scipy.stats import ttest_ind\n",
    "def test_hipotesis(df, variable, binarize):\n",
    "    ceros = df[df[binarize] == 0][variable].dropna()\n",
    "    unos = df[df[binarize] == 1][variable].dropna()\n",
    "    \n",
    "    ceros_mean = ceros.mean()\n",
    "    unos_mean = unos.mean()\n",
    "    dif_medias = ceros_mean - unos_mean\n",
    "    \n",
    "    t, pvalue = ttest_ind(ceros, unos)\n",
    "    \n",
    "    obj = {\n",
    "        \"t\": t\n",
    "        , \"pvalue\":pvalue\n",
    "        , \"ceros_mean\":ceros_mean\n",
    "        , \"unos_mean\":  unos_mean\n",
    "        , \"dif_medias\": dif_medias\n",
    "    }\n",
    "    \n",
    "    return obj"
   ]
  },
  {
   "cell_type": "code",
   "execution_count": 7,
   "id": "979a71ba",
   "metadata": {},
   "outputs": [
    {
     "data": {
      "text/plain": [
       "{'t': 15.174602759471485,\n",
       " 'pvalue': 1.0713988391633837e-34,\n",
       " 'ceros_mean': 73.21114999475614,\n",
       " 'unos_mean': 56.49038454202504,\n",
       " 'dif_medias': 16.7207654527311}"
      ]
     },
     "execution_count": 7,
     "metadata": {},
     "output_type": "execute_result"
    }
   ],
   "source": [
    "# Utiliza esta celda para hacer 1 llamado de prueba de la función implementada\n",
    "test_hipotesis(df, \"life\", \"region_Africa\")"
   ]
  },
  {
   "cell_type": "markdown",
   "id": "606e48fe",
   "metadata": {},
   "source": [
    "### 4. Implementar una función que grafique los histogramas para ambas muestras (3 puntos)\n",
    "- Genere una función que devuelva un gráfico donde visualice los dos histogramas cuando la variable es 1 y 0, respectivamente. _**Tip**_: Refactorize la función incluyendo el método `hist` de `matplotlib.pyplot`. Incluya los argumentos `alpha` y `label`.\n",
    "- Para las tres variables de interés acorde a su grupo, analice las diferencias de medias por cada continente, y posteriormente grafique.\n",
    "- Concluya con los principales resultados al respecto."
   ]
  },
  {
   "cell_type": "code",
   "execution_count": 8,
   "id": "508b3a9e",
   "metadata": {},
   "outputs": [],
   "source": [
    "from matplotlib import pyplot as plt"
   ]
  },
  {
   "cell_type": "code",
   "execution_count": 9,
   "id": "80214563",
   "metadata": {},
   "outputs": [],
   "source": [
    "# Utiliza esta celda para refactorizar la función implementada en el punto 3\n",
    "def graficar_variables(df, variable, binarize):\n",
    "    ceros = df[df[binarize] == 0][variable].dropna()\n",
    "    unos = df[df[binarize] == 1][variable].dropna()\n",
    "    \n",
    "    ceros_mean = ceros.mean()\n",
    "    unos_mean = unos.mean()\n",
    "    \n",
    "    plt.hist(ceros, alpha = .6, label = f\"{variable} cuando {binarize} ==0\")\n",
    "    plt.axvline(ceros_mean, ls =\"--\")\n",
    "    plt.hist(unos, alpha = .6, label = f\"{variable} cuando {binarize} == 1\")\n",
    "    plt.axvline(unos_mean, color = \"blue\")\n",
    "    \n",
    "    plt.legend()"
   ]
  },
  {
   "cell_type": "markdown",
   "id": "a20dd526",
   "metadata": {},
   "source": [
    "**África**"
   ]
  },
  {
   "cell_type": "code",
   "execution_count": 10,
   "id": "d79370fa",
   "metadata": {},
   "outputs": [
    {
     "data": {
      "image/png": "[encoded data removed]",
      "text/plain": [
       "<Figure size 432x288 with 1 Axes>"
      ]
     },
     "metadata": {
      "needs_background": "light"
     },
     "output_type": "display_data"
    }
   ],
   "source": [
    "# Utiliza esta celda para realizar el llamado a la función para África y la primera variable\n",
    "graficar_variables(df, my_cols[0], \"region_Africa\")"
   ]
  },
  {
   "cell_type": "code",
   "execution_count": 109,
   "id": "887afb3a",
   "metadata": {},
   "outputs": [
    {
     "data": {
      "text/plain": [
       "{'t': -1.783872878266046,\n",
       " 'pvalue': 0.0761771840435915,\n",
       " 'ceros_mean': 0.6761015881858174,\n",
       " 'unos_mean': 0.7299098010156667,\n",
       " 'dif_medias': -0.05380821282984927}"
      ]
     },
     "execution_count": 109,
     "metadata": {},
     "output_type": "execute_result"
    }
   ],
   "source": [
    "test_hipotesis(df, \"femlab\", \"region_Africa\")"
   ]
  },
  {
   "cell_type": "code",
   "execution_count": 110,
   "id": "34a1d54d",
   "metadata": {},
   "outputs": [
    {
     "data": {
      "image/png": "[encoded data removed]",
      "text/plain": [
       "<Figure size 432x288 with 1 Axes>"
      ]
     },
     "metadata": {
      "needs_background": "light"
     },
     "output_type": "display_data"
    }
   ],
   "source": [
    "# Utiliza esta celda para realizar el llamado a la función para África y la segunda variable\n",
    "graficar_variables(df, \"literacy\", \"region_Africa\")"
   ]
  },
  {
   "cell_type": "code",
   "execution_count": 111,
   "id": "76bb90a0",
   "metadata": {},
   "outputs": [
    {
     "data": {
      "text/plain": [
       "{'t': 8.909991173873896,\n",
       " 'pvalue': 3.3857112156459963e-15,\n",
       " 'ceros_mean': 90.19857935471968,\n",
       " 'unos_mean': 65.30851067887976,\n",
       " 'dif_medias': 24.890068675839927}"
      ]
     },
     "execution_count": 111,
     "metadata": {},
     "output_type": "execute_result"
    }
   ],
   "source": [
    "test_hipotesis(df, \"literacy\", \"region_Africa\")"
   ]
  },
  {
   "cell_type": "code",
   "execution_count": 112,
   "id": "a4560183",
   "metadata": {},
   "outputs": [
    {
     "data": {
      "image/png": "[encoded data removed]",
      "text/plain": [
       "<Figure size 432x288 with 1 Axes>"
      ]
     },
     "metadata": {
      "needs_background": "light"
     },
     "output_type": "display_data"
    }
   ],
   "source": [
    "# Utiliza esta celda para realizar el llamado a la función para África y la tercera variable\n",
    "graficar_variables(df, \"school\", \"region_Africa\")"
   ]
  },
  {
   "cell_type": "code",
   "execution_count": 113,
   "id": "d84ed87f",
   "metadata": {},
   "outputs": [
    {
     "data": {
      "text/plain": [
       "{'t': 10.415811831777058,\n",
       " 'pvalue': 2.6352830456717332e-20,\n",
       " 'ceros_mean': 8.552311427401799,\n",
       " 'unos_mean': 4.522875827901504,\n",
       " 'dif_medias': 4.029435599500295}"
      ]
     },
     "execution_count": 113,
     "metadata": {},
     "output_type": "execute_result"
    }
   ],
   "source": [
    "test_hipotesis(df, \"school\", \"region_Africa\")"
   ]
  },
  {
   "cell_type": "markdown",
   "id": "fa61f00f",
   "metadata": {},
   "source": [
    "**Comentarios**: En la primera no rechazo la hipotesis nula, porque se puede ver que no existe una diferencia sustancial en el grafico y se comprueba con el p-value. Para la segunda y tercera variable, si existe una diferencia sustancial con un p-value de menor a 0.05, por lo cual se rechaza la hipotesis nula, esto se puede deber a existe una relacion en estos casos de los años de escolaridad con el alfabetismo"
   ]
  },
  {
   "cell_type": "markdown",
   "id": "f5946a0e",
   "metadata": {},
   "source": [
    "**Asia**"
   ]
  },
  {
   "cell_type": "code",
   "execution_count": 114,
   "id": "3c1d697c",
   "metadata": {},
   "outputs": [
    {
     "data": {
      "image/png": "[encoded data removed]",
      "text/plain": [
       "<Figure size 432x288 with 1 Axes>"
      ]
     },
     "metadata": {
      "needs_background": "light"
     },
     "output_type": "display_data"
    }
   ],
   "source": [
    "# Utiliza esta celda para realizar el llamado a la función para Asia y la primera variable\n",
    "graficar_variables(df, \"femlab\", \"region_Asia\")"
   ]
  },
  {
   "cell_type": "code",
   "execution_count": 115,
   "id": "7d651e7f",
   "metadata": {},
   "outputs": [
    {
     "data": {
      "text/plain": [
       "{'t': 3.7455196595318414,\n",
       " 'pvalue': 0.00024413257519365062,\n",
       " 'ceros_mean': 0.7223421863745897,\n",
       " 'unos_mean': 0.6113142879033575,\n",
       " 'dif_medias': 0.11102789847123218}"
      ]
     },
     "execution_count": 115,
     "metadata": {},
     "output_type": "execute_result"
    }
   ],
   "source": [
    "test_hipotesis(df, \"femlab\", \"region_Asia\")"
   ]
  },
  {
   "cell_type": "code",
   "execution_count": 116,
   "id": "b4f6e764",
   "metadata": {},
   "outputs": [
    {
     "data": {
      "image/png": "[encoded data removed]",
      "text/plain": [
       "<Figure size 432x288 with 1 Axes>"
      ]
     },
     "metadata": {
      "needs_background": "light"
     },
     "output_type": "display_data"
    }
   ],
   "source": [
    "# Utiliza esta celda para realizar el llamado a la función para Asia y la segunda variable\n",
    "graficar_variables(df, \"literacy\", \"region_Asia\")"
   ]
  },
  {
   "cell_type": "code",
   "execution_count": 117,
   "id": "4d94ed86",
   "metadata": {},
   "outputs": [
    {
     "data": {
      "text/plain": [
       "{'t': -2.3336279461015885,\n",
       " 'pvalue': 0.021114460773250368,\n",
       " 'ceros_mean': 78.99281917734349,\n",
       " 'unos_mean': 87.3573166451803,\n",
       " 'dif_medias': -8.364497467836813}"
      ]
     },
     "execution_count": 117,
     "metadata": {},
     "output_type": "execute_result"
    }
   ],
   "source": [
    "test_hipotesis(df, \"literacy\", \"region_Asia\")"
   ]
  },
  {
   "cell_type": "code",
   "execution_count": 118,
   "id": "51e01513",
   "metadata": {},
   "outputs": [
    {
     "data": {
      "image/png": "[encoded data removed]",
      "text/plain": [
       "<Figure size 432x288 with 1 Axes>"
      ]
     },
     "metadata": {
      "needs_background": "light"
     },
     "output_type": "display_data"
    }
   ],
   "source": [
    "# Utiliza esta celda para realizar el llamado a la función para Asia y la tercera variable\n",
    "graficar_variables(df, \"school\", \"region_Asia\")"
   ]
  },
  {
   "cell_type": "code",
   "execution_count": 119,
   "id": "485198b7",
   "metadata": {},
   "outputs": [
    {
     "data": {
      "text/plain": [
       "{'t': 0.5363879996523622,\n",
       " 'pvalue': 0.5923313578645574,\n",
       " 'ceros_mean': 7.527142846584319,\n",
       " 'unos_mean': 7.261111130317052,\n",
       " 'dif_medias': 0.26603171626726674}"
      ]
     },
     "execution_count": 119,
     "metadata": {},
     "output_type": "execute_result"
    }
   ],
   "source": [
    "test_hipotesis(df, \"school\", \"region_Asia\")"
   ]
  },
  {
   "cell_type": "markdown",
   "id": "40115d49",
   "metadata": {},
   "source": [
    "**Comentarios**: Para la primera variable, si existe una diferencia sustancial con un p-value de menor a 0.05, por lo cual se rechaza la hipotesis nula. En la segunda y tercera no rechazo la hipotesis nula, porque se puede ver que no existe una diferencia sustancial en el grafico y se comprueba con el p-value, esto se puede deber a existe una relacion en estos casos de los años de escolaridad con el alfabetismo"
   ]
  },
  {
   "cell_type": "markdown",
   "id": "80f38325",
   "metadata": {},
   "source": [
    "**Américas**"
   ]
  },
  {
   "cell_type": "code",
   "execution_count": 120,
   "id": "6ba0a12f",
   "metadata": {},
   "outputs": [
    {
     "data": {
      "image/png": "[encoded data removed]",
      "text/plain": [
       "<Figure size 432x288 with 1 Axes>"
      ]
     },
     "metadata": {
      "needs_background": "light"
     },
     "output_type": "display_data"
    }
   ],
   "source": [
    "# Utiliza esta celda para realizar el llamado a la función para Américas y la primera variable\n",
    "graficar_variables(df, \"femlab\", \"region_Americas\")"
   ]
  },
  {
   "cell_type": "code",
   "execution_count": 121,
   "id": "0b508d7a",
   "metadata": {},
   "outputs": [
    {
     "data": {
      "text/plain": [
       "{'t': 1.3731113408683462,\n",
       " 'pvalue': 0.1714745430099794,\n",
       " 'ceros_mean': 0.700280820772256,\n",
       " 'unos_mean': 0.6507483913052466,\n",
       " 'dif_medias': 0.04953242946700931}"
      ]
     },
     "execution_count": 121,
     "metadata": {},
     "output_type": "execute_result"
    }
   ],
   "source": [
    "test_hipotesis(df, \"femlab\", \"region_Americas\")"
   ]
  },
  {
   "cell_type": "code",
   "execution_count": 122,
   "id": "27152a21",
   "metadata": {},
   "outputs": [
    {
     "data": {
      "image/png": "[encoded data removed]",
      "text/plain": [
       "<Figure size 432x288 with 1 Axes>"
      ]
     },
     "metadata": {
      "needs_background": "light"
     },
     "output_type": "display_data"
    }
   ],
   "source": [
    "# Utiliza esta celda para realizar el llamado a la función para Américas y la segunda variable\n",
    "graficar_variables(df, \"literacy\", \"region_Americas\")"
   ]
  },
  {
   "cell_type": "code",
   "execution_count": 123,
   "id": "a91929c5",
   "metadata": {},
   "outputs": [
    {
     "data": {
      "text/plain": [
       "{'t': -1.953805549546212,\n",
       " 'pvalue': 0.05282297025501064,\n",
       " 'ceros_mean': 80.18217380357825,\n",
       " 'unos_mean': 89.30124988555909,\n",
       " 'dif_medias': -9.119076081980836}"
      ]
     },
     "execution_count": 123,
     "metadata": {},
     "output_type": "execute_result"
    }
   ],
   "source": [
    "test_hipotesis(df, \"literacy\", \"region_Americas\")"
   ]
  },
  {
   "cell_type": "code",
   "execution_count": 124,
   "id": "108025ef",
   "metadata": {},
   "outputs": [
    {
     "data": {
      "image/png": "[encoded data removed]",
      "text/plain": [
       "<Figure size 432x288 with 1 Axes>"
      ]
     },
     "metadata": {
      "needs_background": "light"
     },
     "output_type": "display_data"
    }
   ],
   "source": [
    "# Utiliza esta celda para realizar el llamado a la función para Américas y la tercera variable\n",
    "graficar_variables(df, \"school\", \"region_Americas\")"
   ]
  },
  {
   "cell_type": "code",
   "execution_count": 125,
   "id": "8d657657",
   "metadata": {},
   "outputs": [
    {
     "data": {
      "text/plain": [
       "{'t': -1.362827174571195,\n",
       " 'pvalue': 0.17458464986808925,\n",
       " 'ceros_mean': 7.318845326604405,\n",
       " 'unos_mean': 8.072857080187118,\n",
       " 'dif_medias': -0.7540117535827129}"
      ]
     },
     "execution_count": 125,
     "metadata": {},
     "output_type": "execute_result"
    }
   ],
   "source": [
    "test_hipotesis(df, \"school\", \"region_Americas\")"
   ]
  },
  {
   "cell_type": "markdown",
   "id": "10c914e6",
   "metadata": {},
   "source": [
    "**Comentarios**: Para la primera variable, si existe una diferencia sustancial con un p-value de menor a 0.05, por lo cual se rechaza la hipotesis nula. En la segunda y tercera no rechazo la hipotesis nula, porque se puede ver que no existe una diferencia sustancial en el grafico y se comprueba con el p-value, esto se puede deber a existe una relacion en estos casos de los años de escolaridad con el alfabetismo"
   ]
  },
  {
   "cell_type": "markdown",
   "id": "df58da9e",
   "metadata": {},
   "source": [
    "**Europa**"
   ]
  },
  {
   "cell_type": "code",
   "execution_count": 126,
   "id": "3b70f73a",
   "metadata": {},
   "outputs": [
    {
     "data": {
      "image/png": "[encoded data removed]",
      "text/plain": [
       "<Figure size 432x288 with 1 Axes>"
      ]
     },
     "metadata": {
      "needs_background": "light"
     },
     "output_type": "display_data"
    }
   ],
   "source": [
    "# Utiliza esta celda para realizar el llamado a la función para Europa y la primera variable\n",
    "graficar_variables(df, \"femlab\", \"region_Europe\")"
   ]
  },
  {
   "cell_type": "code",
   "execution_count": 127,
   "id": "a4ad3039",
   "metadata": {},
   "outputs": [
    {
     "data": {
      "text/plain": [
       "{'t': -3.063523760334362,\n",
       " 'pvalue': 0.0025335604834548654,\n",
       " 'ceros_mean': 0.6704557155924183,\n",
       " 'unos_mean': 0.7716324264938766,\n",
       " 'dif_medias': -0.1011767109014583}"
      ]
     },
     "execution_count": 127,
     "metadata": {},
     "output_type": "execute_result"
    }
   ],
   "source": [
    "test_hipotesis(df, \"femlab\", \"region_Europe\")"
   ]
  },
  {
   "cell_type": "code",
   "execution_count": 128,
   "id": "cf045870",
   "metadata": {},
   "outputs": [
    {
     "data": {
      "image/png": "[encoded data removed]",
      "text/plain": [
       "<Figure size 432x288 with 1 Axes>"
      ]
     },
     "metadata": {
      "needs_background": "light"
     },
     "output_type": "display_data"
    }
   ],
   "source": [
    "# Utiliza esta celda para realizar el llamado a la función para Europa y la segunda variable\n",
    "graficar_variables(df, \"literacy\", \"region_Europe\")"
   ]
  },
  {
   "cell_type": "code",
   "execution_count": 129,
   "id": "8e388fd7",
   "metadata": {},
   "outputs": [
    {
     "data": {
      "text/plain": [
       "{'t': -4.71843149821332,\n",
       " 'pvalue': 5.935608765865936e-06,\n",
       " 'ceros_mean': 78.2926989698832,\n",
       " 'unos_mean': 98.17727279663086,\n",
       " 'dif_medias': -19.884573826747655}"
      ]
     },
     "execution_count": 129,
     "metadata": {},
     "output_type": "execute_result"
    }
   ],
   "source": [
    "test_hipotesis(df, \"literacy\", \"region_Europe\")"
   ]
  },
  {
   "cell_type": "code",
   "execution_count": 130,
   "id": "58d9ba66",
   "metadata": {},
   "outputs": [
    {
     "data": {
      "image/png": "[encoded data removed]",
      "text/plain": [
       "<Figure size 432x288 with 1 Axes>"
      ]
     },
     "metadata": {
      "needs_background": "light"
     },
     "output_type": "display_data"
    }
   ],
   "source": [
    "# Utiliza esta celda para realizar el llamado a la función para Europa y la tercera variable\n",
    "graficar_variables(df, \"school\", \"region_Europe\")"
   ]
  },
  {
   "cell_type": "code",
   "execution_count": 131,
   "id": "edcc64dc",
   "metadata": {},
   "outputs": [
    {
     "data": {
      "text/plain": [
       "{'t': -8.524346217730443,\n",
       " 'pvalue': 5.2091030233609194e-15,\n",
       " 'ceros_mean': 6.632993203442113,\n",
       " 'unos_mean': 10.421544679781281,\n",
       " 'dif_medias': -3.788551476339168}"
      ]
     },
     "execution_count": 131,
     "metadata": {},
     "output_type": "execute_result"
    }
   ],
   "source": [
    "test_hipotesis(df, \"school\", \"region_Europe\")"
   ]
  },
  {
   "cell_type": "markdown",
   "id": "8818723b",
   "metadata": {},
   "source": [
    "**Comentarios**: En este caso para 3 variables se rechaza la hipotesis nula, lo que se ve en los 3 graficos y los 3 p values menores 0.05, esto se puede a deber a la condiciones generales que tiene europa, que se diferencia de los otros continentes con gran diferencia."
   ]
  },
  {
   "cell_type": "markdown",
   "id": "b78d12d0",
   "metadata": {},
   "source": [
    "**Oceanía**"
   ]
  },
  {
   "cell_type": "code",
   "execution_count": 132,
   "id": "bfbac556",
   "metadata": {},
   "outputs": [
    {
     "data": {
      "image/png": "[encoded data removed]",
      "text/plain": [
       "<Figure size 432x288 with 1 Axes>"
      ]
     },
     "metadata": {
      "needs_background": "light"
     },
     "output_type": "display_data"
    }
   ],
   "source": [
    "# Utiliza esta celda para realizar el llamado a la función para Oceanía y la primera variable\n",
    "graficar_variables(df, \"femlab\", \"region_Oceania\")"
   ]
  },
  {
   "cell_type": "code",
   "execution_count": 133,
   "id": "3c131374",
   "metadata": {},
   "outputs": [
    {
     "data": {
      "text/plain": [
       "{'t': -0.5346624412260647,\n",
       " 'pvalue': 0.5935619441213259,\n",
       " 'ceros_mean': 0.6899011897011882,\n",
       " 'unos_mean': 0.7234222326013777,\n",
       " 'dif_medias': -0.033521042900189535}"
      ]
     },
     "execution_count": 133,
     "metadata": {},
     "output_type": "execute_result"
    }
   ],
   "source": [
    "test_hipotesis(df, \"femlab\", \"region_Oceania\")"
   ]
  },
  {
   "cell_type": "code",
   "execution_count": 134,
   "id": "ec840b1d",
   "metadata": {},
   "outputs": [
    {
     "data": {
      "image/png": "[encoded data removed]",
      "text/plain": [
       "<Figure size 432x288 with 1 Axes>"
      ]
     },
     "metadata": {
      "needs_background": "light"
     },
     "output_type": "display_data"
    }
   ],
   "source": [
    "# Utiliza esta celda para realizar el llamado a la función para Oceanía y la segunda variable\n",
    "graficar_variables(df, \"literacy\", \"region_Oceania\")"
   ]
  },
  {
   "cell_type": "code",
   "execution_count": 135,
   "id": "eae791dd",
   "metadata": {},
   "outputs": [
    {
     "data": {
      "text/plain": [
       "{'t': -0.05211194697890982,\n",
       " 'pvalue': 0.9585176817316319,\n",
       " 'ceros_mean': 81.51596141228309,\n",
       " 'unos_mean': 81.98000030517578,\n",
       " 'dif_medias': -0.4640388928926882}"
      ]
     },
     "execution_count": 135,
     "metadata": {},
     "output_type": "execute_result"
    }
   ],
   "source": [
    "test_hipotesis(df, \"literacy\", \"region_Oceania\")"
   ]
  },
  {
   "cell_type": "code",
   "execution_count": 136,
   "id": "2791238e",
   "metadata": {},
   "outputs": [
    {
     "data": {
      "image/png": "[encoded data removed]",
      "text/plain": [
       "<Figure size 432x288 with 1 Axes>"
      ]
     },
     "metadata": {
      "needs_background": "light"
     },
     "output_type": "display_data"
    }
   ],
   "source": [
    "# Utiliza esta celda para realizar el llamado a la función para Oceanía y la tercera variable\n",
    "graficar_variables(df, \"school\", \"region_Oceania\")"
   ]
  },
  {
   "cell_type": "code",
   "execution_count": 137,
   "id": "b8d0e892",
   "metadata": {},
   "outputs": [
    {
     "data": {
      "text/plain": [
       "{'t': -1.592662858961424,\n",
       " 'pvalue': 0.1129338375511172,\n",
       " 'ceros_mean': 7.365904749461583,\n",
       " 'unos_mean': 8.715384740095876,\n",
       " 'dif_medias': -1.3494799906342934}"
      ]
     },
     "execution_count": 137,
     "metadata": {},
     "output_type": "execute_result"
    }
   ],
   "source": [
    "test_hipotesis(df, \"school\", \"region_Oceania\")"
   ]
  },
  {
   "cell_type": "markdown",
   "id": "5c14bde5",
   "metadata": {},
   "source": [
    "**Comentarios**: En este caso para 3 variables no se rechaza la hipotesis nula, lo que se ve en los 3 graficos y los 3 p values mayores 0.05"
   ]
  }
 ],
 "metadata": {
  "kernelspec": {
   "display_name": "Python 3.9.12 ('base')",
   "language": "python",
   "name": "python3"
  },
  "language_info": {
   "codemirror_mode": {
    "name": "ipython",
    "version": 3
   },
   "file_extension": ".py",
   "mimetype": "text/x-python",
   "name": "python",
   "nbconvert_exporter": "python",
   "pygments_lexer": "ipython3",
   "version": "3.9.12"
  },
  "vscode": {
   "interpreter": {
    "hash": "8c36b02c8e638dd02579157a992cf8c1e39377e4b1159ea46021ea15210cf677"
   }
  }
 },
 "nbformat": 4,
 "nbformat_minor": 5
}
