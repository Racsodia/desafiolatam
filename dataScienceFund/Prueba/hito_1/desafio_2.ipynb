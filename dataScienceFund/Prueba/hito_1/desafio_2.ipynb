{
 "cells": [
  {
   "cell_type": "markdown",
   "metadata": {},
   "source": [
    "<h1 style=\"text-align: center;\">Desafío 2 - Rendimiento escolar</h1>\n",
    "\n",
    "## Preliminares\n",
    "### Decripción del problema\n",
    "- Lo contactan de una escuela Portuguesa para generar un modelo que identifique aquellos alumnos que presentan un bajo desempeño académico, medido en el promedio final del año\n",
    "escolar. Para ello le envían un archivo con registros sociodemográficos y conductuales de los alumnos de dos escuelas para perfilar a los estudiantes.\n",
    "- De manera adicional la psicopedagoga sugiere inspeccionar una batería de preguntas asociadas a aspectos ambientales del alumno (de famrel a health) y ver si éstas se\n",
    "pueden abstraer en categorías latentes.\n",
    "\n",
    "### Objetivos\n",
    "- Encontrar un modelo descriptivo que permita determinar perfilar a los estudiantes.\n",
    "- Encontrar un modelo predictivo que permita determinar los promedios finales de los estudinates.\n",
    "\n",
    "### Desarrollo\n",
    "- El vector objetivo es la celda income la cuál se pretenden predecir en probabilidad.\n",
    "- Preprosesamiento: \n",
    "    - Cambiar variables por nulos según los datos\n",
    "    - Determinar qué datos o qué columna eliminar en base a la cantidad de nulos.\n",
    "    - Recodificación de variables según lo señala el problema.\n",
    "    - Cambio de tipos de variables mal ingresadas. \n",
    "    - Recategorización de variables: Establacer valores numéricos binarios.    \n",
    "\n",
    "- Modelo a utilizar: regresión lineal ya que el vector objetivo es una variable continua (notas de los estudiantes)\n",
    "    - Se crearán 3 modelos, uno para notas del primer semestre, otro para el semestre 2 y la nota final.\n",
    "- Determinar variables significativas:\n",
    "    - Correr modelo de regresión lineal\n",
    "    - Depurar las variables: Dejar variables significativas\n",
    "    - Error cuadrado medio.\n",
    "    - Se simplifica el modelo, se entrena el modelo logistico con estas variables.\n",
    "- Utilizar análisis factorial para reconocer las variables latentes.\n",
    "\n",
    "-Entrenamiento:\n",
    "    - Entrenamiento supervizado con división de data set para entrenamiento y pruebas.\n",
    "- Revisión con puntaje de r cuadrado para ver el porcentaje de representación del modelo.\n",
    "- Revisión modelo: puntaje f1, accuracy. \n",
    "- Evaluación del desempeño del modelo\n",
    "- Matriz de confusión y luego se calcula la precisión para determinar qué tan bueno está el modelo y si hace lo que estamos necesitando.\n",
    "- Curva Roc, permite evaluar el rango de error del modelo y la relación entre falsos positivios y falsos negativos. \n",
    "- Variación del modelo para ajustar su desempeño.\n",
    "\n",
    "### Librerías a usar\n",
    "\n",
    "- pandas y numpy: para trabajar el dataframe, manejar y convertir los datos. Analizar a grandes rasgos la caracteristica de las variables.\n",
    "- seaborn y matplotlib: Para obtener distintos gráficos que nos permitan analizar el comportamiento y correlación de las variables.\n",
    "- statsmodel: analizar comportamiento estadístico, determinación de variables significativas y creación del modelo\n",
    "- sklearn: librería de machine learning para entrenar el modelo descrito, estandarizar y utilización de métricas para evaluar calidad del modelo. \n",
    "    - Linear Regretion, r2_score, mean_square_error\n",
    "- warning: Librería que permite eliminar mensajes no desedos respecto a las deprecación\n",
    "- funciones propias: Archivo con funciones propias para automatizar procesos comunes."
   ]
  },
  {
   "cell_type": "markdown",
   "metadata": {},
   "source": []
  }
 ],
 "metadata": {
  "kernelspec": {
   "display_name": "Python 3.9.12 ('base')",
   "language": "python",
   "name": "python3"
  },
  "language_info": {
   "name": "python",
   "version": "3.9.12"
  },
  "orig_nbformat": 4,
  "vscode": {
   "interpreter": {
    "hash": "8c36b02c8e638dd02579157a992cf8c1e39377e4b1159ea46021ea15210cf677"
   }
  }
 },
 "nbformat": 4,
 "nbformat_minor": 2
}
