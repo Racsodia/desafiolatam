{
 "cells": [
  {
   "cell_type": "markdown",
   "metadata": {},
   "source": [
    "<h1 style=\"text-align: center;\">Desafío 1 - Determinantes del ingreso</h1>\n",
    "\n",
    "## Preliminares\n",
    "### Decripción del problema\n",
    "- Usted trabaja para un organismo no gubernamental que está interesado en las dinámicas socioeconómicas que determinan la desigualdad de ingreso y la erradicación de la pobreza\n",
    "extrema, enmarcado dentro de los objetivos del desarrollo del nuevo milenio del Programa de las Naciones Unidas para el Desarrollo.\n",
    "- Le encomiendan el desarrollo de un modelo predictivo sobre la probabilidad que un individuo presente salarios por sobre o bajo los 50.000 dólares anuales, en base a una serie de\n",
    "atributos sociodemográficos.\n",
    "\n",
    "### Objetivos\n",
    "- Encontrar un modelo predictivo que permita determinar la probabilidad de que una persona presenta salarios sobre los 50.000 dólares anuales, basado en ciertos actributos que influyen en esta probabilidad.\n",
    "\n",
    "### Desarrollo\n",
    "\n",
    "- El vector objetivo es la celda income la cuál se pretenden predecir en probabilidad.\n",
    "- Preprosesamiento: \n",
    "    - Cambiar signos por nulos\n",
    "    - Determinar qué datos o qué columna eliminar en base a la cantidad de nulos.\n",
    "    - Recodificación de variables según lo señala el problema. \n",
    "    - Recategorización de variables: Establacer valores numéricos binarios,    \n",
    "\n",
    "- Modelo a utilizar: regresión logística ya que el vector objetivo es binario\n",
    "- Determinar variables significativas:\n",
    "    - Correr modelo de regresión logística\n",
    "    - Depurar las variables: Dejar variables significativas a través de pValue \n",
    "    - Se simplifica el modelo, se entrena el modelo logistico con estas variables.\n",
    "-Entrenamiento:\n",
    "    - Entrenamiento supervizado con división de data set para entrenamiento y pruebas.\n",
    "- Revisión modelo: puntaje f1, accuracy. \n",
    "- Evaluación del desempeño del modelo\n",
    "- Matriz de confusión y luego se calcula la precisión para determinar qué tan bueno está el modelo y si hace lo que estamos necesitando.\n",
    "- Curva Roc, permite evaluar el rango de error del modelo y la relación entre falsos positivios y falsos negativos. \n",
    "- Variación del modelo para ajustar su desempeño.\n",
    "\n",
    "### Librerías a usar\n",
    "\n",
    "- pandas y numpy: para trabajar el dataframe, manejar y convertir los datos. Analizar a grandes rasgos la caracteristica de las variables.\n",
    "- seaborn y matplotlib: Para obtener distintos gráficos que nos permitan analizar el comportamiento y correlación de las variables.\n",
    "- statsmodel: analizar comportamiento estadístico, determinación de variables significativas y creación del modelo\n",
    "- sklearn: librería de machine learning para entrenar el modelo descrito, estandarizar y utilización de métricas para evaluar calidad del modelo. \n",
    "- warning: Librería que permite eliminar mensajes no desedos respecto a las deprecación\n",
    "- funciones propias: Archivo con funciones propias para automatizar procesos comunes.\n",
    "\n",
    "\n"
   ]
  },
  {
   "cell_type": "code",
   "execution_count": null,
   "metadata": {},
   "outputs": [],
   "source": []
  },
  {
   "cell_type": "markdown",
   "metadata": {},
   "source": [
    "si tu vector objetivos son clases o categorias es un problema de claficiación, regresión cuando la VO es continua.\n",
    "log verosimulitud es un ajuste al modelo completo. "
   ]
  },
  {
   "cell_type": "markdown",
   "metadata": {},
   "source": []
  }
 ],
 "metadata": {
  "kernelspec": {
   "display_name": "Python 3.9.12 ('base')",
   "language": "python",
   "name": "python3"
  },
  "language_info": {
   "name": "python",
   "version": "3.9.12"
  },
  "orig_nbformat": 4,
  "vscode": {
   "interpreter": {
    "hash": "8c36b02c8e638dd02579157a992cf8c1e39377e4b1159ea46021ea15210cf677"
   }
  }
 },
 "nbformat": 4,
 "nbformat_minor": 2
}
